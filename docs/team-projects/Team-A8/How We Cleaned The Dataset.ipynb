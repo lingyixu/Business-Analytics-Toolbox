{
 "cells": [
  {
   "cell_type": "markdown",
   "metadata": {},
   "source": [
    "# CREATE TABLE FOR CLEARING DATA"
   ]
  },
  {
   "cell_type": "markdown",
   "metadata": {},
   "source": [
    "1. CREATE TABLE FOR CLEARING DATA. save as a new table Crime_commonwealth_table. Using the table only for Commonwealth Ave on District D4."
   ]
  },
  {
   "cell_type": "code",
   "execution_count": 2,
   "metadata": {},
   "outputs": [
    {
     "data": {
      "text/html": [
       "\n",
       "    <div class=\"bqtv\" id=\"2_156627564841\"><table><tr><th>OFFENSE_CODE_GROUP</th><th>DISTRICT</th><th>OCCURRED_ON_DATE</th><th>YEAR</th><th>MONTH</th><th>DAY_OF_WEEK</th><th>HOUR</th><th>STREET</th><th>Lat</th><th>Long</th><th>Location</th></tr><tr><td>Auto Theft</td><td>D4</td><td>2018-08-19 22:00:00</td><td>2018</td><td>8</td><td>Sunday</td><td>22</td><td>COMMONWEALTH AVE</td><td>&nbsp;</td><td>&nbsp;</td><td>(0.00000000, 0.00000000)</td></tr><tr><td>Motor Vehicle Accident Response</td><td>D4</td><td>2018-08-19 00:33:00</td><td>2018</td><td>8</td><td>Sunday</td><td>0</td><td>COMMONWEALTH AVE</td><td>&nbsp;</td><td>&nbsp;</td><td>(0.00000000, 0.00000000)</td></tr><tr><td>Recovered Stolen Property</td><td>D4</td><td>2018-08-15 10:17:00</td><td>2018</td><td>8</td><td>Wednesday</td><td>10</td><td>COMMONWEALTH AVE</td><td>&nbsp;</td><td>&nbsp;</td><td>(0.00000000, 0.00000000)</td></tr><tr><td>Larceny</td><td>D4</td><td>2018-08-15 10:17:00</td><td>2018</td><td>8</td><td>Wednesday</td><td>10</td><td>COMMONWEALTH AVE</td><td>&nbsp;</td><td>&nbsp;</td><td>(0.00000000, 0.00000000)</td></tr><tr><td>Medical Assistance</td><td>D4</td><td>2018-08-07 08:47:44</td><td>2018</td><td>8</td><td>Tuesday</td><td>8</td><td>COMMONWEALTH AVE</td><td>&nbsp;</td><td>&nbsp;</td><td>(0.00000000, 0.00000000)</td></tr><tr><td>Motor Vehicle Accident Response</td><td>D4</td><td>2018-08-02 20:00:00</td><td>2018</td><td>8</td><td>Thursday</td><td>20</td><td>COMMONWEALTH AVE</td><td>&nbsp;</td><td>&nbsp;</td><td>(0.00000000, 0.00000000)</td></tr><tr><td>Motor Vehicle Accident Response</td><td>D4</td><td>2018-08-01 07:53:00</td><td>2018</td><td>8</td><td>Wednesday</td><td>7</td><td>COMMONWEALTH AVE</td><td>&nbsp;</td><td>&nbsp;</td><td>(0.00000000, 0.00000000)</td></tr><tr><td>Vandalism</td><td>D4</td><td>2018-07-23 16:36:00</td><td>2018</td><td>7</td><td>Monday</td><td>16</td><td>COMMONWEALTH AVE</td><td>&nbsp;</td><td>&nbsp;</td><td>(0.00000000, 0.00000000)</td></tr><tr><td>Vandalism</td><td>D4</td><td>2018-07-11 11:15:00</td><td>2018</td><td>7</td><td>Wednesday</td><td>11</td><td>COMMONWEALTH AVE</td><td>&nbsp;</td><td>&nbsp;</td><td>(0.00000000, 0.00000000)</td></tr><tr><td>Larceny</td><td>D4</td><td>2018-07-10 12:51:00</td><td>2018</td><td>7</td><td>Tuesday</td><td>12</td><td>COMMONWEALTH AVE</td><td>&nbsp;</td><td>&nbsp;</td><td>(0.00000000, 0.00000000)</td></tr><tr><td>Simple Assault</td><td>D4</td><td>2018-07-10 12:51:00</td><td>2018</td><td>7</td><td>Tuesday</td><td>12</td><td>COMMONWEALTH AVE</td><td>&nbsp;</td><td>&nbsp;</td><td>(0.00000000, 0.00000000)</td></tr><tr><td>Larceny</td><td>D4</td><td>2018-07-04 22:15:00</td><td>2018</td><td>7</td><td>Wednesday</td><td>22</td><td>COMMONWEALTH AVE</td><td>&nbsp;</td><td>&nbsp;</td><td>(0.00000000, 0.00000000)</td></tr><tr><td>Motor Vehicle Accident Response</td><td>D4</td><td>2018-06-29 12:38:00</td><td>2018</td><td>6</td><td>Friday</td><td>12</td><td>COMMONWEALTH AVE</td><td>&nbsp;</td><td>&nbsp;</td><td>(0.00000000, 0.00000000)</td></tr><tr><td>Motor Vehicle Accident Response</td><td>D4</td><td>2018-06-28 10:25:00</td><td>2018</td><td>6</td><td>Thursday</td><td>10</td><td>COMMONWEALTH AVE</td><td>&nbsp;</td><td>&nbsp;</td><td>(0.00000000, 0.00000000)</td></tr><tr><td>Motor Vehicle Accident Response</td><td>D4</td><td>2018-06-27 17:52:00</td><td>2018</td><td>6</td><td>Wednesday</td><td>17</td><td>COMMONWEALTH AVE</td><td>&nbsp;</td><td>&nbsp;</td><td>(0.00000000, 0.00000000)</td></tr><tr><td>Violations</td><td>D4</td><td>2018-06-26 19:49:00</td><td>2018</td><td>6</td><td>Tuesday</td><td>19</td><td>COMMONWEALTH AVE</td><td>&nbsp;</td><td>&nbsp;</td><td>(0.00000000, 0.00000000)</td></tr><tr><td>Motor Vehicle Accident Response</td><td>D4</td><td>2018-06-26 07:56:00</td><td>2018</td><td>6</td><td>Tuesday</td><td>7</td><td>COMMONWEALTH AVE</td><td>&nbsp;</td><td>&nbsp;</td><td>(0.00000000, 0.00000000)</td></tr><tr><td>Towed</td><td>D4</td><td>2018-06-24 20:14:00</td><td>2018</td><td>6</td><td>Sunday</td><td>20</td><td>COMMONWEALTH AVE</td><td>&nbsp;</td><td>&nbsp;</td><td>(0.00000000, 0.00000000)</td></tr><tr><td>Motor Vehicle Accident Response</td><td>D4</td><td>2018-06-19 10:17:00</td><td>2018</td><td>6</td><td>Tuesday</td><td>10</td><td>COMMONWEALTH AVE</td><td>&nbsp;</td><td>&nbsp;</td><td>(0.00000000, 0.00000000)</td></tr><tr><td>Motor Vehicle Accident Response</td><td>D4</td><td>2018-06-18 16:30:00</td><td>2018</td><td>6</td><td>Monday</td><td>16</td><td>COMMONWEALTH AVE</td><td>&nbsp;</td><td>&nbsp;</td><td>(0.00000000, 0.00000000)</td></tr><tr><td>Larceny</td><td>D4</td><td>2018-06-13 16:50:00</td><td>2018</td><td>6</td><td>Wednesday</td><td>16</td><td>COMMONWEALTH AVE</td><td>&nbsp;</td><td>&nbsp;</td><td>(0.00000000, 0.00000000)</td></tr><tr><td>Property Found</td><td>D4</td><td>2018-06-12 20:36:00</td><td>2018</td><td>6</td><td>Tuesday</td><td>20</td><td>COMMONWEALTH AVE</td><td>&nbsp;</td><td>&nbsp;</td><td>(0.00000000, 0.00000000)</td></tr><tr><td>Motor Vehicle Accident Response</td><td>D4</td><td>2018-06-09 06:08:00</td><td>2018</td><td>6</td><td>Saturday</td><td>6</td><td>COMMONWEALTH AVE</td><td>&nbsp;</td><td>&nbsp;</td><td>(0.00000000, 0.00000000)</td></tr><tr><td>Motor Vehicle Accident Response</td><td>D4</td><td>2018-06-07 08:10:00</td><td>2018</td><td>6</td><td>Thursday</td><td>8</td><td>COMMONWEALTH AVE</td><td>&nbsp;</td><td>&nbsp;</td><td>(0.00000000, 0.00000000)</td></tr><tr><td>Larceny From Motor Vehicle</td><td>D4</td><td>2018-05-30 08:30:00</td><td>2018</td><td>5</td><td>Wednesday</td><td>8</td><td>COMMONWEALTH AVE</td><td>&nbsp;</td><td>&nbsp;</td><td>(0.00000000, 0.00000000)</td></tr></table></div>\n",
       "    <br />(rows: 1372, time: 0.3s, cached, job: job_va8mA04h-nCgqB8-vy1F19DK9DlL)<br />\n",
       "    <script src=\"/static/components/requirejs/require.js\"></script>\n",
       "    <script>\n",
       "      require.config({\n",
       "        paths: {\n",
       "          base: '/static/base',\n",
       "          d3: '//cdnjs.cloudflare.com/ajax/libs/d3/3.4.13/d3',\n",
       "          plotly: 'https://cdn.plot.ly/plotly-1.5.1.min.js?noext',\n",
       "          jquery: '//ajax.googleapis.com/ajax/libs/jquery/2.0.0/jquery.min'\n",
       "        },\n",
       "        map: {\n",
       "          '*': {\n",
       "            datalab: 'nbextensions/gcpdatalab'\n",
       "          }\n",
       "        },\n",
       "        shim: {\n",
       "          plotly: {\n",
       "            deps: ['d3', 'jquery'],\n",
       "            exports: 'plotly'\n",
       "          }\n",
       "        }\n",
       "      });\n",
       "\n",
       "      require(['datalab/charting', 'datalab/element!2_156627564841', 'base/js/events',\n",
       "          'datalab/style!/nbextensions/gcpdatalab/charting.css'],\n",
       "        function(charts, dom, events) {\n",
       "          charts.render('gcharts', dom, events, 'paged_table', [], {\"rows\": [{\"c\": [{\"v\": \"Auto Theft\"}, {\"v\": \"D4\"}, {\"v\": \"2018-08-19T22:00:00\"}, {\"v\": 2018}, {\"v\": 8}, {\"v\": \"Sunday\"}, {\"v\": 22}, {\"v\": \"COMMONWEALTH AVE\"}, {\"v\": null}, {\"v\": null}, {\"v\": \"(0.00000000, 0.00000000)\"}]}, {\"c\": [{\"v\": \"Motor Vehicle Accident Response\"}, {\"v\": \"D4\"}, {\"v\": \"2018-08-19T00:33:00\"}, {\"v\": 2018}, {\"v\": 8}, {\"v\": \"Sunday\"}, {\"v\": 0}, {\"v\": \"COMMONWEALTH AVE\"}, {\"v\": null}, {\"v\": null}, {\"v\": \"(0.00000000, 0.00000000)\"}]}, {\"c\": [{\"v\": \"Recovered Stolen Property\"}, {\"v\": \"D4\"}, {\"v\": \"2018-08-15T10:17:00\"}, {\"v\": 2018}, {\"v\": 8}, {\"v\": \"Wednesday\"}, {\"v\": 10}, {\"v\": \"COMMONWEALTH AVE\"}, {\"v\": null}, {\"v\": null}, {\"v\": \"(0.00000000, 0.00000000)\"}]}, {\"c\": [{\"v\": \"Larceny\"}, {\"v\": \"D4\"}, {\"v\": \"2018-08-15T10:17:00\"}, {\"v\": 2018}, {\"v\": 8}, {\"v\": \"Wednesday\"}, {\"v\": 10}, {\"v\": \"COMMONWEALTH AVE\"}, {\"v\": null}, {\"v\": null}, {\"v\": \"(0.00000000, 0.00000000)\"}]}, {\"c\": [{\"v\": \"Medical Assistance\"}, {\"v\": \"D4\"}, {\"v\": \"2018-08-07T08:47:44\"}, {\"v\": 2018}, {\"v\": 8}, {\"v\": \"Tuesday\"}, {\"v\": 8}, {\"v\": \"COMMONWEALTH AVE\"}, {\"v\": null}, {\"v\": null}, {\"v\": \"(0.00000000, 0.00000000)\"}]}, {\"c\": [{\"v\": \"Motor Vehicle Accident Response\"}, {\"v\": \"D4\"}, {\"v\": \"2018-08-02T20:00:00\"}, {\"v\": 2018}, {\"v\": 8}, {\"v\": \"Thursday\"}, {\"v\": 20}, {\"v\": \"COMMONWEALTH AVE\"}, {\"v\": null}, {\"v\": null}, {\"v\": \"(0.00000000, 0.00000000)\"}]}, {\"c\": [{\"v\": \"Motor Vehicle Accident Response\"}, {\"v\": \"D4\"}, {\"v\": \"2018-08-01T07:53:00\"}, {\"v\": 2018}, {\"v\": 8}, {\"v\": \"Wednesday\"}, {\"v\": 7}, {\"v\": \"COMMONWEALTH AVE\"}, {\"v\": null}, {\"v\": null}, {\"v\": \"(0.00000000, 0.00000000)\"}]}, {\"c\": [{\"v\": \"Vandalism\"}, {\"v\": \"D4\"}, {\"v\": \"2018-07-23T16:36:00\"}, {\"v\": 2018}, {\"v\": 7}, {\"v\": \"Monday\"}, {\"v\": 16}, {\"v\": \"COMMONWEALTH AVE\"}, {\"v\": null}, {\"v\": null}, {\"v\": \"(0.00000000, 0.00000000)\"}]}, {\"c\": [{\"v\": \"Vandalism\"}, {\"v\": \"D4\"}, {\"v\": \"2018-07-11T11:15:00\"}, {\"v\": 2018}, {\"v\": 7}, {\"v\": \"Wednesday\"}, {\"v\": 11}, {\"v\": \"COMMONWEALTH AVE\"}, {\"v\": null}, {\"v\": null}, {\"v\": \"(0.00000000, 0.00000000)\"}]}, {\"c\": [{\"v\": \"Larceny\"}, {\"v\": \"D4\"}, {\"v\": \"2018-07-10T12:51:00\"}, {\"v\": 2018}, {\"v\": 7}, {\"v\": \"Tuesday\"}, {\"v\": 12}, {\"v\": \"COMMONWEALTH AVE\"}, {\"v\": null}, {\"v\": null}, {\"v\": \"(0.00000000, 0.00000000)\"}]}, {\"c\": [{\"v\": \"Simple Assault\"}, {\"v\": \"D4\"}, {\"v\": \"2018-07-10T12:51:00\"}, {\"v\": 2018}, {\"v\": 7}, {\"v\": \"Tuesday\"}, {\"v\": 12}, {\"v\": \"COMMONWEALTH AVE\"}, {\"v\": null}, {\"v\": null}, {\"v\": \"(0.00000000, 0.00000000)\"}]}, {\"c\": [{\"v\": \"Larceny\"}, {\"v\": \"D4\"}, {\"v\": \"2018-07-04T22:15:00\"}, {\"v\": 2018}, {\"v\": 7}, {\"v\": \"Wednesday\"}, {\"v\": 22}, {\"v\": \"COMMONWEALTH AVE\"}, {\"v\": null}, {\"v\": null}, {\"v\": \"(0.00000000, 0.00000000)\"}]}, {\"c\": [{\"v\": \"Motor Vehicle Accident Response\"}, {\"v\": \"D4\"}, {\"v\": \"2018-06-29T12:38:00\"}, {\"v\": 2018}, {\"v\": 6}, {\"v\": \"Friday\"}, {\"v\": 12}, {\"v\": \"COMMONWEALTH AVE\"}, {\"v\": null}, {\"v\": null}, {\"v\": \"(0.00000000, 0.00000000)\"}]}, {\"c\": [{\"v\": \"Motor Vehicle Accident Response\"}, {\"v\": \"D4\"}, {\"v\": \"2018-06-28T10:25:00\"}, {\"v\": 2018}, {\"v\": 6}, {\"v\": \"Thursday\"}, {\"v\": 10}, {\"v\": \"COMMONWEALTH AVE\"}, {\"v\": null}, {\"v\": null}, {\"v\": \"(0.00000000, 0.00000000)\"}]}, {\"c\": [{\"v\": \"Motor Vehicle Accident Response\"}, {\"v\": \"D4\"}, {\"v\": \"2018-06-27T17:52:00\"}, {\"v\": 2018}, {\"v\": 6}, {\"v\": \"Wednesday\"}, {\"v\": 17}, {\"v\": \"COMMONWEALTH AVE\"}, {\"v\": null}, {\"v\": null}, {\"v\": \"(0.00000000, 0.00000000)\"}]}, {\"c\": [{\"v\": \"Violations\"}, {\"v\": \"D4\"}, {\"v\": \"2018-06-26T19:49:00\"}, {\"v\": 2018}, {\"v\": 6}, {\"v\": \"Tuesday\"}, {\"v\": 19}, {\"v\": \"COMMONWEALTH AVE\"}, {\"v\": null}, {\"v\": null}, {\"v\": \"(0.00000000, 0.00000000)\"}]}, {\"c\": [{\"v\": \"Motor Vehicle Accident Response\"}, {\"v\": \"D4\"}, {\"v\": \"2018-06-26T07:56:00\"}, {\"v\": 2018}, {\"v\": 6}, {\"v\": \"Tuesday\"}, {\"v\": 7}, {\"v\": \"COMMONWEALTH AVE\"}, {\"v\": null}, {\"v\": null}, {\"v\": \"(0.00000000, 0.00000000)\"}]}, {\"c\": [{\"v\": \"Towed\"}, {\"v\": \"D4\"}, {\"v\": \"2018-06-24T20:14:00\"}, {\"v\": 2018}, {\"v\": 6}, {\"v\": \"Sunday\"}, {\"v\": 20}, {\"v\": \"COMMONWEALTH AVE\"}, {\"v\": null}, {\"v\": null}, {\"v\": \"(0.00000000, 0.00000000)\"}]}, {\"c\": [{\"v\": \"Motor Vehicle Accident Response\"}, {\"v\": \"D4\"}, {\"v\": \"2018-06-19T10:17:00\"}, {\"v\": 2018}, {\"v\": 6}, {\"v\": \"Tuesday\"}, {\"v\": 10}, {\"v\": \"COMMONWEALTH AVE\"}, {\"v\": null}, {\"v\": null}, {\"v\": \"(0.00000000, 0.00000000)\"}]}, {\"c\": [{\"v\": \"Motor Vehicle Accident Response\"}, {\"v\": \"D4\"}, {\"v\": \"2018-06-18T16:30:00\"}, {\"v\": 2018}, {\"v\": 6}, {\"v\": \"Monday\"}, {\"v\": 16}, {\"v\": \"COMMONWEALTH AVE\"}, {\"v\": null}, {\"v\": null}, {\"v\": \"(0.00000000, 0.00000000)\"}]}, {\"c\": [{\"v\": \"Larceny\"}, {\"v\": \"D4\"}, {\"v\": \"2018-06-13T16:50:00\"}, {\"v\": 2018}, {\"v\": 6}, {\"v\": \"Wednesday\"}, {\"v\": 16}, {\"v\": \"COMMONWEALTH AVE\"}, {\"v\": null}, {\"v\": null}, {\"v\": \"(0.00000000, 0.00000000)\"}]}, {\"c\": [{\"v\": \"Property Found\"}, {\"v\": \"D4\"}, {\"v\": \"2018-06-12T20:36:00\"}, {\"v\": 2018}, {\"v\": 6}, {\"v\": \"Tuesday\"}, {\"v\": 20}, {\"v\": \"COMMONWEALTH AVE\"}, {\"v\": null}, {\"v\": null}, {\"v\": \"(0.00000000, 0.00000000)\"}]}, {\"c\": [{\"v\": \"Motor Vehicle Accident Response\"}, {\"v\": \"D4\"}, {\"v\": \"2018-06-09T06:08:00\"}, {\"v\": 2018}, {\"v\": 6}, {\"v\": \"Saturday\"}, {\"v\": 6}, {\"v\": \"COMMONWEALTH AVE\"}, {\"v\": null}, {\"v\": null}, {\"v\": \"(0.00000000, 0.00000000)\"}]}, {\"c\": [{\"v\": \"Motor Vehicle Accident Response\"}, {\"v\": \"D4\"}, {\"v\": \"2018-06-07T08:10:00\"}, {\"v\": 2018}, {\"v\": 6}, {\"v\": \"Thursday\"}, {\"v\": 8}, {\"v\": \"COMMONWEALTH AVE\"}, {\"v\": null}, {\"v\": null}, {\"v\": \"(0.00000000, 0.00000000)\"}]}, {\"c\": [{\"v\": \"Larceny From Motor Vehicle\"}, {\"v\": \"D4\"}, {\"v\": \"2018-05-30T08:30:00\"}, {\"v\": 2018}, {\"v\": 5}, {\"v\": \"Wednesday\"}, {\"v\": 8}, {\"v\": \"COMMONWEALTH AVE\"}, {\"v\": null}, {\"v\": null}, {\"v\": \"(0.00000000, 0.00000000)\"}]}], \"cols\": [{\"type\": \"string\", \"id\": \"OFFENSE_CODE_GROUP\", \"label\": \"OFFENSE_CODE_GROUP\"}, {\"type\": \"string\", \"id\": \"DISTRICT\", \"label\": \"DISTRICT\"}, {\"type\": \"timestamp\", \"id\": \"OCCURRED_ON_DATE\", \"label\": \"OCCURRED_ON_DATE\"}, {\"type\": \"number\", \"id\": \"YEAR\", \"label\": \"YEAR\"}, {\"type\": \"number\", \"id\": \"MONTH\", \"label\": \"MONTH\"}, {\"type\": \"string\", \"id\": \"DAY_OF_WEEK\", \"label\": \"DAY_OF_WEEK\"}, {\"type\": \"number\", \"id\": \"HOUR\", \"label\": \"HOUR\"}, {\"type\": \"string\", \"id\": \"STREET\", \"label\": \"STREET\"}, {\"type\": \"number\", \"id\": \"Lat\", \"label\": \"Lat\"}, {\"type\": \"number\", \"id\": \"Long\", \"label\": \"Long\"}, {\"type\": \"string\", \"id\": \"Location\", \"label\": \"Location\"}]},\n",
       "            {\n",
       "              pageSize: 25,\n",
       "              cssClassNames:  {\n",
       "                tableRow: 'gchart-table-row',\n",
       "                headerRow: 'gchart-table-headerrow',\n",
       "                oddTableRow: 'gchart-table-oddrow',\n",
       "                selectedTableRow: 'gchart-table-selectedrow',\n",
       "                hoverTableRow: 'gchart-table-hoverrow',\n",
       "                tableCell: 'gchart-table-cell',\n",
       "                headerCell: 'gchart-table-headercell',\n",
       "                rowNumberCell: 'gchart-table-rownumcell'\n",
       "              }\n",
       "            },\n",
       "            {source_index: 1, fields: 'OFFENSE_CODE_GROUP,DISTRICT,OCCURRED_ON_DATE,YEAR,MONTH,DAY_OF_WEEK,HOUR,STREET,Lat,Long,Location'},\n",
       "            0,\n",
       "            1372);\n",
       "        }\n",
       "      );\n",
       "    </script>\n",
       "  "
      ],
      "text/plain": [
       "QueryResultsTable job_va8mA04h-nCgqB8-vy1F19DK9DlL"
      ]
     },
     "execution_count": 2,
     "metadata": {},
     "output_type": "execute_result"
    }
   ],
   "source": [
    "%%bq query\n",
    "SELECT OFFENSE_CODE_GROUP, DISTRICT, OCCURRED_ON_DATE, YEAR, MONTH, DAY_OF_WEEK, HOUR, STREET, Lat, Long, Location\n",
    "FROM `crime_in_boston.crime` \n",
    "WHERE STREET = 'COMMONWEALTH AVE' AND DISTRICT = 'D4'"
   ]
  },
  {
   "cell_type": "markdown",
   "metadata": {},
   "source": [
    "2.Saved as new table for 2016 total crimes by month. Using for join table with 2017. Table name `CRIME_2016_MONTH`"
   ]
  },
  {
   "cell_type": "code",
   "execution_count": 3,
   "metadata": {},
   "outputs": [
    {
     "data": {
      "text/html": [
       "\n",
       "    <div class=\"bqtv\" id=\"3_156627565025\"><table><tr><th>MONTH</th><th>TOTAL_MONTH</th><th>YEAR</th></tr><tr><td>1</td><td>7835</td><td>2016</td></tr><tr><td>2</td><td>7308</td><td>2016</td></tr><tr><td>3</td><td>8199</td><td>2016</td></tr><tr><td>4</td><td>8101</td><td>2016</td></tr><tr><td>5</td><td>8578</td><td>2016</td></tr><tr><td>6</td><td>8558</td><td>2016</td></tr><tr><td>7</td><td>8619</td><td>2016</td></tr><tr><td>8</td><td>8938</td><td>2016</td></tr><tr><td>9</td><td>8522</td><td>2016</td></tr><tr><td>10</td><td>8583</td><td>2016</td></tr><tr><td>11</td><td>7922</td><td>2016</td></tr><tr><td>12</td><td>7951</td><td>2016</td></tr></table></div>\n",
       "    <br />(rows: 12, time: 0.1s, cached, job: job_qshEh6_oO_wxfb5QH_R0NneMFPDb)<br />\n",
       "    <script src=\"/static/components/requirejs/require.js\"></script>\n",
       "    <script>\n",
       "      require.config({\n",
       "        paths: {\n",
       "          base: '/static/base',\n",
       "          d3: '//cdnjs.cloudflare.com/ajax/libs/d3/3.4.13/d3',\n",
       "          plotly: 'https://cdn.plot.ly/plotly-1.5.1.min.js?noext',\n",
       "          jquery: '//ajax.googleapis.com/ajax/libs/jquery/2.0.0/jquery.min'\n",
       "        },\n",
       "        map: {\n",
       "          '*': {\n",
       "            datalab: 'nbextensions/gcpdatalab'\n",
       "          }\n",
       "        },\n",
       "        shim: {\n",
       "          plotly: {\n",
       "            deps: ['d3', 'jquery'],\n",
       "            exports: 'plotly'\n",
       "          }\n",
       "        }\n",
       "      });\n",
       "\n",
       "      require(['datalab/charting', 'datalab/element!3_156627565025', 'base/js/events',\n",
       "          'datalab/style!/nbextensions/gcpdatalab/charting.css'],\n",
       "        function(charts, dom, events) {\n",
       "          charts.render('gcharts', dom, events, 'table', [], {\"rows\": [{\"c\": [{\"v\": 1}, {\"v\": 7835}, {\"v\": 2016}]}, {\"c\": [{\"v\": 2}, {\"v\": 7308}, {\"v\": 2016}]}, {\"c\": [{\"v\": 3}, {\"v\": 8199}, {\"v\": 2016}]}, {\"c\": [{\"v\": 4}, {\"v\": 8101}, {\"v\": 2016}]}, {\"c\": [{\"v\": 5}, {\"v\": 8578}, {\"v\": 2016}]}, {\"c\": [{\"v\": 6}, {\"v\": 8558}, {\"v\": 2016}]}, {\"c\": [{\"v\": 7}, {\"v\": 8619}, {\"v\": 2016}]}, {\"c\": [{\"v\": 8}, {\"v\": 8938}, {\"v\": 2016}]}, {\"c\": [{\"v\": 9}, {\"v\": 8522}, {\"v\": 2016}]}, {\"c\": [{\"v\": 10}, {\"v\": 8583}, {\"v\": 2016}]}, {\"c\": [{\"v\": 11}, {\"v\": 7922}, {\"v\": 2016}]}, {\"c\": [{\"v\": 12}, {\"v\": 7951}, {\"v\": 2016}]}], \"cols\": [{\"type\": \"number\", \"id\": \"MONTH\", \"label\": \"MONTH\"}, {\"type\": \"number\", \"id\": \"TOTAL_MONTH\", \"label\": \"TOTAL_MONTH\"}, {\"type\": \"number\", \"id\": \"YEAR\", \"label\": \"YEAR\"}]},\n",
       "            {\n",
       "              pageSize: 25,\n",
       "              cssClassNames:  {\n",
       "                tableRow: 'gchart-table-row',\n",
       "                headerRow: 'gchart-table-headerrow',\n",
       "                oddTableRow: 'gchart-table-oddrow',\n",
       "                selectedTableRow: 'gchart-table-selectedrow',\n",
       "                hoverTableRow: 'gchart-table-hoverrow',\n",
       "                tableCell: 'gchart-table-cell',\n",
       "                headerCell: 'gchart-table-headercell',\n",
       "                rowNumberCell: 'gchart-table-rownumcell'\n",
       "              }\n",
       "            },\n",
       "            {source_index: 2, fields: 'MONTH,TOTAL_MONTH,YEAR'},\n",
       "            0,\n",
       "            12);\n",
       "        }\n",
       "      );\n",
       "    </script>\n",
       "  "
      ],
      "text/plain": [
       "QueryResultsTable job_qshEh6_oO_wxfb5QH_R0NneMFPDb"
      ]
     },
     "execution_count": 3,
     "metadata": {},
     "output_type": "execute_result"
    }
   ],
   "source": [
    "%%bq query\n",
    "SELECT MONTH, COUNT(MONTH) AS TOTAL_MONTH, YEAR\n",
    "FROM `crime_in_boston.crime` \n",
    "GROUP BY MONTH, YEAR\n",
    "HAVING YEAR = 2016\n",
    "ORDER BY MONTH"
   ]
  },
  {
   "cell_type": "markdown",
   "metadata": {},
   "source": [
    "3. Saved as new table for 2017 total crimes by month. Using for join table with 2017. Table name `CRIME_2017_MONTH`"
   ]
  },
  {
   "cell_type": "code",
   "execution_count": 4,
   "metadata": {},
   "outputs": [
    {
     "data": {
      "text/html": [
       "\n",
       "    <div class=\"bqtv\" id=\"4_156627565216\"><table><tr><th>MONTH</th><th>TOTAL_MONTH</th><th>YEAR</th></tr><tr><td>1</td><td>7993</td><td>2017</td></tr><tr><td>2</td><td>7408</td><td>2017</td></tr><tr><td>3</td><td>8179</td><td>2017</td></tr><tr><td>4</td><td>8069</td><td>2017</td></tr><tr><td>5</td><td>8715</td><td>2017</td></tr><tr><td>6</td><td>8985</td><td>2017</td></tr><tr><td>7</td><td>9075</td><td>2017</td></tr><tr><td>8</td><td>9206</td><td>2017</td></tr><tr><td>9</td><td>8940</td><td>2017</td></tr><tr><td>10</td><td>8846</td><td>2017</td></tr><tr><td>11</td><td>7935</td><td>2017</td></tr><tr><td>12</td><td>7535</td><td>2017</td></tr></table></div>\n",
       "    <br />(rows: 12, time: 0.1s, cached, job: job_NAN7CpZnf_Vx7vdodv0a7CYbpqVd)<br />\n",
       "    <script src=\"/static/components/requirejs/require.js\"></script>\n",
       "    <script>\n",
       "      require.config({\n",
       "        paths: {\n",
       "          base: '/static/base',\n",
       "          d3: '//cdnjs.cloudflare.com/ajax/libs/d3/3.4.13/d3',\n",
       "          plotly: 'https://cdn.plot.ly/plotly-1.5.1.min.js?noext',\n",
       "          jquery: '//ajax.googleapis.com/ajax/libs/jquery/2.0.0/jquery.min'\n",
       "        },\n",
       "        map: {\n",
       "          '*': {\n",
       "            datalab: 'nbextensions/gcpdatalab'\n",
       "          }\n",
       "        },\n",
       "        shim: {\n",
       "          plotly: {\n",
       "            deps: ['d3', 'jquery'],\n",
       "            exports: 'plotly'\n",
       "          }\n",
       "        }\n",
       "      });\n",
       "\n",
       "      require(['datalab/charting', 'datalab/element!4_156627565216', 'base/js/events',\n",
       "          'datalab/style!/nbextensions/gcpdatalab/charting.css'],\n",
       "        function(charts, dom, events) {\n",
       "          charts.render('gcharts', dom, events, 'table', [], {\"rows\": [{\"c\": [{\"v\": 1}, {\"v\": 7993}, {\"v\": 2017}]}, {\"c\": [{\"v\": 2}, {\"v\": 7408}, {\"v\": 2017}]}, {\"c\": [{\"v\": 3}, {\"v\": 8179}, {\"v\": 2017}]}, {\"c\": [{\"v\": 4}, {\"v\": 8069}, {\"v\": 2017}]}, {\"c\": [{\"v\": 5}, {\"v\": 8715}, {\"v\": 2017}]}, {\"c\": [{\"v\": 6}, {\"v\": 8985}, {\"v\": 2017}]}, {\"c\": [{\"v\": 7}, {\"v\": 9075}, {\"v\": 2017}]}, {\"c\": [{\"v\": 8}, {\"v\": 9206}, {\"v\": 2017}]}, {\"c\": [{\"v\": 9}, {\"v\": 8940}, {\"v\": 2017}]}, {\"c\": [{\"v\": 10}, {\"v\": 8846}, {\"v\": 2017}]}, {\"c\": [{\"v\": 11}, {\"v\": 7935}, {\"v\": 2017}]}, {\"c\": [{\"v\": 12}, {\"v\": 7535}, {\"v\": 2017}]}], \"cols\": [{\"type\": \"number\", \"id\": \"MONTH\", \"label\": \"MONTH\"}, {\"type\": \"number\", \"id\": \"TOTAL_MONTH\", \"label\": \"TOTAL_MONTH\"}, {\"type\": \"number\", \"id\": \"YEAR\", \"label\": \"YEAR\"}]},\n",
       "            {\n",
       "              pageSize: 25,\n",
       "              cssClassNames:  {\n",
       "                tableRow: 'gchart-table-row',\n",
       "                headerRow: 'gchart-table-headerrow',\n",
       "                oddTableRow: 'gchart-table-oddrow',\n",
       "                selectedTableRow: 'gchart-table-selectedrow',\n",
       "                hoverTableRow: 'gchart-table-hoverrow',\n",
       "                tableCell: 'gchart-table-cell',\n",
       "                headerCell: 'gchart-table-headercell',\n",
       "                rowNumberCell: 'gchart-table-rownumcell'\n",
       "              }\n",
       "            },\n",
       "            {source_index: 3, fields: 'MONTH,TOTAL_MONTH,YEAR'},\n",
       "            0,\n",
       "            12);\n",
       "        }\n",
       "      );\n",
       "    </script>\n",
       "  "
      ],
      "text/plain": [
       "QueryResultsTable job_NAN7CpZnf_Vx7vdodv0a7CYbpqVd"
      ]
     },
     "execution_count": 4,
     "metadata": {},
     "output_type": "execute_result"
    }
   ],
   "source": [
    "%%bq query\n",
    "SELECT MONTH, COUNT(MONTH) AS TOTAL_MONTH, YEAR\n",
    "FROM `crime_in_boston.crime` \n",
    "GROUP BY MONTH, YEAR\n",
    "HAVING YEAR = 2017\n",
    "ORDER BY MONTH"
   ]
  },
  {
   "cell_type": "markdown",
   "metadata": {},
   "source": [
    "4. Saved as new table for 2016 total crimes by month but only on Commonwealth Ave on district D4, which is BU area. Using for join table with 2017. Table name `comm_year_2016`"
   ]
  },
  {
   "cell_type": "code",
   "execution_count": 5,
   "metadata": {},
   "outputs": [
    {
     "data": {
      "text/html": [
       "\n",
       "    <div class=\"bqtv\" id=\"5_156627565400\"><table><tr><th>MONTH</th><th>TOTAL_MONTH</th><th>YEAR</th></tr><tr><td>1</td><td>37</td><td>2016</td></tr><tr><td>2</td><td>41</td><td>2016</td></tr><tr><td>3</td><td>42</td><td>2016</td></tr><tr><td>4</td><td>35</td><td>2016</td></tr><tr><td>5</td><td>28</td><td>2016</td></tr><tr><td>6</td><td>24</td><td>2016</td></tr><tr><td>7</td><td>29</td><td>2016</td></tr><tr><td>8</td><td>37</td><td>2016</td></tr><tr><td>9</td><td>46</td><td>2016</td></tr><tr><td>10</td><td>34</td><td>2016</td></tr><tr><td>11</td><td>25</td><td>2016</td></tr><tr><td>12</td><td>28</td><td>2016</td></tr></table></div>\n",
       "    <br />(rows: 12, time: 0.1s, cached, job: job_9pdEftuIh37rsT1YvuybkVNeJlDv)<br />\n",
       "    <script src=\"/static/components/requirejs/require.js\"></script>\n",
       "    <script>\n",
       "      require.config({\n",
       "        paths: {\n",
       "          base: '/static/base',\n",
       "          d3: '//cdnjs.cloudflare.com/ajax/libs/d3/3.4.13/d3',\n",
       "          plotly: 'https://cdn.plot.ly/plotly-1.5.1.min.js?noext',\n",
       "          jquery: '//ajax.googleapis.com/ajax/libs/jquery/2.0.0/jquery.min'\n",
       "        },\n",
       "        map: {\n",
       "          '*': {\n",
       "            datalab: 'nbextensions/gcpdatalab'\n",
       "          }\n",
       "        },\n",
       "        shim: {\n",
       "          plotly: {\n",
       "            deps: ['d3', 'jquery'],\n",
       "            exports: 'plotly'\n",
       "          }\n",
       "        }\n",
       "      });\n",
       "\n",
       "      require(['datalab/charting', 'datalab/element!5_156627565400', 'base/js/events',\n",
       "          'datalab/style!/nbextensions/gcpdatalab/charting.css'],\n",
       "        function(charts, dom, events) {\n",
       "          charts.render('gcharts', dom, events, 'table', [], {\"rows\": [{\"c\": [{\"v\": 1}, {\"v\": 37}, {\"v\": 2016}]}, {\"c\": [{\"v\": 2}, {\"v\": 41}, {\"v\": 2016}]}, {\"c\": [{\"v\": 3}, {\"v\": 42}, {\"v\": 2016}]}, {\"c\": [{\"v\": 4}, {\"v\": 35}, {\"v\": 2016}]}, {\"c\": [{\"v\": 5}, {\"v\": 28}, {\"v\": 2016}]}, {\"c\": [{\"v\": 6}, {\"v\": 24}, {\"v\": 2016}]}, {\"c\": [{\"v\": 7}, {\"v\": 29}, {\"v\": 2016}]}, {\"c\": [{\"v\": 8}, {\"v\": 37}, {\"v\": 2016}]}, {\"c\": [{\"v\": 9}, {\"v\": 46}, {\"v\": 2016}]}, {\"c\": [{\"v\": 10}, {\"v\": 34}, {\"v\": 2016}]}, {\"c\": [{\"v\": 11}, {\"v\": 25}, {\"v\": 2016}]}, {\"c\": [{\"v\": 12}, {\"v\": 28}, {\"v\": 2016}]}], \"cols\": [{\"type\": \"number\", \"id\": \"MONTH\", \"label\": \"MONTH\"}, {\"type\": \"number\", \"id\": \"TOTAL_MONTH\", \"label\": \"TOTAL_MONTH\"}, {\"type\": \"number\", \"id\": \"YEAR\", \"label\": \"YEAR\"}]},\n",
       "            {\n",
       "              pageSize: 25,\n",
       "              cssClassNames:  {\n",
       "                tableRow: 'gchart-table-row',\n",
       "                headerRow: 'gchart-table-headerrow',\n",
       "                oddTableRow: 'gchart-table-oddrow',\n",
       "                selectedTableRow: 'gchart-table-selectedrow',\n",
       "                hoverTableRow: 'gchart-table-hoverrow',\n",
       "                tableCell: 'gchart-table-cell',\n",
       "                headerCell: 'gchart-table-headercell',\n",
       "                rowNumberCell: 'gchart-table-rownumcell'\n",
       "              }\n",
       "            },\n",
       "            {source_index: 4, fields: 'MONTH,TOTAL_MONTH,YEAR'},\n",
       "            0,\n",
       "            12);\n",
       "        }\n",
       "      );\n",
       "    </script>\n",
       "  "
      ],
      "text/plain": [
       "QueryResultsTable job_9pdEftuIh37rsT1YvuybkVNeJlDv"
      ]
     },
     "execution_count": 5,
     "metadata": {},
     "output_type": "execute_result"
    }
   ],
   "source": [
    "%%bq query\n",
    "SELECT MONTH, COUNT(MONTH) AS TOTAL_MONTH, YEAR\n",
    "FROM `crime_in_boston.Crime_commonwealth_table`  AS YEAR_2016\n",
    "GROUP BY MONTH, YEAR\n",
    "HAVING YEAR = 2016\n",
    "ORDER BY MONTH"
   ]
  },
  {
   "cell_type": "markdown",
   "metadata": {},
   "source": [
    "5. Saved as new table for 2017 total crimes by month but only on Commonwealth Ave on district D4, which is BU area. Using for join table with 2016. Table name `comm_year_2017`"
   ]
  },
  {
   "cell_type": "code",
   "execution_count": 6,
   "metadata": {},
   "outputs": [
    {
     "data": {
      "text/html": [
       "\n",
       "    <div class=\"bqtv\" id=\"6_156627565580\"><table><tr><th>MONTH</th><th>TOTAL_MONTH</th><th>YEAR</th></tr><tr><td>1</td><td>27</td><td>2017</td></tr><tr><td>2</td><td>25</td><td>2017</td></tr><tr><td>3</td><td>26</td><td>2017</td></tr><tr><td>4</td><td>52</td><td>2017</td></tr><tr><td>5</td><td>42</td><td>2017</td></tr><tr><td>6</td><td>39</td><td>2017</td></tr><tr><td>7</td><td>36</td><td>2017</td></tr><tr><td>8</td><td>50</td><td>2017</td></tr><tr><td>9</td><td>36</td><td>2017</td></tr><tr><td>10</td><td>45</td><td>2017</td></tr><tr><td>11</td><td>27</td><td>2017</td></tr><tr><td>12</td><td>25</td><td>2017</td></tr></table></div>\n",
       "    <br />(rows: 12, time: 0.1s, cached, job: job_xQSZTQ-n1SI1ju9PJ24tE2s8jyjO)<br />\n",
       "    <script src=\"/static/components/requirejs/require.js\"></script>\n",
       "    <script>\n",
       "      require.config({\n",
       "        paths: {\n",
       "          base: '/static/base',\n",
       "          d3: '//cdnjs.cloudflare.com/ajax/libs/d3/3.4.13/d3',\n",
       "          plotly: 'https://cdn.plot.ly/plotly-1.5.1.min.js?noext',\n",
       "          jquery: '//ajax.googleapis.com/ajax/libs/jquery/2.0.0/jquery.min'\n",
       "        },\n",
       "        map: {\n",
       "          '*': {\n",
       "            datalab: 'nbextensions/gcpdatalab'\n",
       "          }\n",
       "        },\n",
       "        shim: {\n",
       "          plotly: {\n",
       "            deps: ['d3', 'jquery'],\n",
       "            exports: 'plotly'\n",
       "          }\n",
       "        }\n",
       "      });\n",
       "\n",
       "      require(['datalab/charting', 'datalab/element!6_156627565580', 'base/js/events',\n",
       "          'datalab/style!/nbextensions/gcpdatalab/charting.css'],\n",
       "        function(charts, dom, events) {\n",
       "          charts.render('gcharts', dom, events, 'table', [], {\"rows\": [{\"c\": [{\"v\": 1}, {\"v\": 27}, {\"v\": 2017}]}, {\"c\": [{\"v\": 2}, {\"v\": 25}, {\"v\": 2017}]}, {\"c\": [{\"v\": 3}, {\"v\": 26}, {\"v\": 2017}]}, {\"c\": [{\"v\": 4}, {\"v\": 52}, {\"v\": 2017}]}, {\"c\": [{\"v\": 5}, {\"v\": 42}, {\"v\": 2017}]}, {\"c\": [{\"v\": 6}, {\"v\": 39}, {\"v\": 2017}]}, {\"c\": [{\"v\": 7}, {\"v\": 36}, {\"v\": 2017}]}, {\"c\": [{\"v\": 8}, {\"v\": 50}, {\"v\": 2017}]}, {\"c\": [{\"v\": 9}, {\"v\": 36}, {\"v\": 2017}]}, {\"c\": [{\"v\": 10}, {\"v\": 45}, {\"v\": 2017}]}, {\"c\": [{\"v\": 11}, {\"v\": 27}, {\"v\": 2017}]}, {\"c\": [{\"v\": 12}, {\"v\": 25}, {\"v\": 2017}]}], \"cols\": [{\"type\": \"number\", \"id\": \"MONTH\", \"label\": \"MONTH\"}, {\"type\": \"number\", \"id\": \"TOTAL_MONTH\", \"label\": \"TOTAL_MONTH\"}, {\"type\": \"number\", \"id\": \"YEAR\", \"label\": \"YEAR\"}]},\n",
       "            {\n",
       "              pageSize: 25,\n",
       "              cssClassNames:  {\n",
       "                tableRow: 'gchart-table-row',\n",
       "                headerRow: 'gchart-table-headerrow',\n",
       "                oddTableRow: 'gchart-table-oddrow',\n",
       "                selectedTableRow: 'gchart-table-selectedrow',\n",
       "                hoverTableRow: 'gchart-table-hoverrow',\n",
       "                tableCell: 'gchart-table-cell',\n",
       "                headerCell: 'gchart-table-headercell',\n",
       "                rowNumberCell: 'gchart-table-rownumcell'\n",
       "              }\n",
       "            },\n",
       "            {source_index: 5, fields: 'MONTH,TOTAL_MONTH,YEAR'},\n",
       "            0,\n",
       "            12);\n",
       "        }\n",
       "      );\n",
       "    </script>\n",
       "  "
      ],
      "text/plain": [
       "QueryResultsTable job_xQSZTQ-n1SI1ju9PJ24tE2s8jyjO"
      ]
     },
     "execution_count": 6,
     "metadata": {},
     "output_type": "execute_result"
    }
   ],
   "source": [
    "%%bq query\n",
    "SELECT MONTH, COUNT(MONTH) AS TOTAL_MONTH, YEAR\n",
    "FROM `crime_in_boston.Crime_commonwealth_table`  AS YEAR_2017\n",
    "GROUP BY MONTH, YEAR\n",
    "HAVING YEAR = 2017\n",
    "ORDER BY MONTH"
   ]
  },
  {
   "cell_type": "markdown",
   "metadata": {},
   "source": [
    "6. We uploaded our own dataset we created from publicly aviailable information that was pertaining to the Boston area. This table is labeled as districtname, and can be seen in the code below. "
   ]
  },
  {
   "cell_type": "code",
   "execution_count": 7,
   "metadata": {},
   "outputs": [
    {
     "data": {
      "text/html": [
       "\n",
       "    <div class=\"bqtv\" id=\"7_156627565765\"><table><tr><th>district</th><th>districtname</th><th>population</th><th>capital</th><th>police_station</th><th>contact</th></tr><tr><td>A1</td><td>Downtown </td><td>5980</td><td>Captain Kenneth Fong</td><td>40 New Sudbury Street Boston, MA 02114</td><td>(617) 343-4240</td></tr><tr><td>A15</td><td>Charlestown</td><td>16440</td><td>Captain Kenneth Fong</td><td>40 New Sudbury Street Boston, MA 02114</td><td>(617) 343-4888</td></tr><tr><td>A7</td><td>East Boston</td><td>40510</td><td>Captain Kelley J. McCormick</td><td>69 Paris Street East Boston, MA 02128</td><td>(617) 343-4220</td></tr><tr><td>B2</td><td>Roxbury</td><td>52530</td><td>CAPTAIN LEIGHTON FACEY</td><td>2400 Washington Street Roxbury, MA 02119</td><td>(617) 343-4270</td></tr><tr><td>B3</td><td>Mattapan</td><td>34390</td><td>CAPTAIN HASEEB HOSEIN</td><td>1165 Blue Hill Avenue Mattapan, MA 02124</td><td>(617) 343-4700</td></tr><tr><td>C11</td><td>Dorchester</td><td>60790</td><td>CAPTAIN STEVEN MCLAUGHLIN</td><td>40 Gibson Street Dorchester, MA 02122</td><td>(617) 343-4330</td></tr><tr><td>C6</td><td>South Boston</td><td>33690</td><td>CAPTAIN JOSEPH BOYLE</td><td>101 West Broadway South Boston, MA 02127</td><td>(617) 343-4730</td></tr><tr><td>D14</td><td>Brighton</td><td>45980</td><td>CAPTAIN PAUL RUSSELL</td><td>301 Washington Street Brighton, MA 02135</td><td>(617) 343-4260</td></tr><tr><td>D4</td><td>South End</td><td>30360</td><td>CAPTAIN STEVEN SWEENEY</td><td>650 Harrison Avenue Boston, MA 02116</td><td>617) 343-4250</td></tr><tr><td>E13</td><td>Jamaica Plain</td><td>10360</td><td>CAPTAIN JOHN GRELAND</td><td>3347 Washington StreetJamaica Plain, MA 02130</td><td>(617) 343-5630</td></tr><tr><td>E18</td><td>Hyde Park</td><td>31850</td><td>CAPTAIN JOSEPH GILLESPIE</td><td>1249 Hyde Park Avenue Hyde Park, MA 02136</td><td>(617) 343-5600</td></tr><tr><td>E5</td><td>West Roxbury</td><td>30440</td><td>CAPTAIN THERESE KOZMISKI</td><td>1708 Centre Street West Roxbury, MA 02132</td><td>(617) 343-4560</td></tr><tr><td>&nbsp;</td><td>&nbsp;</td><td>&nbsp;</td><td>&nbsp;</td><td>&nbsp;</td><td>&nbsp;</td></tr><tr><td>&nbsp;</td><td>&nbsp;</td><td>&nbsp;</td><td>&nbsp;</td><td>&nbsp;</td><td>&nbsp;</td></tr><tr><td>&nbsp;</td><td>&nbsp;</td><td>&nbsp;</td><td>&nbsp;</td><td>&nbsp;</td><td>&nbsp;</td></tr><tr><td>&nbsp;</td><td>&nbsp;</td><td>&nbsp;</td><td>&nbsp;</td><td>&nbsp;</td><td>&nbsp;</td></tr><tr><td>&nbsp;</td><td>&nbsp;</td><td>&nbsp;</td><td>&nbsp;</td><td>&nbsp;</td><td>&nbsp;</td></tr><tr><td>&nbsp;</td><td>&nbsp;</td><td>&nbsp;</td><td>&nbsp;</td><td>&nbsp;</td><td>&nbsp;</td></tr><tr><td>&nbsp;</td><td>&nbsp;</td><td>&nbsp;</td><td>&nbsp;</td><td>&nbsp;</td><td>&nbsp;</td></tr></table></div>\n",
       "    <br />(rows: 19, time: 0.1s, cached, job: job_ev2xEavy2m3LFeDHjmHDAckVpk1Y)<br />\n",
       "    <script src=\"/static/components/requirejs/require.js\"></script>\n",
       "    <script>\n",
       "      require.config({\n",
       "        paths: {\n",
       "          base: '/static/base',\n",
       "          d3: '//cdnjs.cloudflare.com/ajax/libs/d3/3.4.13/d3',\n",
       "          plotly: 'https://cdn.plot.ly/plotly-1.5.1.min.js?noext',\n",
       "          jquery: '//ajax.googleapis.com/ajax/libs/jquery/2.0.0/jquery.min'\n",
       "        },\n",
       "        map: {\n",
       "          '*': {\n",
       "            datalab: 'nbextensions/gcpdatalab'\n",
       "          }\n",
       "        },\n",
       "        shim: {\n",
       "          plotly: {\n",
       "            deps: ['d3', 'jquery'],\n",
       "            exports: 'plotly'\n",
       "          }\n",
       "        }\n",
       "      });\n",
       "\n",
       "      require(['datalab/charting', 'datalab/element!7_156627565765', 'base/js/events',\n",
       "          'datalab/style!/nbextensions/gcpdatalab/charting.css'],\n",
       "        function(charts, dom, events) {\n",
       "          charts.render('gcharts', dom, events, 'table', [], {\"rows\": [{\"c\": [{\"v\": \"A1\"}, {\"v\": \"Downtown\\u00a0\"}, {\"v\": 5980}, {\"v\": \"Captain Kenneth Fong\"}, {\"v\": \"40 New Sudbury Street Boston, MA 02114\"}, {\"v\": \"(617) 343-4240\"}]}, {\"c\": [{\"v\": \"A15\"}, {\"v\": \"Charlestown\"}, {\"v\": 16440}, {\"v\": \"Captain Kenneth Fong\"}, {\"v\": \"40 New Sudbury Street Boston, MA 02114\"}, {\"v\": \"(617) 343-4888\"}]}, {\"c\": [{\"v\": \"A7\"}, {\"v\": \"East Boston\"}, {\"v\": 40510}, {\"v\": \"Captain Kelley J. McCormick\"}, {\"v\": \"69 Paris Street East Boston, MA 02128\"}, {\"v\": \"(617) 343-4220\"}]}, {\"c\": [{\"v\": \"B2\"}, {\"v\": \"Roxbury\"}, {\"v\": 52530}, {\"v\": \"CAPTAIN LEIGHTON FACEY\"}, {\"v\": \"2400 Washington Street Roxbury, MA 02119\"}, {\"v\": \"(617) 343-4270\"}]}, {\"c\": [{\"v\": \"B3\"}, {\"v\": \"Mattapan\"}, {\"v\": 34390}, {\"v\": \"CAPTAIN HASEEB\\u00a0HOSEIN\"}, {\"v\": \"1165 Blue Hill Avenue Mattapan, MA 02124\"}, {\"v\": \"(617) 343-4700\"}]}, {\"c\": [{\"v\": \"C11\"}, {\"v\": \"Dorchester\"}, {\"v\": 60790}, {\"v\": \"CAPTAIN STEVEN MCLAUGHLIN\"}, {\"v\": \"40 Gibson Street Dorchester, MA 02122\"}, {\"v\": \"(617) 343-4330\"}]}, {\"c\": [{\"v\": \"C6\"}, {\"v\": \"South Boston\"}, {\"v\": 33690}, {\"v\": \"CAPTAIN JOSEPH BOYLE\"}, {\"v\": \"101 West Broadway South Boston, MA 02127\"}, {\"v\": \"(617) 343-4730\"}]}, {\"c\": [{\"v\": \"D14\"}, {\"v\": \"Brighton\"}, {\"v\": 45980}, {\"v\": \"CAPTAIN PAUL RUSSELL\"}, {\"v\": \"301 Washington Street Brighton, MA 02135\"}, {\"v\": \"(617) 343-4260\"}]}, {\"c\": [{\"v\": \"D4\"}, {\"v\": \"South End\"}, {\"v\": 30360}, {\"v\": \"CAPTAIN STEVEN SWEENEY\"}, {\"v\": \"650 Harrison Avenue Boston, MA 02116\"}, {\"v\": \"617) 343-4250\"}]}, {\"c\": [{\"v\": \"E13\"}, {\"v\": \"Jamaica Plain\"}, {\"v\": 10360}, {\"v\": \"CAPTAIN JOHN GRELAND\"}, {\"v\": \"3347 Washington StreetJamaica Plain, MA 02130\"}, {\"v\": \"(617) 343-5630\"}]}, {\"c\": [{\"v\": \"E18\"}, {\"v\": \"Hyde Park\"}, {\"v\": 31850}, {\"v\": \"CAPTAIN\\u00a0JOSEPH GILLESPIE\"}, {\"v\": \"1249 Hyde Park Avenue Hyde Park, MA 02136\"}, {\"v\": \"(617) 343-5600\"}]}, {\"c\": [{\"v\": \"E5\"}, {\"v\": \"West Roxbury\"}, {\"v\": 30440}, {\"v\": \"CAPTAIN THERESE KOZMISKI\"}, {\"v\": \"1708 Centre Street West Roxbury, MA 02132\"}, {\"v\": \"(617) 343-4560\"}]}, {\"c\": [{\"v\": null}, {\"v\": null}, {\"v\": null}, {\"v\": null}, {\"v\": null}, {\"v\": null}]}, {\"c\": [{\"v\": null}, {\"v\": null}, {\"v\": null}, {\"v\": null}, {\"v\": null}, {\"v\": null}]}, {\"c\": [{\"v\": null}, {\"v\": null}, {\"v\": null}, {\"v\": null}, {\"v\": null}, {\"v\": null}]}, {\"c\": [{\"v\": null}, {\"v\": null}, {\"v\": null}, {\"v\": null}, {\"v\": null}, {\"v\": null}]}, {\"c\": [{\"v\": null}, {\"v\": null}, {\"v\": null}, {\"v\": null}, {\"v\": null}, {\"v\": null}]}, {\"c\": [{\"v\": null}, {\"v\": null}, {\"v\": null}, {\"v\": null}, {\"v\": null}, {\"v\": null}]}, {\"c\": [{\"v\": null}, {\"v\": null}, {\"v\": null}, {\"v\": null}, {\"v\": null}, {\"v\": null}]}], \"cols\": [{\"type\": \"string\", \"id\": \"district\", \"label\": \"district\"}, {\"type\": \"string\", \"id\": \"districtname\", \"label\": \"districtname\"}, {\"type\": \"number\", \"id\": \"population\", \"label\": \"population\"}, {\"type\": \"string\", \"id\": \"capital\", \"label\": \"capital\"}, {\"type\": \"string\", \"id\": \"police_station\", \"label\": \"police_station\"}, {\"type\": \"string\", \"id\": \"contact\", \"label\": \"contact\"}]},\n",
       "            {\n",
       "              pageSize: 25,\n",
       "              cssClassNames:  {\n",
       "                tableRow: 'gchart-table-row',\n",
       "                headerRow: 'gchart-table-headerrow',\n",
       "                oddTableRow: 'gchart-table-oddrow',\n",
       "                selectedTableRow: 'gchart-table-selectedrow',\n",
       "                hoverTableRow: 'gchart-table-hoverrow',\n",
       "                tableCell: 'gchart-table-cell',\n",
       "                headerCell: 'gchart-table-headercell',\n",
       "                rowNumberCell: 'gchart-table-rownumcell'\n",
       "              }\n",
       "            },\n",
       "            {source_index: 0, fields: 'district,districtname,population,capital,police_station,contact'},\n",
       "            0,\n",
       "            19);\n",
       "        }\n",
       "      );\n",
       "    </script>\n",
       "  "
      ],
      "text/plain": [
       "QueryResultsTable job_ev2xEavy2m3LFeDHjmHDAckVpk1Y"
      ]
     },
     "execution_count": 7,
     "metadata": {},
     "output_type": "execute_result"
    }
   ],
   "source": [
    "%%bq query\n",
    "SELECT * FROM `team-8-the-great.crime_in_boston.districtname`"
   ]
  },
  {
   "cell_type": "markdown",
   "metadata": {},
   "source": [
    "We cleaned our dataset from the original in order to get better results for our analysis and to elaborate on certain points by adding new information by joining datasets, that are not the original including ones we created. "
   ]
  }
 ],
 "metadata": {
  "kernelspec": {
   "display_name": "Python 2",
   "language": "python",
   "name": "python2"
  },
  "language_info": {
   "codemirror_mode": {
    "name": "ipython",
    "version": 2
   },
   "file_extension": ".py",
   "mimetype": "text/x-python",
   "name": "python",
   "nbconvert_exporter": "python",
   "pygments_lexer": "ipython2",
   "version": "2.7.15"
  }
 },
 "nbformat": 4,
 "nbformat_minor": 2
}
