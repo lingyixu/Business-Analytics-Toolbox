{
 "cells": [
  {
   "cell_type": "markdown",
   "metadata": {},
   "source": [
    "# Factors That Affect Uber Pickup Requests in New York City"
   ]
  },
  {
   "cell_type": "markdown",
   "metadata": {},
   "source": [
    "From this research, we want to learn how will location, time, and weather condition factors affect Uber pickups specifically in New York City."
   ]
  },
  {
   "cell_type": "markdown",
   "metadata": {},
   "source": [
    "### Number 1.a: *Process*  - UNION Each Month's Data Into One Table Called \"All_Data\""
   ]
  },
  {
   "cell_type": "code",
   "execution_count": null,
   "metadata": {},
   "outputs": [],
   "source": [
    "%%bq query\n",
    "SELECT * FROM `team-3-249220.team3.uber_raw_data_apr14` \n",
    "UNION DISTINCT\n",
    "SELECT * FROM `team-3-249220.team3.uber_raw_data_may14`\n",
    "UNION DISTINCT\n",
    "SELECT * FROM `team-3-249220.team3.uber_law_data_jun14`\n",
    "UNION DISTINCT\n",
    "SELECT * FROM `team-3-249220.team3.uber_raw_data_jul14`\n",
    "UNION DISTINCT\n",
    "SELECT * FROM `team-3-249220.team3.uber_raw_data_aug14`\n",
    "UNION DISTINCT\n",
    "SELECT * FROM `team-3-249220.team3.uber_raw_data_sep14`"
   ]
  },
  {
   "cell_type": "markdown",
   "metadata": {},
   "source": [
    "### Number 1.b: *Process*  - New York City Weather Raw Data"
   ]
  },
  {
   "cell_type": "code",
   "execution_count": null,
   "metadata": {},
   "outputs": [],
   "source": [
    "%%bq query\n",
    "SELECT  *\n",
    "FROM `team-3-249220.team3.2014NewYorkCityWeather`"
   ]
  },
  {
   "cell_type": "markdown",
   "metadata": {},
   "source": [
    "### Number 2: Top 10 Most Pickup Request Zones in New York City"
   ]
  },
  {
   "cell_type": "code",
   "execution_count": 32,
   "metadata": {},
   "outputs": [
    {
     "data": {
      "text/html": [
       "\n",
       "    <div class=\"bqtv\" id=\"8_156625357257\"><table><tr><th>WKT</th><th>Num_Of_Pickups</th></tr><tr><td>POINT(-73.7819 40.6448)</td><td>2255</td></tr><tr><td>POINT(-73.8625 40.7685)</td><td>2228</td></tr><tr><td>POINT(-73.782 40.6448)</td><td>2032</td></tr><tr><td>POINT(-73.7822 40.6449)</td><td>1911</td></tr><tr><td>POINT(-73.8726 40.7741)</td><td>1869</td></tr><tr><td>POINT(-73.8725 40.7741)</td><td>1826</td></tr><tr><td>POINT(-73.8726 40.774)</td><td>1797</td></tr><tr><td>POINT(-73.7821 40.6449)</td><td>1729</td></tr><tr><td>POINT(-73.7818 40.6448)</td><td>1724</td></tr><tr><td>POINT(-73.7821 40.6447)</td><td>1546</td></tr><tr><td>POINT(-73.7823 40.6449)</td><td>1523</td></tr><tr><td>POINT(-73.7767 40.6458)</td><td>1453</td></tr><tr><td>POINT(-73.8626 40.7686)</td><td>1380</td></tr><tr><td>POINT(-73.7819 40.645)</td><td>1374</td></tr><tr><td>POINT(-73.782 40.645)</td><td>1308</td></tr><tr><td>POINT(-73.782 40.6447)</td><td>1303</td></tr><tr><td>POINT(-73.8724 40.7741)</td><td>1295</td></tr><tr><td>POINT(-73.7822 40.6447)</td><td>1294</td></tr><tr><td>POINT(-73.7767 40.6459)</td><td>1292</td></tr><tr><td>POINT(-73.8725 40.774)</td><td>1273</td></tr></table></div>\n",
       "    <br />(rows: 20, time: 0.1s, cached, job: job_hQFeuyBOaBlfq4HNoMq_709sBu0H)<br />\n",
       "    <script src=\"/static/components/requirejs/require.js\"></script>\n",
       "    <script>\n",
       "      require.config({\n",
       "        paths: {\n",
       "          base: '/static/base',\n",
       "          d3: '//cdnjs.cloudflare.com/ajax/libs/d3/3.4.13/d3',\n",
       "          plotly: 'https://cdn.plot.ly/plotly-1.5.1.min.js?noext',\n",
       "          jquery: '//ajax.googleapis.com/ajax/libs/jquery/2.0.0/jquery.min'\n",
       "        },\n",
       "        map: {\n",
       "          '*': {\n",
       "            datalab: 'nbextensions/gcpdatalab'\n",
       "          }\n",
       "        },\n",
       "        shim: {\n",
       "          plotly: {\n",
       "            deps: ['d3', 'jquery'],\n",
       "            exports: 'plotly'\n",
       "          }\n",
       "        }\n",
       "      });\n",
       "\n",
       "      require(['datalab/charting', 'datalab/element!8_156625357257', 'base/js/events',\n",
       "          'datalab/style!/nbextensions/gcpdatalab/charting.css'],\n",
       "        function(charts, dom, events) {\n",
       "          charts.render('gcharts', dom, events, 'table', [], {\"rows\": [{\"c\": [{\"v\": \"POINT(-73.7819 40.6448)\"}, {\"v\": 2255}]}, {\"c\": [{\"v\": \"POINT(-73.8625 40.7685)\"}, {\"v\": 2228}]}, {\"c\": [{\"v\": \"POINT(-73.782 40.6448)\"}, {\"v\": 2032}]}, {\"c\": [{\"v\": \"POINT(-73.7822 40.6449)\"}, {\"v\": 1911}]}, {\"c\": [{\"v\": \"POINT(-73.8726 40.7741)\"}, {\"v\": 1869}]}, {\"c\": [{\"v\": \"POINT(-73.8725 40.7741)\"}, {\"v\": 1826}]}, {\"c\": [{\"v\": \"POINT(-73.8726 40.774)\"}, {\"v\": 1797}]}, {\"c\": [{\"v\": \"POINT(-73.7821 40.6449)\"}, {\"v\": 1729}]}, {\"c\": [{\"v\": \"POINT(-73.7818 40.6448)\"}, {\"v\": 1724}]}, {\"c\": [{\"v\": \"POINT(-73.7821 40.6447)\"}, {\"v\": 1546}]}, {\"c\": [{\"v\": \"POINT(-73.7823 40.6449)\"}, {\"v\": 1523}]}, {\"c\": [{\"v\": \"POINT(-73.7767 40.6458)\"}, {\"v\": 1453}]}, {\"c\": [{\"v\": \"POINT(-73.8626 40.7686)\"}, {\"v\": 1380}]}, {\"c\": [{\"v\": \"POINT(-73.7819 40.645)\"}, {\"v\": 1374}]}, {\"c\": [{\"v\": \"POINT(-73.782 40.645)\"}, {\"v\": 1308}]}, {\"c\": [{\"v\": \"POINT(-73.782 40.6447)\"}, {\"v\": 1303}]}, {\"c\": [{\"v\": \"POINT(-73.8724 40.7741)\"}, {\"v\": 1295}]}, {\"c\": [{\"v\": \"POINT(-73.7822 40.6447)\"}, {\"v\": 1294}]}, {\"c\": [{\"v\": \"POINT(-73.7767 40.6459)\"}, {\"v\": 1292}]}, {\"c\": [{\"v\": \"POINT(-73.8725 40.774)\"}, {\"v\": 1273}]}], \"cols\": [{\"type\": \"string\", \"id\": \"WKT\", \"label\": \"WKT\"}, {\"type\": \"number\", \"id\": \"Num_Of_Pickups\", \"label\": \"Num_Of_Pickups\"}]},\n",
       "            {\n",
       "              pageSize: 25,\n",
       "              cssClassNames:  {\n",
       "                tableRow: 'gchart-table-row',\n",
       "                headerRow: 'gchart-table-headerrow',\n",
       "                oddTableRow: 'gchart-table-oddrow',\n",
       "                selectedTableRow: 'gchart-table-selectedrow',\n",
       "                hoverTableRow: 'gchart-table-hoverrow',\n",
       "                tableCell: 'gchart-table-cell',\n",
       "                headerCell: 'gchart-table-headercell',\n",
       "                rowNumberCell: 'gchart-table-rownumcell'\n",
       "              }\n",
       "            },\n",
       "            {source_index: 7, fields: 'WKT,Num_Of_Pickups'},\n",
       "            0,\n",
       "            20);\n",
       "        }\n",
       "      );\n",
       "    </script>\n",
       "  "
      ],
      "text/plain": [
       "QueryResultsTable job_hQFeuyBOaBlfq4HNoMq_709sBu0H"
      ]
     },
     "execution_count": 32,
     "metadata": {},
     "output_type": "execute_result"
    }
   ],
   "source": [
    "%%bq query\n",
    "SELECT\n",
    "   ST_GeogPoint(Lon, Lat)  AS WKT,\n",
    "   count(*) AS Num_Of_Pickups\n",
    "FROM\n",
    "  `team-3-249220.team3.All_Data` \n",
    "GROUP BY Lon, Lat\n",
    "ORDER BY Num_Of_Pickups DESC\n",
    "LIMIT 20"
   ]
  },
  {
   "cell_type": "markdown",
   "metadata": {},
   "source": [
    "We used the coordinates to find the locations with the highest Uber pickup request volume in New York City. And we found that most pickups were requested at John.F Kennedy Airport and LaGuardia Airport because millions of people travel in and out of these two airports. Besides these two zones, plenty of pickups were requested in the mid and lower Manhattan area, where a lot of attractions and museums are located."
   ]
  },
  {
   "cell_type": "markdown",
   "metadata": {},
   "source": [
    "### Number 3: Q2 and Q3 Monthly Uber Pickups in New York City"
   ]
  },
  {
   "cell_type": "code",
   "execution_count": 9,
   "metadata": {},
   "outputs": [
    {
     "data": {
      "text/html": [
       "\n",
       "    <div class=\"bqtv\" id=\"2_156676392458\"><table><tr><th>Month</th><th>Num_Of_Trips</th></tr><tr><td>9</td><td>1004099</td></tr><tr><td>8</td><td>813393</td></tr><tr><td>7</td><td>781969</td></tr><tr><td>6</td><td>653158</td></tr><tr><td>5</td><td>642360</td></tr><tr><td>4</td><td>556767</td></tr></table></div>\n",
       "    <br />(rows: 6, time: 2.6s,    35MB processed, job: job_FtN-ShIMjujg4AgdtDJAoMLQTmQn)<br />\n",
       "    <script src=\"/static/components/requirejs/require.js\"></script>\n",
       "    <script>\n",
       "      require.config({\n",
       "        paths: {\n",
       "          base: '/static/base',\n",
       "          d3: '//cdnjs.cloudflare.com/ajax/libs/d3/3.4.13/d3',\n",
       "          plotly: 'https://cdn.plot.ly/plotly-1.5.1.min.js?noext',\n",
       "          jquery: '//ajax.googleapis.com/ajax/libs/jquery/2.0.0/jquery.min'\n",
       "        },\n",
       "        map: {\n",
       "          '*': {\n",
       "            datalab: 'nbextensions/gcpdatalab'\n",
       "          }\n",
       "        },\n",
       "        shim: {\n",
       "          plotly: {\n",
       "            deps: ['d3', 'jquery'],\n",
       "            exports: 'plotly'\n",
       "          }\n",
       "        }\n",
       "      });\n",
       "\n",
       "      require(['datalab/charting', 'datalab/element!2_156676392458', 'base/js/events',\n",
       "          'datalab/style!/nbextensions/gcpdatalab/charting.css'],\n",
       "        function(charts, dom, events) {\n",
       "          charts.render('gcharts', dom, events, 'table', [], {\"rows\": [{\"c\": [{\"v\": 9}, {\"v\": 1004099}]}, {\"c\": [{\"v\": 8}, {\"v\": 813393}]}, {\"c\": [{\"v\": 7}, {\"v\": 781969}]}, {\"c\": [{\"v\": 6}, {\"v\": 653158}]}, {\"c\": [{\"v\": 5}, {\"v\": 642360}]}, {\"c\": [{\"v\": 4}, {\"v\": 556767}]}], \"cols\": [{\"type\": \"number\", \"id\": \"Month\", \"label\": \"Month\"}, {\"type\": \"number\", \"id\": \"Num_Of_Trips\", \"label\": \"Num_Of_Trips\"}]},\n",
       "            {\n",
       "              pageSize: 25,\n",
       "              cssClassNames:  {\n",
       "                tableRow: 'gchart-table-row',\n",
       "                headerRow: 'gchart-table-headerrow',\n",
       "                oddTableRow: 'gchart-table-oddrow',\n",
       "                selectedTableRow: 'gchart-table-selectedrow',\n",
       "                hoverTableRow: 'gchart-table-hoverrow',\n",
       "                tableCell: 'gchart-table-cell',\n",
       "                headerCell: 'gchart-table-headercell',\n",
       "                rowNumberCell: 'gchart-table-rownumcell'\n",
       "              }\n",
       "            },\n",
       "            {source_index: 1, fields: 'Month,Num_Of_Trips'},\n",
       "            0,\n",
       "            6);\n",
       "        }\n",
       "      );\n",
       "    </script>\n",
       "  "
      ],
      "text/plain": [
       "QueryResultsTable job_FtN-ShIMjujg4AgdtDJAoMLQTmQn"
      ]
     },
     "execution_count": 9,
     "metadata": {},
     "output_type": "execute_result"
    }
   ],
   "source": [
    "%%bq query\n",
    "SELECT\n",
    "   EXTRACT(Month FROM Date_Time)  AS Month,\n",
    "   count(*) AS Num_Of_Trips\n",
    "FROM\n",
    "  `team-3-249220.team3.All_Data`\n",
    "GROUP BY Month\n",
    "ORDER BY Num_Of_Trips DESC"
   ]
  },
  {
   "cell_type": "raw",
   "metadata": {},
   "source": [
    "%%bq query -n BusiestMonths\n",
    "\n",
    "SELECT\n",
    "   EXTRACT(Month FROM Date_Time)  AS Month,\n",
    "   count(*) AS Num_Of_Trips\n",
    "FROM\n",
    "  `team-3-249220.team3.All_Data`\n",
    "GROUP BY Month\n",
    "ORDER BY Num_Of_Trips DESC"
   ]
  },
  {
   "cell_type": "code",
   "execution_count": 42,
   "metadata": {},
   "outputs": [
    {
     "data": {
      "text/html": [
       "\n",
       "    <div class=\"bqgc-container\">\n",
       "      \n",
       "      <div class=\"bqgc \" id=\"29_156623043593\">\n",
       "      </div>\n",
       "    </div>\n",
       "    <script src=\"/static/components/requirejs/require.js\"></script>\n",
       "    <script>\n",
       "\n",
       "      require.config({\n",
       "        paths: {\n",
       "          base: '/static/base',\n",
       "          d3: '//cdnjs.cloudflare.com/ajax/libs/d3/3.4.13/d3',\n",
       "          plotly: 'https://cdn.plot.ly/plotly-1.5.1.min.js?noext',\n",
       "          jquery: '//ajax.googleapis.com/ajax/libs/jquery/2.0.0/jquery.min'\n",
       "        },\n",
       "        map: {\n",
       "          '*': {\n",
       "            datalab: 'nbextensions/gcpdatalab'\n",
       "          }\n",
       "        },\n",
       "        shim: {\n",
       "          plotly: {\n",
       "            deps: ['d3', 'jquery'],\n",
       "            exports: 'plotly'\n",
       "          }\n",
       "        }\n",
       "      });\n",
       "\n",
       "      require(['datalab/charting',\n",
       "               'datalab/element!29_156623043593',\n",
       "               'base/js/events',\n",
       "               'datalab/style!/nbextensions/gcpdatalab/charting.css'\n",
       "              ],\n",
       "        function(charts, dom, events) {\n",
       "          charts.render(\n",
       "              'gcharts',\n",
       "              dom,\n",
       "              events,\n",
       "              'columns',\n",
       "              [],\n",
       "              {\"rows\": [{\"c\": [{\"v\": 9}, {\"v\": 1004099}]}, {\"c\": [{\"v\": 8}, {\"v\": 813393}]}, {\"c\": [{\"v\": 7}, {\"v\": 781969}]}, {\"c\": [{\"v\": 6}, {\"v\": 653158}]}, {\"c\": [{\"v\": 5}, {\"v\": 642360}]}, {\"c\": [{\"v\": 4}, {\"v\": 556767}]}], \"cols\": [{\"type\": \"number\", \"id\": \"Month\", \"label\": \"Month\"}, {\"type\": \"number\", \"id\": \"Num_Of_Trips\", \"label\": \"Num_Of_Trips\"}]},\n",
       "              {\"vAxis\": {\"title\": \"Number of Pickups\"}, \"alamode.chartAnnotations\": true, \"hAxis\": {\"ticks\": [4, 5, 6, 7, 8, 9], \"title\": \"Months\"}, \"title\": \"Month vs Uber Pickups\"},\n",
       "              {\"fields\": \"*\", \"source_index\": 2, \"name\": 2},\n",
       "              0,\n",
       "              6);\n",
       "          }\n",
       "        );\n",
       "    </script>\n",
       "  "
      ],
      "text/plain": [
       "<IPython.core.display.HTML object>"
      ]
     },
     "execution_count": 42,
     "metadata": {},
     "output_type": "execute_result"
    },
    {
     "data": {
      "image/png": "[encoded data removed]"
     },
     "metadata": {
      "source_id": "29_156623043593"
     },
     "output_type": "display_data"
    }
   ],
   "source": [
    "%%chart columns --data BusiestMonths\n",
    "title: Month vs Uber Pickups\n",
    "hAxis:\n",
    "  title: Months\n",
    "  ticks: [4,5,6,7,8,9]\n",
    "vAxis:\n",
    "  title: Number of Pickups"
   ]
  },
  {
   "cell_type": "markdown",
   "metadata": {},
   "source": [
    "Base on this result, we found that the top 3 busiest months are July, August, and September and this may due to summer holiday, tourist season, and back-to-school season. "
   ]
  },
  {
   "cell_type": "markdown",
   "metadata": {},
   "source": [
    "### Number 4: Daily Uber Pickup Requests In A Week"
   ]
  },
  {
   "cell_type": "code",
   "execution_count": 13,
   "metadata": {},
   "outputs": [
    {
     "data": {
      "text/html": [
       "\n",
       "    <div class=\"bqtv\" id=\"3_156627366036\"><table><tr><th>DayOfWeek</th><th>Num_Of_Pickups</th></tr><tr><td>5</td><td>741372</td></tr><tr><td>6</td><td>727532</td></tr><tr><td>4</td><td>683604</td></tr><tr><td>3</td><td>651753</td></tr><tr><td>7</td><td>634194</td></tr><tr><td>2</td><td>532133</td></tr><tr><td>1</td><td>481158</td></tr></table></div>\n",
       "    <br />(rows: 7, time: 2.2s,    35MB processed, job: job_MQ9CDG1uyukmk9MMQWjDUxuyhrtR)<br />\n",
       "    <script src=\"/static/components/requirejs/require.js\"></script>\n",
       "    <script>\n",
       "      require.config({\n",
       "        paths: {\n",
       "          base: '/static/base',\n",
       "          d3: '//cdnjs.cloudflare.com/ajax/libs/d3/3.4.13/d3',\n",
       "          plotly: 'https://cdn.plot.ly/plotly-1.5.1.min.js?noext',\n",
       "          jquery: '//ajax.googleapis.com/ajax/libs/jquery/2.0.0/jquery.min'\n",
       "        },\n",
       "        map: {\n",
       "          '*': {\n",
       "            datalab: 'nbextensions/gcpdatalab'\n",
       "          }\n",
       "        },\n",
       "        shim: {\n",
       "          plotly: {\n",
       "            deps: ['d3', 'jquery'],\n",
       "            exports: 'plotly'\n",
       "          }\n",
       "        }\n",
       "      });\n",
       "\n",
       "      require(['datalab/charting', 'datalab/element!3_156627366036', 'base/js/events',\n",
       "          'datalab/style!/nbextensions/gcpdatalab/charting.css'],\n",
       "        function(charts, dom, events) {\n",
       "          charts.render('gcharts', dom, events, 'table', [], {\"rows\": [{\"c\": [{\"v\": 5}, {\"v\": 741372}]}, {\"c\": [{\"v\": 6}, {\"v\": 727532}]}, {\"c\": [{\"v\": 4}, {\"v\": 683604}]}, {\"c\": [{\"v\": 3}, {\"v\": 651753}]}, {\"c\": [{\"v\": 7}, {\"v\": 634194}]}, {\"c\": [{\"v\": 2}, {\"v\": 532133}]}, {\"c\": [{\"v\": 1}, {\"v\": 481158}]}], \"cols\": [{\"type\": \"number\", \"id\": \"DayOfWeek\", \"label\": \"DayOfWeek\"}, {\"type\": \"number\", \"id\": \"Num_Of_Pickups\", \"label\": \"Num_Of_Pickups\"}]},\n",
       "            {\n",
       "              pageSize: 25,\n",
       "              cssClassNames:  {\n",
       "                tableRow: 'gchart-table-row',\n",
       "                headerRow: 'gchart-table-headerrow',\n",
       "                oddTableRow: 'gchart-table-oddrow',\n",
       "                selectedTableRow: 'gchart-table-selectedrow',\n",
       "                hoverTableRow: 'gchart-table-hoverrow',\n",
       "                tableCell: 'gchart-table-cell',\n",
       "                headerCell: 'gchart-table-headercell',\n",
       "                rowNumberCell: 'gchart-table-rownumcell'\n",
       "              }\n",
       "            },\n",
       "            {source_index: 2, fields: 'DayOfWeek,Num_Of_Pickups'},\n",
       "            0,\n",
       "            7);\n",
       "        }\n",
       "      );\n",
       "    </script>\n",
       "  "
      ],
      "text/plain": [
       "QueryResultsTable job_MQ9CDG1uyukmk9MMQWjDUxuyhrtR"
      ]
     },
     "execution_count": 13,
     "metadata": {},
     "output_type": "execute_result"
    }
   ],
   "source": [
    "%%bq query\n",
    "SELECT\n",
    "   EXTRACT(dayofweek FROM Date_Time) as DayOfWeek,\n",
    "   count(*) AS Num_Of_Pickups\n",
    "FROM\n",
    "  `team-3-249220.team3.All_Data` \n",
    "GROUP BY DayOfWeek\n",
    "ORDER BY Num_Of_Pickups DESC;"
   ]
  },
  {
   "cell_type": "code",
   "execution_count": 2,
   "metadata": {},
   "outputs": [],
   "source": [
    "%%bq query -n DailyPickups\n",
    "SELECT\n",
    "   EXTRACT(dayofweek FROM Date_Time) as DayOfWeek,\n",
    "   count(*) AS Num_Of_Pickups\n",
    "FROM\n",
    "  `team-3-249220.team3.All_Data` \n",
    "GROUP BY DayOfWeek\n",
    "ORDER BY Num_Of_Pickups DESC;"
   ]
  },
  {
   "cell_type": "code",
   "execution_count": 3,
   "metadata": {},
   "outputs": [
    {
     "data": {
      "text/html": [
       "\n",
       "    <div class=\"bqgc-container\">\n",
       "      \n",
       "      <div class=\"bqgc \" id=\"2_156676345001\">\n",
       "      </div>\n",
       "    </div>\n",
       "    <script src=\"/static/components/requirejs/require.js\"></script>\n",
       "    <script>\n",
       "\n",
       "      require.config({\n",
       "        paths: {\n",
       "          base: '/static/base',\n",
       "          d3: '//cdnjs.cloudflare.com/ajax/libs/d3/3.4.13/d3',\n",
       "          plotly: 'https://cdn.plot.ly/plotly-1.5.1.min.js?noext',\n",
       "          jquery: '//ajax.googleapis.com/ajax/libs/jquery/2.0.0/jquery.min'\n",
       "        },\n",
       "        map: {\n",
       "          '*': {\n",
       "            datalab: 'nbextensions/gcpdatalab'\n",
       "          }\n",
       "        },\n",
       "        shim: {\n",
       "          plotly: {\n",
       "            deps: ['d3', 'jquery'],\n",
       "            exports: 'plotly'\n",
       "          }\n",
       "        }\n",
       "      });\n",
       "\n",
       "      require(['datalab/charting',\n",
       "               'datalab/element!2_156676345001',\n",
       "               'base/js/events',\n",
       "               'datalab/style!/nbextensions/gcpdatalab/charting.css'\n",
       "              ],\n",
       "        function(charts, dom, events) {\n",
       "          charts.render(\n",
       "              'gcharts',\n",
       "              dom,\n",
       "              events,\n",
       "              'columns',\n",
       "              [],\n",
       "              {\"rows\": [{\"c\": [{\"v\": 5}, {\"v\": 741372}]}, {\"c\": [{\"v\": 6}, {\"v\": 727532}]}, {\"c\": [{\"v\": 4}, {\"v\": 683604}]}, {\"c\": [{\"v\": 3}, {\"v\": 651753}]}, {\"c\": [{\"v\": 7}, {\"v\": 634194}]}, {\"c\": [{\"v\": 2}, {\"v\": 532133}]}, {\"c\": [{\"v\": 1}, {\"v\": 481158}]}], \"cols\": [{\"type\": \"number\", \"id\": \"DayOfWeek\", \"label\": \"DayOfWeek\"}, {\"type\": \"number\", \"id\": \"Num_Of_Pickups\", \"label\": \"Num_Of_Pickups\"}]},\n",
       "              {\"vAxis\": {\"title\": \"Number of Pickups\"}, \"hAxis\": {\"ticks\": [1, 2, 3, 4, 5, 6, 7], \"title\": \"Day\"}, \"title\": \"Daily Uber Pickups\"},\n",
       "              {\"fields\": \"*\", \"source_index\": 0, \"name\": 0},\n",
       "              0,\n",
       "              7);\n",
       "          }\n",
       "        );\n",
       "    </script>\n",
       "  "
      ],
      "text/plain": [
       "<IPython.core.display.HTML object>"
      ]
     },
     "execution_count": 3,
     "metadata": {},
     "output_type": "execute_result"
    },
    {
     "data": {
      "image/png": "[encoded data removed]"
     },
     "metadata": {
      "source_id": "2_156676345001"
     },
     "output_type": "display_data"
    }
   ],
   "source": [
    "%%chart columns --data DailyPickups\n",
    "title: Daily Uber Pickups\n",
    "hAxis:\n",
    "  title: Day\n",
    "  ticks: [1,2,3,4,5,6,7]\n",
    "vAxis:\n",
    "  title: Number of Pickups"
   ]
  },
  {
   "cell_type": "markdown",
   "metadata": {},
   "source": [
    "*Note*: 1 = Sunday, 2 = Monday, 3 = Tuesday, 4 = Wednesday, 5 = Thursday, 6 = Friday, 7 = Saturday"
   ]
  },
  {
   "cell_type": "markdown",
   "metadata": {},
   "source": [
    "Since it returns values in the range [1,7] with Sunday as the first day of the week, Thursday is the busiest day in a week with most Uber pickup requests. Based on this result, we would later compare each month’s top busiest weekday with it in order to determine whether the weekday is one of the factors that affect Uber pickup requests. "
   ]
  },
  {
   "cell_type": "markdown",
   "metadata": {},
   "source": [
    "### Number 5: Number of Uber Pickup Requests in Different Time Period of a Day"
   ]
  },
  {
   "cell_type": "code",
   "execution_count": 10,
   "metadata": {},
   "outputs": [
    {
     "data": {
      "text/html": [
       "\n",
       "    <div class=\"bqtv\" id=\"3_156676395045\"><table><tr><th>timeperiod</th><th>Number_Of_Pickups</th></tr><tr><td>Early_Morning_0-6</td><td>398300</td></tr><tr><td>Morning_6-12</td><td>994923</td></tr><tr><td>Afternoon_12-18</td><td>1497580</td></tr><tr><td>Evening_18-24</td><td>1560943</td></tr></table></div>\n",
       "    <br />(rows: 4, time: 5.7s,    35MB processed, job: job_jhpcTwT0SiNCPFZcad9Lr62TC9iT)<br />\n",
       "    <script src=\"/static/components/requirejs/require.js\"></script>\n",
       "    <script>\n",
       "      require.config({\n",
       "        paths: {\n",
       "          base: '/static/base',\n",
       "          d3: '//cdnjs.cloudflare.com/ajax/libs/d3/3.4.13/d3',\n",
       "          plotly: 'https://cdn.plot.ly/plotly-1.5.1.min.js?noext',\n",
       "          jquery: '//ajax.googleapis.com/ajax/libs/jquery/2.0.0/jquery.min'\n",
       "        },\n",
       "        map: {\n",
       "          '*': {\n",
       "            datalab: 'nbextensions/gcpdatalab'\n",
       "          }\n",
       "        },\n",
       "        shim: {\n",
       "          plotly: {\n",
       "            deps: ['d3', 'jquery'],\n",
       "            exports: 'plotly'\n",
       "          }\n",
       "        }\n",
       "      });\n",
       "\n",
       "      require(['datalab/charting', 'datalab/element!3_156676395045', 'base/js/events',\n",
       "          'datalab/style!/nbextensions/gcpdatalab/charting.css'],\n",
       "        function(charts, dom, events) {\n",
       "          charts.render('gcharts', dom, events, 'table', [], {\"rows\": [{\"c\": [{\"v\": \"Early_Morning_0-6\"}, {\"v\": 398300}]}, {\"c\": [{\"v\": \"Morning_6-12\"}, {\"v\": 994923}]}, {\"c\": [{\"v\": \"Afternoon_12-18\"}, {\"v\": 1497580}]}, {\"c\": [{\"v\": \"Evening_18-24\"}, {\"v\": 1560943}]}], \"cols\": [{\"type\": \"string\", \"id\": \"timeperiod\", \"label\": \"timeperiod\"}, {\"type\": \"number\", \"id\": \"Number_Of_Pickups\", \"label\": \"Number_Of_Pickups\"}]},\n",
       "            {\n",
       "              pageSize: 25,\n",
       "              cssClassNames:  {\n",
       "                tableRow: 'gchart-table-row',\n",
       "                headerRow: 'gchart-table-headerrow',\n",
       "                oddTableRow: 'gchart-table-oddrow',\n",
       "                selectedTableRow: 'gchart-table-selectedrow',\n",
       "                hoverTableRow: 'gchart-table-hoverrow',\n",
       "                tableCell: 'gchart-table-cell',\n",
       "                headerCell: 'gchart-table-headercell',\n",
       "                rowNumberCell: 'gchart-table-rownumcell'\n",
       "              }\n",
       "            },\n",
       "            {source_index: 2, fields: 'timeperiod,Number_Of_Pickups'},\n",
       "            0,\n",
       "            4);\n",
       "        }\n",
       "      );\n",
       "    </script>\n",
       "  "
      ],
      "text/plain": [
       "QueryResultsTable job_jhpcTwT0SiNCPFZcad9Lr62TC9iT"
      ]
     },
     "execution_count": 10,
     "metadata": {},
     "output_type": "execute_result"
    }
   ],
   "source": [
    "%%bq query\n",
    "SELECT \n",
    "case when cast(Date_Time as Time) between '00:00:00' and '06:00:00' then 'Early_Morning_0-6'\n",
    "when cast(Date_Time as Time) between '06:00:00' and '12:00:00' then 'Morning_6-12'\n",
    "when cast(Date_Time as Time) between '12:00:00' and '18:00:00' then 'Afternoon_12-18'\n",
    "else 'Evening_18-24' end as timeperiod,\n",
    "count(*) as Number_Of_Pickups\n",
    "FROM `team-3-249220.team3.All_Data`\n",
    "GROUP BY timeperiod\n",
    "ORDER BY Number_Of_Pickups ASC"
   ]
  },
  {
   "cell_type": "code",
   "execution_count": 6,
   "metadata": {},
   "outputs": [],
   "source": [
    "%%bq query -n TimePeriod\n",
    "SELECT \n",
    "case when cast(Date_Time as Time) between '00:00:00' and '06:00:00' then 'Early_Morning_0-6'\n",
    "when cast(Date_Time as Time) between '06:00:00' and '12:00:00' then 'Morning_6-12'\n",
    "when cast(Date_Time as Time) between '12:00:00' and '18:00:00' then 'Afternoon_12-18'\n",
    "else 'Evening_18-24' end as timeperiod,\n",
    "count(*) as Number_Of_Pickups\n",
    "FROM `team-3-249220.team3.All_Data`\n",
    "GROUP BY timeperiod\n",
    "ORDER BY Number_Of_Pickups ASC"
   ]
  },
  {
   "cell_type": "code",
   "execution_count": 7,
   "metadata": {},
   "outputs": [
    {
     "data": {
      "text/html": [
       "\n",
       "    <div class=\"bqgc-container\">\n",
       "      \n",
       "      <div class=\"bqgc \" id=\"4_156622681043\">\n",
       "      </div>\n",
       "    </div>\n",
       "    <script src=\"/static/components/requirejs/require.js\"></script>\n",
       "    <script>\n",
       "\n",
       "      require.config({\n",
       "        paths: {\n",
       "          base: '/static/base',\n",
       "          d3: '//cdnjs.cloudflare.com/ajax/libs/d3/3.4.13/d3',\n",
       "          plotly: 'https://cdn.plot.ly/plotly-1.5.1.min.js?noext',\n",
       "          jquery: '//ajax.googleapis.com/ajax/libs/jquery/2.0.0/jquery.min'\n",
       "        },\n",
       "        map: {\n",
       "          '*': {\n",
       "            datalab: 'nbextensions/gcpdatalab'\n",
       "          }\n",
       "        },\n",
       "        shim: {\n",
       "          plotly: {\n",
       "            deps: ['d3', 'jquery'],\n",
       "            exports: 'plotly'\n",
       "          }\n",
       "        }\n",
       "      });\n",
       "\n",
       "      require(['datalab/charting',\n",
       "               'datalab/element!4_156622681043',\n",
       "               'base/js/events',\n",
       "               'datalab/style!/nbextensions/gcpdatalab/charting.css'\n",
       "              ],\n",
       "        function(charts, dom, events) {\n",
       "          charts.render(\n",
       "              'gcharts',\n",
       "              dom,\n",
       "              events,\n",
       "              'columns',\n",
       "              [],\n",
       "              {\"rows\": [{\"c\": [{\"v\": \"Early_Morning_0-6\"}, {\"v\": 398300}]}, {\"c\": [{\"v\": \"Morning_6-12\"}, {\"v\": 994923}]}, {\"c\": [{\"v\": \"Afternoon_12-18\"}, {\"v\": 1497580}]}, {\"c\": [{\"v\": \"Evening_18-24\"}, {\"v\": 1560943}]}], \"cols\": [{\"type\": \"string\", \"id\": \"timeperiod\", \"label\": \"timeperiod\"}, {\"type\": \"number\", \"id\": \"Number_Of_Pickups\", \"label\": \"Number_Of_Pickups\"}]},\n",
       "              {\"vAxis\": {\"title\": \"Number of Pickups\"}, \"hAxis\": {\"title\": \"Time\"}, \"title\": \"Time Period vs Uber Pickups\"},\n",
       "              {\"fields\": \"*\", \"source_index\": 1, \"name\": 1},\n",
       "              0,\n",
       "              4);\n",
       "          }\n",
       "        );\n",
       "    </script>\n",
       "  "
      ],
      "text/plain": [
       "<IPython.core.display.HTML object>"
      ]
     },
     "execution_count": 7,
     "metadata": {},
     "output_type": "execute_result"
    },
    {
     "data": {
      "image/png": "[encoded data removed]"
     },
     "metadata": {
      "source_id": "4_156622681043"
     },
     "output_type": "display_data"
    }
   ],
   "source": [
    "%%chart columns --data TimePeriod\n",
    "title: Time Period vs Uber Pickups\n",
    "vAxis:\n",
    "  title: Number of Pickups\n",
    "hAxis:\n",
    "  title: Time"
   ]
  },
  {
   "cell_type": "markdown",
   "metadata": {},
   "source": [
    "We separated a day into four time periods, which are early_morning, morning, afternoon, and evening, and counted each period’s number of pickups. From the result, we found that Uber drivers received the most requests during the evening period (18:00:00 -- 23:59:59). "
   ]
  },
  {
   "cell_type": "markdown",
   "metadata": {},
   "source": [
    "### Number 6: Hourly Pickup Requests in A Day"
   ]
  },
  {
   "cell_type": "code",
   "execution_count": 6,
   "metadata": {},
   "outputs": [
    {
     "data": {
      "text/html": [
       "\n",
       "    <div class=\"bqtv\" id=\"1_156676371139\"><table><tr><th>hour</th><th>number</th></tr><tr><td>18</td><td>637168</td></tr><tr><td>21</td><td>552366</td></tr><tr><td>15</td><td>541272</td></tr><tr><td>12</td><td>334722</td></tr><tr><td>17</td><td>330024</td></tr><tr><td>9</td><td>314632</td></tr><tr><td>16</td><td>307810</td></tr><tr><td>19</td><td>288836</td></tr><tr><td>6</td><td>281198</td></tr><tr><td>20</td><td>279309</td></tr><tr><td>22</td><td>237424</td></tr><tr><td>14</td><td>226513</td></tr><tr><td>0</td><td>203752</td></tr><tr><td>13</td><td>192427</td></tr><tr><td>7</td><td>189725</td></tr><tr><td>8</td><td>187166</td></tr><tr><td>23</td><td>166077</td></tr><tr><td>11</td><td>162687</td></tr><tr><td>10</td><td>156455</td></tr><tr><td>3</td><td>94662</td></tr><tr><td>5</td><td>82350</td></tr><tr><td>1</td><td>65913</td></tr><tr><td>4</td><td>54246</td></tr><tr><td>2</td><td>44898</td></tr></table></div>\n",
       "    <br />(rows: 24, time: 4.1s,    47MB processed, job: job_DihERgnS8DtQbN7lvtXz8-Igw3EA)<br />\n",
       "    <script src=\"/static/components/requirejs/require.js\"></script>\n",
       "    <script>\n",
       "      require.config({\n",
       "        paths: {\n",
       "          base: '/static/base',\n",
       "          d3: '//cdnjs.cloudflare.com/ajax/libs/d3/3.4.13/d3',\n",
       "          plotly: 'https://cdn.plot.ly/plotly-1.5.1.min.js?noext',\n",
       "          jquery: '//ajax.googleapis.com/ajax/libs/jquery/2.0.0/jquery.min'\n",
       "        },\n",
       "        map: {\n",
       "          '*': {\n",
       "            datalab: 'nbextensions/gcpdatalab'\n",
       "          }\n",
       "        },\n",
       "        shim: {\n",
       "          plotly: {\n",
       "            deps: ['d3', 'jquery'],\n",
       "            exports: 'plotly'\n",
       "          }\n",
       "        }\n",
       "      });\n",
       "\n",
       "      require(['datalab/charting', 'datalab/element!1_156676371139', 'base/js/events',\n",
       "          'datalab/style!/nbextensions/gcpdatalab/charting.css'],\n",
       "        function(charts, dom, events) {\n",
       "          charts.render('gcharts', dom, events, 'table', [], {\"rows\": [{\"c\": [{\"v\": 18}, {\"v\": 637168}]}, {\"c\": [{\"v\": 21}, {\"v\": 552366}]}, {\"c\": [{\"v\": 15}, {\"v\": 541272}]}, {\"c\": [{\"v\": 12}, {\"v\": 334722}]}, {\"c\": [{\"v\": 17}, {\"v\": 330024}]}, {\"c\": [{\"v\": 9}, {\"v\": 314632}]}, {\"c\": [{\"v\": 16}, {\"v\": 307810}]}, {\"c\": [{\"v\": 19}, {\"v\": 288836}]}, {\"c\": [{\"v\": 6}, {\"v\": 281198}]}, {\"c\": [{\"v\": 20}, {\"v\": 279309}]}, {\"c\": [{\"v\": 22}, {\"v\": 237424}]}, {\"c\": [{\"v\": 14}, {\"v\": 226513}]}, {\"c\": [{\"v\": 0}, {\"v\": 203752}]}, {\"c\": [{\"v\": 13}, {\"v\": 192427}]}, {\"c\": [{\"v\": 7}, {\"v\": 189725}]}, {\"c\": [{\"v\": 8}, {\"v\": 187166}]}, {\"c\": [{\"v\": 23}, {\"v\": 166077}]}, {\"c\": [{\"v\": 11}, {\"v\": 162687}]}, {\"c\": [{\"v\": 10}, {\"v\": 156455}]}, {\"c\": [{\"v\": 3}, {\"v\": 94662}]}, {\"c\": [{\"v\": 5}, {\"v\": 82350}]}, {\"c\": [{\"v\": 1}, {\"v\": 65913}]}, {\"c\": [{\"v\": 4}, {\"v\": 54246}]}, {\"c\": [{\"v\": 2}, {\"v\": 44898}]}], \"cols\": [{\"type\": \"number\", \"id\": \"hour\", \"label\": \"hour\"}, {\"type\": \"number\", \"id\": \"number\", \"label\": \"number\"}]},\n",
       "            {\n",
       "              pageSize: 25,\n",
       "              cssClassNames:  {\n",
       "                tableRow: 'gchart-table-row',\n",
       "                headerRow: 'gchart-table-headerrow',\n",
       "                oddTableRow: 'gchart-table-oddrow',\n",
       "                selectedTableRow: 'gchart-table-selectedrow',\n",
       "                hoverTableRow: 'gchart-table-hoverrow',\n",
       "                tableCell: 'gchart-table-cell',\n",
       "                headerCell: 'gchart-table-headercell',\n",
       "                rowNumberCell: 'gchart-table-rownumcell'\n",
       "              }\n",
       "            },\n",
       "            {source_index: 0, fields: 'hour,number'},\n",
       "            0,\n",
       "            24);\n",
       "        }\n",
       "      );\n",
       "    </script>\n",
       "  "
      ],
      "text/plain": [
       "QueryResultsTable job_DihERgnS8DtQbN7lvtXz8-Igw3EA"
      ]
     },
     "execution_count": 6,
     "metadata": {},
     "output_type": "execute_result"
    }
   ],
   "source": [
    "%%bq query\n",
    "SELECT\n",
    "   EXTRACT(hour FROM Date_Time) as hour,\n",
    "   count(*) as number\n",
    "FROM\n",
    "  `team-3-249220.team3.All_Weather_Pickups` \n",
    "GROUP BY hour\n",
    "ORDER BY number DESC"
   ]
  },
  {
   "cell_type": "markdown",
   "metadata": {},
   "source": [
    "We found that during a normal day, the most pickup requests happened between 3pm to 9 pm.  This is the period with high demand of uber. "
   ]
  },
  {
   "cell_type": "markdown",
   "metadata": {},
   "source": [
    "### Number 7: Top 5 Busiest Hour in a Day"
   ]
  },
  {
   "cell_type": "code",
   "execution_count": 8,
   "metadata": {},
   "outputs": [
    {
     "data": {
      "text/html": [
       "\n",
       "    <div class=\"bqtv\" id=\"2_156627280243\"><table><tr><th>weekDay</th><th>hour</th><th>number</th></tr><tr><td>1</td><td>0</td><td>64550</td></tr><tr><td>1</td><td>15</td><td>61140</td></tr><tr><td>1</td><td>18</td><td>55452</td></tr><tr><td>1</td><td>21</td><td>47078</td></tr><tr><td>1</td><td>12</td><td>46938</td></tr><tr><td>2</td><td>18</td><td>72718</td></tr><tr><td>2</td><td>15</td><td>64402</td></tr><tr><td>2</td><td>21</td><td>56802</td></tr><tr><td>2</td><td>6</td><td>46570</td></tr><tr><td>2</td><td>9</td><td>43708</td></tr><tr><td>3</td><td>18</td><td>98516</td></tr><tr><td>3</td><td>15</td><td>81282</td></tr><tr><td>3</td><td>21</td><td>78448</td></tr><tr><td>3</td><td>17</td><td>54483</td></tr><tr><td>3</td><td>6</td><td>52722</td></tr><tr><td>4</td><td>18</td><td>103464</td></tr><tr><td>4</td><td>21</td><td>87508</td></tr><tr><td>4</td><td>15</td><td>85212</td></tr><tr><td>4</td><td>17</td><td>54584</td></tr><tr><td>4</td><td>6</td><td>52924</td></tr><tr><td>5</td><td>18</td><td>109536</td></tr><tr><td>5</td><td>21</td><td>101876</td></tr><tr><td>5</td><td>15</td><td>87208</td></tr><tr><td>5</td><td>17</td><td>55645</td></tr><tr><td>5</td><td>9</td><td>54752</td></tr></table></div>\n",
       "    <br />(rows: 35, time: 0.3s, cached, job: job_56HzX_RMRGhVXMQmO6UirQiD1Qbe)<br />\n",
       "    <script src=\"/static/components/requirejs/require.js\"></script>\n",
       "    <script>\n",
       "      require.config({\n",
       "        paths: {\n",
       "          base: '/static/base',\n",
       "          d3: '//cdnjs.cloudflare.com/ajax/libs/d3/3.4.13/d3',\n",
       "          plotly: 'https://cdn.plot.ly/plotly-1.5.1.min.js?noext',\n",
       "          jquery: '//ajax.googleapis.com/ajax/libs/jquery/2.0.0/jquery.min'\n",
       "        },\n",
       "        map: {\n",
       "          '*': {\n",
       "            datalab: 'nbextensions/gcpdatalab'\n",
       "          }\n",
       "        },\n",
       "        shim: {\n",
       "          plotly: {\n",
       "            deps: ['d3', 'jquery'],\n",
       "            exports: 'plotly'\n",
       "          }\n",
       "        }\n",
       "      });\n",
       "\n",
       "      require(['datalab/charting', 'datalab/element!2_156627280243', 'base/js/events',\n",
       "          'datalab/style!/nbextensions/gcpdatalab/charting.css'],\n",
       "        function(charts, dom, events) {\n",
       "          charts.render('gcharts', dom, events, 'paged_table', [], {\"rows\": [{\"c\": [{\"v\": 1}, {\"v\": 0}, {\"v\": 64550}]}, {\"c\": [{\"v\": 1}, {\"v\": 15}, {\"v\": 61140}]}, {\"c\": [{\"v\": 1}, {\"v\": 18}, {\"v\": 55452}]}, {\"c\": [{\"v\": 1}, {\"v\": 21}, {\"v\": 47078}]}, {\"c\": [{\"v\": 1}, {\"v\": 12}, {\"v\": 46938}]}, {\"c\": [{\"v\": 2}, {\"v\": 18}, {\"v\": 72718}]}, {\"c\": [{\"v\": 2}, {\"v\": 15}, {\"v\": 64402}]}, {\"c\": [{\"v\": 2}, {\"v\": 21}, {\"v\": 56802}]}, {\"c\": [{\"v\": 2}, {\"v\": 6}, {\"v\": 46570}]}, {\"c\": [{\"v\": 2}, {\"v\": 9}, {\"v\": 43708}]}, {\"c\": [{\"v\": 3}, {\"v\": 18}, {\"v\": 98516}]}, {\"c\": [{\"v\": 3}, {\"v\": 15}, {\"v\": 81282}]}, {\"c\": [{\"v\": 3}, {\"v\": 21}, {\"v\": 78448}]}, {\"c\": [{\"v\": 3}, {\"v\": 17}, {\"v\": 54483}]}, {\"c\": [{\"v\": 3}, {\"v\": 6}, {\"v\": 52722}]}, {\"c\": [{\"v\": 4}, {\"v\": 18}, {\"v\": 103464}]}, {\"c\": [{\"v\": 4}, {\"v\": 21}, {\"v\": 87508}]}, {\"c\": [{\"v\": 4}, {\"v\": 15}, {\"v\": 85212}]}, {\"c\": [{\"v\": 4}, {\"v\": 17}, {\"v\": 54584}]}, {\"c\": [{\"v\": 4}, {\"v\": 6}, {\"v\": 52924}]}, {\"c\": [{\"v\": 5}, {\"v\": 18}, {\"v\": 109536}]}, {\"c\": [{\"v\": 5}, {\"v\": 21}, {\"v\": 101876}]}, {\"c\": [{\"v\": 5}, {\"v\": 15}, {\"v\": 87208}]}, {\"c\": [{\"v\": 5}, {\"v\": 17}, {\"v\": 55645}]}, {\"c\": [{\"v\": 5}, {\"v\": 9}, {\"v\": 54752}]}], \"cols\": [{\"type\": \"number\", \"id\": \"weekDay\", \"label\": \"weekDay\"}, {\"type\": \"number\", \"id\": \"hour\", \"label\": \"hour\"}, {\"type\": \"number\", \"id\": \"number\", \"label\": \"number\"}]},\n",
       "            {\n",
       "              pageSize: 25,\n",
       "              cssClassNames:  {\n",
       "                tableRow: 'gchart-table-row',\n",
       "                headerRow: 'gchart-table-headerrow',\n",
       "                oddTableRow: 'gchart-table-oddrow',\n",
       "                selectedTableRow: 'gchart-table-selectedrow',\n",
       "                hoverTableRow: 'gchart-table-hoverrow',\n",
       "                tableCell: 'gchart-table-cell',\n",
       "                headerCell: 'gchart-table-headercell',\n",
       "                rowNumberCell: 'gchart-table-rownumcell'\n",
       "              }\n",
       "            },\n",
       "            {source_index: 1, fields: 'weekDay,hour,number'},\n",
       "            0,\n",
       "            35);\n",
       "        }\n",
       "      );\n",
       "    </script>\n",
       "  "
      ],
      "text/plain": [
       "QueryResultsTable job_56HzX_RMRGhVXMQmO6UirQiD1Qbe"
      ]
     },
     "execution_count": 8,
     "metadata": {},
     "output_type": "execute_result"
    }
   ],
   "source": [
    "%%bq query\n",
    "SELECT weekDay, hour, number \n",
    "FROM (\n",
    "  SELECT weekDay, hour, number,\n",
    "  RANK() OVER ( PARTITION BY weekDay ORDER BY number desc ) AS rank\n",
    "    FROM (SELECT extract(dayofweek from Date_Time) as weekDay,\n",
    "          EXTRACT(hour FROM Date_Time) as hour,\n",
    "          count(*) as number   \n",
    "FROM  `team-3-249220.team3.All_Weather_Pickups` \n",
    "GROUP BY weekDay, hour\n",
    "ORDER BY number desc)) where rank <=5"
   ]
  },
  {
   "cell_type": "markdown",
   "metadata": {},
   "source": [
    "Based on this result, we can see that except Sunday has a large number of pickups appear at midnight, all other days’ top five largest pickups happened on 6 am, 3 pm, 5 pm, 6 pm, and 9 pm. Thus we can know that the time period we get from the previous query fits almost all 7 days. "
   ]
  },
  {
   "cell_type": "markdown",
   "metadata": {},
   "source": [
    "### Number 8: *Process*  - Convert All_Data table’s timestamp to hours"
   ]
  },
  {
   "cell_type": "code",
   "execution_count": null,
   "metadata": {},
   "outputs": [],
   "source": [
    "%%bq query\n",
    "SELECT\n",
    "   TIMESTAMP_TRUNC(Date_Time, hour,'EST') as hour, *\n",
    "FROM `team-3-249220.team3.All_Data`"
   ]
  },
  {
   "cell_type": "markdown",
   "metadata": {},
   "source": [
    "We formatted the Date_Time from the All_Data table so that it can match with the datetime column’s format from the Weather table."
   ]
  },
  {
   "cell_type": "markdown",
   "metadata": {},
   "source": [
    "### Number 9: *Process* - Round 2014NewYorkCityWeather table’s timestamps to hours"
   ]
  },
  {
   "cell_type": "code",
   "execution_count": null,
   "metadata": {},
   "outputs": [],
   "source": [
    "%%bq query\n",
    "SELECT \n",
    "   TIMESTAMP_TRUNC(datetime, hour,'EST') as RoundedDate, * \n",
    "FROM \n",
    "   `team-3-249220.team3.2014NewYorkCityWeather`"
   ]
  },
  {
   "cell_type": "markdown",
   "metadata": {},
   "source": [
    "This query helped to format and clear the data for later easier access to data. "
   ]
  },
  {
   "cell_type": "markdown",
   "metadata": {},
   "source": [
    "### Number 10: *Process* - Joining Two Tables"
   ]
  },
  {
   "cell_type": "code",
   "execution_count": 10,
   "metadata": {},
   "outputs": [
    {
     "data": {
      "text/html": [
       "\n",
       "    <div class=\"bqtv\" id=\"1_156624790495\"><table><tr><th>RoundedDate</th><th>Date_Time</th><th>Lat</th><th>Lon</th><th>Base</th><th>WeatherType</th></tr><tr><td>2014-06-12 15:00:00</td><td>2014-06-12 15:48:00</td><td>40.7781</td><td>-73.959</td><td>B02512</td><td>drizzle</td></tr><tr><td>2014-06-12 12:00:00</td><td>2014-06-12 12:27:00</td><td>40.7556</td><td>-73.9834</td><td>B02512</td><td>drizzle</td></tr><tr><td>2014-06-18 17:00:00</td><td>2014-06-18 17:51:00</td><td>40.759</td><td>-73.967</td><td>B02512</td><td>dust</td></tr><tr><td>2014-09-06 21:00:00</td><td>2014-09-06 21:28:00</td><td>40.6768</td><td>-73.9999</td><td>B02512</td><td>proximity thunderstorm</td></tr><tr><td>2014-09-06 21:00:00</td><td>2014-09-06 21:28:00</td><td>40.6768</td><td>-73.9999</td><td>B02512</td><td>proximity thunderstorm</td></tr><tr><td>2014-05-10 21:00:00</td><td>2014-05-10 21:39:00</td><td>40.766</td><td>-73.9617</td><td>B02512</td><td>thunderstorm with heavy rain</td></tr><tr><td>2014-07-28 05:00:00</td><td>2014-07-28 05:04:00</td><td>40.7911</td><td>-73.9753</td><td>B02512</td><td>thunderstorm with rain</td></tr><tr><td>2014-06-12 14:00:00</td><td>2014-06-12 14:55:00</td><td>40.7626</td><td>-73.972</td><td>B02512</td><td>drizzle</td></tr><tr><td>2014-07-03 02:00:00</td><td>2014-07-03 02:15:00</td><td>40.7643</td><td>-73.9729</td><td>B02512</td><td>thunderstorm</td></tr><tr><td>2014-07-08 03:00:00</td><td>2014-07-08 03:02:00</td><td>40.7855</td><td>-73.9696</td><td>B02512</td><td>thunderstorm</td></tr><tr><td>2014-06-18 17:00:00</td><td>2014-06-18 17:53:00</td><td>40.7892</td><td>-73.9668</td><td>B02512</td><td>dust</td></tr><tr><td>2014-05-22 15:00:00</td><td>2014-05-22 15:18:00</td><td>40.7498</td><td>-73.9879</td><td>B02512</td><td>thunderstorm</td></tr><tr><td>2014-05-10 21:00:00</td><td>2014-05-10 21:16:00</td><td>40.7441</td><td>-73.9836</td><td>B02512</td><td>thunderstorm with heavy rain</td></tr><tr><td>2014-06-13 21:00:00</td><td>2014-06-13 21:14:00</td><td>40.7075</td><td>-73.9499</td><td>B02512</td><td>thunderstorm with heavy rain</td></tr><tr><td>2014-06-18 15:00:00</td><td>2014-06-18 15:52:00</td><td>40.7432</td><td>-73.9854</td><td>B02512</td><td>dust</td></tr><tr><td>2014-06-18 15:00:00</td><td>2014-06-18 15:52:00</td><td>40.7432</td><td>-73.9854</td><td>B02512</td><td>dust</td></tr><tr><td>2014-06-18 20:00:00</td><td>2014-06-18 20:44:00</td><td>40.7186</td><td>-74.0064</td><td>B02512</td><td>dust</td></tr><tr><td>2014-07-23 12:00:00</td><td>2014-07-23 12:47:00</td><td>40.7338</td><td>-73.991</td><td>B02512</td><td>smoke</td></tr><tr><td>2014-05-10 21:00:00</td><td>2014-05-10 21:47:00</td><td>40.7781</td><td>-73.9623</td><td>B02512</td><td>thunderstorm with heavy rain</td></tr><tr><td>2014-06-12 15:00:00</td><td>2014-06-12 15:41:00</td><td>40.7152</td><td>-73.9536</td><td>B02512</td><td>drizzle</td></tr><tr><td>2014-06-03 21:00:00</td><td>2014-06-03 21:42:00</td><td>40.774</td><td>-73.8727</td><td>B02512</td><td>thunderstorm</td></tr><tr><td>2014-06-12 14:00:00</td><td>2014-06-12 14:27:00</td><td>40.7616</td><td>-73.9829</td><td>B02512</td><td>drizzle</td></tr><tr><td>2014-06-18 20:00:00</td><td>2014-06-18 20:56:00</td><td>40.7643</td><td>-73.9772</td><td>B02512</td><td>dust</td></tr><tr><td>2014-09-06 20:00:00</td><td>2014-09-06 20:26:00</td><td>40.7623</td><td>-73.9754</td><td>B02512</td><td>thunderstorm</td></tr><tr><td>2014-08-22 00:00:00</td><td>2014-08-22 00:10:00</td><td>40.74</td><td>-73.9865</td><td>B02512</td><td>proximity thunderstorm</td></tr></table></div>\n",
       "    <br />(rows: 5931632, time: 24.1s,   178MB processed, job: job_LSPaGyDUbx2SH1ErJxQmDamAsar_)<br />\n",
       "    <script src=\"/static/components/requirejs/require.js\"></script>\n",
       "    <script>\n",
       "      require.config({\n",
       "        paths: {\n",
       "          base: '/static/base',\n",
       "          d3: '//cdnjs.cloudflare.com/ajax/libs/d3/3.4.13/d3',\n",
       "          plotly: 'https://cdn.plot.ly/plotly-1.5.1.min.js?noext',\n",
       "          jquery: '//ajax.googleapis.com/ajax/libs/jquery/2.0.0/jquery.min'\n",
       "        },\n",
       "        map: {\n",
       "          '*': {\n",
       "            datalab: 'nbextensions/gcpdatalab'\n",
       "          }\n",
       "        },\n",
       "        shim: {\n",
       "          plotly: {\n",
       "            deps: ['d3', 'jquery'],\n",
       "            exports: 'plotly'\n",
       "          }\n",
       "        }\n",
       "      });\n",
       "\n",
       "      require(['datalab/charting', 'datalab/element!1_156624790495', 'base/js/events',\n",
       "          'datalab/style!/nbextensions/gcpdatalab/charting.css'],\n",
       "        function(charts, dom, events) {\n",
       "          charts.render('gcharts', dom, events, 'paged_table', [], {\"rows\": [{\"c\": [{\"v\": \"2014-06-12T15:00:00\"}, {\"v\": \"2014-06-12T15:48:00\"}, {\"v\": 40.7781}, {\"v\": -73.959}, {\"v\": \"B02512\"}, {\"v\": \"drizzle\"}]}, {\"c\": [{\"v\": \"2014-06-12T12:00:00\"}, {\"v\": \"2014-06-12T12:27:00\"}, {\"v\": 40.7556}, {\"v\": -73.9834}, {\"v\": \"B02512\"}, {\"v\": \"drizzle\"}]}, {\"c\": [{\"v\": \"2014-06-18T17:00:00\"}, {\"v\": \"2014-06-18T17:51:00\"}, {\"v\": 40.759}, {\"v\": -73.967}, {\"v\": \"B02512\"}, {\"v\": \"dust\"}]}, {\"c\": [{\"v\": \"2014-09-06T21:00:00\"}, {\"v\": \"2014-09-06T21:28:00\"}, {\"v\": 40.6768}, {\"v\": -73.9999}, {\"v\": \"B02512\"}, {\"v\": \"proximity thunderstorm\"}]}, {\"c\": [{\"v\": \"2014-09-06T21:00:00\"}, {\"v\": \"2014-09-06T21:28:00\"}, {\"v\": 40.6768}, {\"v\": -73.9999}, {\"v\": \"B02512\"}, {\"v\": \"proximity thunderstorm\"}]}, {\"c\": [{\"v\": \"2014-05-10T21:00:00\"}, {\"v\": \"2014-05-10T21:39:00\"}, {\"v\": 40.766}, {\"v\": -73.9617}, {\"v\": \"B02512\"}, {\"v\": \"thunderstorm with heavy rain\"}]}, {\"c\": [{\"v\": \"2014-07-28T05:00:00\"}, {\"v\": \"2014-07-28T05:04:00\"}, {\"v\": 40.7911}, {\"v\": -73.9753}, {\"v\": \"B02512\"}, {\"v\": \"thunderstorm with rain\"}]}, {\"c\": [{\"v\": \"2014-06-12T14:00:00\"}, {\"v\": \"2014-06-12T14:55:00\"}, {\"v\": 40.7626}, {\"v\": -73.972}, {\"v\": \"B02512\"}, {\"v\": \"drizzle\"}]}, {\"c\": [{\"v\": \"2014-07-03T02:00:00\"}, {\"v\": \"2014-07-03T02:15:00\"}, {\"v\": 40.7643}, {\"v\": -73.9729}, {\"v\": \"B02512\"}, {\"v\": \"thunderstorm\"}]}, {\"c\": [{\"v\": \"2014-07-08T03:00:00\"}, {\"v\": \"2014-07-08T03:02:00\"}, {\"v\": 40.7855}, {\"v\": -73.9696}, {\"v\": \"B02512\"}, {\"v\": \"thunderstorm\"}]}, {\"c\": [{\"v\": \"2014-06-18T17:00:00\"}, {\"v\": \"2014-06-18T17:53:00\"}, {\"v\": 40.7892}, {\"v\": -73.9668}, {\"v\": \"B02512\"}, {\"v\": \"dust\"}]}, {\"c\": [{\"v\": \"2014-05-22T15:00:00\"}, {\"v\": \"2014-05-22T15:18:00\"}, {\"v\": 40.7498}, {\"v\": -73.9879}, {\"v\": \"B02512\"}, {\"v\": \"thunderstorm\"}]}, {\"c\": [{\"v\": \"2014-05-10T21:00:00\"}, {\"v\": \"2014-05-10T21:16:00\"}, {\"v\": 40.7441}, {\"v\": -73.9836}, {\"v\": \"B02512\"}, {\"v\": \"thunderstorm with heavy rain\"}]}, {\"c\": [{\"v\": \"2014-06-13T21:00:00\"}, {\"v\": \"2014-06-13T21:14:00\"}, {\"v\": 40.7075}, {\"v\": -73.9499}, {\"v\": \"B02512\"}, {\"v\": \"thunderstorm with heavy rain\"}]}, {\"c\": [{\"v\": \"2014-06-18T15:00:00\"}, {\"v\": \"2014-06-18T15:52:00\"}, {\"v\": 40.7432}, {\"v\": -73.9854}, {\"v\": \"B02512\"}, {\"v\": \"dust\"}]}, {\"c\": [{\"v\": \"2014-06-18T15:00:00\"}, {\"v\": \"2014-06-18T15:52:00\"}, {\"v\": 40.7432}, {\"v\": -73.9854}, {\"v\": \"B02512\"}, {\"v\": \"dust\"}]}, {\"c\": [{\"v\": \"2014-06-18T20:00:00\"}, {\"v\": \"2014-06-18T20:44:00\"}, {\"v\": 40.7186}, {\"v\": -74.0064}, {\"v\": \"B02512\"}, {\"v\": \"dust\"}]}, {\"c\": [{\"v\": \"2014-07-23T12:00:00\"}, {\"v\": \"2014-07-23T12:47:00\"}, {\"v\": 40.7338}, {\"v\": -73.991}, {\"v\": \"B02512\"}, {\"v\": \"smoke\"}]}, {\"c\": [{\"v\": \"2014-05-10T21:00:00\"}, {\"v\": \"2014-05-10T21:47:00\"}, {\"v\": 40.7781}, {\"v\": -73.9623}, {\"v\": \"B02512\"}, {\"v\": \"thunderstorm with heavy rain\"}]}, {\"c\": [{\"v\": \"2014-06-12T15:00:00\"}, {\"v\": \"2014-06-12T15:41:00\"}, {\"v\": 40.7152}, {\"v\": -73.9536}, {\"v\": \"B02512\"}, {\"v\": \"drizzle\"}]}, {\"c\": [{\"v\": \"2014-06-03T21:00:00\"}, {\"v\": \"2014-06-03T21:42:00\"}, {\"v\": 40.774}, {\"v\": -73.8727}, {\"v\": \"B02512\"}, {\"v\": \"thunderstorm\"}]}, {\"c\": [{\"v\": \"2014-06-12T14:00:00\"}, {\"v\": \"2014-06-12T14:27:00\"}, {\"v\": 40.7616}, {\"v\": -73.9829}, {\"v\": \"B02512\"}, {\"v\": \"drizzle\"}]}, {\"c\": [{\"v\": \"2014-06-18T20:00:00\"}, {\"v\": \"2014-06-18T20:56:00\"}, {\"v\": 40.7643}, {\"v\": -73.9772}, {\"v\": \"B02512\"}, {\"v\": \"dust\"}]}, {\"c\": [{\"v\": \"2014-09-06T20:00:00\"}, {\"v\": \"2014-09-06T20:26:00\"}, {\"v\": 40.7623}, {\"v\": -73.9754}, {\"v\": \"B02512\"}, {\"v\": \"thunderstorm\"}]}, {\"c\": [{\"v\": \"2014-08-22T00:00:00\"}, {\"v\": \"2014-08-22T00:10:00\"}, {\"v\": 40.74}, {\"v\": -73.9865}, {\"v\": \"B02512\"}, {\"v\": \"proximity thunderstorm\"}]}], \"cols\": [{\"type\": \"timestamp\", \"id\": \"RoundedDate\", \"label\": \"RoundedDate\"}, {\"type\": \"timestamp\", \"id\": \"Date_Time\", \"label\": \"Date_Time\"}, {\"type\": \"number\", \"id\": \"Lat\", \"label\": \"Lat\"}, {\"type\": \"number\", \"id\": \"Lon\", \"label\": \"Lon\"}, {\"type\": \"string\", \"id\": \"Base\", \"label\": \"Base\"}, {\"type\": \"string\", \"id\": \"WeatherType\", \"label\": \"WeatherType\"}]},\n",
       "            {\n",
       "              pageSize: 25,\n",
       "              cssClassNames:  {\n",
       "                tableRow: 'gchart-table-row',\n",
       "                headerRow: 'gchart-table-headerrow',\n",
       "                oddTableRow: 'gchart-table-oddrow',\n",
       "                selectedTableRow: 'gchart-table-selectedrow',\n",
       "                hoverTableRow: 'gchart-table-hoverrow',\n",
       "                tableCell: 'gchart-table-cell',\n",
       "                headerCell: 'gchart-table-headercell',\n",
       "                rowNumberCell: 'gchart-table-rownumcell'\n",
       "              }\n",
       "            },\n",
       "            {source_index: 0, fields: 'RoundedDate,Date_Time,Lat,Lon,Base,WeatherType'},\n",
       "            0,\n",
       "            5931632);\n",
       "        }\n",
       "      );\n",
       "    </script>\n",
       "  "
      ],
      "text/plain": [
       "QueryResultsTable job_LSPaGyDUbx2SH1ErJxQmDamAsar_"
      ]
     },
     "execution_count": 10,
     "metadata": {},
     "output_type": "execute_result"
    }
   ],
   "source": [
    "%%bq query\n",
    "SELECT\n",
    "   al.*, Newyork AS WeatherType\n",
    "FROM `team-3-249220.team3.All_Data_Rounded` AS al\n",
    "LEFT JOIN `team-3-249220.team3.2014NYCWeatherRounded` AS weather\n",
    "ON al.RoundedDate = weather.RoundedDate\n",
    "WHERE EXTRACT(Month FROM Date_Time) IN (4,5,6,7,8,9)"
   ]
  },
  {
   "cell_type": "markdown",
   "metadata": {},
   "source": [
    "This query is used to combine the rounded tables into one table which easy for afterward analysis. "
   ]
  },
  {
   "cell_type": "markdown",
   "metadata": {},
   "source": [
    "### Number 11: Number of Uber Pickups Under Different Weather Conditions in New York City"
   ]
  },
  {
   "cell_type": "code",
   "execution_count": 11,
   "metadata": {},
   "outputs": [
    {
     "data": {
      "text/html": [
       "\n",
       "    <div class=\"bqtv\" id=\"4_156676398205\"><table><tr><th>WeatherType</th><th>Num_of_weather</th></tr><tr><td>broken clouds</td><td>910027</td></tr><tr><td>scattered clouds</td><td>737083</td></tr><tr><td>mist</td><td>631576</td></tr><tr><td>light rain</td><td>534885</td></tr><tr><td>sky is clear</td><td>472214</td></tr><tr><td>overcast clouds</td><td>346864</td></tr><tr><td>few clouds</td><td>341349</td></tr><tr><td>haze</td><td>121410</td></tr><tr><td>moderate rain</td><td>86625</td></tr><tr><td>fog</td><td>72584</td></tr></table></div>\n",
       "    <br />(rows: 10, time: 0.1s, cached, job: job_-kwGJBXwyCFR7iGHgSK2AdGnZnAx)<br />\n",
       "    <script src=\"/static/components/requirejs/require.js\"></script>\n",
       "    <script>\n",
       "      require.config({\n",
       "        paths: {\n",
       "          base: '/static/base',\n",
       "          d3: '//cdnjs.cloudflare.com/ajax/libs/d3/3.4.13/d3',\n",
       "          plotly: 'https://cdn.plot.ly/plotly-1.5.1.min.js?noext',\n",
       "          jquery: '//ajax.googleapis.com/ajax/libs/jquery/2.0.0/jquery.min'\n",
       "        },\n",
       "        map: {\n",
       "          '*': {\n",
       "            datalab: 'nbextensions/gcpdatalab'\n",
       "          }\n",
       "        },\n",
       "        shim: {\n",
       "          plotly: {\n",
       "            deps: ['d3', 'jquery'],\n",
       "            exports: 'plotly'\n",
       "          }\n",
       "        }\n",
       "      });\n",
       "\n",
       "      require(['datalab/charting', 'datalab/element!4_156676398205', 'base/js/events',\n",
       "          'datalab/style!/nbextensions/gcpdatalab/charting.css'],\n",
       "        function(charts, dom, events) {\n",
       "          charts.render('gcharts', dom, events, 'table', [], {\"rows\": [{\"c\": [{\"v\": \"broken clouds\"}, {\"v\": 910027}]}, {\"c\": [{\"v\": \"scattered clouds\"}, {\"v\": 737083}]}, {\"c\": [{\"v\": \"mist\"}, {\"v\": 631576}]}, {\"c\": [{\"v\": \"light rain\"}, {\"v\": 534885}]}, {\"c\": [{\"v\": \"sky is clear\"}, {\"v\": 472214}]}, {\"c\": [{\"v\": \"overcast clouds\"}, {\"v\": 346864}]}, {\"c\": [{\"v\": \"few clouds\"}, {\"v\": 341349}]}, {\"c\": [{\"v\": \"haze\"}, {\"v\": 121410}]}, {\"c\": [{\"v\": \"moderate rain\"}, {\"v\": 86625}]}, {\"c\": [{\"v\": \"fog\"}, {\"v\": 72584}]}], \"cols\": [{\"type\": \"string\", \"id\": \"WeatherType\", \"label\": \"WeatherType\"}, {\"type\": \"number\", \"id\": \"Num_of_weather\", \"label\": \"Num_of_weather\"}]},\n",
       "            {\n",
       "              pageSize: 25,\n",
       "              cssClassNames:  {\n",
       "                tableRow: 'gchart-table-row',\n",
       "                headerRow: 'gchart-table-headerrow',\n",
       "                oddTableRow: 'gchart-table-oddrow',\n",
       "                selectedTableRow: 'gchart-table-selectedrow',\n",
       "                hoverTableRow: 'gchart-table-hoverrow',\n",
       "                tableCell: 'gchart-table-cell',\n",
       "                headerCell: 'gchart-table-headercell',\n",
       "                rowNumberCell: 'gchart-table-rownumcell'\n",
       "              }\n",
       "            },\n",
       "            {source_index: 3, fields: 'WeatherType,Num_of_weather'},\n",
       "            0,\n",
       "            10);\n",
       "        }\n",
       "      );\n",
       "    </script>\n",
       "  "
      ],
      "text/plain": [
       "QueryResultsTable job_-kwGJBXwyCFR7iGHgSK2AdGnZnAx"
      ]
     },
     "execution_count": 11,
     "metadata": {},
     "output_type": "execute_result"
    }
   ],
   "source": [
    "%%bq query\n",
    "SELECT WeatherType, COUNT(*) AS Num_of_weather\n",
    "FROM\n",
    "  `team-3-249220.team3.All_Weather_Pickups` \n",
    "GROUP BY WeatherType\n",
    "HAVING WeatherType IS NOT NULL\n",
    "ORDER BY Num_of_weather DESC\n",
    "LIMIT 10"
   ]
  },
  {
   "cell_type": "code",
   "execution_count": 4,
   "metadata": {},
   "outputs": [],
   "source": [
    "%%bq query -n  WeatherTypeVSPickups\n",
    "SELECT WeatherType, COUNT(*) AS Num_of_weather\n",
    "FROM\n",
    "  `team-3-249220.team3.All_Weather_Pickups` \n",
    "GROUP BY WeatherType\n",
    "HAVING WeatherType IS NOT NULL\n",
    "ORDER BY Num_of_weather DESC\n",
    "LIMIT 10"
   ]
  },
  {
   "cell_type": "code",
   "execution_count": 5,
   "metadata": {},
   "outputs": [
    {
     "data": {
      "text/html": [
       "\n",
       "    <div class=\"bqgc-container\">\n",
       "      \n",
       "      <div class=\"bqgc \" id=\"3_156676352379\">\n",
       "      </div>\n",
       "    </div>\n",
       "    <script src=\"/static/components/requirejs/require.js\"></script>\n",
       "    <script>\n",
       "\n",
       "      require.config({\n",
       "        paths: {\n",
       "          base: '/static/base',\n",
       "          d3: '//cdnjs.cloudflare.com/ajax/libs/d3/3.4.13/d3',\n",
       "          plotly: 'https://cdn.plot.ly/plotly-1.5.1.min.js?noext',\n",
       "          jquery: '//ajax.googleapis.com/ajax/libs/jquery/2.0.0/jquery.min'\n",
       "        },\n",
       "        map: {\n",
       "          '*': {\n",
       "            datalab: 'nbextensions/gcpdatalab'\n",
       "          }\n",
       "        },\n",
       "        shim: {\n",
       "          plotly: {\n",
       "            deps: ['d3', 'jquery'],\n",
       "            exports: 'plotly'\n",
       "          }\n",
       "        }\n",
       "      });\n",
       "\n",
       "      require(['datalab/charting',\n",
       "               'datalab/element!3_156676352379',\n",
       "               'base/js/events',\n",
       "               'datalab/style!/nbextensions/gcpdatalab/charting.css'\n",
       "              ],\n",
       "        function(charts, dom, events) {\n",
       "          charts.render(\n",
       "              'gcharts',\n",
       "              dom,\n",
       "              events,\n",
       "              'columns',\n",
       "              [],\n",
       "              {\"rows\": [{\"c\": [{\"v\": \"broken clouds\"}, {\"v\": 910027}]}, {\"c\": [{\"v\": \"scattered clouds\"}, {\"v\": 737083}]}, {\"c\": [{\"v\": \"mist\"}, {\"v\": 631576}]}, {\"c\": [{\"v\": \"light rain\"}, {\"v\": 534885}]}, {\"c\": [{\"v\": \"sky is clear\"}, {\"v\": 472214}]}, {\"c\": [{\"v\": \"overcast clouds\"}, {\"v\": 346864}]}, {\"c\": [{\"v\": \"few clouds\"}, {\"v\": 341349}]}, {\"c\": [{\"v\": \"haze\"}, {\"v\": 121410}]}, {\"c\": [{\"v\": \"moderate rain\"}, {\"v\": 86625}]}, {\"c\": [{\"v\": \"fog\"}, {\"v\": 72584}]}], \"cols\": [{\"type\": \"string\", \"id\": \"WeatherType\", \"label\": \"WeatherType\"}, {\"type\": \"number\", \"id\": \"Num_of_weather\", \"label\": \"Num_of_weather\"}]},\n",
       "              {\"vAxis\": {\"title\": \"Number of Pickups\"}, \"hAxis\": {\"title\": \"Weather Type\"}, \"title\": \"Weather Type vs Number of Pickups\"},\n",
       "              {\"fields\": \"*\", \"source_index\": 1, \"name\": 1},\n",
       "              0,\n",
       "              10);\n",
       "          }\n",
       "        );\n",
       "    </script>\n",
       "  "
      ],
      "text/plain": [
       "<IPython.core.display.HTML object>"
      ]
     },
     "execution_count": 5,
     "metadata": {},
     "output_type": "execute_result"
    },
    {
     "data": {
      "image/png": "[encoded data removed]"
     },
     "metadata": {
      "source_id": "3_156676352379"
     },
     "output_type": "display_data"
    }
   ],
   "source": [
    "%%chart columns --data WeatherTypeVSPickups\n",
    "title: Weather Type vs Number of Pickups\n",
    "vAxis:\n",
    "  title: Number of Pickups\n",
    "hAxis:\n",
    "  title: Weather Type"
   ]
  },
  {
   "cell_type": "markdown",
   "metadata": {},
   "source": [
    "Given the result, we found that under these weather conditions: broken clouds, scattered clouds, and mist, they have the highest number of pickup requests. This finding contradicts what we have assumed initially, we made an assumption that there would be more pickup requests under bad weather conditions. It is possible that during bad weather, people tend to stay at home; however, during clear days, more people plan to go out which leads to a larger number of Uber trip requests."
   ]
  },
  {
   "cell_type": "markdown",
   "metadata": {},
   "source": [
    "### Number 12: Number of Uber Pickup Requests in Top 3 Busiest Months Under Different Weather Condition"
   ]
  },
  {
   "cell_type": "code",
   "execution_count": 33,
   "metadata": {},
   "outputs": [
    {
     "data": {
      "text/html": [
       "\n",
       "    <div class=\"bqtv\" id=\"9_156625454940\"><table><tr><th>the_day</th><th>the_weekday</th><th>Num_Of_Pickups</th><th>WeatherType</th></tr><tr><td>2014-09-27</td><td>7</td><td>24445</td><td>sky is clear</td></tr><tr><td>2014-09-18</td><td>5</td><td>22855</td><td>scattered clouds</td></tr><tr><td>2014-08-06</td><td>4</td><td>22425</td><td>broken clouds</td></tr><tr><td>2014-09-17</td><td>4</td><td>22164</td><td>scattered clouds</td></tr><tr><td>2014-09-03</td><td>4</td><td>22055</td><td>broken clouds</td></tr><tr><td>2014-07-10</td><td>5</td><td>21008</td><td>broken clouds</td></tr><tr><td>2014-09-25</td><td>5</td><td>20797</td><td>mist</td></tr><tr><td>2014-09-12</td><td>6</td><td>19963</td><td>scattered clouds</td></tr><tr><td>2014-08-29</td><td>6</td><td>19781</td><td>light rain</td></tr><tr><td>2014-07-24</td><td>5</td><td>19491</td><td>broken clouds</td></tr><tr><td>2014-09-08</td><td>2</td><td>19318</td><td>broken clouds</td></tr><tr><td>2014-07-12</td><td>7</td><td>18640</td><td>scattered clouds</td></tr><tr><td>2014-07-17</td><td>5</td><td>17817</td><td>broken clouds</td></tr><tr><td>2014-07-22</td><td>3</td><td>17715</td><td>scattered clouds</td></tr><tr><td>2014-07-23</td><td>4</td><td>17126</td><td>broken clouds</td></tr></table></div>\n",
       "    <br />(rows: 15, time: 4.6s,   107MB processed, job: job_ylBgpbEDnOjqU6UCM5WUNrXPtg76)<br />\n",
       "    <script src=\"/static/components/requirejs/require.js\"></script>\n",
       "    <script>\n",
       "      require.config({\n",
       "        paths: {\n",
       "          base: '/static/base',\n",
       "          d3: '//cdnjs.cloudflare.com/ajax/libs/d3/3.4.13/d3',\n",
       "          plotly: 'https://cdn.plot.ly/plotly-1.5.1.min.js?noext',\n",
       "          jquery: '//ajax.googleapis.com/ajax/libs/jquery/2.0.0/jquery.min'\n",
       "        },\n",
       "        map: {\n",
       "          '*': {\n",
       "            datalab: 'nbextensions/gcpdatalab'\n",
       "          }\n",
       "        },\n",
       "        shim: {\n",
       "          plotly: {\n",
       "            deps: ['d3', 'jquery'],\n",
       "            exports: 'plotly'\n",
       "          }\n",
       "        }\n",
       "      });\n",
       "\n",
       "      require(['datalab/charting', 'datalab/element!9_156625454940', 'base/js/events',\n",
       "          'datalab/style!/nbextensions/gcpdatalab/charting.css'],\n",
       "        function(charts, dom, events) {\n",
       "          charts.render('gcharts', dom, events, 'table', [], {\"rows\": [{\"c\": [{\"v\": \"2014-09-27\"}, {\"v\": 7}, {\"v\": 24445}, {\"v\": \"sky is clear\"}]}, {\"c\": [{\"v\": \"2014-09-18\"}, {\"v\": 5}, {\"v\": 22855}, {\"v\": \"scattered clouds\"}]}, {\"c\": [{\"v\": \"2014-08-06\"}, {\"v\": 4}, {\"v\": 22425}, {\"v\": \"broken clouds\"}]}, {\"c\": [{\"v\": \"2014-09-17\"}, {\"v\": 4}, {\"v\": 22164}, {\"v\": \"scattered clouds\"}]}, {\"c\": [{\"v\": \"2014-09-03\"}, {\"v\": 4}, {\"v\": 22055}, {\"v\": \"broken clouds\"}]}, {\"c\": [{\"v\": \"2014-07-10\"}, {\"v\": 5}, {\"v\": 21008}, {\"v\": \"broken clouds\"}]}, {\"c\": [{\"v\": \"2014-09-25\"}, {\"v\": 5}, {\"v\": 20797}, {\"v\": \"mist\"}]}, {\"c\": [{\"v\": \"2014-09-12\"}, {\"v\": 6}, {\"v\": 19963}, {\"v\": \"scattered clouds\"}]}, {\"c\": [{\"v\": \"2014-08-29\"}, {\"v\": 6}, {\"v\": 19781}, {\"v\": \"light rain\"}]}, {\"c\": [{\"v\": \"2014-07-24\"}, {\"v\": 5}, {\"v\": 19491}, {\"v\": \"broken clouds\"}]}, {\"c\": [{\"v\": \"2014-09-08\"}, {\"v\": 2}, {\"v\": 19318}, {\"v\": \"broken clouds\"}]}, {\"c\": [{\"v\": \"2014-07-12\"}, {\"v\": 7}, {\"v\": 18640}, {\"v\": \"scattered clouds\"}]}, {\"c\": [{\"v\": \"2014-07-17\"}, {\"v\": 5}, {\"v\": 17817}, {\"v\": \"broken clouds\"}]}, {\"c\": [{\"v\": \"2014-07-22\"}, {\"v\": 3}, {\"v\": 17715}, {\"v\": \"scattered clouds\"}]}, {\"c\": [{\"v\": \"2014-07-23\"}, {\"v\": 4}, {\"v\": 17126}, {\"v\": \"broken clouds\"}]}], \"cols\": [{\"type\": \"date\", \"id\": \"the_day\", \"label\": \"the_day\"}, {\"type\": \"number\", \"id\": \"the_weekday\", \"label\": \"the_weekday\"}, {\"type\": \"number\", \"id\": \"Num_Of_Pickups\", \"label\": \"Num_Of_Pickups\"}, {\"type\": \"string\", \"id\": \"WeatherType\", \"label\": \"WeatherType\"}]},\n",
       "            {\n",
       "              pageSize: 25,\n",
       "              cssClassNames:  {\n",
       "                tableRow: 'gchart-table-row',\n",
       "                headerRow: 'gchart-table-headerrow',\n",
       "                oddTableRow: 'gchart-table-oddrow',\n",
       "                selectedTableRow: 'gchart-table-selectedrow',\n",
       "                hoverTableRow: 'gchart-table-hoverrow',\n",
       "                tableCell: 'gchart-table-cell',\n",
       "                headerCell: 'gchart-table-headercell',\n",
       "                rowNumberCell: 'gchart-table-rownumcell'\n",
       "              }\n",
       "            },\n",
       "            {source_index: 8, fields: 'the_day,the_weekday,Num_Of_Pickups,WeatherType'},\n",
       "            0,\n",
       "            15);\n",
       "        }\n",
       "      );\n",
       "    </script>\n",
       "  "
      ],
      "text/plain": [
       "QueryResultsTable job_ylBgpbEDnOjqU6UCM5WUNrXPtg76"
      ]
     },
     "execution_count": 33,
     "metadata": {},
     "output_type": "execute_result"
    }
   ],
   "source": [
    "%%bq query\n",
    "SELECT A.the_day, B.the_weekday, A.Num_Of_Pickups, A.WeatherType\n",
    "FROM\n",
    "  (SELECT\n",
    "       extract(date FROM Date_time) AS the_day,\n",
    "       count(*) AS Num_Of_Pickups,\n",
    "       WeatherType\n",
    "    FROM\n",
    "      `team-3-249220.team3.All_Weather_Pickups`\n",
    "    WHERE Date_time BETWEEN '2014-07-01' AND '2014-09-30'\n",
    "    GROUP BY  the_day, WeatherType\n",
    "    ORDER BY Num_Of_Pickups DESC\n",
    "    LIMIT 15) AS A\n",
    "LEFT JOIN\n",
    "  (SELECT distinct(extract(date from Date_time)) as the_day,extract(dayofweek from Date_time) as the_weekday\n",
    "    FROM `team-3-249220.team3.All_Weather_Pickups`\n",
    "    WHERE Date_time between '2014-07-01' and '2014-09-30') B\n",
    "    ON A.the_day = B.the_day"
   ]
  },
  {
   "cell_type": "markdown",
   "metadata": {},
   "source": [
    "*Note*: 1 = Sunday, 2 = Monday, 3 = Tuesday, 4 = Wednesday, 5 = Thursday, 6 = Friday, 7 = Saturday"
   ]
  },
  {
   "cell_type": "markdown",
   "metadata": {},
   "source": [
    "The table above shows the number of Uber trip requests under different weather conditions in the top 3 busiest months: July, August, September. This table includes variables such as date, weekday, number of pickups, and weather types. From this result, we learned that people tend to request more Uber trips under the following weather conditions: clear sky, broken clouds, and scattered clouds. In addition, more trips are requested on Wednesday, Thursday and Saturday. "
   ]
  },
  {
   "cell_type": "markdown",
   "metadata": {},
   "source": [
    "### Number 13:  Hourly Uber PickUps Under Different Weather Conditions"
   ]
  },
  {
   "cell_type": "code",
   "execution_count": 23,
   "metadata": {},
   "outputs": [
    {
     "data": {
      "text/html": [
       "\n",
       "    <div class=\"bqtv\" id=\"6_156625281303\"><table><tr><th>Pickups</th><th>Hours_WeatherType</th><th>pickPerhourWeather</th><th>WeatherType</th></tr><tr><td>6779</td><td>3</td><td>2259.67</td><td>thunderstorm with light rain</td></tr><tr><td>6840</td><td>4</td><td>1710.0</td><td>drizzle</td></tr><tr><td>21309</td><td>15</td><td>1420.6</td><td>proximity thunderstorm</td></tr><tr><td>33395</td><td>24</td><td>1391.46</td><td>light intensity drizzle</td></tr><tr><td>121410</td><td>90</td><td>1349.0</td><td>haze</td></tr><tr><td>64229</td><td>55</td><td>1167.8</td><td>heavy intensity rain</td></tr><tr><td>21055</td><td>19</td><td>1108.16</td><td>dust</td></tr><tr><td>737083</td><td>675</td><td>1091.97</td><td>scattered clouds</td></tr><tr><td>7547</td><td>7</td><td>1078.14</td><td>very heavy rain</td></tr><tr><td>910027</td><td>858</td><td>1060.64</td><td>broken clouds</td></tr></table></div>\n",
       "    <br />(rows: 10, time: 4.8s,   107MB processed, job: job_hYycKz1InM3C-wbwkqQOmCuvFCfn)<br />\n",
       "    <script src=\"/static/components/requirejs/require.js\"></script>\n",
       "    <script>\n",
       "      require.config({\n",
       "        paths: {\n",
       "          base: '/static/base',\n",
       "          d3: '//cdnjs.cloudflare.com/ajax/libs/d3/3.4.13/d3',\n",
       "          plotly: 'https://cdn.plot.ly/plotly-1.5.1.min.js?noext',\n",
       "          jquery: '//ajax.googleapis.com/ajax/libs/jquery/2.0.0/jquery.min'\n",
       "        },\n",
       "        map: {\n",
       "          '*': {\n",
       "            datalab: 'nbextensions/gcpdatalab'\n",
       "          }\n",
       "        },\n",
       "        shim: {\n",
       "          plotly: {\n",
       "            deps: ['d3', 'jquery'],\n",
       "            exports: 'plotly'\n",
       "          }\n",
       "        }\n",
       "      });\n",
       "\n",
       "      require(['datalab/charting', 'datalab/element!6_156625281303', 'base/js/events',\n",
       "          'datalab/style!/nbextensions/gcpdatalab/charting.css'],\n",
       "        function(charts, dom, events) {\n",
       "          charts.render('gcharts', dom, events, 'table', [], {\"rows\": [{\"c\": [{\"v\": 6779}, {\"v\": 3}, {\"v\": 2259.67}, {\"v\": \"thunderstorm with light rain\"}]}, {\"c\": [{\"v\": 6840}, {\"v\": 4}, {\"v\": 1710.0}, {\"v\": \"drizzle\"}]}, {\"c\": [{\"v\": 21309}, {\"v\": 15}, {\"v\": 1420.6}, {\"v\": \"proximity thunderstorm\"}]}, {\"c\": [{\"v\": 33395}, {\"v\": 24}, {\"v\": 1391.46}, {\"v\": \"light intensity drizzle\"}]}, {\"c\": [{\"v\": 121410}, {\"v\": 90}, {\"v\": 1349.0}, {\"v\": \"haze\"}]}, {\"c\": [{\"v\": 64229}, {\"v\": 55}, {\"v\": 1167.8}, {\"v\": \"heavy intensity rain\"}]}, {\"c\": [{\"v\": 21055}, {\"v\": 19}, {\"v\": 1108.16}, {\"v\": \"dust\"}]}, {\"c\": [{\"v\": 737083}, {\"v\": 675}, {\"v\": 1091.97}, {\"v\": \"scattered clouds\"}]}, {\"c\": [{\"v\": 7547}, {\"v\": 7}, {\"v\": 1078.14}, {\"v\": \"very heavy rain\"}]}, {\"c\": [{\"v\": 910027}, {\"v\": 858}, {\"v\": 1060.64}, {\"v\": \"broken clouds\"}]}], \"cols\": [{\"type\": \"number\", \"id\": \"Pickups\", \"label\": \"Pickups\"}, {\"type\": \"number\", \"id\": \"Hours_WeatherType\", \"label\": \"Hours_WeatherType\"}, {\"type\": \"number\", \"id\": \"pickPerhourWeather\", \"label\": \"pickPerhourWeather\"}, {\"type\": \"string\", \"id\": \"WeatherType\", \"label\": \"WeatherType\"}]},\n",
       "            {\n",
       "              pageSize: 25,\n",
       "              cssClassNames:  {\n",
       "                tableRow: 'gchart-table-row',\n",
       "                headerRow: 'gchart-table-headerrow',\n",
       "                oddTableRow: 'gchart-table-oddrow',\n",
       "                selectedTableRow: 'gchart-table-selectedrow',\n",
       "                hoverTableRow: 'gchart-table-hoverrow',\n",
       "                tableCell: 'gchart-table-cell',\n",
       "                headerCell: 'gchart-table-headercell',\n",
       "                rowNumberCell: 'gchart-table-rownumcell'\n",
       "              }\n",
       "            },\n",
       "            {source_index: 5, fields: 'Pickups,Hours_WeatherType,pickPerhourWeather,WeatherType'},\n",
       "            0,\n",
       "            10);\n",
       "        }\n",
       "      );\n",
       "    </script>\n",
       "  "
      ],
      "text/plain": [
       "QueryResultsTable job_hYycKz1InM3C-wbwkqQOmCuvFCfn"
      ]
     },
     "execution_count": 23,
     "metadata": {},
     "output_type": "execute_result"
    }
   ],
   "source": [
    "%%bq query\n",
    "SELECT A.number as Pickups, B.number as Hours_WeatherType, ROUND(A.number/B.number, 2) as pickPerhourWeather , A.WeatherType from (SELECT\n",
    "   count(*) as number, WeatherType\n",
    "FROM\n",
    "  `team-3-249220.team3.All_Weather_Pickups` \n",
    "WHERE EXTRACT(Month FROM Date_Time) in (4,5,6,7,8,9) and WeatherType is not null\n",
    "GROUP BY WeatherType\n",
    "ORDER BY number DESC) as A\n",
    "left join(\n",
    "SELECT\n",
    "   distinct(Newyork) as weather,count(*)as number\n",
    "FROM\n",
    "  `team-3-249220.team3.2014NewYorkCityWeather` \n",
    "WHERE EXTRACT(Month FROM datetime) in (4,5,6,7,8,9)\n",
    "GROUP BY weather\n",
    "ORDER BY number DESC) as B\n",
    "on A.WeatherType = B.weather\n",
    "ORDER BY pickPerhourWeather desc\n",
    "LIMIT 10"
   ]
  },
  {
   "cell_type": "markdown",
   "metadata": {},
   "source": [
    "In order to collect more accurate Uber pickup data under different weather conditions, we reached a decision to use the number of pickups under each weather type divided by the total hours of each weather type which gives us the number of pickups per hour under each weather condition. With the given result, we concluded that heavy weather is one of the factors that affect Uber's trip requests."
   ]
  },
  {
   "cell_type": "markdown",
   "metadata": {},
   "source": [
    "### Number 14: Weather Condition vs PickUp Per Hour"
   ]
  },
  {
   "cell_type": "code",
   "execution_count": 7,
   "metadata": {},
   "outputs": [],
   "source": [
    "%%bq query -n pieWeather\n",
    "SELECT ROUND(A.number/B.number, 2) as pickPerhourWeather , A.WeatherType from (SELECT\n",
    "   count(*) as number, WeatherType\n",
    "FROM\n",
    "  `team-3-249220.team3.All_Weather_Pickups` \n",
    "WHERE EXTRACT(Month FROM Date_Time) in (4,5,6,7,8,9) and WeatherType is not null\n",
    "GROUP BY WeatherType\n",
    "ORDER BY number DESC) as A\n",
    "left join(\n",
    "SELECT\n",
    "   distinct(Newyork) as weather,count(*)as number\n",
    "FROM\n",
    "  `team-3-249220.team3.2014NewYorkCityWeather` \n",
    "WHERE EXTRACT(Month FROM datetime) in (4,5,6,7,8,9)\n",
    "GROUP BY weather\n",
    "ORDER BY number DESC) as B\n",
    "on A.WeatherType = B.weather\n",
    "ORDER BY pickPerhourWeather desc"
   ]
  },
  {
   "cell_type": "code",
   "execution_count": 8,
   "metadata": {},
   "outputs": [
    {
     "data": {
      "text/html": [
       "\n",
       "    <div class=\"bqgc-container\">\n",
       "      \n",
       "      <div class=\"bqgc \" id=\"4_156676382755\">\n",
       "      </div>\n",
       "    </div>\n",
       "    <script src=\"/static/components/requirejs/require.js\"></script>\n",
       "    <script>\n",
       "\n",
       "      require.config({\n",
       "        paths: {\n",
       "          base: '/static/base',\n",
       "          d3: '//cdnjs.cloudflare.com/ajax/libs/d3/3.4.13/d3',\n",
       "          plotly: 'https://cdn.plot.ly/plotly-1.5.1.min.js?noext',\n",
       "          jquery: '//ajax.googleapis.com/ajax/libs/jquery/2.0.0/jquery.min'\n",
       "        },\n",
       "        map: {\n",
       "          '*': {\n",
       "            datalab: 'nbextensions/gcpdatalab'\n",
       "          }\n",
       "        },\n",
       "        shim: {\n",
       "          plotly: {\n",
       "            deps: ['d3', 'jquery'],\n",
       "            exports: 'plotly'\n",
       "          }\n",
       "        }\n",
       "      });\n",
       "\n",
       "      require(['datalab/charting',\n",
       "               'datalab/element!4_156676382755',\n",
       "               'base/js/events',\n",
       "               'datalab/style!/nbextensions/gcpdatalab/charting.css'\n",
       "              ],\n",
       "        function(charts, dom, events) {\n",
       "          charts.render(\n",
       "              'gcharts',\n",
       "              dom,\n",
       "              events,\n",
       "              'pie',\n",
       "              [],\n",
       "              {\"rows\": [{\"c\": [{\"v\": \"thunderstorm with light rain\"}, {\"v\": 2259.67}]}, {\"c\": [{\"v\": \"drizzle\"}, {\"v\": 1710.0}]}, {\"c\": [{\"v\": \"proximity thunderstorm\"}, {\"v\": 1420.6}]}, {\"c\": [{\"v\": \"light intensity drizzle\"}, {\"v\": 1391.46}]}, {\"c\": [{\"v\": \"haze\"}, {\"v\": 1349.0}]}, {\"c\": [{\"v\": \"heavy intensity rain\"}, {\"v\": 1167.8}]}, {\"c\": [{\"v\": \"dust\"}, {\"v\": 1108.16}]}, {\"c\": [{\"v\": \"scattered clouds\"}, {\"v\": 1091.97}]}, {\"c\": [{\"v\": \"very heavy rain\"}, {\"v\": 1078.14}]}, {\"c\": [{\"v\": \"broken clouds\"}, {\"v\": 1060.64}]}, {\"c\": [{\"v\": \"mist\"}, {\"v\": 1056.15}]}, {\"c\": [{\"v\": \"heavy intensity drizzle\"}, {\"v\": 1009.5}]}, {\"c\": [{\"v\": \"light rain\"}, {\"v\": 1003.54}]}, {\"c\": [{\"v\": \"overcast clouds\"}, {\"v\": 977.08}]}, {\"c\": [{\"v\": \"thunderstorm\"}, {\"v\": 975.5}]}, {\"c\": [{\"v\": \"thunderstorm with heavy rain\"}, {\"v\": 926.4}]}, {\"c\": [{\"v\": \"few clouds\"}, {\"v\": 910.26}]}, {\"c\": [{\"v\": \"smoke\"}, {\"v\": 909.33}]}, {\"c\": [{\"v\": \"fog\"}, {\"v\": 907.3}]}, {\"c\": [{\"v\": \"moderate rain\"}, {\"v\": 849.26}]}, {\"c\": [{\"v\": \"sky is clear\"}, {\"v\": 824.11}]}, {\"c\": [{\"v\": \"thunderstorm with rain\"}, {\"v\": 766.5}]}, {\"c\": [{\"v\": \"proximity thunderstorm with rain\"}, {\"v\": 203.5}]}], \"cols\": [{\"type\": \"string\", \"id\": \"WeatherType\", \"label\": \"WeatherType\"}, {\"type\": \"number\", \"id\": \"pickPerhourWeather\", \"label\": \"pickPerhourWeather\"}]},\n",
       "              {\"slices\": {\"0\": {\"offset\": 0.2}}, \"width\": 800, \"title\": \"Weather Condition vs PickUp Per Hour\", \"pieStartAngle\": 20, \"height\": 400},\n",
       "              {\"fields\": \"WeatherType,pickPerhourWeather\", \"source_index\": 2, \"name\": 2},\n",
       "              0,\n",
       "              23);\n",
       "          }\n",
       "        );\n",
       "    </script>\n",
       "  "
      ],
      "text/plain": [
       "<IPython.core.display.HTML object>"
      ]
     },
     "execution_count": 8,
     "metadata": {},
     "output_type": "execute_result"
    },
    {
     "data": {
      "image/png": "[encoded data removed]"
     },
     "metadata": {
      "source_id": "4_156676382755"
     },
     "output_type": "display_data"
    }
   ],
   "source": [
    "%%chart pie --fields WeatherType,pickPerhourWeather --data pieWeather\n",
    "title: Weather Condition vs PickUp Per Hour\n",
    "height: 400\n",
    "width: 800\n",
    "pieStartAngle: 20\n",
    "slices:\n",
    "  0:\n",
    "    offset: .2"
   ]
  },
  {
   "cell_type": "markdown",
   "metadata": {},
   "source": [
    "Based on the above pie chart, we found that 9.1% of the Uber trips were requested during thunderstrom with light rain. "
   ]
  }
 ],
 "metadata": {
  "kernelspec": {
   "display_name": "Python 2",
   "language": "python",
   "name": "python2"
  },
  "language_info": {
   "codemirror_mode": {
    "name": "ipython",
    "version": 2
   },
   "file_extension": ".py",
   "mimetype": "text/x-python",
   "name": "python",
   "nbconvert_exporter": "python",
   "pygments_lexer": "ipython2",
   "version": "2.7.15"
  }
 },
 "nbformat": 4,
 "nbformat_minor": 2
}
