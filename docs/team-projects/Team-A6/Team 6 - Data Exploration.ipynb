#!/usr/bin/env python
# coding: utf-8

# **Avoiding Flight Delays out of Boston**
# 
# Xinman Liu, Melissa Putur, Jiao Sun, Adil Bin Wahab, Rui Xu

# **Project Overview:** Boston Logan airport is the largest airport in New England with over 100,000 domestic flights annually. While the airport does offer exceptional ocean views and dining options, ie Dunkin Donuts, delayed and canceled flights can create financial and emotional burdens for passengers like increased trip costs and missed work or vacation days. To maximize our trips and avoid flight delays and/or cancellations out of Boston Logan we will explore which airlines, departure times, and destinations experience the fewest disruptions.  

# **Data:** To explore our question above we downloaded 3 datasets related to domestic flights in the United States in 2015. The full datasets can be found here: https://www.kaggle.com/usdot/flight-delays/version/1#flights.csv
# 
# **Dataset 1 - Flights:** The flights dataset contains a row for every domestic flight in the United States in 2015. The original file contained 5.8 million rows and was 1.1 GB. After uploading the file into Big Query, we ran a query to capture only flights that departed out of Boston to increase query processesing time and reduce the amount of money we needed to pay per query. Our updated dataset contained 107,817 rows and was 20 MB. We used the following columns for our analysis. Note: There was no data available for flights out of Boston in October in this dataset. 
# - Year - year of the flight; a nullable integer; only includes data from 2015 
# - Month - month of the flight; a nullable integer
# - Day - day of the flight; a nullable integer
# - Airline - code of the airline; a nullable string
# - Flight_number - flight number; a nullable integer
# - Origin_airport - the departing airport; a nullable string; identical to the IATA_CODE column from the airport table  
# - Destination_airport - the destination airport; a nullable string; identical to the IATA_CODE column from the airport table  
# - Departure_delay - the departure delay time in minutes; a nullable integer
# 
# Below is sample of the raw data from this table:

# In[48]:


get_ipython().run_cell_magic('bq', 'query', 'SELECT\n  YEAR,\n  MONTH\n  DAY,\n  AIRLINE,\n  FLIGHT_NUMBER,\n  ORIGIN_AIRPORT,\n  DESTINATION_AIRPORT,\n  DEPARTURE_DELAY\nFROM\n`team6-770.flight_data.bos_flights_only`\nLIMIT 5')


# **Dataset 2 - Airlines:** The airline dataset contains two columns, the name of the 14 airlines with domestic flights within the U.S. in 2015 and their airline codes and 15 rows. Because the flights dataset did not contain full airline names, we had to join the airlines table to the flights table by airline code to reference airline names. The following columns were availble in the airlines dataset:
# - Airline_name - the full name of the airline; a nullable string
# - IATA_code - the associated code with the airline; a nullable string
# 
# Below is a sample of the raw data from this table:

# In[49]:


get_ipython().run_cell_magic('bq', 'query', 'SELECT\n*\nFROM\n`team6-770.flight_data.airlines`\nORDER BY STRING_FIELD_0\nLIMIT 5')


# **Dataset 3 - Airports:** The airports table contains seven columns and 322 rows. Because the flights dataset did not contain full airport name or destination city, we used the IATA_CODE column to join to the flights table and capture this information. We used the following columns from the flights dataset:
# - IATA_code - the associated code with the airport; a nullable string
# - Airport - full name of the airport; a nullable string 
# - City - name of the city the airport is in; a nullable string
# - State - name of the state the airport is in; a nullable string
# - Country - name of the country the airport is in; a nullable string
# 
# Below is a sample of the raw data from this table:

# In[50]:


get_ipython().run_cell_magic('bq', 'query', 'SELECT\n  IATA_CODE,\n  AIRPORT,\n  CITY,\n  STATE,\n  COUNTRY\nFROM\n`team6-770.flight_data.airports`\nORDER BY IATA_code\nLIMIT 5')


# **Data Exploration**

# **Question:** How many cities can you fly to from Boston?
# 
# In 2015, Boston Logan had flights to 59 cities in the United States.

# In[51]:


get_ipython().run_cell_magic('bq', 'query', 'SELECT COUNT(DISTINCT B.CITY) AS DISTINCT_DESTINATION_COUNT\nFROM `team6-770.flight_data.bos_flights_only` A\nLEFT JOIN `team6-770.flight_data.airports` B\nON A.DESTINATION_AIRPORT = B.IATA_CODE;')


# **Question:** What are the most popular destinations from Boston?
# 
# The most popular destinations in 2015 were Ronald Reagan Airport (7,687 flights), LaGuardia Airport (7,096 flights), and Chicago O'Hare (6,551 flights).

# In[9]:


get_ipython().run_cell_magic('bq', 'query -n popular_destinations', 'SELECT AIRPORT, count(*) as NUMBER_OF_FLIGHTS\n FROM\n  `team6-770.flight_data.bos_flights_only` A\n  LEFT JOIN\n  `team6-770.flight_data.airports` B\n  ON A.DESTINATION_AIRPORT = B.IATA_CODE\n GROUP BY 1\nORDER BY count(*) DESC\nLIMIT 10;')


# In[8]:


get_ipython().run_cell_magic('chart', 'bars --d popular_destinations', 'title: Destination by Count of Flights in 2015\nheight: 400\nwidth: 1000')


# **Question:** How many flights are out of Boston each month?
# 
# Throughout the year there were between 8,300 and 10,800 flights out of Boston each month. January had the least amount of flights, with 8,837 while July had the most flights with 10,837. In general the winter months were the least busy while the summer months were the most busy. 

# In[54]:


get_ipython().run_cell_magic('bq', 'query ', '--flights_by_month\nSELECT MONTH, COUNT(flight_number) AS COUNT_OF_FLIGHTS\nFROM `team6-770.flight_data.bos_flights_only`\nGROUP BY month\nORDER BY month;')


# **Question:** Which destinations had highest percentage of delayed flights?
# 
# The city with the most delayed flights was Madison, with 100% of flights to Madison in 2015 being delayed. Upon further investigation though, there was only 1 flight to Madison so the statistic appears more extreme than it is. In fact, the top 3 most delayed destinations had less than 1 flight a day routed for that destination. For destinations with more than one flight scheduled per day, San Francisco, San Juan, and Denver experienced the highest delay rate with 58%, 58%, and 56% of flights delayed respectively. 

# In[55]:


get_ipython().run_cell_magic('bq', 'query', 'SELECT\n  DESTINATION_AIRPORT,\n  CITY,\n  ROUND((delayed/total_flights),3) AS PERC_OF_FLIGHTS_DELAYED,\n  TOTAL_FLIGHTS\nFROM (\n  SELECT\n    COUNT(*) AS total_flights,\n    destination_airport,\n    B.city,\n    SUM(CASE WHEN departure_delay >0 THEN 1\n      ELSE 0\n    END) AS delayed\n  FROM\n    `team6-770.flight_data.bos_flights_only` AS A\n  LEFT JOIN\n  `team6-770.flight_data.airports` B\n  ON A.DESTINATION_AIRPORT = B.IATA_CODE\n  GROUP BY 2,3) AS subquery\nORDER BY\n  perc_of_flights_delayed DESC\nLIMIT 10')


# **Question:** Which destination experienced the longest delays on average?
# 
# Atlantic City, Akron, and Myrtle Beach experienced the longest delays on average in 2015 with average delay times of 58 minutes, 55 minutes, and 53 minutes respectively.

# In[56]:


get_ipython().run_cell_magic('bq', 'query', 'SELECT  DESTINATION_AIRPORT, B.CITY, round(avg(departure_delay),2) as AVG_DELAY_TIME\n FROM\n  `team6-770.flight_data.bos_flights_only` A\n  LEFT JOIN\n  `team6-770.flight_data.airports` B\n  ON A.DESTINATION_AIRPORT = B.IATA_CODE\nWHERE\n  departure_delay > 0 \n GROUP BY 1, 2\nORDER BY avg_delay_time DESC\nLIMIT 10;')


# **Question:** What airlines have the most flights out of Boston?
#  
# In 2015, Jetblue Airways had by far the most flights out of Boston with a total of 37,962 flights and making up 35% of all flights out of Boston. Skywest Airlines had the least amount of flights from Boston, with only 258 for the year.

# In[57]:


get_ipython().run_cell_magic('bq', 'query', 'SELECT\n  AIRLINE_NAME,\n  FLIGHTS_BY_AIRLINE,\n  round((FLIGHTS_BY_AIRLINE / (select count(*) from `team6-770.flight_data.bos_flights_only` )),3) AS PERC_FLIGHTS\nFROM(\nSELECT string_field_1 as AIRLINE_NAME, COUNT(flight_number) AS FLIGHTS_BY_AIRLINE\nFROM `team6-770.flight_data.bos_flights_only`\njoin `team6-770.flight_data.airlines` on string_field_0 = airline\nGROUP BY airline_name\nORDER BY COUNT(flight_number) DESC\n) \norder by PERC_FLIGHTS DESC')


# In[58]:


get_ipython().run_cell_magic('bq', 'query -n perc_flights', 'SELECT\n  AIRLINE_NAME,\n  round((FLIGHTS_BY_AIRLINE / (select count(*) from `team6-770.flight_data.bos_flights_only` )),3) AS PERC_FLIGHTS\nFROM(\nSELECT string_field_1 as AIRLINE_NAME, COUNT(flight_number) AS FLIGHTS_BY_AIRLINE\nFROM `team6-770.flight_data.bos_flights_only`\njoin `team6-770.flight_data.airlines` on string_field_0 = airline\nGROUP BY airline_name\nORDER BY COUNT(flight_number) DESC\n) \norder by PERC_FLIGHTS DESC')


# In[59]:


get_ipython().run_cell_magic('chart', 'pie --data perc_flights', 'title: Percentage of Total Flights by Airline\nheight: 400\nwidth: 800')


# **Question:** What percent of flights are delayed for each airline?
# 
# United had the highest percentage of flights delayed with a 56% delay rate. Skywest and American Airlines had the lowest percentage of delayed flights with 26% of their flights in 2015 experiencing delays.

# In[60]:


get_ipython().run_cell_magic('bq', 'query', 'SELECT\n  AIRLINE_NAME,\n  round((delayed/total_flights),3) as PERC_OF_FLIGHTS_DELAYED\nFROM\n(SELECT\t\n  COUNT(*) as total_flights,\n string_field_1 as airline_name,\n  SUM(CASE when departure_delay > 0 then 1 else 0 end) as delayed\n FROM\n  `team6-770.flight_data.bos_flights_only`\n  join `team6-770.flight_data.airlines` on string_field_0 = airline\n GROUP by 2 ) as subquery\n ORDER by perc_of_flights_delayed desc ')


# **Question:** What airline had the longest delays on average?
# 
# While Atlantic Southeast had the 3rd lowest delay rate of all the airlines, their flights that did have delays experienced the longest delays on average with an average delay time of 44 minutes. Virgin America flights experienced the lowest average delay time at 27 minutes. 

# In[61]:


get_ipython().run_cell_magic('bq', 'query', 'select\n string_field_1 as AIRLINE_NAME,\n round(avg(departure_delay),2) as AVG_DELAY_TIME\nfrom\n  `team6-770.flight_data.bos_flights_only`\n  join `team6-770.flight_data.airlines` on string_field_0 = airline\nwhere\ndeparture_delay > 0\ngroup by 1\norder by round(avg(departure_delay),2) desc')


# **Question:** Which season has the most flight delays?
# 
# From the output, we can clearly see that winter had the highest delay rate, with 41% of flights delayed. The most likely reason for this is the high frequency of snow and extremely cold weather in winter in Boston. Surprisingly, the flight delay rate for summer, 39%,  is only 1% lower than that in winter, and the most possible reason is that hot air makes it harder for flights to fly because the density of the hot air itself will be thinner. By contract, Fall has the lowest flight delay rate, which is 29.4%. In summary, there are differences in delay rates between seasons.

# In[62]:


get_ipython().run_cell_magic('bq', 'query -n season_by_perc_of_flights_delayed', "SELECT\n  SEASON,\n  ROUND((delayed/total_flights),3) AS PERC_OF_FLIGHTS_DELAYED\nFROM (\n  SELECT\n    COUNT(*) AS total_flights,\n    CASE\n      WHEN MONTH IN (1, 2, 12) THEN 'WINTER'\n      WHEN MONTH IN (3,4,5) THEN 'SPRING'\n      WHEN MONTH IN (6, 7, 8) THEN 'SUMMER'\n    ELSE\n    'FALL'\n  END\n    AS SEASON,\n    SUM(CASE WHEN departure_delay >0 THEN 1\n      ELSE 0\n    END) AS delayed\n  FROM\n    `team6-770.flight_data.bos_flights_only`\n  GROUP BY 2) AS subquery\nORDER BY\n  perc_of_flights_delayed DESC")


# In[63]:


get_ipython().run_cell_magic('chart', 'columns --d season_by_perc_of_flights_delayed', 'title: Season by Percent of Flights Delayed\nheight: 400\nwidth: 700')


# **Question:** Which holiday season has the most flight delays?
# 
# Note: To explore this question, and all questions related to holidays, we looked at the days leading up to each holiday because we know most people will fly the couple of days leading up to a holiday rather than on the actual holiday. 
# 
# We can see that the delayed percentage of flights around Christmas was higher than any other holiday. This was likely because of the increase of tourists, students leaving school and generally more crowded flights. In addition, Christmas is in the winter time where there is as greater chance of delay because of snow. By contrast, the percentage of delays for the other four holidays was lower than a typical day.

# In[64]:


get_ipython().run_cell_magic('bq', 'query', "select HOLIDAY,round((delayed/total_flights),4) as PERC_OF_FLIGHTS_DELAYED\nfrom (select\n   count(*) as total_flights,\n  CASE WHEN (MONTH = 12 AND DAY BETWEEN 24 AND 31) OR (MONTH = 1 AND DAY BETWEEN 1 AND 2) THEN 'Christmas/New Years'\n  WHEN (MONTH = 11 AND DAY BETWEEN 21 AND 26) THEN 'Thanksgiving'\n  WHEN (MONTH = 5 AND DAY BETWEEN 21 AND 26) THEN 'Memorial Day'\n  WHEN (MONTH = 9 AND DAY BETWEEN 3 AND 8) THEN 'Labor Day'\n  WHEN (MONTH = 7 AND DAY BETWEEN 2 AND 6) THEN 'July 4th'\n  else 'Regular'\n  END AS holiday,\n  sum(case when departure_delay >0 then 1 else 0 end) as delayed\n from `team6-770.flight_data.bos_flights_only`\n group by 2)\n order by perc_of_flights_delayed desc")


# **Question:** What are the top 5 most popular destinations by season and holiday?
# 
# Boston is known for having a very diverse and young demographic with individuals from every corner of the country and outside the country attracted to the rich academic and professional work culture. As flying to different corners of the country for short holidays has become very convenient, we wanted to explore the most popular destinations during different holidays of the year. As expected the most flights out of Boston are around the Christmas and New Years period compared to any other major holidays (such as Thanksgiving, Labor Day, and Memorial Day). Chicago is the most popular destination during the Christmas/New Years, followed by Atlanta, New York, Los Angeles, and Baltimore. For Thanksgiving, Arlington, VA appears to be a significantly more popular destination, followed by Chicago. Similarly, Arlington and Chicago are the most popular destinations for Memorial Day and Labor Day, with Chicago being the most popular for Labor Day and Arlington for Memorial Day. 
# Given the fact that Arlington and Chicago are top domestic destinations from Boston Logan during Thanksgiving, Memorial Day, and Labor Day, it is not a surprise that these two cities are also the most popular destinations in the Summer and Fall. In the Winter and Spring, New York, Chicago and Arlington are the most popular destinations, with remarkably more flights to New York in the Winter. Refer to the tables below for the top 5 most popular destinations by seasons and holidays. The popularity of these airports may be partly explained by the fact that they are all large international airports that are popular for connecting flights.

# In[65]:


get_ipython().run_cell_magic('bq', 'query ', "----- all holidays into one query\nwith labor_day as (\nSELECT COUNT(DESTINATION_AIRPORT) AS DESTINATION_COUNT, DESTINATION_AIRPORT, B.CITY,\nCASE \n  WHEN (MONTH = 12 AND DAY BETWEEN 24 AND 31) OR (MONTH = 1 AND DAY BETWEEN 1 AND 2) THEN 'Christmas/New Years'\n  WHEN (MONTH = 11 AND DAY BETWEEN 21 AND 26) THEN 'Thanksgiving'\n  WHEN (MONTH = 5 AND DAY BETWEEN 21 AND 26) THEN 'Memorial Day'\n  WHEN (MONTH = 9 AND DAY BETWEEN 3 AND 8) THEN 'Labor Day'\n  WHEN (MONTH = 7 AND DAY BETWEEN 2 AND 6) THEN 'July 4th'\n  ELSE 'Regular'\n  END AS Holiday\nFROM `team6-770.flight_data.bos_flights_only` AS A\nLEFT JOIN `team6-770.flight_data.airports` AS B\nON A.DESTINATION_AIRPORT = B.IATA_CODE\nWHERE (MONTH = 9 AND DAY BETWEEN 3 AND 8)\nGROUP BY Holiday, DESTINATION_AIRPORT, B.CITY\nORDER BY COUNT(DESTINATION_AIRPORT) DESC\nLIMIT 5\n),\n\nmemorial_day as (\n-- Memorial Day\nSELECT COUNT(DESTINATION_AIRPORT) AS DESTINATION_COUNT, DESTINATION_AIRPORT, B.CITY,\nCASE \n  WHEN (MONTH = 12 AND DAY BETWEEN 24 AND 31) OR (MONTH = 1 AND DAY BETWEEN 1 AND 2) THEN 'Christmas/New Years'\n  WHEN (MONTH = 11 AND DAY BETWEEN 21 AND 26) THEN 'Thanksgiving'\n  WHEN (MONTH = 5 AND DAY BETWEEN 21 AND 26) THEN 'Memorial Day'\n  WHEN (MONTH = 9 AND DAY BETWEEN 3 AND 8) THEN 'Labor Day'\n  WHEN (MONTH = 7 AND DAY BETWEEN 2 AND 6) THEN 'July 4th'\n  ELSE 'Regular'\n  END AS HOLIDAY\nFROM `team6-770.flight_data.bos_flights_only` AS A\nLEFT JOIN `team6-770.flight_data.airports` AS B\nON A.DESTINATION_AIRPORT = B.IATA_CODE\nWHERE (MONTH = 5 AND DAY BETWEEN 21 AND 26)\nGROUP BY Holiday, DESTINATION_AIRPORT, B.CITY\nORDER BY COUNT(DESTINATION_AIRPORT) DESC\nLIMIT 5\n),\n\nthanksgiving as (\nSELECT COUNT(DESTINATION_AIRPORT) AS DESTINATION_COUNT, DESTINATION_AIRPORT, B.CITY,\nCASE \n  WHEN (MONTH = 12 AND DAY BETWEEN 24 AND 31) OR (MONTH = 1 AND DAY BETWEEN 1 AND 2) THEN 'Christmas/New Years'\n  WHEN (MONTH = 11 AND DAY BETWEEN 21 AND 26) THEN 'Thanksgiving'\n  WHEN (MONTH = 5 AND DAY BETWEEN 21 AND 26) THEN 'Memorial Day'\n  WHEN (MONTH = 9 AND DAY BETWEEN 3 AND 8) THEN 'Labor Day'\n  WHEN (MONTH = 7 AND DAY BETWEEN 2 AND 6) THEN 'July 4th'\n  ELSE 'Regular'\n  END AS HOLIDAY\nFROM `team6-770.flight_data.bos_flights_only` AS A\nLEFT JOIN `team6-770.flight_data.airports` AS B\nON A.DESTINATION_AIRPORT = B.IATA_CODE\nWHERE (MONTH = 11 AND DAY BETWEEN 21 AND 26)\nGROUP BY Holiday, DESTINATION_AIRPORT, B.CITY\nORDER BY COUNT(DESTINATION_AIRPORT) DESC\nLIMIT 5),\n\nchristmas_new_years as (\n-- Christmas/New Years\nSELECT COUNT(DESTINATION_AIRPORT) AS DESTINATION_COUNT, DESTINATION_AIRPORT, B.CITY,\nCASE \n  WHEN (MONTH = 12 AND DAY BETWEEN 24 AND 31) OR (MONTH = 1 AND DAY BETWEEN 1 AND 2) THEN 'Christmas/New Years'\n  WHEN MONTH IN(12,1,2) THEN 'Winter'\n  WHEN MONTH IN(6,7,8) THEN 'Summer'\n  ELSE 'Fall'\n  END AS SEASON\nFROM `team6-770.flight_data.bos_flights_only` AS A\nLEFT JOIN `team6-770.flight_data.airports` AS B\nON A.DESTINATION_AIRPORT = B.IATA_CODE\nWHERE (MONTH = 12 AND DAY BETWEEN 24 AND 31) OR (MONTH = 1 AND DAY BETWEEN 1 AND 2)\nGROUP BY Season, DESTINATION_AIRPORT, B.CITY\nORDER BY COUNT(DESTINATION_AIRPORT) DESC\nLIMIT 5\n)\n\nselect\n*\nfrom\nlabor_day\n\nunion all\n\nselect\n*\nfrom\nmemorial_day\n\nunion all\n\nselect\n*\nfrom\nthanksgiving\n\nunion all \n\nselect\n*\nfrom\nchristmas_new_years")


# In[66]:


get_ipython().run_cell_magic('bq', 'query', "----- TRYING TO COMBINE\nwith winter as (\nSELECT COUNT(DESTINATION_AIRPORT) AS DESTINATION_COUNT, DESTINATION_AIRPORT, B.CITY,\nCASE \n  WHEN MONTH IN(3,4,5) THEN 'Spring'\n  WHEN MONTH IN(12,1,2) THEN 'Winter'\n  WHEN MONTH IN(6,7,8) THEN 'Summer'\n  ELSE 'Fall'\n  END AS Season\nFROM `team6-770.flight_data.bos_flights_only` AS A\nLEFT JOIN `team6-770.flight_data.airports` AS B\nON A.DESTINATION_AIRPORT = B.IATA_CODE\nWHERE MONTH IN (12,1,2)\nGROUP BY Season, DESTINATION_AIRPORT, B.CITY\nORDER BY COUNT(DESTINATION_AIRPORT) DESC\nLIMIT 5 \n),\n\nspring as (\nSELECT COUNT(DESTINATION_AIRPORT) AS DESTINATION_COUNT, DESTINATION_AIRPORT, B.CITY,\nCASE \n  WHEN MONTH IN(3,4,5) THEN 'Spring'\n  WHEN MONTH IN(12,1,2,3) THEN 'Winter'\n  WHEN MONTH IN(6,7,8) THEN 'Summer'\n  ELSE 'Fall'\n  END AS SEASON\nFROM `team6-770.flight_data.bos_flights_only` AS A\nLEFT JOIN `team6-770.flight_data.airports` AS B\nON A.DESTINATION_AIRPORT = B.IATA_CODE\nWHERE MONTH IN (3,4,5)\nGROUP BY Season, DESTINATION_AIRPORT, B.CITY\nORDER BY COUNT(DESTINATION_AIRPORT) DESC\nLIMIT 5\n),\n\nsummer as (\nSELECT COUNT(DESTINATION_AIRPORT) AS DESTINATION_COUNT, DESTINATION_AIRPORT, B.CITY,\nCASE \n  WHEN MONTH IN(3,4,5) THEN 'Spring'\n  WHEN MONTH IN(12,1,2) THEN 'Winter'\n  WHEN MONTH IN(6,7,8) THEN 'Summer'\n  ELSE 'Fall'\n  END AS SEASON\nFROM `team6-770.flight_data.bos_flights_only` AS A\nLEFT JOIN `team6-770.flight_data.airports` AS B\nON A.DESTINATION_AIRPORT = B.IATA_CODE\nWHERE MONTH IN (6,7,8)\nGROUP BY Season, DESTINATION_AIRPORT, B.CITY\nORDER BY COUNT(DESTINATION_AIRPORT) DESC\nLIMIT 5),\n\nfall as (\nSELECT COUNT(DESTINATION_AIRPORT) AS DESTINATION_COUNT, DESTINATION_AIRPORT, B.CITY,\nCASE \n  WHEN MONTH IN(3,4,5) THEN 'Spring'\n  WHEN MONTH IN(12,1,2) THEN 'Winter'\n  WHEN MONTH IN(6,7,8) THEN 'Summer'\n  ELSE 'Fall'\n  END AS Season\nFROM `team6-770.flight_data.bos_flights_only` AS A\nLEFT JOIN `team6-770.flight_data.airports` AS B\nON A.DESTINATION_AIRPORT = B.IATA_CODE\nWHERE MONTH IN (9,10,11)\nGROUP BY Season, DESTINATION_AIRPORT, B.CITY\nORDER BY COUNT(DESTINATION_AIRPORT) DESC\nLIMIT 5)\n\nselect\n*\nfrom\nwinter\n\nunion all\n\nselect\n*\nfrom\nspring\n\nunion all\n\nselect\n*\nfrom\nsummer\n\nunion all \n\nselect\n*\nfrom\nfall")


# **Question:** What is the most popular time of day to fly out of Boston?
# 
# Note: The definitions we will use for time of day are as follows:
# - Morning: 5:00 AM - 11:59 AM
# - Afternoon: 12:00 PM - 4:59 PM
# - Evening: 5:00 PM - 1:30 AM
# 
# Almost half of all flights out of Boston are in the morning. About 25% of flights are scheduled for both the afternoon and evening. There were no flights scheduled between 2 AM and 5 AM out of Boston in 2015. 

# In[67]:


get_ipython().run_cell_magic('bq', 'query', "select\ncase when scheduled_departure between 500 and 1159 then 'MORNING'\n      when scheduled_departure between 1200 and 1659 then 'AFTERNOON'\n      when (scheduled_departure between 1700 and 2359) or (scheduled_departure between 0 and 130) then 'NIGHT'\n     end as TIME_OF_DAY,\ncount(*) as COUNT_OF_FLIGHTS\nfrom\n  `team6-770.flight_data.bos_flights_only`\n group by 1")


# **Question:** Which time of day experienced the most flight delays?
# 
# Flights scheduled in the evening had the highest delay rate at 51%. This is not surprising because we know that the same plane will be used for multiple flights over the course of the day. If an aircraft has a delay in the morning it will likely impact all subsequent flights on that aircraft that day. The second highest delay rate is experienced in the afternoon with 42% of flights delayed, followed be the morning with 26% of flights delayed. 

# In[68]:


get_ipython().run_cell_magic('bq', 'query -n timeofday', "select\n  TIME_OF_DAY,\n  round((delayed/total_flights),3) as PERC_OF_FLIGHTS_DELAYED\nfrom\n(select\n  count(*) as total_flights,\n  case when scheduled_departure between 500 and 1159 then 'MORNING'\n      when scheduled_departure between 1200 and 1659 then 'AFTERNOON'\n      when (scheduled_departure between 1700 and 2359) or (scheduled_departure between 0 and 130) then 'NIGHT'\n     end as TIME_OF_DAY,\n  sum(case when departure_delay >0 then 1 else 0 end) as delayed\n from\n  `team6-770.flight_data.bos_flights_only`\n group by 2 ) as subquery\n order by perc_of_flights_delayed desc")


# In[69]:


get_ipython().run_cell_magic('chart', 'bars --d timeofday', 'title: Time of Day by Percent of Flights Delayed\nheight: 400\nwidth: 700')


# **Question:** For flights that were delayed, how delayed were they on average?
#   
# Not only do evening flights experience more delays than flights in the morning or afternoon, but they also have the longest delays on average with an average delay time of 40 minutes. Flights scheduled for the morning were delayed less than any other time of day and had the shortest average delay time at 27 minutes. 

# In[70]:


get_ipython().run_cell_magic('bq', 'query --n time_day_avg_delay', "select\n  case when scheduled_departure between 500 and 1159 then 'MORNING'\n      when scheduled_departure between 1200 and 1659 then 'AFTERNOON'\n      when (scheduled_departure between 1700 and 2359) or (scheduled_departure between 0 and 130) then 'NIGHT'\n     end as TIME_OF_DAY,\n round(avg(departure_delay),2) as AVG_DELAY_TIME\n from\n  `team6-770.flight_data.bos_flights_only`\nwhere\n  departure_delay > 0 \n group by 1\t\norder by avg_delay_time desc")


# In[71]:


get_ipython().run_cell_magic('chart', 'columns --d time_day_avg_delay', 'title: Time of Day by Avg Delay Time\nheight: 400\nwidth: 700')


# **Summary**
# 
# Our project investigated flight delays out of Boston Logan International Airport for domestic flights in 2015 to identify the most time-efficient trips for travelers from Boston. By summarizing and organizing the original dataset, we examined the relationships between flight delays out of Boston with destination, airline, time of day, season and holiday.
#  
# In 2015 flights from Boston departed to 59 cities within the United States. The destinations with the highest delay rates were Dallas (65%), Sacramento (59%), and San Francisco (58%). Madison did have the highest delay rate with 100% of flights delayed, but there was only one flight to Madison in 2015 so the sample size did not make it noteworthy enough to include in our top destination delays list. In addition, Atlantic City, Akron, and Myrtle Beach had the longest delay time on average with average delays of 58, 55, and 53 minutes respectively.
#  
# For airlines, JetBlue accounted for 35% of the total flights out of Boston in 2015 and had the 5th (out of 11) lowest delay rate with 36% of their total flights delayed. United had the highest delay rate with more than half (56%) of their flights experiencing delays. 
#  
# For the time of day, in 2015 the morning was the most popular time of day to fly and also had the lowest delay rate (26%) and shortest average delays at 27 minutes. In contrast, nighttime had the highest delay (51%) rate as well as the longest average delays at 41 minutes.
#  
# For the aspect of seasons, winter had the highest delay rate with 41% of total flights delayed, likely due to poor weather and congestion due to holiday travelers. As for major holidays, Christmas/New Year was the only holiday with a delay rate higher than regular days, with almost 50% of flights delayed.

# In[ ]:




