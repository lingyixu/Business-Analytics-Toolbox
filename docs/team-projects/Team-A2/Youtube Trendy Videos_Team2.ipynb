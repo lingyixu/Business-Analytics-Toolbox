#!/usr/bin/env python
# coding: utf-8

# # What makes a trendy Youtube video?
# 

# Our team has decided to use ‘Trending Youtube Video Statistics’  datasets which show a top daily record of popular YouTube videos.  Some of the top performers on the YouTube trending list are music videos, celebrity and/or reality TV performances, and the random dude-with-a-camera viral videos that YouTube is well-known for.  As Youtube being a world-famous video-sharing website, we would like to understand what factors make Youtube videos on-trend in United States. The original dataset consists of 10 countries’ data; however, for this particular project, we will only discuss Youtube trending in the U.S. Our datasets consist of US trending youtube videos information include title, channel_title, category_id, tags, views, likes, dislikes, comment_count, thumbnail_link, and comments_disabled as well as a categories_id reference data. By analyzing the dataset, we predict which factors will make a popular Youtube video in United States. Dataset:https://www.kaggle.com/datasnaek/youtube-new  

# ### Preview tables: understanding tables' contents

# In[35]:


get_ipython().run_cell_magic('bq', 'query', 'SELECT *\nFROM `ba770team2.youtube.USvideos`\nLIMIT 1')


# In[2]:


get_ipython().run_cell_magic('bq', 'query', 'SELECT *\nFROM `ba770team2.youtube.us_id`\nLIMIT 1')


# ### Clean data

# #### Create a new table "USvideos_clean" to store the lastest trending date for each video 

# #### This table cleaned duplicates and will be used for mostly numerical factors (views,likes, dislikes and comment_counts)

# This step was done in big query by saving the following query result: 
# SELECT video_id, MAX(PARSE_DATE('%y.%d.%m',trending_date)) AS trending, title, channel_title, category_id, publish_time, string_agg(DISTINCT tags) AS tags, MAX(views) AS views, MAX(likes) AS likes, MAX(dislikes) AS dislikes, MAX(comment_count) AS comment_count, thumbnail_link, comments_disabled, ratings_disabled, video_error_or_removed
# FROM `ba770team2.youtube.USvideos`
# GROUP BY video_id, title,channel_title, category_id, publish_time, thumbnail_link, comments_disabled, ratings_disabled, video_error_or_removed

# ### TOP 10 videos

# #### What's top 10 videos by trending days and how many days on trend? 

# In[1]:


get_ipython().run_cell_magic('bq', 'query', 'SELECT title , count(*) AS trending_days\nFROM `ba770team2.youtube.USvideos`\nGROUP BY title\nORDER BY count(*) DESC \nLIMIT 10')


# #### What's TOP 10 videos DESC by likes?

# In[2]:


get_ipython().run_cell_magic('bq', 'query', 'SELECT  title, views,likes, dislikes, comment_count,snippet_title\nFROM `ba770team2.youtube.USvideos_clean` AS table1\nINNER JOIN ba770team2.youtube.us_id AS table2\nON table1.category_id = table2.id\nORDER BY  likes DESC\nLIMIT 10')


# #### What's TOP 10 videos DESC by dislikes?

# In[3]:


get_ipython().run_cell_magic('bq', 'query', 'SELECT title, views, dislikes, comment_count,snippet_title\nFROM `ba770team2.youtube.USvideos_clean` AS table1\nINNER JOIN ba770team2.youtube.us_id AS table2\nON table1.category_id = table2.id\nORDER BY  dislikes DESC\nLIMIT 10')


# #### What's TOP 10 videos DESC by comment_count? 

# In[4]:


get_ipython().run_cell_magic('bq', 'query', 'SELECT  title, views,likes, dislikes, comment_count,snippet_title\nFROM `ba770team2.youtube.USvideos_clean` AS table1\nINNER JOIN ba770team2.youtube.us_id AS table2\nON table1.category_id = table2.id\nORDER BY  comment_count DESC\nLIMIT 10')


# #### What's TOP 10 videos DESC by views?

# In[5]:


get_ipython().run_cell_magic('bq', 'query', 'SELECT  title, views,likes, dislikes, comment_count,snippet_title\nFROM `ba770team2.youtube.USvideos_clean` AS table1\nINNER JOIN ba770team2.youtube.us_id AS table2\nON table1.category_id = table2.id\nORDER BY  views DESC\nLIMIT 10')


# By generating Top 10 videos and categories by number of 1) likes, 2) dislikes, 3) comments count, and 4) views, we can observe different results on each column. Especially, there are more types of categories including “Entertainment”, “Music”, “Gaming”,  and “Nonprofits & Activism” in dislikes, comments count than those having only “Entertainment” and “Music” in views and likes. However, “Music” contents are obviously more popular than other contents in Top 10 videos.

# ### 1.How does category affect videos trending?

# #### a) number of videos per category

# In[1]:


get_ipython().run_cell_magic('bq', 'query', 'SELECT snippet_title AS category ,COUNT(snippet_title) AS numbers\nFROM ba770team2.youtube.DESC_likes\nGROUP BY snippet_title\nORDER BY numbers DESC')


# #### b) Graph number of videos per category in a pie chart

# In[6]:


get_ipython().run_cell_magic('bq', 'query -n number_of_videos', 'SELECT snippet_title,count (snippet_title)as numbers\nFROM ba770team2.youtube.DESC_likes as table1\nGROUP BY snippet_title')


# In[9]:


get_ipython().run_cell_magic('chart', 'pie -d number_of_videos', '')


# Given the pie chart shows the percentage of the numbers of Youtube videos in each category. By counting the snippet_title from the table, we got 16 categories in total. As the Chart shows, the main category of the videos is Entertainment, which account for 25.4% in the whole videos; and the second main category is Music, which was 12.7% in the whole videos.
# 

# ### 2.How does publish time affect videos trending?

# #### a)Which month's video published get most featured on trend ?

# In[7]:


get_ipython().run_cell_magic('bq', 'query', 'SELECT month, COUNT(*) as videos_per_month\nFROM(\nSELECT EXTRACT(month from publish_time) as month\nFROM `ba770team2.youtube.USvideos`)\nGROUP BY month\nORDER BY videos_per_month DESC;')


# We count number of videos published to be on trend per month. As a result, May, Feb, Dec, Mar, Jan, Apr, and Nov are more likely to be popular months to be published on trend than other months are. 

# #### b)Which weekday's video published get most featured on trend ?

# In[8]:


get_ipython().run_cell_magic('bq', 'query', "SELECT \nCASE WHEN weekday = 1 THEN 'MONDAY'\n     WHEN weekday = 2 THEN 'TUESDAY'\n     WHEN weekday = 3 THEN 'WEDNESDAY'\n     WHEN weekday = 4 THEN 'THURSDAY'\n     WHEN weekday = 5 THEN 'FRIDAY'\n     WHEN weekday = 6 THEN 'SATURDAY'\n     ELSE 'SUNDAY' END AS week_day, videos_weekday\n      \nFROM(\nSELECT weekday, COUNT(*) as videos_weekday\nFROM(\nSELECT EXTRACT(DAYOFWEEK from publish_time) as weekday\nFROM `ba770team2.youtube.USvideos`)\nGROUP BY weekday\nORDER BY videos_weekday DESC);")


# Videos are published on Tuesday through Saturday  get more on trend than Sunday and Monday. Youtuber who wants their videos to get trendy, this can be a useful information. 

# #### c)What time is a good time for videos to publish in order to be on trend ?

# In[9]:


get_ipython().run_cell_magic('bq', 'query', "SELECT time, COUNT(*) AS videos_time\nFROM(\nSELECT \n  CASE WHEN EXTRACT(hour FROM publish_time)>=0 AND EXTRACT(hour FROM publish_time)<3 THEN '0:00-3:00'\n  WHEN EXTRACT(hour FROM publish_time)>=3 AND EXTRACT(hour FROM publish_time)<6 THEN '3:00-6:00'\n  WHEN EXTRACT(hour FROM publish_time)>=6 AND EXTRACT(hour from publish_time)<9 THEN '6:00-9:00'\n  WHEN EXTRACT(hour FROM publish_time)>=9 AND EXTRACT(hour from publish_time)<12 THEN '9:00-12:00'\n  WHEN EXTRACT(hour FROM publish_time)>=12 AND EXTRACT(hour from publish_time)<15 THEN '12:00-15:00'\n  WHEN EXTRACT(hour FROM publish_time)>=15 AND EXTRACT(hour from publish_time)<18 THEN '15:00-18:00'\n  WHEN EXTRACT(hour FROM publish_time)>=18 AND EXTRACT(hour from publish_time)<21 THEN '18:00-21:00'\n  ELSE'21:00-24:00' END AS time\nFROM `ba770team2.youtube.USvideos`)\nGROUP BY time\nORDER BY videos_time DESC\n;")


# On the same line with month’s and weekday’s, we make 3-hour-ranges of time within 24hours a day to observe which time range is better than others to get videos on trend. As a result, the videos published from 15:00 to 12:00 midnight, videos may have more chances to get on trend, which can be assumed this range of 
# time have easier access to viewers. 

# #### d)What is the average days for a video to be on trending?

# In[10]:


get_ipython().run_cell_magic('bq', 'query', "SELECT AVG(DATE_DIFF(trending,DATE(publish_time),day))\nFROM(\nSELECT video_id, MIN(PARSE_DATE('%y.%d.%m',trending_date)) AS trending, title, publish_time\nFROM `ba770team2.youtube.USvideos`\ngroup by video_id, title, publish_time)")


# The average days to take a video from publish to trend is about 22 days.

# ### 3. How does title affect videos to be on trend? 

# #### a)What's most common words used in title? 

# In[11]:


get_ipython().run_cell_magic('bq', 'query', 'select * from(\nSELECT words, count(*) AS count_words\nFROM `ba770team2.youtube.USvideos`, UNNEST(SPLIT(title, " ")) words\nGROUP BY words\nhaving UPPER(words) NOT IN ("THE","The","A", "TO", "-","|", \n  "OF","IN","IS","&","AND","WITH","ON","TO","AT","FOR","IT","","BY","FROM","I","2","MY")\n)\nORDER BY count_words DESC\nLIMIT 20')


# This result can be compared to data of Top 10 videos categorized by views, likes, dislikes, and comments count above. Excluding types of words including preposition, article any other not relating to contents, most common words are “Video”, “Trailer”, “Official”, “ft” and “Music” indicating “Entertainment” and “Music” as popular contents of vides on trend. 

# #### b)How does the length of title affect trendings?

# ##### First step: Count videos that on trend for over 15 days 

# In[12]:


get_ipython().run_cell_magic('bq', 'query', 'SELECT count(*) \nFROM(\nSELECT title, CHAR_LENGTH(title) as length, count(*) as trending_days\nFROM `ba770team2.youtube.USvideos` \nGROUP BY title\nHAVING trending_days > 15\nORDER BY trending_days DESC); ')


# There are totally 285 Youtube videos on the trending over 15 days

# ##### Next step: % of videos title length under 60

# In[13]:


get_ipython().run_cell_magic('bq', 'query', 'WITH length_under_60 AS (SELECT count(*) as count_videos\nFROM(\nSELECT title, CHAR_LENGTH(title) as length, count(*) as trending_days\nFROM `ba770team2.youtube.USvideos` \nGROUP BY title\nHAVING trending_days > 15\nORDER BY trending_days DESC)\nWHERE length < 60)\nSELECT count_videos/285\nFROM length_under_60; ')


# 76% of the Youtube video that on the trending over 15 days has less than 60 characters in title. Therefore, we could assume that the shorter title is more likely to be on trending. 

# ### 4.How does comments_disabled and rating_disabled affect videos?

# #### a)Rating_disabled 

# In[15]:


get_ipython().run_cell_magic('bq', 'query', 'SELECT id.snippet_title AS category, COUNT(v.category_id) AS count_category \nFROM `ba770team2.youtube.USvideos_clean`AS v\nINNER JOIN `ba770team2.youtube.us_id`AS id\nON v.category_id = id.id\nWHERE ratings_disabled IS TRUE\nGROUP BY v.category_id, id.snippet_title \nORDER BY count_category DESC')


# Within videos with ratings disabled, we can observe that the top 3 popular video categories are People & Blogs, Entertainment, Music, among the total 11 categories.
# 

# #### b)Comments disabled

# In[26]:


get_ipython().run_cell_magic('bq', 'query', 'SELECT id.snippet_title AS category, COUNT(v.category_id) AS count_category \nFROM `ba770team2.youtube.USvideos_clean`AS v\nINNER JOIN `ba770team2.youtube.us_id`AS id\nON v.category_id = id.id\nWHERE comments_disabled IS TRUE\nGROUP BY v.category_id, id.snippet_title \nORDER BY count_category\nDESC')


# Within videos with comments disabled, we can observe that the top 3 popular video categories are News & Politics ,Entertainment, Science & Technology, among the total 14 categories.
# 
# 
# 

# If we compare these two tables, we can observe that not all of 16 categories have disabled comments and disabled ratings on trending. Travel, Events and Shows don’t show in both tables. Gaming, Comedy , Pets& Anminals that are on trend have disabled comments but don’t have disabled ratings. 
# Through this analysis, we could make the assumption that disabled comments and ratings have different affects on the trendy of video for different categories. For example, disabled ratings would have more affect on trendy of videos than disabled comments have for News and Politics.

# ### 5. How likely is it for people to leave comments,likes and dislikes on trending videos?

# #### a)How many percent of video viewers will leave a message? 

# In[16]:


get_ipython().run_cell_magic('bq', 'query', 'SELECT v.title, v.comment_count/v.views  as Ratio_of_Comments_to_Views\n, id.snippet_title as category\nFROM `ba770team2.youtube.USvideos_clean`AS v\nINNER JOIN `ba770team2.youtube.us_id`AS id\nON v.category_id = id.id\nGROUP BY v.title, v.category_id, id.snippet_title,v.comment_count,v.views\nORDER BY Ratio_of_Comments_to_Views DESC\nLIMIT 10')


# Comments_count over views’ highest ratio is 0.09 which can be assumed that it may be difficult for youtubers to get comments by viewers.

# #### b)How many percent of video viewers like the video?

# In[17]:


get_ipython().run_cell_magic('bq', 'query', 'SELECT title, ROUND(s_likes/s_views, 2) AS l_v_ratio, snippet_title AS category\nFROM (SELECT v.title, v.category_id, SUM(v.views) AS s_views, SUM(v.likes) AS s_likes, SUM(v.dislikes) AS s_dislikes, SUM(v.comment_count) AS s_comment_count, id.snippet_title \nFROM `ba770team2.youtube.USvideos_clean`AS v\nINNER JOIN `ba770team2.youtube.us_id`AS id\nON v.category_id = id.id\nGROUP BY v.title, v.category_id, id.snippet_title\n) AS popular_video\nORDER BY l_v_ratio DESC\nLIMIT 10')


# The highest ratio of like is about 23 %.

# #### c)How many percent of video viewers dislike the video?

# In[29]:


get_ipython().run_cell_magic('bq', 'query', 'SELECT title, ROUND(s_dislikes/s_views, 2) AS dl_v_ratio, snippet_title AS category\nFROM (SELECT v.title, v.category_id, SUM(v.views) AS s_views, SUM(v.likes) AS s_likes, SUM(v.dislikes) AS s_dislikes, SUM(v.comment_count) AS s_comment_count, id.snippet_title \nFROM `ba770team2.youtube.USvideos_clean`AS v\nINNER JOIN `ba770team2.youtube.us_id`AS id\nON v.category_id = id.id\nGROUP BY v.title, v.category_id, id.snippet_title\n) AS popular_video\nORDER BY dl_v_ratio DESC\nLIMIT 10')


# The highest ratio of likes over views is 23% comparable to the one of dislikes over views, 19%. With such similar resulted numbers between them, correlation relationship analysis will be necessary to figure out whether or not there is any difference between likes and dislikes over views.

# ### 6. What's the correlation relationships between numerical factors? 

# #### a)What's the relationship between views and likes?

# In[20]:


get_ipython().run_cell_magic('bq', 'query -n Likes vs Views Comparisons', 'SELECT likes,views\nFROM `ba770team2.youtube.USvideos_clean`')


# In[22]:


get_ipython().run_cell_magic('chart', 'scatter -d Likes vs Views Comparison', "title: Likes vs Views Comparison\nhAxis:\n  title: likes\nvAxis:\n  title: views\ntrendlines: {\n    0: {type: 'linear',\n      color: 'purple', \n      lineWidth: 3,\n      opacity: 0.3,\n      showR2: true,\n      visibleInLegend: true\n    }\n}")


# This scatter chart shows strong positive linear association between views(y axis) and likes(x axis)with few potential outliers. The relationship between views and likes is strong with coefficient of 30.4 , and R-square being 0.7 shows 70% of data fits this model.

# #### b)What's the relationship between dislikes and views?

# In[26]:


get_ipython().run_cell_magic('bq', 'query -n dislikes_vs_views', 'SELECT dislikes, views\nFROM `ba770team2.youtube.USvideos_clean`')


# In[27]:


get_ipython().run_cell_magic('chart', 'scatter -d dislikes_vs_views', "title: Dislikes vs Views Comparison\nhAxis:\n  title: dislikes\nvAxis:\n  title: views\ntrendlines: {\n    0: {type: 'linear',\n      color: 'red',\n      lineWidth: 3,\n      opacity: 0.3,\n      showR2: true,\n      visibleInLegend: true\n    }\n}")


# There's a loose correlation relationship between views and dislikes with 97 coeffecient; as the views increasing the number of dislikes are in a constant range. Also it has few outliers, some videos with high views has outstanding numbers of dislikes. 

# #### c)What's the relationship between comments and views?

# In[33]:


get_ipython().run_cell_magic('bq', 'query -n comment_count_vs_views', 'SELECT comment_count, views\nFROM `ba770team2.youtube.USvideos_clean`')


# In[34]:


get_ipython().run_cell_magic('chart', 'scatter -d comment_count_vs_views', "title: Comment_count vs Views Comparison\nhAxis:\n  title: comment_count\nvAxis:\n  title: views\ntrendlines: {\n    0: {type: 'linear',\n      color: 'green',\n      lineWidth: 3,\n      opacity: 0.3,\n      showR2: true,\n      visibleInLegend: true\n    }\n}")


# Comment_count over views' coeffecient is 119.86  with R squared of 0.33 that only 33% of data can be explained by this model.

# ### Summary

# After observing two datasets in preview section, we learned about some interesting factors about TOP 10 trending videos and had a breif understanding of this data. In this report, we analyzed this dataset through six main topics: categories, publish/trending time, title, rating/comments disabled, numerical ratios and relationships. 
# 
# For video categories, we found out that entertainment has the highest number of videos to be featured on trend; however, music is the category most popular in terms of days of trend, likes and views. The results of time analysis indicate that videos published around 3pm-9pm on Saturday and Friday are more likely to be on trend. We were also surprised to find that 22 days being the average time to take a video on trend from publish time. These 22 days could be the optimal time period for a Youtuber to promote his/her videos in order to be featured on trend. Additionally, title analysis show us that 70% of videos' titles less than 60 characters are on trend for over 15 days. This could imply that fewer character in title length could favor the Youtuber. On top of that, we found out most of common words in these trending videos title are “Trailers”,”How”,”2018”,”Official” and ”What” etc. We could assume that more people like to watch trailer or offical music videos. “How” and “What” indicate people may also interested in videos about "how to do" or reviews. Disabled rating and disabled comments may have different degrees of impact depending on different categories as we explicitly explained above. 
# 
# Lastly, views and likes relationship indicates that likes is an important factor for views. In contrast, views and dislikes don't have such strong correlations; however, there has few outliers, some videos with high views has outstanding numbers of dislikes. This implies that videos could also be on trend even with high dislikes. 
# 
# 

# In[ ]:




