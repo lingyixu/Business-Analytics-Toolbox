{
 "cells": [
  {
   "cell_type": "markdown",
   "metadata": {},
   "source": [
    "## Boston Survival Guide\n",
    "##### *Team members: Alvaro Chinchayan, Leighton Li, Andrey Lifar, Yoki Liu, Sherry Zuo"
   ]
  },
  {
   "cell_type": "markdown",
   "metadata": {},
   "source": [
    "#### Our team is interested in crimes that were reported in the Boston area (including 11 districts) from June 2015 to October 2018. \n",
    "#### The main purpose of our project is to analyze patterns of crimes, the potential incentives for crimes, as well as how other factors such as housing prices, income correlate with crimes.\n",
    "#### Crime Data Source: https://www.kaggle.com/ankkur13/boston-crime-data \n",
    "#### Housing Data Source: https://www.zillow.com/boston-ma/home-values/\n",
    "#### Income Data Source: https://statisticalatlas.com/county-subdivision/Massachusetts/Suffolk-County/Boston/Household-Income"
   ]
  },
  {
   "cell_type": "markdown",
   "metadata": {},
   "source": [
    "### Table of Content\n",
    "-1 Preview of data\n",
    "\n",
    "-2 Data Analysis\n",
    "\n",
    "- 2.1 Time Analysis\n",
    "\n",
    "-- 2.1.1 Time series\n",
    "\n",
    "-- 2.1.2 Year/month/week/day/hour with the most crimes\n",
    "\n",
    "-- 2.1.3 Regression for time & time_Crime\n",
    "\n",
    "- 2.2 Location Analysis\n",
    "\n",
    "-- 2.2.1 Region/district/Street with the most crimes\n",
    "\n",
    "-- 2.2.2 Distribution of crimes by Districts -- Bubble chart\n",
    "\n",
    "-- 2.2.3 Location,Housing Prices and Crimes -- Distribution & Regression\n",
    "\n",
    "-- 2.2.4 Location_Income & Location_Crime -- Distribution & Regression\n",
    "\n",
    "- 2.3 Crime Attribute Analysis\n",
    "\n",
    "-- 2.3.1 Crime Types \n",
    "\n",
    "-- 2.3.2 Example.shooting\n",
    "\n",
    "- 2.4 Multivariate Analysis\n",
    "\n",
    "-- 2.4.1 Location & Crime Type\n",
    "\n",
    "-- 2.4.2 Crime Type & Time\n",
    "\n",
    "-- 2.4.3 Time & Location\n",
    "\n",
    "-3 Summary\n",
    "\n"
   ]
  },
  {
   "cell_type": "markdown",
   "metadata": {},
   "source": [
    "### 1.Preview of data"
   ]
  },
  {
   "cell_type": "markdown",
   "metadata": {},
   "source": [
    "First, let's indentify all the variables in our datasets."
   ]
  },
  {
   "cell_type": "markdown",
   "metadata": {},
   "source": [
    "- Crime dataset"
   ]
  },
  {
   "cell_type": "code",
   "execution_count": 1,
   "metadata": {},
   "outputs": [
    {
     "data": {
      "text/html": [
       "\n",
       "    <div class=\"bqtv\" id=\"1_156626728915\"><table><tr><th>INCIDENT_NUMBER</th><th>OFFENSE_CODE</th><th>OFFENSE_CODE_GROUP</th><th>OFFENSE_DESCRIPTION</th><th>DISTRICT</th><th>REPORTING_AREA</th><th>SHOOTING</th><th>OCCURRED_ON_DATE</th><th>YEAR</th><th>MONTH</th><th>DAY_OF_WEEK</th><th>HOUR</th><th>UCR_PART</th><th>STREET</th><th>Lat</th><th>Long</th><th>Location</th></tr><tr><td>I182079891</td><td>413</td><td>Aggravated Assault</td><td>ASSAULT - AGGRAVATED - BATTERY</td><td>C6</td><td> </td><td>&nbsp;</td><td>2018-10-03 12:53:00</td><td>2018</td><td>10</td><td>Wednesday</td><td>12</td><td>Part One</td><td>DORCHESTER ST</td><td>&nbsp;</td><td>&nbsp;</td><td>(0.00000000, 0.00000000)</td></tr><tr><td>I182079891</td><td>3125</td><td>Warrant Arrests</td><td>WARRANT ARREST</td><td>C6</td><td> </td><td>&nbsp;</td><td>2018-10-03 12:53:00</td><td>2018</td><td>10</td><td>Wednesday</td><td>12</td><td>Part Three</td><td>DORCHESTER ST</td><td>&nbsp;</td><td>&nbsp;</td><td>(0.00000000, 0.00000000)</td></tr><tr><td>I182079820</td><td>1402</td><td>Vandalism</td><td>VANDALISM</td><td>C11</td><td> </td><td>&nbsp;</td><td>2018-10-03 05:00:00</td><td>2018</td><td>10</td><td>Wednesday</td><td>5</td><td>Part Two</td><td>BOWDOIN ST</td><td>&nbsp;</td><td>&nbsp;</td><td>(0.00000000, 0.00000000)</td></tr></table></div>\n",
       "    <br />(rows: 3, time: 0.3s, cached, job: job_DxTQkHCy-_LJjz4RuIipjbYDuy10)<br />\n",
       "    <script src=\"/static/components/requirejs/require.js\"></script>\n",
       "    <script>\n",
       "      require.config({\n",
       "        paths: {\n",
       "          base: '/static/base',\n",
       "          d3: '//cdnjs.cloudflare.com/ajax/libs/d3/3.4.13/d3',\n",
       "          plotly: 'https://cdn.plot.ly/plotly-1.5.1.min.js?noext',\n",
       "          jquery: '//ajax.googleapis.com/ajax/libs/jquery/2.0.0/jquery.min'\n",
       "        },\n",
       "        map: {\n",
       "          '*': {\n",
       "            datalab: 'nbextensions/gcpdatalab'\n",
       "          }\n",
       "        },\n",
       "        shim: {\n",
       "          plotly: {\n",
       "            deps: ['d3', 'jquery'],\n",
       "            exports: 'plotly'\n",
       "          }\n",
       "        }\n",
       "      });\n",
       "\n",
       "      require(['datalab/charting', 'datalab/element!1_156626728915', 'base/js/events',\n",
       "          'datalab/style!/nbextensions/gcpdatalab/charting.css'],\n",
       "        function(charts, dom, events) {\n",
       "          charts.render('gcharts', dom, events, 'table', [], {\"rows\": [{\"c\": [{\"v\": \"I182079891\"}, {\"v\": 413}, {\"v\": \"Aggravated Assault\"}, {\"v\": \"ASSAULT - AGGRAVATED - BATTERY\"}, {\"v\": \"C6\"}, {\"v\": \" \"}, {\"v\": null}, {\"v\": \"2018-10-03T12:53:00\"}, {\"v\": 2018}, {\"v\": 10}, {\"v\": \"Wednesday\"}, {\"v\": 12}, {\"v\": \"Part One\"}, {\"v\": \"DORCHESTER ST\"}, {\"v\": null}, {\"v\": null}, {\"v\": \"(0.00000000, 0.00000000)\"}]}, {\"c\": [{\"v\": \"I182079891\"}, {\"v\": 3125}, {\"v\": \"Warrant Arrests\"}, {\"v\": \"WARRANT ARREST\"}, {\"v\": \"C6\"}, {\"v\": \" \"}, {\"v\": null}, {\"v\": \"2018-10-03T12:53:00\"}, {\"v\": 2018}, {\"v\": 10}, {\"v\": \"Wednesday\"}, {\"v\": 12}, {\"v\": \"Part Three\"}, {\"v\": \"DORCHESTER ST\"}, {\"v\": null}, {\"v\": null}, {\"v\": \"(0.00000000, 0.00000000)\"}]}, {\"c\": [{\"v\": \"I182079820\"}, {\"v\": 1402}, {\"v\": \"Vandalism\"}, {\"v\": \"VANDALISM\"}, {\"v\": \"C11\"}, {\"v\": \" \"}, {\"v\": null}, {\"v\": \"2018-10-03T05:00:00\"}, {\"v\": 2018}, {\"v\": 10}, {\"v\": \"Wednesday\"}, {\"v\": 5}, {\"v\": \"Part Two\"}, {\"v\": \"BOWDOIN ST\"}, {\"v\": null}, {\"v\": null}, {\"v\": \"(0.00000000, 0.00000000)\"}]}], \"cols\": [{\"type\": \"string\", \"id\": \"INCIDENT_NUMBER\", \"label\": \"INCIDENT_NUMBER\"}, {\"type\": \"number\", \"id\": \"OFFENSE_CODE\", \"label\": \"OFFENSE_CODE\"}, {\"type\": \"string\", \"id\": \"OFFENSE_CODE_GROUP\", \"label\": \"OFFENSE_CODE_GROUP\"}, {\"type\": \"string\", \"id\": \"OFFENSE_DESCRIPTION\", \"label\": \"OFFENSE_DESCRIPTION\"}, {\"type\": \"string\", \"id\": \"DISTRICT\", \"label\": \"DISTRICT\"}, {\"type\": \"string\", \"id\": \"REPORTING_AREA\", \"label\": \"REPORTING_AREA\"}, {\"type\": \"string\", \"id\": \"SHOOTING\", \"label\": \"SHOOTING\"}, {\"type\": \"timestamp\", \"id\": \"OCCURRED_ON_DATE\", \"label\": \"OCCURRED_ON_DATE\"}, {\"type\": \"number\", \"id\": \"YEAR\", \"label\": \"YEAR\"}, {\"type\": \"number\", \"id\": \"MONTH\", \"label\": \"MONTH\"}, {\"type\": \"string\", \"id\": \"DAY_OF_WEEK\", \"label\": \"DAY_OF_WEEK\"}, {\"type\": \"number\", \"id\": \"HOUR\", \"label\": \"HOUR\"}, {\"type\": \"string\", \"id\": \"UCR_PART\", \"label\": \"UCR_PART\"}, {\"type\": \"string\", \"id\": \"STREET\", \"label\": \"STREET\"}, {\"type\": \"number\", \"id\": \"Lat\", \"label\": \"Lat\"}, {\"type\": \"number\", \"id\": \"Long\", \"label\": \"Long\"}, {\"type\": \"string\", \"id\": \"Location\", \"label\": \"Location\"}]},\n",
       "            {\n",
       "              pageSize: 25,\n",
       "              cssClassNames:  {\n",
       "                tableRow: 'gchart-table-row',\n",
       "                headerRow: 'gchart-table-headerrow',\n",
       "                oddTableRow: 'gchart-table-oddrow',\n",
       "                selectedTableRow: 'gchart-table-selectedrow',\n",
       "                hoverTableRow: 'gchart-table-hoverrow',\n",
       "                tableCell: 'gchart-table-cell',\n",
       "                headerCell: 'gchart-table-headercell',\n",
       "                rowNumberCell: 'gchart-table-rownumcell'\n",
       "              }\n",
       "            },\n",
       "            {source_index: 0, fields: 'INCIDENT_NUMBER,OFFENSE_CODE,OFFENSE_CODE_GROUP,OFFENSE_DESCRIPTION,DISTRICT,REPORTING_AREA,SHOOTING,OCCURRED_ON_DATE,YEAR,MONTH,DAY_OF_WEEK,HOUR,UCR_PART,STREET,Lat,Long,Location'},\n",
       "            0,\n",
       "            3);\n",
       "        }\n",
       "      );\n",
       "    </script>\n",
       "  "
      ],
      "text/plain": [
       "QueryResultsTable job_DxTQkHCy-_LJjz4RuIipjbYDuy10"
      ]
     },
     "execution_count": 1,
     "metadata": {},
     "output_type": "execute_result"
    }
   ],
   "source": [
    "%%bq query\n",
    "SELECT *\n",
    "FROM `team-6-is-perfect.Boston_Crime.boston_crime` \n",
    "LIMIT 3"
   ]
  },
  {
   "cell_type": "markdown",
   "metadata": {},
   "source": [
    "- Housing dataset"
   ]
  },
  {
   "cell_type": "code",
   "execution_count": 2,
   "metadata": {},
   "outputs": [
    {
     "data": {
      "text/html": [
       "\n",
       "    <div class=\"bqtv\" id=\"2_156626729090\"><table><tr><th>Region_Name</th><th>District</th><th>Region_Type</th><th>Type</th><th>Current</th></tr><tr><td>Brighton</td><td>D14</td><td>neighborhood</td><td>All Homes</td><td>452600</td></tr><tr><td>Charlestown</td><td>A15</td><td>neighborhood</td><td>All Homes</td><td>728600</td></tr><tr><td>Downtown</td><td>A1</td><td>neighborhood</td><td>All Homes</td><td>1152300</td></tr></table></div>\n",
       "    <br />(rows: 3, time: 0.1s, cached, job: job_VHpMspE48jQprwQ6ml4Hs3OoPwAy)<br />\n",
       "    <script src=\"/static/components/requirejs/require.js\"></script>\n",
       "    <script>\n",
       "      require.config({\n",
       "        paths: {\n",
       "          base: '/static/base',\n",
       "          d3: '//cdnjs.cloudflare.com/ajax/libs/d3/3.4.13/d3',\n",
       "          plotly: 'https://cdn.plot.ly/plotly-1.5.1.min.js?noext',\n",
       "          jquery: '//ajax.googleapis.com/ajax/libs/jquery/2.0.0/jquery.min'\n",
       "        },\n",
       "        map: {\n",
       "          '*': {\n",
       "            datalab: 'nbextensions/gcpdatalab'\n",
       "          }\n",
       "        },\n",
       "        shim: {\n",
       "          plotly: {\n",
       "            deps: ['d3', 'jquery'],\n",
       "            exports: 'plotly'\n",
       "          }\n",
       "        }\n",
       "      });\n",
       "\n",
       "      require(['datalab/charting', 'datalab/element!2_156626729090', 'base/js/events',\n",
       "          'datalab/style!/nbextensions/gcpdatalab/charting.css'],\n",
       "        function(charts, dom, events) {\n",
       "          charts.render('gcharts', dom, events, 'table', [], {\"rows\": [{\"c\": [{\"v\": \"Brighton\"}, {\"v\": \"D14\"}, {\"v\": \"neighborhood\"}, {\"v\": \"All Homes\"}, {\"v\": 452600}]}, {\"c\": [{\"v\": \"Charlestown\"}, {\"v\": \"A15\"}, {\"v\": \"neighborhood\"}, {\"v\": \"All Homes\"}, {\"v\": 728600}]}, {\"c\": [{\"v\": \"Downtown\"}, {\"v\": \"A1\"}, {\"v\": \"neighborhood\"}, {\"v\": \"All Homes\"}, {\"v\": 1152300}]}], \"cols\": [{\"type\": \"string\", \"id\": \"Region_Name\", \"label\": \"Region_Name\"}, {\"type\": \"string\", \"id\": \"District\", \"label\": \"District\"}, {\"type\": \"string\", \"id\": \"Region_Type\", \"label\": \"Region_Type\"}, {\"type\": \"string\", \"id\": \"Type\", \"label\": \"Type\"}, {\"type\": \"number\", \"id\": \"Current\", \"label\": \"Current\"}]},\n",
       "            {\n",
       "              pageSize: 25,\n",
       "              cssClassNames:  {\n",
       "                tableRow: 'gchart-table-row',\n",
       "                headerRow: 'gchart-table-headerrow',\n",
       "                oddTableRow: 'gchart-table-oddrow',\n",
       "                selectedTableRow: 'gchart-table-selectedrow',\n",
       "                hoverTableRow: 'gchart-table-hoverrow',\n",
       "                tableCell: 'gchart-table-cell',\n",
       "                headerCell: 'gchart-table-headercell',\n",
       "                rowNumberCell: 'gchart-table-rownumcell'\n",
       "              }\n",
       "            },\n",
       "            {source_index: 1, fields: 'Region_Name,District,Region_Type,Type,Current'},\n",
       "            0,\n",
       "            3);\n",
       "        }\n",
       "      );\n",
       "    </script>\n",
       "  "
      ],
      "text/plain": [
       "QueryResultsTable job_VHpMspE48jQprwQ6ml4Hs3OoPwAy"
      ]
     },
     "execution_count": 2,
     "metadata": {},
     "output_type": "execute_result"
    }
   ],
   "source": [
    "%%bq query\n",
    "SELECT *\n",
    "FROM `team-6-is-perfect.Boston_Crime.boston_housing`\n",
    "LIMIT 3"
   ]
  },
  {
   "cell_type": "markdown",
   "metadata": {},
   "source": [
    "- Income dataset"
   ]
  },
  {
   "cell_type": "code",
   "execution_count": 3,
   "metadata": {},
   "outputs": [
    {
     "data": {
      "text/html": [
       "\n",
       "    <div class=\"bqtv\" id=\"3_156626729287\"><table><tr><th>Neighborhood</th><th>District</th><th>Income</th><th>Population_Growth</th><th>Period</th></tr><tr><td>Allston</td><td>&nbsp;</td><td>39717</td><td>0.17</td><td>2000-2010</td></tr><tr><td>Brighton</td><td>D14</td><td>50110</td><td>0.042</td><td>2000-2010</td></tr><tr><td>Back Bay</td><td>&nbsp;</td><td>88469</td><td>0.054</td><td>2000-2015</td></tr></table></div>\n",
       "    <br />(rows: 3, time: 0.2s, cached, job: job_cOdirQEqT_x_S5h-MnOcNhrOAyzX)<br />\n",
       "    <script src=\"/static/components/requirejs/require.js\"></script>\n",
       "    <script>\n",
       "      require.config({\n",
       "        paths: {\n",
       "          base: '/static/base',\n",
       "          d3: '//cdnjs.cloudflare.com/ajax/libs/d3/3.4.13/d3',\n",
       "          plotly: 'https://cdn.plot.ly/plotly-1.5.1.min.js?noext',\n",
       "          jquery: '//ajax.googleapis.com/ajax/libs/jquery/2.0.0/jquery.min'\n",
       "        },\n",
       "        map: {\n",
       "          '*': {\n",
       "            datalab: 'nbextensions/gcpdatalab'\n",
       "          }\n",
       "        },\n",
       "        shim: {\n",
       "          plotly: {\n",
       "            deps: ['d3', 'jquery'],\n",
       "            exports: 'plotly'\n",
       "          }\n",
       "        }\n",
       "      });\n",
       "\n",
       "      require(['datalab/charting', 'datalab/element!3_156626729287', 'base/js/events',\n",
       "          'datalab/style!/nbextensions/gcpdatalab/charting.css'],\n",
       "        function(charts, dom, events) {\n",
       "          charts.render('gcharts', dom, events, 'table', [], {\"rows\": [{\"c\": [{\"v\": \"Allston\"}, {\"v\": null}, {\"v\": 39717}, {\"v\": 0.17}, {\"v\": \"2000-2010\"}]}, {\"c\": [{\"v\": \"Brighton\"}, {\"v\": \"D14\"}, {\"v\": 50110}, {\"v\": 0.042}, {\"v\": \"2000-2010\"}]}, {\"c\": [{\"v\": \"Back Bay\"}, {\"v\": null}, {\"v\": 88469}, {\"v\": 0.054000000000000006}, {\"v\": \"2000-2015\"}]}], \"cols\": [{\"type\": \"string\", \"id\": \"Neighborhood\", \"label\": \"Neighborhood\"}, {\"type\": \"string\", \"id\": \"District\", \"label\": \"District\"}, {\"type\": \"number\", \"id\": \"Income\", \"label\": \"Income\"}, {\"type\": \"number\", \"id\": \"Population_Growth\", \"label\": \"Population_Growth\"}, {\"type\": \"string\", \"id\": \"Period\", \"label\": \"Period\"}]},\n",
       "            {\n",
       "              pageSize: 25,\n",
       "              cssClassNames:  {\n",
       "                tableRow: 'gchart-table-row',\n",
       "                headerRow: 'gchart-table-headerrow',\n",
       "                oddTableRow: 'gchart-table-oddrow',\n",
       "                selectedTableRow: 'gchart-table-selectedrow',\n",
       "                hoverTableRow: 'gchart-table-hoverrow',\n",
       "                tableCell: 'gchart-table-cell',\n",
       "                headerCell: 'gchart-table-headercell',\n",
       "                rowNumberCell: 'gchart-table-rownumcell'\n",
       "              }\n",
       "            },\n",
       "            {source_index: 2, fields: 'Neighborhood,District,Income,Population_Growth,Period'},\n",
       "            0,\n",
       "            3);\n",
       "        }\n",
       "      );\n",
       "    </script>\n",
       "  "
      ],
      "text/plain": [
       "QueryResultsTable job_cOdirQEqT_x_S5h-MnOcNhrOAyzX"
      ]
     },
     "execution_count": 3,
     "metadata": {},
     "output_type": "execute_result"
    }
   ],
   "source": [
    "%%bq query\n",
    "SELECT *\n",
    "FROM `team-6-is-perfect.Boston_Crime.boston_income_populationGrowth`\n",
    "LIMIT 3"
   ]
  },
  {
   "cell_type": "markdown",
   "metadata": {},
   "source": [
    "In order to match all three datasets by district, we refer to the following website: https://bpdnews.com/districts"
   ]
  },
  {
   "cell_type": "markdown",
   "metadata": {},
   "source": [
    "### 2.Data Analysis"
   ]
  },
  {
   "cell_type": "markdown",
   "metadata": {},
   "source": [
    "### 2.1 Time Analysis"
   ]
  },
  {
   "cell_type": "markdown",
   "metadata": {},
   "source": [
    "#### 2.1.1 Time series"
   ]
  },
  {
   "cell_type": "markdown",
   "metadata": {},
   "source": [
    "Below is an overview of the number of crimes in time order"
   ]
  },
  {
   "cell_type": "code",
   "execution_count": 4,
   "metadata": {},
   "outputs": [],
   "source": [
    "%%bq query -n crimes_year_month\n",
    "SELECT TIMESTAMP(CONCAT(CAST(EXTRACT(year from OCCURRED_ON_DATE) AS STRING), \"-\", CAST(EXTRACT(month from OCCURRED_ON_DATE) AS STRING), \"-01\")) year_month, count(incident_number) as num_incident \n",
    "FROM Boston_Crime.boston_crime\n",
    "GROUP BY year_month;"
   ]
  },
  {
   "cell_type": "code",
   "execution_count": 5,
   "metadata": {},
   "outputs": [
    {
     "data": {
      "text/html": [
       "\n",
       "    <div class=\"bqgc-container\">\n",
       "      \n",
       "      <div class=\"bqgc \" id=\"1_156626729319\">\n",
       "      </div>\n",
       "    </div>\n",
       "    <script src=\"/static/components/requirejs/require.js\"></script>\n",
       "    <script>\n",
       "\n",
       "      require.config({\n",
       "        paths: {\n",
       "          base: '/static/base',\n",
       "          d3: '//cdnjs.cloudflare.com/ajax/libs/d3/3.4.13/d3',\n",
       "          plotly: 'https://cdn.plot.ly/plotly-1.5.1.min.js?noext',\n",
       "          jquery: '//ajax.googleapis.com/ajax/libs/jquery/2.0.0/jquery.min'\n",
       "        },\n",
       "        map: {\n",
       "          '*': {\n",
       "            datalab: 'nbextensions/gcpdatalab'\n",
       "          }\n",
       "        },\n",
       "        shim: {\n",
       "          plotly: {\n",
       "            deps: ['d3', 'jquery'],\n",
       "            exports: 'plotly'\n",
       "          }\n",
       "        }\n",
       "      });\n",
       "\n",
       "      require(['datalab/charting',\n",
       "               'datalab/element!1_156626729319',\n",
       "               'base/js/events',\n",
       "               'datalab/style!/nbextensions/gcpdatalab/charting.css'\n",
       "              ],\n",
       "        function(charts, dom, events) {\n",
       "          charts.render(\n",
       "              'gcharts',\n",
       "              dom,\n",
       "              events,\n",
       "              'annotation',\n",
       "              [],\n",
       "              {\"rows\": [{\"c\": [{\"v\": \"2018-10-01T00:00:00\"}, {\"v\": 689}]}, {\"c\": [{\"v\": \"2018-09-01T00:00:00\"}, {\"v\": 8132}]}, {\"c\": [{\"v\": \"2018-08-01T00:00:00\"}, {\"v\": 8645}]}, {\"c\": [{\"v\": \"2018-07-01T00:00:00\"}, {\"v\": 8617}]}, {\"c\": [{\"v\": \"2018-06-01T00:00:00\"}, {\"v\": 8883}]}, {\"c\": [{\"v\": \"2017-11-01T00:00:00\"}, {\"v\": 7943}]}, {\"c\": [{\"v\": \"2018-05-01T00:00:00\"}, {\"v\": 8939}]}, {\"c\": [{\"v\": \"2017-06-01T00:00:00\"}, {\"v\": 8990}]}, {\"c\": [{\"v\": \"2018-04-01T00:00:00\"}, {\"v\": 7935}]}, {\"c\": [{\"v\": \"2018-03-01T00:00:00\"}, {\"v\": 7778}]}, {\"c\": [{\"v\": \"2018-02-01T00:00:00\"}, {\"v\": 6943}]}, {\"c\": [{\"v\": \"2017-05-01T00:00:00\"}, {\"v\": 8721}]}, {\"c\": [{\"v\": \"2017-10-01T00:00:00\"}, {\"v\": 8854}]}, {\"c\": [{\"v\": \"2018-01-01T00:00:00\"}, {\"v\": 7795}]}, {\"c\": [{\"v\": \"2016-12-01T00:00:00\"}, {\"v\": 7951}]}, {\"c\": [{\"v\": \"2017-12-01T00:00:00\"}, {\"v\": 7542}]}, {\"c\": [{\"v\": \"2017-07-01T00:00:00\"}, {\"v\": 9077}]}, {\"c\": [{\"v\": \"2017-09-01T00:00:00\"}, {\"v\": 8950}]}, {\"c\": [{\"v\": \"2017-08-01T00:00:00\"}, {\"v\": 9209}]}, {\"c\": [{\"v\": \"2016-09-01T00:00:00\"}, {\"v\": 8526}]}, {\"c\": [{\"v\": \"2017-04-01T00:00:00\"}, {\"v\": 8072}]}, {\"c\": [{\"v\": \"2017-03-01T00:00:00\"}, {\"v\": 8179}]}, {\"c\": [{\"v\": \"2016-05-01T00:00:00\"}, {\"v\": 8582}]}, {\"c\": [{\"v\": \"2017-01-01T00:00:00\"}, {\"v\": 7993}]}, {\"c\": [{\"v\": \"2017-02-01T00:00:00\"}, {\"v\": 7408}]}, {\"c\": [{\"v\": \"2016-02-01T00:00:00\"}, {\"v\": 7310}]}, {\"c\": [{\"v\": \"2016-11-01T00:00:00\"}, {\"v\": 7924}]}, {\"c\": [{\"v\": \"2016-10-01T00:00:00\"}, {\"v\": 8586}]}, {\"c\": [{\"v\": \"2015-12-01T00:00:00\"}, {\"v\": 7991}]}, {\"c\": [{\"v\": \"2015-09-01T00:00:00\"}, {\"v\": 8415}]}, {\"c\": [{\"v\": \"2016-08-01T00:00:00\"}, {\"v\": 8940}]}, {\"c\": [{\"v\": \"2016-07-01T00:00:00\"}, {\"v\": 8620}]}, {\"c\": [{\"v\": \"2016-06-01T00:00:00\"}, {\"v\": 8558}]}, {\"c\": [{\"v\": \"2016-04-01T00:00:00\"}, {\"v\": 8101}]}, {\"c\": [{\"v\": \"2016-03-01T00:00:00\"}, {\"v\": 8199}]}, {\"c\": [{\"v\": \"2016-01-01T00:00:00\"}, {\"v\": 7837}]}, {\"c\": [{\"v\": \"2015-11-01T00:00:00\"}, {\"v\": 7818}]}, {\"c\": [{\"v\": \"2015-10-01T00:00:00\"}, {\"v\": 8308}]}, {\"c\": [{\"v\": \"2015-08-01T00:00:00\"}, {\"v\": 8343}]}, {\"c\": [{\"v\": \"2015-07-01T00:00:00\"}, {\"v\": 8326}]}, {\"c\": [{\"v\": \"2015-06-01T00:00:00\"}, {\"v\": 4191}]}], \"cols\": [{\"type\": \"timestamp\", \"id\": \"year_month\", \"label\": \"year_month\"}, {\"type\": \"number\", \"id\": \"num_incident\", \"label\": \"num_incident\"}]},\n",
       "              {},\n",
       "              {\"fields\": \"*\", \"source_index\": 0, \"name\": 0},\n",
       "              0,\n",
       "              41);\n",
       "          }\n",
       "        );\n",
       "    </script>\n",
       "  "
      ],
      "text/plain": [
       "<IPython.core.display.HTML object>"
      ]
     },
     "execution_count": 5,
     "metadata": {},
     "output_type": "execute_result"
    }
   ],
   "source": [
    "%%chart annotation --d crimes_year_month"
   ]
  },
  {
   "cell_type": "markdown",
   "metadata": {},
   "source": [
    "#### 2.1.2 Year/month/week/day/hour with the most crimes"
   ]
  },
  {
   "cell_type": "markdown",
   "metadata": {},
   "source": [
    "#### Question: Which year has the highest amount of crimes?"
   ]
  },
  {
   "cell_type": "code",
   "execution_count": 6,
   "metadata": {},
   "outputs": [
    {
     "data": {
      "text/html": [
       "\n",
       "    <div class=\"bqtv\" id=\"4_156626729645\"><table><tr><th>year</th><th>numcrime_year</th></tr><tr><td>2017</td><td>100938</td></tr><tr><td>2016</td><td>99134</td></tr><tr><td>2018</td><td>74356</td></tr><tr><td>2015</td><td>53392</td></tr></table></div>\n",
       "    <br />(rows: 4, time: 0.2s, cached, job: job_ZPRTcbjrl4fn0hjGzwMcywW6HeYx)<br />\n",
       "    <script src=\"/static/components/requirejs/require.js\"></script>\n",
       "    <script>\n",
       "      require.config({\n",
       "        paths: {\n",
       "          base: '/static/base',\n",
       "          d3: '//cdnjs.cloudflare.com/ajax/libs/d3/3.4.13/d3',\n",
       "          plotly: 'https://cdn.plot.ly/plotly-1.5.1.min.js?noext',\n",
       "          jquery: '//ajax.googleapis.com/ajax/libs/jquery/2.0.0/jquery.min'\n",
       "        },\n",
       "        map: {\n",
       "          '*': {\n",
       "            datalab: 'nbextensions/gcpdatalab'\n",
       "          }\n",
       "        },\n",
       "        shim: {\n",
       "          plotly: {\n",
       "            deps: ['d3', 'jquery'],\n",
       "            exports: 'plotly'\n",
       "          }\n",
       "        }\n",
       "      });\n",
       "\n",
       "      require(['datalab/charting', 'datalab/element!4_156626729645', 'base/js/events',\n",
       "          'datalab/style!/nbextensions/gcpdatalab/charting.css'],\n",
       "        function(charts, dom, events) {\n",
       "          charts.render('gcharts', dom, events, 'table', [], {\"rows\": [{\"c\": [{\"v\": 2017}, {\"v\": 100938}]}, {\"c\": [{\"v\": 2016}, {\"v\": 99134}]}, {\"c\": [{\"v\": 2018}, {\"v\": 74356}]}, {\"c\": [{\"v\": 2015}, {\"v\": 53392}]}], \"cols\": [{\"type\": \"number\", \"id\": \"year\", \"label\": \"year\"}, {\"type\": \"number\", \"id\": \"numcrime_year\", \"label\": \"numcrime_year\"}]},\n",
       "            {\n",
       "              pageSize: 25,\n",
       "              cssClassNames:  {\n",
       "                tableRow: 'gchart-table-row',\n",
       "                headerRow: 'gchart-table-headerrow',\n",
       "                oddTableRow: 'gchart-table-oddrow',\n",
       "                selectedTableRow: 'gchart-table-selectedrow',\n",
       "                hoverTableRow: 'gchart-table-hoverrow',\n",
       "                tableCell: 'gchart-table-cell',\n",
       "                headerCell: 'gchart-table-headercell',\n",
       "                rowNumberCell: 'gchart-table-rownumcell'\n",
       "              }\n",
       "            },\n",
       "            {source_index: 3, fields: 'year,numcrime_year'},\n",
       "            0,\n",
       "            4);\n",
       "        }\n",
       "      );\n",
       "    </script>\n",
       "  "
      ],
      "text/plain": [
       "QueryResultsTable job_ZPRTcbjrl4fn0hjGzwMcywW6HeYx"
      ]
     },
     "execution_count": 6,
     "metadata": {},
     "output_type": "execute_result"
    }
   ],
   "source": [
    "%%bq query\n",
    "SELECT year, count(year) as numcrime_year\n",
    "FROM Boston_Crime.boston_crime\n",
    "Group by year\n",
    "Order by numcrime_year DESC;"
   ]
  },
  {
   "cell_type": "markdown",
   "metadata": {},
   "source": [
    "#### Answer: 2017 has the highest amount of crime"
   ]
  },
  {
   "cell_type": "markdown",
   "metadata": {},
   "source": [
    "#### Question: Which month has the highest amount of crimes?"
   ]
  },
  {
   "cell_type": "code",
   "execution_count": 7,
   "metadata": {},
   "outputs": [
    {
     "data": {
      "text/html": [
       "\n",
       "    <div class=\"bqtv\" id=\"5_156626729847\"><table><tr><th>month</th><th>numcrime_month</th></tr><tr><td>8</td><td>35137</td></tr><tr><td>7</td><td>34640</td></tr><tr><td>9</td><td>34023</td></tr><tr><td>6</td><td>30622</td></tr></table></div>\n",
       "    <br />(rows: 4, time: 0.1s, cached, job: job_B0VXvwtT4P7WT1Nrsu0DsFEUx2R0)<br />\n",
       "    <script src=\"/static/components/requirejs/require.js\"></script>\n",
       "    <script>\n",
       "      require.config({\n",
       "        paths: {\n",
       "          base: '/static/base',\n",
       "          d3: '//cdnjs.cloudflare.com/ajax/libs/d3/3.4.13/d3',\n",
       "          plotly: 'https://cdn.plot.ly/plotly-1.5.1.min.js?noext',\n",
       "          jquery: '//ajax.googleapis.com/ajax/libs/jquery/2.0.0/jquery.min'\n",
       "        },\n",
       "        map: {\n",
       "          '*': {\n",
       "            datalab: 'nbextensions/gcpdatalab'\n",
       "          }\n",
       "        },\n",
       "        shim: {\n",
       "          plotly: {\n",
       "            deps: ['d3', 'jquery'],\n",
       "            exports: 'plotly'\n",
       "          }\n",
       "        }\n",
       "      });\n",
       "\n",
       "      require(['datalab/charting', 'datalab/element!5_156626729847', 'base/js/events',\n",
       "          'datalab/style!/nbextensions/gcpdatalab/charting.css'],\n",
       "        function(charts, dom, events) {\n",
       "          charts.render('gcharts', dom, events, 'table', [], {\"rows\": [{\"c\": [{\"v\": 8}, {\"v\": 35137}]}, {\"c\": [{\"v\": 7}, {\"v\": 34640}]}, {\"c\": [{\"v\": 9}, {\"v\": 34023}]}, {\"c\": [{\"v\": 6}, {\"v\": 30622}]}], \"cols\": [{\"type\": \"number\", \"id\": \"month\", \"label\": \"month\"}, {\"type\": \"number\", \"id\": \"numcrime_month\", \"label\": \"numcrime_month\"}]},\n",
       "            {\n",
       "              pageSize: 25,\n",
       "              cssClassNames:  {\n",
       "                tableRow: 'gchart-table-row',\n",
       "                headerRow: 'gchart-table-headerrow',\n",
       "                oddTableRow: 'gchart-table-oddrow',\n",
       "                selectedTableRow: 'gchart-table-selectedrow',\n",
       "                hoverTableRow: 'gchart-table-hoverrow',\n",
       "                tableCell: 'gchart-table-cell',\n",
       "                headerCell: 'gchart-table-headercell',\n",
       "                rowNumberCell: 'gchart-table-rownumcell'\n",
       "              }\n",
       "            },\n",
       "            {source_index: 4, fields: 'month,numcrime_month'},\n",
       "            0,\n",
       "            4);\n",
       "        }\n",
       "      );\n",
       "    </script>\n",
       "  "
      ],
      "text/plain": [
       "QueryResultsTable job_B0VXvwtT4P7WT1Nrsu0DsFEUx2R0"
      ]
     },
     "execution_count": 7,
     "metadata": {},
     "output_type": "execute_result"
    }
   ],
   "source": [
    "%%bq query\n",
    "SELECT month, count(month) as numcrime_month\n",
    "FROM Boston_Crime.boston_crime\n",
    "Group by month\n",
    "Order by numcrime_month DESC\n",
    "LIMIT 4;"
   ]
  },
  {
   "cell_type": "markdown",
   "metadata": {},
   "source": [
    "#### Answer: On average, August has the highest amount of crimes."
   ]
  },
  {
   "cell_type": "markdown",
   "metadata": {},
   "source": [
    "#### Question: Which day of the week is the most dangerous?"
   ]
  },
  {
   "cell_type": "code",
   "execution_count": 8,
   "metadata": {},
   "outputs": [
    {
     "data": {
      "text/html": [
       "\n",
       "    <div class=\"bqtv\" id=\"6_156626730026\"><table><tr><th>day_of_week</th><th>numcrime_weekday</th></tr><tr><td>Friday</td><td>49758</td></tr><tr><td>Wednesday</td><td>48151</td></tr><tr><td>Thursday</td><td>47872</td></tr><tr><td>Tuesday</td><td>47726</td></tr><tr><td>Monday</td><td>46970</td></tr><tr><td>Saturday</td><td>45969</td></tr><tr><td>Sunday</td><td>41374</td></tr></table></div>\n",
       "    <br />(rows: 7, time: 0.2s, cached, job: job_PmpWK9r6VjUNoeQVqT9MitDZCPLQ)<br />\n",
       "    <script src=\"/static/components/requirejs/require.js\"></script>\n",
       "    <script>\n",
       "      require.config({\n",
       "        paths: {\n",
       "          base: '/static/base',\n",
       "          d3: '//cdnjs.cloudflare.com/ajax/libs/d3/3.4.13/d3',\n",
       "          plotly: 'https://cdn.plot.ly/plotly-1.5.1.min.js?noext',\n",
       "          jquery: '//ajax.googleapis.com/ajax/libs/jquery/2.0.0/jquery.min'\n",
       "        },\n",
       "        map: {\n",
       "          '*': {\n",
       "            datalab: 'nbextensions/gcpdatalab'\n",
       "          }\n",
       "        },\n",
       "        shim: {\n",
       "          plotly: {\n",
       "            deps: ['d3', 'jquery'],\n",
       "            exports: 'plotly'\n",
       "          }\n",
       "        }\n",
       "      });\n",
       "\n",
       "      require(['datalab/charting', 'datalab/element!6_156626730026', 'base/js/events',\n",
       "          'datalab/style!/nbextensions/gcpdatalab/charting.css'],\n",
       "        function(charts, dom, events) {\n",
       "          charts.render('gcharts', dom, events, 'table', [], {\"rows\": [{\"c\": [{\"v\": \"Friday\"}, {\"v\": 49758}]}, {\"c\": [{\"v\": \"Wednesday\"}, {\"v\": 48151}]}, {\"c\": [{\"v\": \"Thursday\"}, {\"v\": 47872}]}, {\"c\": [{\"v\": \"Tuesday\"}, {\"v\": 47726}]}, {\"c\": [{\"v\": \"Monday\"}, {\"v\": 46970}]}, {\"c\": [{\"v\": \"Saturday\"}, {\"v\": 45969}]}, {\"c\": [{\"v\": \"Sunday\"}, {\"v\": 41374}]}], \"cols\": [{\"type\": \"string\", \"id\": \"day_of_week\", \"label\": \"day_of_week\"}, {\"type\": \"number\", \"id\": \"numcrime_weekday\", \"label\": \"numcrime_weekday\"}]},\n",
       "            {\n",
       "              pageSize: 25,\n",
       "              cssClassNames:  {\n",
       "                tableRow: 'gchart-table-row',\n",
       "                headerRow: 'gchart-table-headerrow',\n",
       "                oddTableRow: 'gchart-table-oddrow',\n",
       "                selectedTableRow: 'gchart-table-selectedrow',\n",
       "                hoverTableRow: 'gchart-table-hoverrow',\n",
       "                tableCell: 'gchart-table-cell',\n",
       "                headerCell: 'gchart-table-headercell',\n",
       "                rowNumberCell: 'gchart-table-rownumcell'\n",
       "              }\n",
       "            },\n",
       "            {source_index: 5, fields: 'day_of_week,numcrime_weekday'},\n",
       "            0,\n",
       "            7);\n",
       "        }\n",
       "      );\n",
       "    </script>\n",
       "  "
      ],
      "text/plain": [
       "QueryResultsTable job_PmpWK9r6VjUNoeQVqT9MitDZCPLQ"
      ]
     },
     "execution_count": 8,
     "metadata": {},
     "output_type": "execute_result"
    }
   ],
   "source": [
    "%%bq query\n",
    "SELECT day_of_week, count(day_of_week) as numcrime_weekday\n",
    "FROM Boston_Crime.boston_crime\n",
    "Group by day_of_week\n",
    "Order by numcrime_weekday DESC;"
   ]
  },
  {
   "cell_type": "markdown",
   "metadata": {},
   "source": [
    "#### Answer: On average, Friday has the highest amount of crimes."
   ]
  },
  {
   "cell_type": "code",
   "execution_count": 9,
   "metadata": {},
   "outputs": [],
   "source": [
    "%%bq query -n crime_of_week\n",
    "SELECT day_of_week, count (day_of_week) as day_of_week_crime_amount,Case when day_of_week = 'Monday' then 1\n",
    "  when day_of_week = 'Tuesday' then 2\n",
    "  when day_of_week = 'Wednesday' then 3\n",
    "  when day_of_week = 'Thursday' then 4\n",
    "  when day_of_week = 'Friday' then 5\n",
    "  when day_of_week = 'Saturday' then 6\n",
    "  when day_of_week = 'Sunday' then 7 end as weekday\n",
    "FROM Boston_Crime.boston_crime\n",
    "Group by day_of_week\n",
    "Order by weekday;"
   ]
  },
  {
   "cell_type": "code",
   "execution_count": 10,
   "metadata": {},
   "outputs": [
    {
     "data": {
      "text/html": [
       "\n",
       "    <div class=\"bqgc-container\">\n",
       "      \n",
       "      <div class=\"bqgc \" id=\"2_156626730059\">\n",
       "      </div>\n",
       "    </div>\n",
       "    <script src=\"/static/components/requirejs/require.js\"></script>\n",
       "    <script>\n",
       "\n",
       "      require.config({\n",
       "        paths: {\n",
       "          base: '/static/base',\n",
       "          d3: '//cdnjs.cloudflare.com/ajax/libs/d3/3.4.13/d3',\n",
       "          plotly: 'https://cdn.plot.ly/plotly-1.5.1.min.js?noext',\n",
       "          jquery: '//ajax.googleapis.com/ajax/libs/jquery/2.0.0/jquery.min'\n",
       "        },\n",
       "        map: {\n",
       "          '*': {\n",
       "            datalab: 'nbextensions/gcpdatalab'\n",
       "          }\n",
       "        },\n",
       "        shim: {\n",
       "          plotly: {\n",
       "            deps: ['d3', 'jquery'],\n",
       "            exports: 'plotly'\n",
       "          }\n",
       "        }\n",
       "      });\n",
       "\n",
       "      require(['datalab/charting',\n",
       "               'datalab/element!2_156626730059',\n",
       "               'base/js/events',\n",
       "               'datalab/style!/nbextensions/gcpdatalab/charting.css'\n",
       "              ],\n",
       "        function(charts, dom, events) {\n",
       "          charts.render(\n",
       "              'gcharts',\n",
       "              dom,\n",
       "              events,\n",
       "              'columns',\n",
       "              [],\n",
       "              {\"rows\": [{\"c\": [{\"v\": \"Monday\"}, {\"v\": 46970}, {\"v\": 1}]}, {\"c\": [{\"v\": \"Tuesday\"}, {\"v\": 47726}, {\"v\": 2}]}, {\"c\": [{\"v\": \"Wednesday\"}, {\"v\": 48151}, {\"v\": 3}]}, {\"c\": [{\"v\": \"Thursday\"}, {\"v\": 47872}, {\"v\": 4}]}, {\"c\": [{\"v\": \"Friday\"}, {\"v\": 49758}, {\"v\": 5}]}, {\"c\": [{\"v\": \"Saturday\"}, {\"v\": 45969}, {\"v\": 6}]}, {\"c\": [{\"v\": \"Sunday\"}, {\"v\": 41374}, {\"v\": 7}]}], \"cols\": [{\"type\": \"string\", \"id\": \"day_of_week\", \"label\": \"day_of_week\"}, {\"type\": \"number\", \"id\": \"day_of_week_crime_amount\", \"label\": \"day_of_week_crime_amount\"}, {\"type\": \"number\", \"id\": \"weekday\", \"label\": \"weekday\"}]},\n",
       "              {\"width\": 1200, \"hAxis\": {\"title\": \"Week\"}, \"title\": \"total crime amount in day_of_week\", \"vAxis\": {\"title\": \"Crime Amount\"}, \"legend\": \"none\", \"height\": 400},\n",
       "              {\"fields\": \"*\", \"source_index\": 1, \"name\": 1},\n",
       "              0,\n",
       "              7);\n",
       "          }\n",
       "        );\n",
       "    </script>\n",
       "  "
      ],
      "text/plain": [
       "<IPython.core.display.HTML object>"
      ]
     },
     "execution_count": 10,
     "metadata": {},
     "output_type": "execute_result"
    },
    {
     "data": {
      "image/png": "[encoded data removed]"
     },
     "metadata": {
      "source_id": "2_156626730059"
     },
     "output_type": "display_data"
    }
   ],
   "source": [
    "%%chart columns -d crime_of_week\n",
    "title: total crime amount in day_of_week\n",
    "height: 400\n",
    "width: 1200\n",
    "hAxis:\n",
    "  title: Week\n",
    "vAxis:\n",
    "  title: Crime Amount\n",
    "legend: none"
   ]
  },
  {
   "cell_type": "markdown",
   "metadata": {},
   "source": [
    "##### We also try to answer the same questions with car accidents excluded considering the fact that they are usually unintentional."
   ]
  },
  {
   "cell_type": "code",
   "execution_count": 11,
   "metadata": {},
   "outputs": [
    {
     "data": {
      "text/html": [
       "\n",
       "    <div class=\"bqtv\" id=\"7_156626730406\"><table><tr><th>day_of_week</th><th>numcrime_new</th></tr><tr><td>Friday</td><td>43751</td></tr><tr><td>Wednesday</td><td>42750</td></tr><tr><td>Thursday</td><td>42547</td></tr><tr><td>Tuesday</td><td>42340</td></tr><tr><td>Monday</td><td>41704</td></tr><tr><td>Saturday</td><td>40360</td></tr><tr><td>Sunday</td><td>36234</td></tr></table></div>\n",
       "    <br />(rows: 7, time: 0.2s, cached, job: job_CKIe1B7wOyhEvRevSSaf6axOiuza)<br />\n",
       "    <script src=\"/static/components/requirejs/require.js\"></script>\n",
       "    <script>\n",
       "      require.config({\n",
       "        paths: {\n",
       "          base: '/static/base',\n",
       "          d3: '//cdnjs.cloudflare.com/ajax/libs/d3/3.4.13/d3',\n",
       "          plotly: 'https://cdn.plot.ly/plotly-1.5.1.min.js?noext',\n",
       "          jquery: '//ajax.googleapis.com/ajax/libs/jquery/2.0.0/jquery.min'\n",
       "        },\n",
       "        map: {\n",
       "          '*': {\n",
       "            datalab: 'nbextensions/gcpdatalab'\n",
       "          }\n",
       "        },\n",
       "        shim: {\n",
       "          plotly: {\n",
       "            deps: ['d3', 'jquery'],\n",
       "            exports: 'plotly'\n",
       "          }\n",
       "        }\n",
       "      });\n",
       "\n",
       "      require(['datalab/charting', 'datalab/element!7_156626730406', 'base/js/events',\n",
       "          'datalab/style!/nbextensions/gcpdatalab/charting.css'],\n",
       "        function(charts, dom, events) {\n",
       "          charts.render('gcharts', dom, events, 'table', [], {\"rows\": [{\"c\": [{\"v\": \"Friday\"}, {\"v\": 43751}]}, {\"c\": [{\"v\": \"Wednesday\"}, {\"v\": 42750}]}, {\"c\": [{\"v\": \"Thursday\"}, {\"v\": 42547}]}, {\"c\": [{\"v\": \"Tuesday\"}, {\"v\": 42340}]}, {\"c\": [{\"v\": \"Monday\"}, {\"v\": 41704}]}, {\"c\": [{\"v\": \"Saturday\"}, {\"v\": 40360}]}, {\"c\": [{\"v\": \"Sunday\"}, {\"v\": 36234}]}], \"cols\": [{\"type\": \"string\", \"id\": \"day_of_week\", \"label\": \"day_of_week\"}, {\"type\": \"number\", \"id\": \"numcrime_new\", \"label\": \"numcrime_new\"}]},\n",
       "            {\n",
       "              pageSize: 25,\n",
       "              cssClassNames:  {\n",
       "                tableRow: 'gchart-table-row',\n",
       "                headerRow: 'gchart-table-headerrow',\n",
       "                oddTableRow: 'gchart-table-oddrow',\n",
       "                selectedTableRow: 'gchart-table-selectedrow',\n",
       "                hoverTableRow: 'gchart-table-hoverrow',\n",
       "                tableCell: 'gchart-table-cell',\n",
       "                headerCell: 'gchart-table-headercell',\n",
       "                rowNumberCell: 'gchart-table-rownumcell'\n",
       "              }\n",
       "            },\n",
       "            {source_index: 6, fields: 'day_of_week,numcrime_new'},\n",
       "            0,\n",
       "            7);\n",
       "        }\n",
       "      );\n",
       "    </script>\n",
       "  "
      ],
      "text/plain": [
       "QueryResultsTable job_CKIe1B7wOyhEvRevSSaf6axOiuza"
      ]
     },
     "execution_count": 11,
     "metadata": {},
     "output_type": "execute_result"
    }
   ],
   "source": [
    "%%bq query\n",
    "SELECT day_of_week, count(OFFENSE_CODE_GROUP) as numcrime_new\n",
    "FROM Boston_Crime.boston_crime\n",
    "Where OFFENSE_CODE_GROUP != 'Motor Vehicle Accident Response'\n",
    "Group by day_of_week\n",
    "Order by numcrime_new DESC\n",
    "LIMIT 7"
   ]
  },
  {
   "cell_type": "markdown",
   "metadata": {},
   "source": [
    "##### After removing all Motor Vehicle Accident Responses, we get the same results. "
   ]
  },
  {
   "cell_type": "markdown",
   "metadata": {},
   "source": [
    "#### Question: What time is the most dangerous of a day?"
   ]
  },
  {
   "cell_type": "code",
   "execution_count": 12,
   "metadata": {},
   "outputs": [
    {
     "data": {
      "text/html": [
       "\n",
       "    <div class=\"bqtv\" id=\"8_156626730599\"><table><tr><th>hour</th><th>numcrime_hour</th></tr><tr><td>17</td><td>21350</td></tr><tr><td>18</td><td>20908</td></tr><tr><td>16</td><td>20373</td></tr><tr><td>12</td><td>19198</td></tr><tr><td>19</td><td>18055</td></tr></table></div>\n",
       "    <br />(rows: 5, time: 0.1s, cached, job: job_8Y51hL8a3PJROKFcbgMa5t75IMk4)<br />\n",
       "    <script src=\"/static/components/requirejs/require.js\"></script>\n",
       "    <script>\n",
       "      require.config({\n",
       "        paths: {\n",
       "          base: '/static/base',\n",
       "          d3: '//cdnjs.cloudflare.com/ajax/libs/d3/3.4.13/d3',\n",
       "          plotly: 'https://cdn.plot.ly/plotly-1.5.1.min.js?noext',\n",
       "          jquery: '//ajax.googleapis.com/ajax/libs/jquery/2.0.0/jquery.min'\n",
       "        },\n",
       "        map: {\n",
       "          '*': {\n",
       "            datalab: 'nbextensions/gcpdatalab'\n",
       "          }\n",
       "        },\n",
       "        shim: {\n",
       "          plotly: {\n",
       "            deps: ['d3', 'jquery'],\n",
       "            exports: 'plotly'\n",
       "          }\n",
       "        }\n",
       "      });\n",
       "\n",
       "      require(['datalab/charting', 'datalab/element!8_156626730599', 'base/js/events',\n",
       "          'datalab/style!/nbextensions/gcpdatalab/charting.css'],\n",
       "        function(charts, dom, events) {\n",
       "          charts.render('gcharts', dom, events, 'table', [], {\"rows\": [{\"c\": [{\"v\": 17}, {\"v\": 21350}]}, {\"c\": [{\"v\": 18}, {\"v\": 20908}]}, {\"c\": [{\"v\": 16}, {\"v\": 20373}]}, {\"c\": [{\"v\": 12}, {\"v\": 19198}]}, {\"c\": [{\"v\": 19}, {\"v\": 18055}]}], \"cols\": [{\"type\": \"number\", \"id\": \"hour\", \"label\": \"hour\"}, {\"type\": \"number\", \"id\": \"numcrime_hour\", \"label\": \"numcrime_hour\"}]},\n",
       "            {\n",
       "              pageSize: 25,\n",
       "              cssClassNames:  {\n",
       "                tableRow: 'gchart-table-row',\n",
       "                headerRow: 'gchart-table-headerrow',\n",
       "                oddTableRow: 'gchart-table-oddrow',\n",
       "                selectedTableRow: 'gchart-table-selectedrow',\n",
       "                hoverTableRow: 'gchart-table-hoverrow',\n",
       "                tableCell: 'gchart-table-cell',\n",
       "                headerCell: 'gchart-table-headercell',\n",
       "                rowNumberCell: 'gchart-table-rownumcell'\n",
       "              }\n",
       "            },\n",
       "            {source_index: 7, fields: 'hour,numcrime_hour'},\n",
       "            0,\n",
       "            5);\n",
       "        }\n",
       "      );\n",
       "    </script>\n",
       "  "
      ],
      "text/plain": [
       "QueryResultsTable job_8Y51hL8a3PJROKFcbgMa5t75IMk4"
      ]
     },
     "execution_count": 12,
     "metadata": {},
     "output_type": "execute_result"
    }
   ],
   "source": [
    "%%bq query\n",
    "SELECT hour, count(hour) as numcrime_hour\n",
    "FROM Boston_Crime.boston_crime\n",
    "Group by hour\n",
    "Order by numcrime_hour DESC\n",
    "LIMIT 5;"
   ]
  },
  {
   "cell_type": "markdown",
   "metadata": {},
   "source": [
    "#### Answer: On average, crimes mostly occur at 5pm"
   ]
  },
  {
   "cell_type": "code",
   "execution_count": 13,
   "metadata": {},
   "outputs": [],
   "source": [
    "%%bq query -n crime_of_hour\n",
    "SELECT hour, count(hour) as numcrime_hour\n",
    "FROM Boston_Crime.boston_crime\n",
    "Group by hour\n",
    "Order by numcrime_hour DESC"
   ]
  },
  {
   "cell_type": "code",
   "execution_count": 14,
   "metadata": {},
   "outputs": [
    {
     "data": {
      "text/html": [
       "\n",
       "    <div class=\"bqgc-container\">\n",
       "      \n",
       "      <div class=\"bqgc \" id=\"3_156626730627\">\n",
       "      </div>\n",
       "    </div>\n",
       "    <script src=\"/static/components/requirejs/require.js\"></script>\n",
       "    <script>\n",
       "\n",
       "      require.config({\n",
       "        paths: {\n",
       "          base: '/static/base',\n",
       "          d3: '//cdnjs.cloudflare.com/ajax/libs/d3/3.4.13/d3',\n",
       "          plotly: 'https://cdn.plot.ly/plotly-1.5.1.min.js?noext',\n",
       "          jquery: '//ajax.googleapis.com/ajax/libs/jquery/2.0.0/jquery.min'\n",
       "        },\n",
       "        map: {\n",
       "          '*': {\n",
       "            datalab: 'nbextensions/gcpdatalab'\n",
       "          }\n",
       "        },\n",
       "        shim: {\n",
       "          plotly: {\n",
       "            deps: ['d3', 'jquery'],\n",
       "            exports: 'plotly'\n",
       "          }\n",
       "        }\n",
       "      });\n",
       "\n",
       "      require(['datalab/charting',\n",
       "               'datalab/element!3_156626730627',\n",
       "               'base/js/events',\n",
       "               'datalab/style!/nbextensions/gcpdatalab/charting.css'\n",
       "              ],\n",
       "        function(charts, dom, events) {\n",
       "          charts.render(\n",
       "              'gcharts',\n",
       "              dom,\n",
       "              events,\n",
       "              'scatter',\n",
       "              [],\n",
       "              {\"rows\": [{\"c\": [{\"v\": 17}, {\"v\": 21350}]}, {\"c\": [{\"v\": 18}, {\"v\": 20908}]}, {\"c\": [{\"v\": 16}, {\"v\": 20373}]}, {\"c\": [{\"v\": 12}, {\"v\": 19198}]}, {\"c\": [{\"v\": 19}, {\"v\": 18055}]}, {\"c\": [{\"v\": 14}, {\"v\": 17659}]}, {\"c\": [{\"v\": 13}, {\"v\": 17292}]}, {\"c\": [{\"v\": 15}, {\"v\": 16963}]}, {\"c\": [{\"v\": 11}, {\"v\": 16904}]}, {\"c\": [{\"v\": 10}, {\"v\": 16836}]}, {\"c\": [{\"v\": 20}, {\"v\": 16300}]}, {\"c\": [{\"v\": 0}, {\"v\": 15534}]}, {\"c\": [{\"v\": 9}, {\"v\": 15157}]}, {\"c\": [{\"v\": 21}, {\"v\": 14460}]}, {\"c\": [{\"v\": 8}, {\"v\": 13441}]}, {\"c\": [{\"v\": 22}, {\"v\": 13244}]}, {\"c\": [{\"v\": 23}, {\"v\": 10856}]}, {\"c\": [{\"v\": 1}, {\"v\": 9502}]}, {\"c\": [{\"v\": 7}, {\"v\": 9095}]}, {\"c\": [{\"v\": 2}, {\"v\": 7895}]}, {\"c\": [{\"v\": 6}, {\"v\": 5174}]}, {\"c\": [{\"v\": 3}, {\"v\": 4710}]}, {\"c\": [{\"v\": 4}, {\"v\": 3505}]}, {\"c\": [{\"v\": 5}, {\"v\": 3409}]}], \"cols\": [{\"type\": \"number\", \"id\": \"hour\", \"label\": \"hour\"}, {\"type\": \"number\", \"id\": \"numcrime_hour\", \"label\": \"numcrime_hour\"}]},\n",
       "              {\"vAxis\": {\"title\": \"crime amount\"}, \"width\": 900, \"height\": 400, \"hAxis\": {\"title\": \"time\"}, \"title\": \"total crime amount of a day\"},\n",
       "              {\"fields\": \"*\", \"source_index\": 2, \"name\": 2},\n",
       "              0,\n",
       "              24);\n",
       "          }\n",
       "        );\n",
       "    </script>\n",
       "  "
      ],
      "text/plain": [
       "<IPython.core.display.HTML object>"
      ]
     },
     "execution_count": 14,
     "metadata": {},
     "output_type": "execute_result"
    },
    {
     "data": {
      "image/png": "[encoded data removed]"
     },
     "metadata": {
      "source_id": "3_156626730627"
     },
     "output_type": "display_data"
    }
   ],
   "source": [
    "%%chart scatter -d crime_of_hour\n",
    "title: total crime amount of a day\n",
    "height: 400\n",
    "width: 900\n",
    "hAxis:\n",
    "  title: time\n",
    "vAxis:\n",
    "  title: crime amount"
   ]
  },
  {
   "cell_type": "markdown",
   "metadata": {},
   "source": [
    "#### Question: Do crimes usually happen during the day or the night?"
   ]
  },
  {
   "cell_type": "code",
   "execution_count": 11,
   "metadata": {},
   "outputs": [
    {
     "data": {
      "text/html": [
       "\n",
       "    <div class=\"bqtv\" id=\"4_156664577185\"><table><tr><th>crime_happen_time</th><th>crime_hours</th></tr><tr><td>daytime</td><td>210350</td></tr><tr><td>night</td><td>117470</td></tr></table></div>\n",
       "    <br />(rows: 2, time: 1.0s,     2MB processed, job: job_GEE-P4QgONXdZXZXl4f99hm0nR9C)<br />\n",
       "    <script src=\"/static/components/requirejs/require.js\"></script>\n",
       "    <script>\n",
       "      require.config({\n",
       "        paths: {\n",
       "          base: '/static/base',\n",
       "          d3: '//cdnjs.cloudflare.com/ajax/libs/d3/3.4.13/d3',\n",
       "          plotly: 'https://cdn.plot.ly/plotly-1.5.1.min.js?noext',\n",
       "          jquery: '//ajax.googleapis.com/ajax/libs/jquery/2.0.0/jquery.min'\n",
       "        },\n",
       "        map: {\n",
       "          '*': {\n",
       "            datalab: 'nbextensions/gcpdatalab'\n",
       "          }\n",
       "        },\n",
       "        shim: {\n",
       "          plotly: {\n",
       "            deps: ['d3', 'jquery'],\n",
       "            exports: 'plotly'\n",
       "          }\n",
       "        }\n",
       "      });\n",
       "\n",
       "      require(['datalab/charting', 'datalab/element!4_156664577185', 'base/js/events',\n",
       "          'datalab/style!/nbextensions/gcpdatalab/charting.css'],\n",
       "        function(charts, dom, events) {\n",
       "          charts.render('gcharts', dom, events, 'table', [], {\"rows\": [{\"c\": [{\"v\": \"daytime\"}, {\"v\": 210350}]}, {\"c\": [{\"v\": \"night\"}, {\"v\": 117470}]}], \"cols\": [{\"type\": \"string\", \"id\": \"crime_happen_time\", \"label\": \"crime_happen_time\"}, {\"type\": \"number\", \"id\": \"crime_hours\", \"label\": \"crime_hours\"}]},\n",
       "            {\n",
       "              pageSize: 25,\n",
       "              cssClassNames:  {\n",
       "                tableRow: 'gchart-table-row',\n",
       "                headerRow: 'gchart-table-headerrow',\n",
       "                oddTableRow: 'gchart-table-oddrow',\n",
       "                selectedTableRow: 'gchart-table-selectedrow',\n",
       "                hoverTableRow: 'gchart-table-hoverrow',\n",
       "                tableCell: 'gchart-table-cell',\n",
       "                headerCell: 'gchart-table-headercell',\n",
       "                rowNumberCell: 'gchart-table-rownumcell'\n",
       "              }\n",
       "            },\n",
       "            {source_index: 3, fields: 'crime_happen_time,crime_hours'},\n",
       "            0,\n",
       "            2);\n",
       "        }\n",
       "      );\n",
       "    </script>\n",
       "  "
      ],
      "text/plain": [
       "QueryResultsTable job_GEE-P4QgONXdZXZXl4f99hm0nR9C"
      ]
     },
     "execution_count": 11,
     "metadata": {},
     "output_type": "execute_result"
    }
   ],
   "source": [
    "%%bq query\n",
    "SELECT Case when (hour >= 6 and hour <= 18) then 'daytime' else 'night' end as crime_happen_time, count(hour) as crime_hours\n",
    "FROM Boston_Crime.boston_crime\n",
    "Group by crime_happen_time\n",
    "Order by crime_happen_time"
   ]
  },
  {
   "cell_type": "markdown",
   "metadata": {},
   "source": [
    "#### Answer: It's more likely for crimes to happen in the daytime"
   ]
  },
  {
   "cell_type": "code",
   "execution_count": 14,
   "metadata": {},
   "outputs": [],
   "source": [
    "%%bq query -n crime_time \n",
    "SELECT Case when (hour >= 6 and hour <= 18) then 'daytime' else 'night' end as crime_happen_time, count(hour) as crime_hours\n",
    "FROM Boston_Crime.boston_crime\n",
    "Group by crime_happen_time"
   ]
  },
  {
   "cell_type": "code",
   "execution_count": 15,
   "metadata": {},
   "outputs": [
    {
     "data": {
      "text/html": [
       "\n",
       "    <div class=\"bqgc-container\">\n",
       "      \n",
       "      <div class=\"bqgc \" id=\"4_156664591940\">\n",
       "      </div>\n",
       "    </div>\n",
       "    <script src=\"/static/components/requirejs/require.js\"></script>\n",
       "    <script>\n",
       "\n",
       "      require.config({\n",
       "        paths: {\n",
       "          base: '/static/base',\n",
       "          d3: '//cdnjs.cloudflare.com/ajax/libs/d3/3.4.13/d3',\n",
       "          plotly: 'https://cdn.plot.ly/plotly-1.5.1.min.js?noext',\n",
       "          jquery: '//ajax.googleapis.com/ajax/libs/jquery/2.0.0/jquery.min'\n",
       "        },\n",
       "        map: {\n",
       "          '*': {\n",
       "            datalab: 'nbextensions/gcpdatalab'\n",
       "          }\n",
       "        },\n",
       "        shim: {\n",
       "          plotly: {\n",
       "            deps: ['d3', 'jquery'],\n",
       "            exports: 'plotly'\n",
       "          }\n",
       "        }\n",
       "      });\n",
       "\n",
       "      require(['datalab/charting',\n",
       "               'datalab/element!4_156664591940',\n",
       "               'base/js/events',\n",
       "               'datalab/style!/nbextensions/gcpdatalab/charting.css'\n",
       "              ],\n",
       "        function(charts, dom, events) {\n",
       "          charts.render(\n",
       "              'gcharts',\n",
       "              dom,\n",
       "              events,\n",
       "              'pie',\n",
       "              [],\n",
       "              {\"rows\": [{\"c\": [{\"v\": \"daytime\"}, {\"v\": 210350}]}, {\"c\": [{\"v\": \"night\"}, {\"v\": 117470}]}], \"cols\": [{\"type\": \"string\", \"id\": \"crime_happen_time\", \"label\": \"crime_happen_time\"}, {\"type\": \"number\", \"id\": \"crime_hours\", \"label\": \"crime_hours\"}]},\n",
       "              {\"width\": 900, \"height\": 400, \"title\": \"Daytime vs. Night Crime\"},\n",
       "              {\"fields\": \"*\", \"source_index\": 2, \"name\": 2},\n",
       "              0,\n",
       "              2);\n",
       "          }\n",
       "        );\n",
       "    </script>\n",
       "  "
      ],
      "text/plain": [
       "<IPython.core.display.HTML object>"
      ]
     },
     "execution_count": 15,
     "metadata": {},
     "output_type": "execute_result"
    },
    {
     "data": {
      "image/png": "[encoded data removed]"
     },
     "metadata": {
      "source_id": "4_156664591940"
     },
     "output_type": "display_data"
    }
   ],
   "source": [
    "%%chart pie --d crime_time\n",
    "title: Daytime vs. Night Crime\n",
    "height: 400\n",
    "width: 900"
   ]
  },
  {
   "cell_type": "markdown",
   "metadata": {},
   "source": [
    "#### 2.1.3 Regression for time & time_Crime"
   ]
  },
  {
   "cell_type": "markdown",
   "metadata": {},
   "source": [
    "#### For the regression, we create three dummy variables and assign values (0 or 1) by categorizing each of them. \n",
    "\n",
    "-\tMonth_type:\n",
    "\n",
    "-- “colder” as 1: from November to April \n",
    "\n",
    "-- “warmer” as 0: from May to October \n",
    "\n",
    "-\tWeek_type:\n",
    "\n",
    "-- Weekends as 1\n",
    "\n",
    "-- Weekdays as 0\n",
    "\n",
    "-\tHour_type:\n",
    "\n",
    "-- Daytime as 1: from 6am to 6pm\n",
    "\n",
    "-- Nighttime as 0: from 7pm to 5am"
   ]
  },
  {
   "cell_type": "code",
   "execution_count": 18,
   "metadata": {},
   "outputs": [
    {
     "data": {
      "text/html": [
       "\n",
       "    <div class=\"bqtv\" id=\"10_156626731266\"><table><tr><th>numcrime_in_time</th><th>month_type</th><th>week_type</th><th>hour_type</th></tr><tr><td>91121</td><td>0</td><td>0</td><td>1</td></tr><tr><td>46379</td><td>0</td><td>0</td><td>0</td></tr><tr><td>28095</td><td>0</td><td>1</td><td>1</td></tr><tr><td>21506</td><td>0</td><td>1</td><td>0</td></tr><tr><td>16283</td><td>1</td><td>1</td><td>0</td></tr><tr><td>69675</td><td>1</td><td>0</td><td>1</td></tr><tr><td>33302</td><td>1</td><td>0</td><td>0</td></tr><tr><td>21459</td><td>1</td><td>1</td><td>1</td></tr></table></div>\n",
       "    <br />(rows: 8, time: 0.2s, cached, job: job_fUxXSan5ywv0sNYymUBT1H2RVDjo)<br />\n",
       "    <script src=\"/static/components/requirejs/require.js\"></script>\n",
       "    <script>\n",
       "      require.config({\n",
       "        paths: {\n",
       "          base: '/static/base',\n",
       "          d3: '//cdnjs.cloudflare.com/ajax/libs/d3/3.4.13/d3',\n",
       "          plotly: 'https://cdn.plot.ly/plotly-1.5.1.min.js?noext',\n",
       "          jquery: '//ajax.googleapis.com/ajax/libs/jquery/2.0.0/jquery.min'\n",
       "        },\n",
       "        map: {\n",
       "          '*': {\n",
       "            datalab: 'nbextensions/gcpdatalab'\n",
       "          }\n",
       "        },\n",
       "        shim: {\n",
       "          plotly: {\n",
       "            deps: ['d3', 'jquery'],\n",
       "            exports: 'plotly'\n",
       "          }\n",
       "        }\n",
       "      });\n",
       "\n",
       "      require(['datalab/charting', 'datalab/element!10_156626731266', 'base/js/events',\n",
       "          'datalab/style!/nbextensions/gcpdatalab/charting.css'],\n",
       "        function(charts, dom, events) {\n",
       "          charts.render('gcharts', dom, events, 'table', [], {\"rows\": [{\"c\": [{\"v\": 91121}, {\"v\": 0}, {\"v\": 0}, {\"v\": 1}]}, {\"c\": [{\"v\": 46379}, {\"v\": 0}, {\"v\": 0}, {\"v\": 0}]}, {\"c\": [{\"v\": 28095}, {\"v\": 0}, {\"v\": 1}, {\"v\": 1}]}, {\"c\": [{\"v\": 21506}, {\"v\": 0}, {\"v\": 1}, {\"v\": 0}]}, {\"c\": [{\"v\": 16283}, {\"v\": 1}, {\"v\": 1}, {\"v\": 0}]}, {\"c\": [{\"v\": 69675}, {\"v\": 1}, {\"v\": 0}, {\"v\": 1}]}, {\"c\": [{\"v\": 33302}, {\"v\": 1}, {\"v\": 0}, {\"v\": 0}]}, {\"c\": [{\"v\": 21459}, {\"v\": 1}, {\"v\": 1}, {\"v\": 1}]}], \"cols\": [{\"type\": \"number\", \"id\": \"numcrime_in_time\", \"label\": \"numcrime_in_time\"}, {\"type\": \"number\", \"id\": \"month_type\", \"label\": \"month_type\"}, {\"type\": \"number\", \"id\": \"week_type\", \"label\": \"week_type\"}, {\"type\": \"number\", \"id\": \"hour_type\", \"label\": \"hour_type\"}]},\n",
       "            {\n",
       "              pageSize: 25,\n",
       "              cssClassNames:  {\n",
       "                tableRow: 'gchart-table-row',\n",
       "                headerRow: 'gchart-table-headerrow',\n",
       "                oddTableRow: 'gchart-table-oddrow',\n",
       "                selectedTableRow: 'gchart-table-selectedrow',\n",
       "                hoverTableRow: 'gchart-table-hoverrow',\n",
       "                tableCell: 'gchart-table-cell',\n",
       "                headerCell: 'gchart-table-headercell',\n",
       "                rowNumberCell: 'gchart-table-rownumcell'\n",
       "              }\n",
       "            },\n",
       "            {source_index: 9, fields: 'numcrime_in_time,month_type,week_type,hour_type'},\n",
       "            0,\n",
       "            8);\n",
       "        }\n",
       "      );\n",
       "    </script>\n",
       "  "
      ],
      "text/plain": [
       "QueryResultsTable job_fUxXSan5ywv0sNYymUBT1H2RVDjo"
      ]
     },
     "execution_count": 18,
     "metadata": {},
     "output_type": "execute_result"
    }
   ],
   "source": [
    "%%bq query\n",
    "select\n",
    "count (incident_number) as numcrime_in_time,\n",
    "case when month in (11,12,1,2,3,4) then 1\n",
    "else 0 end as month_type,\n",
    "case when DAY_OF_WEEK in ('Saturday','Sunday') then 1\n",
    "else 0 end as week_type,\n",
    "case when HOUR >=6 and hour <=18 then 1\n",
    "else 0 end as hour_type\n",
    "FROM `team-6-is-perfect.Boston_Crime.boston_crime`\n",
    "group by month_type,week_type,hour_type"
   ]
  },
  {
   "cell_type": "code",
   "execution_count": 19,
   "metadata": {},
   "outputs": [
    {
     "data": {
      "text/html": [
       "Done"
      ],
      "text/plain": [
       "QueryResultsTable job_VBTXOubci8kE3zffFPk8AbxgFKVt"
      ]
     },
     "execution_count": 19,
     "metadata": {},
     "output_type": "execute_result"
    }
   ],
   "source": [
    "%%bq query\n",
    "create or replace model`team-6-is-perfect.Boston_Crime.regression`\n",
    "options(\n",
    "model_type='linear_reg',\n",
    "input_label_cols=['numcrime_in_time'])\n",
    "as (select\n",
    "count (incident_number) as numcrime_in_time,\n",
    "case when month in (11,12,1,2,3,4) then 1\n",
    "else 0 end as month_type,\n",
    "case when DAY_OF_WEEK in ('Saturday','Sunday') then 1\n",
    "else 0 end as week_type,\n",
    "case when HOUR >=6 and hour <=18 then 1\n",
    "else 0 end as hour_type\n",
    "FROM `team-6-is-perfect.Boston_Crime.boston_crime`\n",
    "group by month_type,week_type,hour_type)"
   ]
  },
  {
   "cell_type": "code",
   "execution_count": 20,
   "metadata": {},
   "outputs": [
    {
     "data": {
      "text/html": [
       "\n",
       "    <div class=\"bqtv\" id=\"11_156626736332\"><table><tr><th>mean_absolute_error</th><th>mean_squared_error</th><th>mean_squared_log_error</th><th>median_absolute_error</th><th>r2_score</th><th>explained_variance</th></tr><tr><td>8668.75</td><td>85456909.6631</td><td>0.260012525106</td><td>7719.46112</td><td>0.862218911891</td><td>0.862258832374</td></tr></table></div>\n",
       "    <br />(rows: 1, time: 1.0s,    12MB processed, job: job_z6lyhCTfvBd71BSHiZkbebnb97To)<br />\n",
       "    <script src=\"/static/components/requirejs/require.js\"></script>\n",
       "    <script>\n",
       "      require.config({\n",
       "        paths: {\n",
       "          base: '/static/base',\n",
       "          d3: '//cdnjs.cloudflare.com/ajax/libs/d3/3.4.13/d3',\n",
       "          plotly: 'https://cdn.plot.ly/plotly-1.5.1.min.js?noext',\n",
       "          jquery: '//ajax.googleapis.com/ajax/libs/jquery/2.0.0/jquery.min'\n",
       "        },\n",
       "        map: {\n",
       "          '*': {\n",
       "            datalab: 'nbextensions/gcpdatalab'\n",
       "          }\n",
       "        },\n",
       "        shim: {\n",
       "          plotly: {\n",
       "            deps: ['d3', 'jquery'],\n",
       "            exports: 'plotly'\n",
       "          }\n",
       "        }\n",
       "      });\n",
       "\n",
       "      require(['datalab/charting', 'datalab/element!11_156626736332', 'base/js/events',\n",
       "          'datalab/style!/nbextensions/gcpdatalab/charting.css'],\n",
       "        function(charts, dom, events) {\n",
       "          charts.render('gcharts', dom, events, 'table', [], {\"rows\": [{\"c\": [{\"v\": 8668.75}, {\"v\": 85456909.66307987}, {\"v\": 0.2600125251063184}, {\"v\": 7719.461120000007}, {\"v\": 0.8622189118905184}, {\"v\": 0.8622588323740785}]}], \"cols\": [{\"type\": \"number\", \"id\": \"mean_absolute_error\", \"label\": \"mean_absolute_error\"}, {\"type\": \"number\", \"id\": \"mean_squared_error\", \"label\": \"mean_squared_error\"}, {\"type\": \"number\", \"id\": \"mean_squared_log_error\", \"label\": \"mean_squared_log_error\"}, {\"type\": \"number\", \"id\": \"median_absolute_error\", \"label\": \"median_absolute_error\"}, {\"type\": \"number\", \"id\": \"r2_score\", \"label\": \"r2_score\"}, {\"type\": \"number\", \"id\": \"explained_variance\", \"label\": \"explained_variance\"}]},\n",
       "            {\n",
       "              pageSize: 25,\n",
       "              cssClassNames:  {\n",
       "                tableRow: 'gchart-table-row',\n",
       "                headerRow: 'gchart-table-headerrow',\n",
       "                oddTableRow: 'gchart-table-oddrow',\n",
       "                selectedTableRow: 'gchart-table-selectedrow',\n",
       "                hoverTableRow: 'gchart-table-hoverrow',\n",
       "                tableCell: 'gchart-table-cell',\n",
       "                headerCell: 'gchart-table-headercell',\n",
       "                rowNumberCell: 'gchart-table-rownumcell'\n",
       "              }\n",
       "            },\n",
       "            {source_index: 10, fields: 'mean_absolute_error,mean_squared_error,mean_squared_log_error,median_absolute_error,r2_score,explained_variance'},\n",
       "            0,\n",
       "            1);\n",
       "        }\n",
       "      );\n",
       "    </script>\n",
       "  "
      ],
      "text/plain": [
       "QueryResultsTable job_z6lyhCTfvBd71BSHiZkbebnb97To"
      ]
     },
     "execution_count": 20,
     "metadata": {},
     "output_type": "execute_result"
    }
   ],
   "source": [
    "%%bq query\n",
    "with regression_table as\n",
    "(select\n",
    "count (incident_number) as numcrime_in_time,\n",
    "case when month in (11,12,1,2,3,4) then 1\n",
    "else 0 end as month_type,\n",
    "case when DAY_OF_WEEK in ('Saturday','Sunday') then 1\n",
    "else 0 end as week_type,\n",
    "case when HOUR >=6 and hour <=18 then 1\n",
    "else 0 end as hour_type\n",
    "FROM `team-6-is-perfect.Boston_Crime.boston_crime`\n",
    "group by month_type,week_type,hour_type)\n",
    "\n",
    "select *\n",
    "from\n",
    "ML.evaluate( model`team-6-is-perfect.Boston_Crime.regression`, table regression_table)"
   ]
  },
  {
   "cell_type": "code",
   "execution_count": 21,
   "metadata": {},
   "outputs": [
    {
     "data": {
      "text/html": [
       "\n",
       "    <div class=\"bqtv\" id=\"12_156626736617\"><table><tr><th>processed_input</th><th>weight</th></tr><tr><td>month_type</td><td>-6174.25492822</td></tr><tr><td>week_type</td><td>-20384.8120861</td></tr><tr><td>hour_type</td><td>12363.951484</td></tr><tr><td>__INTERCEPT__</td><td>40820.1464</td></tr></table></div>\n",
       "    <br />(rows: 4, time: 0.6s,    32B processed, job: job_6-IYkg4YMwQOZX--0fUKLKWaZ3sx)<br />\n",
       "    <script src=\"/static/components/requirejs/require.js\"></script>\n",
       "    <script>\n",
       "      require.config({\n",
       "        paths: {\n",
       "          base: '/static/base',\n",
       "          d3: '//cdnjs.cloudflare.com/ajax/libs/d3/3.4.13/d3',\n",
       "          plotly: 'https://cdn.plot.ly/plotly-1.5.1.min.js?noext',\n",
       "          jquery: '//ajax.googleapis.com/ajax/libs/jquery/2.0.0/jquery.min'\n",
       "        },\n",
       "        map: {\n",
       "          '*': {\n",
       "            datalab: 'nbextensions/gcpdatalab'\n",
       "          }\n",
       "        },\n",
       "        shim: {\n",
       "          plotly: {\n",
       "            deps: ['d3', 'jquery'],\n",
       "            exports: 'plotly'\n",
       "          }\n",
       "        }\n",
       "      });\n",
       "\n",
       "      require(['datalab/charting', 'datalab/element!12_156626736617', 'base/js/events',\n",
       "          'datalab/style!/nbextensions/gcpdatalab/charting.css'],\n",
       "        function(charts, dom, events) {\n",
       "          charts.render('gcharts', dom, events, 'table', [], {\"rows\": [{\"c\": [{\"v\": \"month_type\"}, {\"v\": -6174.25492822006}]}, {\"c\": [{\"v\": \"week_type\"}, {\"v\": -20384.812086112088}]}, {\"c\": [{\"v\": \"hour_type\"}, {\"v\": 12363.951484047242}]}, {\"c\": [{\"v\": \"__INTERCEPT__\"}, {\"v\": 40820.146400000005}]}], \"cols\": [{\"type\": \"string\", \"id\": \"processed_input\", \"label\": \"processed_input\"}, {\"type\": \"number\", \"id\": \"weight\", \"label\": \"weight\"}]},\n",
       "            {\n",
       "              pageSize: 25,\n",
       "              cssClassNames:  {\n",
       "                tableRow: 'gchart-table-row',\n",
       "                headerRow: 'gchart-table-headerrow',\n",
       "                oddTableRow: 'gchart-table-oddrow',\n",
       "                selectedTableRow: 'gchart-table-selectedrow',\n",
       "                hoverTableRow: 'gchart-table-hoverrow',\n",
       "                tableCell: 'gchart-table-cell',\n",
       "                headerCell: 'gchart-table-headercell',\n",
       "                rowNumberCell: 'gchart-table-rownumcell'\n",
       "              }\n",
       "            },\n",
       "            {source_index: 11, fields: 'processed_input,weight'},\n",
       "            0,\n",
       "            4);\n",
       "        }\n",
       "      );\n",
       "    </script>\n",
       "  "
      ],
      "text/plain": [
       "QueryResultsTable job_6-IYkg4YMwQOZX--0fUKLKWaZ3sx"
      ]
     },
     "execution_count": 21,
     "metadata": {},
     "output_type": "execute_result"
    }
   ],
   "source": [
    "%%bq query\n",
    "with eval_table as\n",
    "(select\n",
    "count (incident_number) as numcrime_in_time,\n",
    "case when month in (11,12,1,2,3,4) then 1\n",
    "else 0 end as month_type,\n",
    "case when DAY_OF_WEEK in ('Saturday','Sunday') then 1\n",
    "else 0 end as week_type,\n",
    "case when HOUR >=6 and hour <=18 then 1\n",
    "else 0 end as hour_type\n",
    "FROM `team-6-is-perfect.Boston_Crime.boston_crime`\n",
    "group by month_type,week_type,hour_type)\n",
    "\n",
    "select *\n",
    "from\n",
    "ML.WEIGHTS( model`team-6-is-perfect.Boston_Crime.regression`, STRUCT(true AS standardize))"
   ]
  },
  {
   "cell_type": "markdown",
   "metadata": {},
   "source": [
    "#### Regression Function: predicted number of crime = 40820.146 - 6174.255 * month_type(dummy) - 20384.812 * week_type(dummy)+12363.951*hour_type(dummy)\n",
    "#### R-square: 0.862 which is a reliable regression"
   ]
  },
  {
   "cell_type": "markdown",
   "metadata": {},
   "source": [
    "### 2.2 Location Analysis"
   ]
  },
  {
   "cell_type": "markdown",
   "metadata": {},
   "source": [
    " #### 2.2.1 Region/District/Street with the most crimes"
   ]
  },
  {
   "cell_type": "markdown",
   "metadata": {},
   "source": [
    "#### Question: Which neighboorhood is the most dangerous?"
   ]
  },
  {
   "cell_type": "code",
   "execution_count": 22,
   "metadata": {},
   "outputs": [
    {
     "data": {
      "text/html": [
       "\n",
       "    <div class=\"bqtv\" id=\"13_156626736781\"><table><tr><th>district</th><th>numcrime_in_district</th></tr><tr><td>B2</td><td>51288</td></tr><tr><td>C11</td><td>43817</td></tr><tr><td>D4</td><td>43338</td></tr><tr><td>A1</td><td>36735</td></tr><tr><td>B3</td><td>36400</td></tr></table></div>\n",
       "    <br />(rows: 5, time: 0.2s, cached, job: job_DW2cEqVgQzMVkJoc0H0W7XZk8977)<br />\n",
       "    <script src=\"/static/components/requirejs/require.js\"></script>\n",
       "    <script>\n",
       "      require.config({\n",
       "        paths: {\n",
       "          base: '/static/base',\n",
       "          d3: '//cdnjs.cloudflare.com/ajax/libs/d3/3.4.13/d3',\n",
       "          plotly: 'https://cdn.plot.ly/plotly-1.5.1.min.js?noext',\n",
       "          jquery: '//ajax.googleapis.com/ajax/libs/jquery/2.0.0/jquery.min'\n",
       "        },\n",
       "        map: {\n",
       "          '*': {\n",
       "            datalab: 'nbextensions/gcpdatalab'\n",
       "          }\n",
       "        },\n",
       "        shim: {\n",
       "          plotly: {\n",
       "            deps: ['d3', 'jquery'],\n",
       "            exports: 'plotly'\n",
       "          }\n",
       "        }\n",
       "      });\n",
       "\n",
       "      require(['datalab/charting', 'datalab/element!13_156626736781', 'base/js/events',\n",
       "          'datalab/style!/nbextensions/gcpdatalab/charting.css'],\n",
       "        function(charts, dom, events) {\n",
       "          charts.render('gcharts', dom, events, 'table', [], {\"rows\": [{\"c\": [{\"v\": \"B2\"}, {\"v\": 51288}]}, {\"c\": [{\"v\": \"C11\"}, {\"v\": 43817}]}, {\"c\": [{\"v\": \"D4\"}, {\"v\": 43338}]}, {\"c\": [{\"v\": \"A1\"}, {\"v\": 36735}]}, {\"c\": [{\"v\": \"B3\"}, {\"v\": 36400}]}], \"cols\": [{\"type\": \"string\", \"id\": \"district\", \"label\": \"district\"}, {\"type\": \"number\", \"id\": \"numcrime_in_district\", \"label\": \"numcrime_in_district\"}]},\n",
       "            {\n",
       "              pageSize: 25,\n",
       "              cssClassNames:  {\n",
       "                tableRow: 'gchart-table-row',\n",
       "                headerRow: 'gchart-table-headerrow',\n",
       "                oddTableRow: 'gchart-table-oddrow',\n",
       "                selectedTableRow: 'gchart-table-selectedrow',\n",
       "                hoverTableRow: 'gchart-table-hoverrow',\n",
       "                tableCell: 'gchart-table-cell',\n",
       "                headerCell: 'gchart-table-headercell',\n",
       "                rowNumberCell: 'gchart-table-rownumcell'\n",
       "              }\n",
       "            },\n",
       "            {source_index: 12, fields: 'district,numcrime_in_district'},\n",
       "            0,\n",
       "            5);\n",
       "        }\n",
       "      );\n",
       "    </script>\n",
       "  "
      ],
      "text/plain": [
       "QueryResultsTable job_DW2cEqVgQzMVkJoc0H0W7XZk8977"
      ]
     },
     "execution_count": 22,
     "metadata": {},
     "output_type": "execute_result"
    }
   ],
   "source": [
    "%%bq query\n",
    "SELECT district, count(district) as numcrime_in_district\n",
    "FROM Boston_Crime.boston_crime\n",
    "Group by district\n",
    "Order by numcrime_in_district DESC\n",
    "LIMIT 5;"
   ]
  },
  {
   "cell_type": "markdown",
   "metadata": {},
   "source": [
    "#### Answer: The most dangerous district is B2 which is Roxbury."
   ]
  },
  {
   "cell_type": "markdown",
   "metadata": {},
   "source": [
    "#### Question: What are the most dangerous streets?"
   ]
  },
  {
   "cell_type": "code",
   "execution_count": 23,
   "metadata": {},
   "outputs": [
    {
     "data": {
      "text/html": [
       "\n",
       "    <div class=\"bqtv\" id=\"14_156626736951\"><table><tr><th>street</th><th>numcrime_street</th></tr><tr><td>WASHINGTON ST</td><td>14590</td></tr><tr><td>BLUE HILL AVE</td><td>8002</td></tr><tr><td>BOYLSTON ST</td><td>7425</td></tr><tr><td>DORCHESTER AVE</td><td>5297</td></tr><tr><td>TREMONT ST</td><td>4925</td></tr></table></div>\n",
       "    <br />(rows: 5, time: 0.1s, cached, job: job_GUVICliyOaXJUjwEuOVYZs9ATNrr)<br />\n",
       "    <script src=\"/static/components/requirejs/require.js\"></script>\n",
       "    <script>\n",
       "      require.config({\n",
       "        paths: {\n",
       "          base: '/static/base',\n",
       "          d3: '//cdnjs.cloudflare.com/ajax/libs/d3/3.4.13/d3',\n",
       "          plotly: 'https://cdn.plot.ly/plotly-1.5.1.min.js?noext',\n",
       "          jquery: '//ajax.googleapis.com/ajax/libs/jquery/2.0.0/jquery.min'\n",
       "        },\n",
       "        map: {\n",
       "          '*': {\n",
       "            datalab: 'nbextensions/gcpdatalab'\n",
       "          }\n",
       "        },\n",
       "        shim: {\n",
       "          plotly: {\n",
       "            deps: ['d3', 'jquery'],\n",
       "            exports: 'plotly'\n",
       "          }\n",
       "        }\n",
       "      });\n",
       "\n",
       "      require(['datalab/charting', 'datalab/element!14_156626736951', 'base/js/events',\n",
       "          'datalab/style!/nbextensions/gcpdatalab/charting.css'],\n",
       "        function(charts, dom, events) {\n",
       "          charts.render('gcharts', dom, events, 'table', [], {\"rows\": [{\"c\": [{\"v\": \"WASHINGTON ST\"}, {\"v\": 14590}]}, {\"c\": [{\"v\": \"BLUE HILL AVE\"}, {\"v\": 8002}]}, {\"c\": [{\"v\": \"BOYLSTON ST\"}, {\"v\": 7425}]}, {\"c\": [{\"v\": \"DORCHESTER AVE\"}, {\"v\": 5297}]}, {\"c\": [{\"v\": \"TREMONT ST\"}, {\"v\": 4925}]}], \"cols\": [{\"type\": \"string\", \"id\": \"street\", \"label\": \"street\"}, {\"type\": \"number\", \"id\": \"numcrime_street\", \"label\": \"numcrime_street\"}]},\n",
       "            {\n",
       "              pageSize: 25,\n",
       "              cssClassNames:  {\n",
       "                tableRow: 'gchart-table-row',\n",
       "                headerRow: 'gchart-table-headerrow',\n",
       "                oddTableRow: 'gchart-table-oddrow',\n",
       "                selectedTableRow: 'gchart-table-selectedrow',\n",
       "                hoverTableRow: 'gchart-table-hoverrow',\n",
       "                tableCell: 'gchart-table-cell',\n",
       "                headerCell: 'gchart-table-headercell',\n",
       "                rowNumberCell: 'gchart-table-rownumcell'\n",
       "              }\n",
       "            },\n",
       "            {source_index: 13, fields: 'street,numcrime_street'},\n",
       "            0,\n",
       "            5);\n",
       "        }\n",
       "      );\n",
       "    </script>\n",
       "  "
      ],
      "text/plain": [
       "QueryResultsTable job_GUVICliyOaXJUjwEuOVYZs9ATNrr"
      ]
     },
     "execution_count": 23,
     "metadata": {},
     "output_type": "execute_result"
    }
   ],
   "source": [
    "%%bq query\n",
    "SELECT street, count(street) as numcrime_street\n",
    "FROM Boston_Crime.boston_crime\n",
    "Group by street\n",
    "Order by numcrime_street DESC\n",
    "LIMIT 5;"
   ]
  },
  {
   "cell_type": "markdown",
   "metadata": {},
   "source": [
    "#### Answer: The most dangerous street in Boston is Washington St."
   ]
  },
  {
   "cell_type": "markdown",
   "metadata": {},
   "source": [
    "#### 2.2.2 Distribution of crimes by Districts--bubble chart"
   ]
  },
  {
   "cell_type": "markdown",
   "metadata": {},
   "source": [
    "#### We use a bubble chart to represent the distribution of crimes in different districts in Boston"
   ]
  },
  {
   "cell_type": "code",
   "execution_count": 24,
   "metadata": {},
   "outputs": [
    {
     "data": {
      "text/html": [
       "\n",
       "    <div class=\"bqtv\" id=\"15_156626737135\"><table><tr><th>district</th><th>numcrime</th></tr><tr><td>C6</td><td>24190</td></tr><tr><td>C11</td><td>43817</td></tr><tr><td>D4</td><td>43338</td></tr><tr><td>A1</td><td>36735</td></tr><tr><td>D14</td><td>20632</td></tr><tr><td>B2</td><td>51288</td></tr><tr><td>E13</td><td>17981</td></tr><tr><td>E18</td><td>17825</td></tr><tr><td>B3</td><td>36400</td></tr><tr><td>A15</td><td>6663</td></tr><tr><td>E5</td><td>13543</td></tr><tr><td>A7</td><td>13634</td></tr></table></div>\n",
       "    <br />(rows: 12, time: 0.1s, cached, job: job_mbhHDtVE5gOM41u8cVftNINuxg8V)<br />\n",
       "    <script src=\"/static/components/requirejs/require.js\"></script>\n",
       "    <script>\n",
       "      require.config({\n",
       "        paths: {\n",
       "          base: '/static/base',\n",
       "          d3: '//cdnjs.cloudflare.com/ajax/libs/d3/3.4.13/d3',\n",
       "          plotly: 'https://cdn.plot.ly/plotly-1.5.1.min.js?noext',\n",
       "          jquery: '//ajax.googleapis.com/ajax/libs/jquery/2.0.0/jquery.min'\n",
       "        },\n",
       "        map: {\n",
       "          '*': {\n",
       "            datalab: 'nbextensions/gcpdatalab'\n",
       "          }\n",
       "        },\n",
       "        shim: {\n",
       "          plotly: {\n",
       "            deps: ['d3', 'jquery'],\n",
       "            exports: 'plotly'\n",
       "          }\n",
       "        }\n",
       "      });\n",
       "\n",
       "      require(['datalab/charting', 'datalab/element!15_156626737135', 'base/js/events',\n",
       "          'datalab/style!/nbextensions/gcpdatalab/charting.css'],\n",
       "        function(charts, dom, events) {\n",
       "          charts.render('gcharts', dom, events, 'table', [], {\"rows\": [{\"c\": [{\"v\": \"C6\"}, {\"v\": 24190}]}, {\"c\": [{\"v\": \"C11\"}, {\"v\": 43817}]}, {\"c\": [{\"v\": \"D4\"}, {\"v\": 43338}]}, {\"c\": [{\"v\": \"A1\"}, {\"v\": 36735}]}, {\"c\": [{\"v\": \"D14\"}, {\"v\": 20632}]}, {\"c\": [{\"v\": \"B2\"}, {\"v\": 51288}]}, {\"c\": [{\"v\": \"E13\"}, {\"v\": 17981}]}, {\"c\": [{\"v\": \"E18\"}, {\"v\": 17825}]}, {\"c\": [{\"v\": \"B3\"}, {\"v\": 36400}]}, {\"c\": [{\"v\": \"A15\"}, {\"v\": 6663}]}, {\"c\": [{\"v\": \"E5\"}, {\"v\": 13543}]}, {\"c\": [{\"v\": \"A7\"}, {\"v\": 13634}]}], \"cols\": [{\"type\": \"string\", \"id\": \"district\", \"label\": \"district\"}, {\"type\": \"number\", \"id\": \"numcrime\", \"label\": \"numcrime\"}]},\n",
       "            {\n",
       "              pageSize: 25,\n",
       "              cssClassNames:  {\n",
       "                tableRow: 'gchart-table-row',\n",
       "                headerRow: 'gchart-table-headerrow',\n",
       "                oddTableRow: 'gchart-table-oddrow',\n",
       "                selectedTableRow: 'gchart-table-selectedrow',\n",
       "                hoverTableRow: 'gchart-table-hoverrow',\n",
       "                tableCell: 'gchart-table-cell',\n",
       "                headerCell: 'gchart-table-headercell',\n",
       "                rowNumberCell: 'gchart-table-rownumcell'\n",
       "              }\n",
       "            },\n",
       "            {source_index: 14, fields: 'district,numcrime'},\n",
       "            0,\n",
       "            12);\n",
       "        }\n",
       "      );\n",
       "    </script>\n",
       "  "
      ],
      "text/plain": [
       "QueryResultsTable job_mbhHDtVE5gOM41u8cVftNINuxg8V"
      ]
     },
     "execution_count": 24,
     "metadata": {},
     "output_type": "execute_result"
    }
   ],
   "source": [
    "%%bq query\n",
    "SELECT distinct(district), count(district) as numcrime\n",
    "FROM Boston_Crime.boston_crime\n",
    "WHERE district IS NOT NULL\n",
    "GROUP BY district"
   ]
  },
  {
   "cell_type": "code",
   "execution_count": 25,
   "metadata": {},
   "outputs": [
    {
     "data": {
      "text/html": [
       "\n",
       "    <div class=\"bqtv\" id=\"16_156626737320\"><table><tr><th>district</th><th>lat</th><th>lon</th></tr><tr><td>E5</td><td>42.2824396887</td><td>71.1413665707</td></tr><tr><td>B3</td><td>42.2869372686</td><td>71.0851357929</td></tr><tr><td>E18</td><td>42.2626449604</td><td>71.1189275003</td></tr><tr><td>C11</td><td>42.3004188959</td><td>71.0631435474</td></tr><tr><td>B2</td><td>42.3216240128</td><td>71.0847784499</td></tr><tr><td>E13</td><td>42.3150172319</td><td>71.106445615</td></tr><tr><td>C6</td><td>42.333595631</td><td>71.0522138897</td></tr><tr><td>D4</td><td>42.3434649652</td><td>71.080862658</td></tr><tr><td>D14</td><td>42.3502852632</td><td>71.1422996426</td></tr><tr><td>A1</td><td>42.3568119784</td><td>71.0610989757</td></tr><tr><td>A7</td><td>42.3774691592</td><td>71.0306998716</td></tr><tr><td>A15</td><td>42.3760562756</td><td>71.0626650145</td></tr></table></div>\n",
       "    <br />(rows: 12, time: 0.2s, cached, job: job_0HA-cutcTuIOmc5UPTixPBGxwUmF)<br />\n",
       "    <script src=\"/static/components/requirejs/require.js\"></script>\n",
       "    <script>\n",
       "      require.config({\n",
       "        paths: {\n",
       "          base: '/static/base',\n",
       "          d3: '//cdnjs.cloudflare.com/ajax/libs/d3/3.4.13/d3',\n",
       "          plotly: 'https://cdn.plot.ly/plotly-1.5.1.min.js?noext',\n",
       "          jquery: '//ajax.googleapis.com/ajax/libs/jquery/2.0.0/jquery.min'\n",
       "        },\n",
       "        map: {\n",
       "          '*': {\n",
       "            datalab: 'nbextensions/gcpdatalab'\n",
       "          }\n",
       "        },\n",
       "        shim: {\n",
       "          plotly: {\n",
       "            deps: ['d3', 'jquery'],\n",
       "            exports: 'plotly'\n",
       "          }\n",
       "        }\n",
       "      });\n",
       "\n",
       "      require(['datalab/charting', 'datalab/element!16_156626737320', 'base/js/events',\n",
       "          'datalab/style!/nbextensions/gcpdatalab/charting.css'],\n",
       "        function(charts, dom, events) {\n",
       "          charts.render('gcharts', dom, events, 'table', [], {\"rows\": [{\"c\": [{\"v\": \"E5\"}, {\"v\": 42.28243968865183}, {\"v\": 71.14136657067988}]}, {\"c\": [{\"v\": \"B3\"}, {\"v\": 42.28693726859044}, {\"v\": 71.08513579285435}]}, {\"c\": [{\"v\": \"E18\"}, {\"v\": 42.262644960367055}, {\"v\": 71.11892750034681}]}, {\"c\": [{\"v\": \"C11\"}, {\"v\": 42.300418895886544}, {\"v\": 71.0631435474022}]}, {\"c\": [{\"v\": \"B2\"}, {\"v\": 42.32162401284319}, {\"v\": 71.08477844987675}]}, {\"c\": [{\"v\": \"E13\"}, {\"v\": 42.315017231898715}, {\"v\": 71.10644561497699}]}, {\"c\": [{\"v\": \"C6\"}, {\"v\": 42.33359563104538}, {\"v\": 71.05221388972917}]}, {\"c\": [{\"v\": \"D4\"}, {\"v\": 42.34346496518017}, {\"v\": 71.08086265801134}]}, {\"c\": [{\"v\": \"D14\"}, {\"v\": 42.35028526317106}, {\"v\": 71.14229964258688}]}, {\"c\": [{\"v\": \"A1\"}, {\"v\": 42.35681197836697}, {\"v\": 71.06109897568975}]}, {\"c\": [{\"v\": \"A7\"}, {\"v\": 42.37746915917957}, {\"v\": 71.03069987159655}]}, {\"c\": [{\"v\": \"A15\"}, {\"v\": 42.37605627556264}, {\"v\": 71.06266501447087}]}], \"cols\": [{\"type\": \"string\", \"id\": \"district\", \"label\": \"district\"}, {\"type\": \"number\", \"id\": \"lat\", \"label\": \"lat\"}, {\"type\": \"number\", \"id\": \"lon\", \"label\": \"lon\"}]},\n",
       "            {\n",
       "              pageSize: 25,\n",
       "              cssClassNames:  {\n",
       "                tableRow: 'gchart-table-row',\n",
       "                headerRow: 'gchart-table-headerrow',\n",
       "                oddTableRow: 'gchart-table-oddrow',\n",
       "                selectedTableRow: 'gchart-table-selectedrow',\n",
       "                hoverTableRow: 'gchart-table-hoverrow',\n",
       "                tableCell: 'gchart-table-cell',\n",
       "                headerCell: 'gchart-table-headercell',\n",
       "                rowNumberCell: 'gchart-table-rownumcell'\n",
       "              }\n",
       "            },\n",
       "            {source_index: 15, fields: 'district,lat,lon'},\n",
       "            0,\n",
       "            12);\n",
       "        }\n",
       "      );\n",
       "    </script>\n",
       "  "
      ],
      "text/plain": [
       "QueryResultsTable job_0HA-cutcTuIOmc5UPTixPBGxwUmF"
      ]
     },
     "execution_count": 25,
     "metadata": {},
     "output_type": "execute_result"
    }
   ],
   "source": [
    "%%bq query\n",
    "SELECT distinct district, AVG(lat) AS lat, -AVG(long) AS lon\n",
    "FROM Boston_Crime.boston_crime\n",
    "WHERE (district IS NOT NULL) AND (long!=-1) AND (lat!=-1) AND Long is not NULL AND lat is not NULL\n",
    "GROUP BY district"
   ]
  },
  {
   "cell_type": "code",
   "execution_count": 6,
   "metadata": {
    "hiddenCell": true
   },
   "outputs": [
    {
     "data": {
      "text/html": [
       "\n",
       "    <div class=\"bqtv\" id=\"3_156664520941\"><table><tr><th>district</th><th>lat</th><th>lon</th><th>numcrime</th></tr><tr><td>C6</td><td>42.333595631</td><td>71.0522138897</td><td>24190</td></tr><tr><td>C11</td><td>42.3004188959</td><td>71.0631435474</td><td>43817</td></tr><tr><td>D4</td><td>42.3434649652</td><td>71.080862658</td><td>43338</td></tr><tr><td>A1</td><td>42.3568119784</td><td>71.0610989757</td><td>36735</td></tr><tr><td>D14</td><td>42.3502852632</td><td>71.1422996426</td><td>20632</td></tr><tr><td>B2</td><td>42.3216240128</td><td>71.0847784499</td><td>51288</td></tr><tr><td>E13</td><td>42.3150172319</td><td>71.106445615</td><td>17981</td></tr><tr><td>E18</td><td>42.2626449604</td><td>71.1189275003</td><td>17825</td></tr><tr><td>B3</td><td>42.2869372686</td><td>71.0851357929</td><td>36400</td></tr><tr><td>A15</td><td>42.3760562756</td><td>71.0626650145</td><td>6663</td></tr><tr><td>E5</td><td>42.2824396887</td><td>71.1413665707</td><td>13543</td></tr><tr><td>A7</td><td>42.3774691592</td><td>71.0306998716</td><td>13634</td></tr></table></div>\n",
       "    <br />(rows: 12, time: 1.6s,     6MB processed, job: job_mMaNTbkIusmHsgMTwtU9H4vmbw6t)<br />\n",
       "    <script src=\"/static/components/requirejs/require.js\"></script>\n",
       "    <script>\n",
       "      require.config({\n",
       "        paths: {\n",
       "          base: '/static/base',\n",
       "          d3: '//cdnjs.cloudflare.com/ajax/libs/d3/3.4.13/d3',\n",
       "          plotly: 'https://cdn.plot.ly/plotly-1.5.1.min.js?noext',\n",
       "          jquery: '//ajax.googleapis.com/ajax/libs/jquery/2.0.0/jquery.min'\n",
       "        },\n",
       "        map: {\n",
       "          '*': {\n",
       "            datalab: 'nbextensions/gcpdatalab'\n",
       "          }\n",
       "        },\n",
       "        shim: {\n",
       "          plotly: {\n",
       "            deps: ['d3', 'jquery'],\n",
       "            exports: 'plotly'\n",
       "          }\n",
       "        }\n",
       "      });\n",
       "\n",
       "      require(['datalab/charting', 'datalab/element!3_156664520941', 'base/js/events',\n",
       "          'datalab/style!/nbextensions/gcpdatalab/charting.css'],\n",
       "        function(charts, dom, events) {\n",
       "          charts.render('gcharts', dom, events, 'table', [], {\"rows\": [{\"c\": [{\"v\": \"C6\"}, {\"v\": 42.33359563104538}, {\"v\": 71.05221388972917}, {\"v\": 24190}]}, {\"c\": [{\"v\": \"C11\"}, {\"v\": 42.300418895886544}, {\"v\": 71.0631435474022}, {\"v\": 43817}]}, {\"c\": [{\"v\": \"D4\"}, {\"v\": 42.34346496518017}, {\"v\": 71.08086265801134}, {\"v\": 43338}]}, {\"c\": [{\"v\": \"A1\"}, {\"v\": 42.35681197836697}, {\"v\": 71.06109897568975}, {\"v\": 36735}]}, {\"c\": [{\"v\": \"D14\"}, {\"v\": 42.35028526317106}, {\"v\": 71.14229964258688}, {\"v\": 20632}]}, {\"c\": [{\"v\": \"B2\"}, {\"v\": 42.32162401284319}, {\"v\": 71.08477844987675}, {\"v\": 51288}]}, {\"c\": [{\"v\": \"E13\"}, {\"v\": 42.315017231898715}, {\"v\": 71.10644561497699}, {\"v\": 17981}]}, {\"c\": [{\"v\": \"E18\"}, {\"v\": 42.262644960367055}, {\"v\": 71.11892750034681}, {\"v\": 17825}]}, {\"c\": [{\"v\": \"B3\"}, {\"v\": 42.28693726859044}, {\"v\": 71.08513579285435}, {\"v\": 36400}]}, {\"c\": [{\"v\": \"A15\"}, {\"v\": 42.37605627556264}, {\"v\": 71.06266501447087}, {\"v\": 6663}]}, {\"c\": [{\"v\": \"E5\"}, {\"v\": 42.28243968865183}, {\"v\": 71.14136657067988}, {\"v\": 13543}]}, {\"c\": [{\"v\": \"A7\"}, {\"v\": 42.37746915917957}, {\"v\": 71.03069987159655}, {\"v\": 13634}]}], \"cols\": [{\"type\": \"string\", \"id\": \"district\", \"label\": \"district\"}, {\"type\": \"number\", \"id\": \"lat\", \"label\": \"lat\"}, {\"type\": \"number\", \"id\": \"lon\", \"label\": \"lon\"}, {\"type\": \"number\", \"id\": \"numcrime\", \"label\": \"numcrime\"}]},\n",
       "            {\n",
       "              pageSize: 25,\n",
       "              cssClassNames:  {\n",
       "                tableRow: 'gchart-table-row',\n",
       "                headerRow: 'gchart-table-headerrow',\n",
       "                oddTableRow: 'gchart-table-oddrow',\n",
       "                selectedTableRow: 'gchart-table-selectedrow',\n",
       "                hoverTableRow: 'gchart-table-hoverrow',\n",
       "                tableCell: 'gchart-table-cell',\n",
       "                headerCell: 'gchart-table-headercell',\n",
       "                rowNumberCell: 'gchart-table-rownumcell'\n",
       "              }\n",
       "            },\n",
       "            {source_index: 2, fields: 'district,lat,lon,numcrime'},\n",
       "            0,\n",
       "            12);\n",
       "        }\n",
       "      );\n",
       "    </script>\n",
       "  "
      ],
      "text/plain": [
       "QueryResultsTable job_mMaNTbkIusmHsgMTwtU9H4vmbw6t"
      ]
     },
     "execution_count": 6,
     "metadata": {},
     "output_type": "execute_result"
    }
   ],
   "source": [
    "%%bq query\n",
    "WITH temp1 AS(\n",
    "SELECT distinct(district), count(district) as numcrime\n",
    "FROM Boston_Crime.boston_crime\n",
    "WHERE district IS NOT NULL\n",
    "GROUP BY district),\n",
    "temp2 AS(\n",
    "SELECT distinct district, AVG(lat) AS lat, -AVG(long) AS lon\n",
    "FROM Boston_Crime.boston_crime\n",
    "WHERE (district IS NOT NULL) AND (long!=-1) AND (lat!=-1) AND Long is not NULL AND lat is not NULL\n",
    "GROUP BY district)\n",
    "\n",
    "SELECT district, lat, lon, numcrime\n",
    "FROM temp1\n",
    "LEFT JOIN temp2\n",
    "USING(district)\n"
   ]
  },
  {
   "cell_type": "code",
   "execution_count": 7,
   "metadata": {},
   "outputs": [],
   "source": [
    "%%bq query -n crime_map\n",
    "WITH temp1 AS(\n",
    "SELECT distinct(district), count(district) as numcrime\n",
    "FROM Boston_Crime.boston_crime\n",
    "WHERE district IS NOT NULL\n",
    "GROUP BY district),\n",
    "temp2 AS(\n",
    "SELECT distinct district, AVG(lat) AS lat, -AVG(long) AS lon\n",
    "FROM Boston_Crime.boston_crime\n",
    "WHERE (district IS NOT NULL) AND (long!=-1) AND (lat!=-1) AND Long is not NULL AND lat is not NULL\n",
    "GROUP BY district)\n",
    "\n",
    "SELECT district, lat, lon, numcrime\n",
    "FROM temp1\n",
    "LEFT JOIN temp2\n",
    "USING(district)"
   ]
  },
  {
   "cell_type": "code",
   "execution_count": 8,
   "metadata": {},
   "outputs": [
    {
     "data": {
      "text/html": [
       "\n",
       "    <div class=\"bqgc-container\">\n",
       "      \n",
       "      <div class=\"bqgc \" id=\"2_156664522324\">\n",
       "      </div>\n",
       "    </div>\n",
       "    <script src=\"/static/components/requirejs/require.js\"></script>\n",
       "    <script>\n",
       "\n",
       "      require.config({\n",
       "        paths: {\n",
       "          base: '/static/base',\n",
       "          d3: '//cdnjs.cloudflare.com/ajax/libs/d3/3.4.13/d3',\n",
       "          plotly: 'https://cdn.plot.ly/plotly-1.5.1.min.js?noext',\n",
       "          jquery: '//ajax.googleapis.com/ajax/libs/jquery/2.0.0/jquery.min'\n",
       "        },\n",
       "        map: {\n",
       "          '*': {\n",
       "            datalab: 'nbextensions/gcpdatalab'\n",
       "          }\n",
       "        },\n",
       "        shim: {\n",
       "          plotly: {\n",
       "            deps: ['d3', 'jquery'],\n",
       "            exports: 'plotly'\n",
       "          }\n",
       "        }\n",
       "      });\n",
       "\n",
       "      require(['datalab/charting',\n",
       "               'datalab/element!2_156664522324',\n",
       "               'base/js/events',\n",
       "               'datalab/style!/nbextensions/gcpdatalab/charting.css'\n",
       "              ],\n",
       "        function(charts, dom, events) {\n",
       "          charts.render(\n",
       "              'gcharts',\n",
       "              dom,\n",
       "              events,\n",
       "              'bubbles',\n",
       "              [],\n",
       "              {\"rows\": [{\"c\": [{\"v\": \"C6\"}, {\"v\": 42.33359563104538}, {\"v\": 71.05221388972917}, {\"v\": 24190}]}, {\"c\": [{\"v\": \"C11\"}, {\"v\": 42.300418895886544}, {\"v\": 71.0631435474022}, {\"v\": 43817}]}, {\"c\": [{\"v\": \"D4\"}, {\"v\": 42.34346496518017}, {\"v\": 71.08086265801134}, {\"v\": 43338}]}, {\"c\": [{\"v\": \"A1\"}, {\"v\": 42.35681197836697}, {\"v\": 71.06109897568975}, {\"v\": 36735}]}, {\"c\": [{\"v\": \"D14\"}, {\"v\": 42.35028526317106}, {\"v\": 71.14229964258688}, {\"v\": 20632}]}, {\"c\": [{\"v\": \"B2\"}, {\"v\": 42.32162401284319}, {\"v\": 71.08477844987675}, {\"v\": 51288}]}, {\"c\": [{\"v\": \"E13\"}, {\"v\": 42.315017231898715}, {\"v\": 71.10644561497699}, {\"v\": 17981}]}, {\"c\": [{\"v\": \"E18\"}, {\"v\": 42.262644960367055}, {\"v\": 71.11892750034681}, {\"v\": 17825}]}, {\"c\": [{\"v\": \"B3\"}, {\"v\": 42.28693726859044}, {\"v\": 71.08513579285435}, {\"v\": 36400}]}, {\"c\": [{\"v\": \"A15\"}, {\"v\": 42.37605627556264}, {\"v\": 71.06266501447087}, {\"v\": 6663}]}, {\"c\": [{\"v\": \"E5\"}, {\"v\": 42.28243968865183}, {\"v\": 71.14136657067988}, {\"v\": 13543}]}, {\"c\": [{\"v\": \"A7\"}, {\"v\": 42.37746915917957}, {\"v\": 71.03069987159655}, {\"v\": 13634}]}], \"cols\": [{\"type\": \"string\", \"id\": \"district\", \"label\": \"district\"}, {\"type\": \"number\", \"id\": \"lat\", \"label\": \"lat\"}, {\"type\": \"number\", \"id\": \"lon\", \"label\": \"lon\"}, {\"type\": \"number\", \"id\": \"numcrime\", \"label\": \"numcrime\"}]},\n",
       "              {\"vAxis\": {\"title\": \"longitude\"}, \"width\": 1000, \"height\": 600, \"hAxis\": {\"title\": \"latitude\"}, \"title\": \"Crime in boston in different district\"},\n",
       "              {\"fields\": \"*\", \"source_index\": 0, \"name\": 0},\n",
       "              0,\n",
       "              12);\n",
       "          }\n",
       "        );\n",
       "    </script>\n",
       "  "
      ],
      "text/plain": [
       "<IPython.core.display.HTML object>"
      ]
     },
     "execution_count": 8,
     "metadata": {},
     "output_type": "execute_result"
    },
    {
     "data": {
      "image/png": "[encoded data removed]"
     },
     "metadata": {
      "source_id": "2_156664522324"
     },
     "output_type": "display_data"
    }
   ],
   "source": [
    "%%chart bubbles --data crime_map\n",
    "title: Crime in boston in different district\n",
    "height: 600\n",
    "width: 1000\n",
    "hAxis:\n",
    "  title: latitude\n",
    "vAxis:\n",
    "  title: longitude"
   ]
  },
  {
   "cell_type": "markdown",
   "metadata": {},
   "source": [
    "#### 2.2.3 Location,Housing Prices and Crimes"
   ]
  },
  {
   "cell_type": "markdown",
   "metadata": {},
   "source": [
    "We are interested in finding a relationship between crimes and housing prices"
   ]
  },
  {
   "cell_type": "markdown",
   "metadata": {},
   "source": [
    "#### Question: Do housing prices have effects on the number of crimes?"
   ]
  },
  {
   "cell_type": "markdown",
   "metadata": {},
   "source": [
    "##### Distribution for Location_Housing price & Location_Crime"
   ]
  },
  {
   "cell_type": "code",
   "execution_count": 28,
   "metadata": {},
   "outputs": [
    {
     "data": {
      "text/html": [
       "\n",
       "    <div class=\"bqtv\" id=\"17_156626737662\"><table><tr><th>District</th><th>price_in_district</th><th>numcrime_in_district</th></tr><tr><td>C6</td><td>691200</td><td>24190</td></tr><tr><td>C11</td><td>505800</td><td>43817</td></tr><tr><td>D4</td><td>867000</td><td>43338</td></tr><tr><td>A1</td><td>1152300</td><td>36735</td></tr><tr><td>D14</td><td>452600</td><td>20632</td></tr><tr><td>B2</td><td>408900</td><td>51288</td></tr><tr><td>E13</td><td>615600</td><td>17981</td></tr><tr><td>E18</td><td>435700</td><td>17825</td></tr><tr><td>B3</td><td>395100</td><td>36400</td></tr><tr><td>A15</td><td>728600</td><td>6663</td></tr><tr><td>E5</td><td>585800</td><td>13543</td></tr><tr><td>A7</td><td>480200</td><td>13634</td></tr></table></div>\n",
       "    <br />(rows: 12, time: 0.1s, cached, job: job_YuWh2hC2AwP5a0PuQfOxuG-6Uo1W)<br />\n",
       "    <script src=\"/static/components/requirejs/require.js\"></script>\n",
       "    <script>\n",
       "      require.config({\n",
       "        paths: {\n",
       "          base: '/static/base',\n",
       "          d3: '//cdnjs.cloudflare.com/ajax/libs/d3/3.4.13/d3',\n",
       "          plotly: 'https://cdn.plot.ly/plotly-1.5.1.min.js?noext',\n",
       "          jquery: '//ajax.googleapis.com/ajax/libs/jquery/2.0.0/jquery.min'\n",
       "        },\n",
       "        map: {\n",
       "          '*': {\n",
       "            datalab: 'nbextensions/gcpdatalab'\n",
       "          }\n",
       "        },\n",
       "        shim: {\n",
       "          plotly: {\n",
       "            deps: ['d3', 'jquery'],\n",
       "            exports: 'plotly'\n",
       "          }\n",
       "        }\n",
       "      });\n",
       "\n",
       "      require(['datalab/charting', 'datalab/element!17_156626737662', 'base/js/events',\n",
       "          'datalab/style!/nbextensions/gcpdatalab/charting.css'],\n",
       "        function(charts, dom, events) {\n",
       "          charts.render('gcharts', dom, events, 'table', [], {\"rows\": [{\"c\": [{\"v\": \"C6\"}, {\"v\": 691200}, {\"v\": 24190}]}, {\"c\": [{\"v\": \"C11\"}, {\"v\": 505800}, {\"v\": 43817}]}, {\"c\": [{\"v\": \"D4\"}, {\"v\": 867000}, {\"v\": 43338}]}, {\"c\": [{\"v\": \"A1\"}, {\"v\": 1152300}, {\"v\": 36735}]}, {\"c\": [{\"v\": \"D14\"}, {\"v\": 452600}, {\"v\": 20632}]}, {\"c\": [{\"v\": \"B2\"}, {\"v\": 408900}, {\"v\": 51288}]}, {\"c\": [{\"v\": \"E13\"}, {\"v\": 615600}, {\"v\": 17981}]}, {\"c\": [{\"v\": \"E18\"}, {\"v\": 435700}, {\"v\": 17825}]}, {\"c\": [{\"v\": \"B3\"}, {\"v\": 395100}, {\"v\": 36400}]}, {\"c\": [{\"v\": \"A15\"}, {\"v\": 728600}, {\"v\": 6663}]}, {\"c\": [{\"v\": \"E5\"}, {\"v\": 585800}, {\"v\": 13543}]}, {\"c\": [{\"v\": \"A7\"}, {\"v\": 480200}, {\"v\": 13634}]}], \"cols\": [{\"type\": \"string\", \"id\": \"District\", \"label\": \"District\"}, {\"type\": \"number\", \"id\": \"price_in_district\", \"label\": \"price_in_district\"}, {\"type\": \"number\", \"id\": \"numcrime_in_district\", \"label\": \"numcrime_in_district\"}]},\n",
       "            {\n",
       "              pageSize: 25,\n",
       "              cssClassNames:  {\n",
       "                tableRow: 'gchart-table-row',\n",
       "                headerRow: 'gchart-table-headerrow',\n",
       "                oddTableRow: 'gchart-table-oddrow',\n",
       "                selectedTableRow: 'gchart-table-selectedrow',\n",
       "                hoverTableRow: 'gchart-table-hoverrow',\n",
       "                tableCell: 'gchart-table-cell',\n",
       "                headerCell: 'gchart-table-headercell',\n",
       "                rowNumberCell: 'gchart-table-rownumcell'\n",
       "              }\n",
       "            },\n",
       "            {source_index: 16, fields: 'District,price_in_district,numcrime_in_district'},\n",
       "            0,\n",
       "            12);\n",
       "        }\n",
       "      );\n",
       "    </script>\n",
       "  "
      ],
      "text/plain": [
       "QueryResultsTable job_YuWh2hC2AwP5a0PuQfOxuG-6Uo1W"
      ]
     },
     "execution_count": 28,
     "metadata": {},
     "output_type": "execute_result"
    }
   ],
   "source": [
    "%%bq query\n",
    "SELECT \n",
    "housing.District,\n",
    "housing.current as price_in_district,\n",
    "crime.numcrime_in_district\n",
    "FROM (SELECT district, count(district) as numcrime_in_district\n",
    "FROM `team-6-is-perfect.Boston_Crime.boston_crime`\n",
    "Group by district\n",
    ") as crime\n",
    "inner join `team-6-is-perfect.Boston_Crime.boston_housing` as housing \n",
    "on crime.district=housing.District"
   ]
  },
  {
   "cell_type": "code",
   "execution_count": 29,
   "metadata": {},
   "outputs": [],
   "source": [
    "%%bq query -n housecrime\n",
    "SELECT \n",
    "housing.current as x,\n",
    "crime.numcrime_in_district as y\n",
    "FROM (SELECT district, count(district) as numcrime_in_district\n",
    "FROM `team-6-is-perfect.Boston_Crime.boston_crime`\n",
    "Group by district\n",
    ") as crime\n",
    "inner join `team-6-is-perfect.Boston_Crime.boston_housing` as housing \n",
    "on crime.district=housing.District"
   ]
  },
  {
   "cell_type": "code",
   "execution_count": 30,
   "metadata": {},
   "outputs": [
    {
     "data": {
      "text/html": [
       "\n",
       "    <div class=\"bqgc-container\">\n",
       "      \n",
       "      <div class=\"bqgc \" id=\"6_156626737689\">\n",
       "      </div>\n",
       "    </div>\n",
       "    <script src=\"/static/components/requirejs/require.js\"></script>\n",
       "    <script>\n",
       "\n",
       "      require.config({\n",
       "        paths: {\n",
       "          base: '/static/base',\n",
       "          d3: '//cdnjs.cloudflare.com/ajax/libs/d3/3.4.13/d3',\n",
       "          plotly: 'https://cdn.plot.ly/plotly-1.5.1.min.js?noext',\n",
       "          jquery: '//ajax.googleapis.com/ajax/libs/jquery/2.0.0/jquery.min'\n",
       "        },\n",
       "        map: {\n",
       "          '*': {\n",
       "            datalab: 'nbextensions/gcpdatalab'\n",
       "          }\n",
       "        },\n",
       "        shim: {\n",
       "          plotly: {\n",
       "            deps: ['d3', 'jquery'],\n",
       "            exports: 'plotly'\n",
       "          }\n",
       "        }\n",
       "      });\n",
       "\n",
       "      require(['datalab/charting',\n",
       "               'datalab/element!6_156626737689',\n",
       "               'base/js/events',\n",
       "               'datalab/style!/nbextensions/gcpdatalab/charting.css'\n",
       "              ],\n",
       "        function(charts, dom, events) {\n",
       "          charts.render(\n",
       "              'gcharts',\n",
       "              dom,\n",
       "              events,\n",
       "              'scatter',\n",
       "              [],\n",
       "              {\"rows\": [{\"c\": [{\"v\": 691200}, {\"v\": 24190}]}, {\"c\": [{\"v\": 505800}, {\"v\": 43817}]}, {\"c\": [{\"v\": 867000}, {\"v\": 43338}]}, {\"c\": [{\"v\": 1152300}, {\"v\": 36735}]}, {\"c\": [{\"v\": 452600}, {\"v\": 20632}]}, {\"c\": [{\"v\": 408900}, {\"v\": 51288}]}, {\"c\": [{\"v\": 615600}, {\"v\": 17981}]}, {\"c\": [{\"v\": 435700}, {\"v\": 17825}]}, {\"c\": [{\"v\": 395100}, {\"v\": 36400}]}, {\"c\": [{\"v\": 728600}, {\"v\": 6663}]}, {\"c\": [{\"v\": 585800}, {\"v\": 13543}]}, {\"c\": [{\"v\": 480200}, {\"v\": 13634}]}], \"cols\": [{\"type\": \"number\", \"id\": \"x\", \"label\": \"x\"}, {\"type\": \"number\", \"id\": \"y\", \"label\": \"y\"}]},\n",
       "              {\"vAxis\": {\"title\": \"crime amount\"}, \"width\": 900, \"height\": 500, \"hAxis\": {\"title\": \"housing price\"}, \"title\": \"housing price vs. crime amount in districts\"},\n",
       "              {\"fields\": \"*\", \"source_index\": 5, \"name\": 5},\n",
       "              0,\n",
       "              12);\n",
       "          }\n",
       "        );\n",
       "    </script>\n",
       "  "
      ],
      "text/plain": [
       "<IPython.core.display.HTML object>"
      ]
     },
     "execution_count": 30,
     "metadata": {},
     "output_type": "execute_result"
    },
    {
     "data": {
      "image/png": "[encoded data removed]"
     },
     "metadata": {
      "source_id": "6_156626737689"
     },
     "output_type": "display_data"
    }
   ],
   "source": [
    "%%chart scatter --data housecrime\n",
    "title: housing price vs. crime amount in districts\n",
    "height: 500\n",
    "width: 900\n",
    "hAxis:\n",
    "  title: housing price\n",
    "vAxis:\n",
    "  title: crime amount"
   ]
  },
  {
   "cell_type": "code",
   "execution_count": 31,
   "metadata": {},
   "outputs": [
    {
     "data": {
      "text/html": [
       "Done"
      ],
      "text/plain": [
       "QueryResultsTable job_wEmMEw_ZVQguhstKwC6VnUd-Xkpi"
      ]
     },
     "execution_count": 31,
     "metadata": {},
     "output_type": "execute_result"
    }
   ],
   "source": [
    "%%bq query\n",
    "create or replace model`team-6-is-perfect.Boston_Crime.regression2`\n",
    "options(\n",
    "model_type='linear_reg',\n",
    "input_label_cols=['numcrime_in_district'])\n",
    "as (SELECT \n",
    "housing.current as price_in_district,\n",
    "crime.numcrime_in_district \n",
    "FROM (SELECT district, count(district) as numcrime_in_district\n",
    "FROM `team-6-is-perfect.Boston_Crime.boston_crime`\n",
    "Group by district\n",
    ") as crime\n",
    "inner join `team-6-is-perfect.Boston_Crime.boston_housing` as housing \n",
    "on crime.district=housing.District)"
   ]
  },
  {
   "cell_type": "markdown",
   "metadata": {},
   "source": [
    "##### Regression for Location_Housing price & Location_Crime"
   ]
  },
  {
   "cell_type": "code",
   "execution_count": 32,
   "metadata": {},
   "outputs": [
    {
     "data": {
      "text/html": [
       "\n",
       "    <div class=\"bqtv\" id=\"18_156626740849\"><table><tr><th>mean_absolute_error</th><th>mean_squared_error</th><th>mean_squared_log_error</th><th>median_absolute_error</th><th>r2_score</th><th>explained_variance</th></tr><tr><td>12368.1692798</td><td>191308713.448</td><td>0.364550419593</td><td>10418.7050145</td><td>0.00607445528099</td><td>0.00613101103686</td></tr></table></div>\n",
       "    <br />(rows: 1, time: 1.0s,     1MB processed, job: job_hXMW1mHEY7UKJqdC9AZ_W-2JF_Nu)<br />\n",
       "    <script src=\"/static/components/requirejs/require.js\"></script>\n",
       "    <script>\n",
       "      require.config({\n",
       "        paths: {\n",
       "          base: '/static/base',\n",
       "          d3: '//cdnjs.cloudflare.com/ajax/libs/d3/3.4.13/d3',\n",
       "          plotly: 'https://cdn.plot.ly/plotly-1.5.1.min.js?noext',\n",
       "          jquery: '//ajax.googleapis.com/ajax/libs/jquery/2.0.0/jquery.min'\n",
       "        },\n",
       "        map: {\n",
       "          '*': {\n",
       "            datalab: 'nbextensions/gcpdatalab'\n",
       "          }\n",
       "        },\n",
       "        shim: {\n",
       "          plotly: {\n",
       "            deps: ['d3', 'jquery'],\n",
       "            exports: 'plotly'\n",
       "          }\n",
       "        }\n",
       "      });\n",
       "\n",
       "      require(['datalab/charting', 'datalab/element!18_156626740849', 'base/js/events',\n",
       "          'datalab/style!/nbextensions/gcpdatalab/charting.css'],\n",
       "        function(charts, dom, events) {\n",
       "          charts.render('gcharts', dom, events, 'table', [], {\"rows\": [{\"c\": [{\"v\": 12368.169279804659}, {\"v\": 191308713.4481514}, {\"v\": 0.3645504195925873}, {\"v\": 10418.705014462648}, {\"v\": 0.006074455280985602}, {\"v\": 0.006131011036859535}]}], \"cols\": [{\"type\": \"number\", \"id\": \"mean_absolute_error\", \"label\": \"mean_absolute_error\"}, {\"type\": \"number\", \"id\": \"mean_squared_error\", \"label\": \"mean_squared_error\"}, {\"type\": \"number\", \"id\": \"mean_squared_log_error\", \"label\": \"mean_squared_log_error\"}, {\"type\": \"number\", \"id\": \"median_absolute_error\", \"label\": \"median_absolute_error\"}, {\"type\": \"number\", \"id\": \"r2_score\", \"label\": \"r2_score\"}, {\"type\": \"number\", \"id\": \"explained_variance\", \"label\": \"explained_variance\"}]},\n",
       "            {\n",
       "              pageSize: 25,\n",
       "              cssClassNames:  {\n",
       "                tableRow: 'gchart-table-row',\n",
       "                headerRow: 'gchart-table-headerrow',\n",
       "                oddTableRow: 'gchart-table-oddrow',\n",
       "                selectedTableRow: 'gchart-table-selectedrow',\n",
       "                hoverTableRow: 'gchart-table-hoverrow',\n",
       "                tableCell: 'gchart-table-cell',\n",
       "                headerCell: 'gchart-table-headercell',\n",
       "                rowNumberCell: 'gchart-table-rownumcell'\n",
       "              }\n",
       "            },\n",
       "            {source_index: 17, fields: 'mean_absolute_error,mean_squared_error,mean_squared_log_error,median_absolute_error,r2_score,explained_variance'},\n",
       "            0,\n",
       "            1);\n",
       "        }\n",
       "      );\n",
       "    </script>\n",
       "  "
      ],
      "text/plain": [
       "QueryResultsTable job_hXMW1mHEY7UKJqdC9AZ_W-2JF_Nu"
      ]
     },
     "execution_count": 32,
     "metadata": {},
     "output_type": "execute_result"
    }
   ],
   "source": [
    "%%bq query\n",
    "with regression2_table as\n",
    "(SELECT \n",
    "housing.current as price_in_district,\n",
    "crime.numcrime_in_district \n",
    "FROM (SELECT district, count(district) as numcrime_in_district\n",
    "FROM `team-6-is-perfect.Boston_Crime.boston_crime`\n",
    "Group by district\n",
    ") as crime\n",
    "inner join `team-6-is-perfect.Boston_Crime.boston_housing` as housing \n",
    "on crime.district=housing.District)\n",
    "\n",
    "select *\n",
    "from\n",
    "ML.evaluate( model`team-6-is-perfect.Boston_Crime.regression2`, table regression2_table)"
   ]
  },
  {
   "cell_type": "code",
   "execution_count": 33,
   "metadata": {},
   "outputs": [
    {
     "data": {
      "text/html": [
       "\n",
       "    <div class=\"bqtv\" id=\"19_156626741052\"><table><tr><th>processed_input</th><th>weight</th></tr><tr><td>price_in_district</td><td>1130.272288</td></tr><tr><td>__INTERCEPT__</td><td>27066.16528</td></tr></table></div>\n",
       "    <br />(rows: 2, time: 0.4s,    16B processed, job: job_sPeIrAJfOv-DAcWfJteEK_Iiqt8H)<br />\n",
       "    <script src=\"/static/components/requirejs/require.js\"></script>\n",
       "    <script>\n",
       "      require.config({\n",
       "        paths: {\n",
       "          base: '/static/base',\n",
       "          d3: '//cdnjs.cloudflare.com/ajax/libs/d3/3.4.13/d3',\n",
       "          plotly: 'https://cdn.plot.ly/plotly-1.5.1.min.js?noext',\n",
       "          jquery: '//ajax.googleapis.com/ajax/libs/jquery/2.0.0/jquery.min'\n",
       "        },\n",
       "        map: {\n",
       "          '*': {\n",
       "            datalab: 'nbextensions/gcpdatalab'\n",
       "          }\n",
       "        },\n",
       "        shim: {\n",
       "          plotly: {\n",
       "            deps: ['d3', 'jquery'],\n",
       "            exports: 'plotly'\n",
       "          }\n",
       "        }\n",
       "      });\n",
       "\n",
       "      require(['datalab/charting', 'datalab/element!19_156626741052', 'base/js/events',\n",
       "          'datalab/style!/nbextensions/gcpdatalab/charting.css'],\n",
       "        function(charts, dom, events) {\n",
       "          charts.render('gcharts', dom, events, 'table', [], {\"rows\": [{\"c\": [{\"v\": \"price_in_district\"}, {\"v\": 1130.2722880033593}]}, {\"c\": [{\"v\": \"__INTERCEPT__\"}, {\"v\": 27066.16528}]}], \"cols\": [{\"type\": \"string\", \"id\": \"processed_input\", \"label\": \"processed_input\"}, {\"type\": \"number\", \"id\": \"weight\", \"label\": \"weight\"}]},\n",
       "            {\n",
       "              pageSize: 25,\n",
       "              cssClassNames:  {\n",
       "                tableRow: 'gchart-table-row',\n",
       "                headerRow: 'gchart-table-headerrow',\n",
       "                oddTableRow: 'gchart-table-oddrow',\n",
       "                selectedTableRow: 'gchart-table-selectedrow',\n",
       "                hoverTableRow: 'gchart-table-hoverrow',\n",
       "                tableCell: 'gchart-table-cell',\n",
       "                headerCell: 'gchart-table-headercell',\n",
       "                rowNumberCell: 'gchart-table-rownumcell'\n",
       "              }\n",
       "            },\n",
       "            {source_index: 18, fields: 'processed_input,weight'},\n",
       "            0,\n",
       "            2);\n",
       "        }\n",
       "      );\n",
       "    </script>\n",
       "  "
      ],
      "text/plain": [
       "QueryResultsTable job_sPeIrAJfOv-DAcWfJteEK_Iiqt8H"
      ]
     },
     "execution_count": 33,
     "metadata": {},
     "output_type": "execute_result"
    }
   ],
   "source": [
    "%%bq query\n",
    "with eval2_table as\n",
    "(SELECT \n",
    "housing.current as price_in_district,\n",
    "crime.numcrime_in_district \n",
    "FROM (SELECT district, count(district) as numcrime_in_district\n",
    "FROM `team-6-is-perfect.Boston_Crime.boston_crime`\n",
    "Group by district\n",
    ") as crime\n",
    "inner join `team-6-is-perfect.Boston_Crime.boston_housing` as housing \n",
    "on crime.district=housing.District)\n",
    "\n",
    "select *\n",
    "from\n",
    "ML.WEIGHTS( model`team-6-is-perfect.Boston_Crime.regression2`, STRUCT(true AS standardize))"
   ]
  },
  {
   "cell_type": "markdown",
   "metadata": {},
   "source": [
    "#### Answer:\n",
    "#### Regression function: predicted number of crime = 27066.165 + 1130.272 * price_in_district\n",
    "#### R-square is 0.006 which is not a reliable regression"
   ]
  },
  {
   "cell_type": "markdown",
   "metadata": {},
   "source": [
    "#### 2.2.4 Location_Income & Location_Crime"
   ]
  },
  {
   "cell_type": "markdown",
   "metadata": {},
   "source": [
    "#### Question: Do incomes have effects on the amount of crimes?"
   ]
  },
  {
   "cell_type": "markdown",
   "metadata": {},
   "source": [
    "##### Distribution for Location_Income & Location_Crime"
   ]
  },
  {
   "cell_type": "code",
   "execution_count": 34,
   "metadata": {},
   "outputs": [
    {
     "data": {
      "text/html": [
       "\n",
       "    <div class=\"bqtv\" id=\"20_156626741223\"><table><tr><th>District</th><th>income_in_district</th><th>numcrime_in_district</th></tr><tr><td>B2</td><td>25937</td><td>51288</td></tr><tr><td>C11</td><td>47200</td><td>43817</td></tr><tr><td>D4</td><td>77161</td><td>43338</td></tr><tr><td>A1</td><td>65090</td><td>36735</td></tr><tr><td>B3</td><td>43256</td><td>36400</td></tr><tr><td>C6</td><td>77223</td><td>24190</td></tr><tr><td>D14</td><td>50110</td><td>20632</td></tr><tr><td>E13</td><td>76968</td><td>17981</td></tr><tr><td>E18</td><td>65260</td><td>17825</td></tr><tr><td>A7</td><td>51549</td><td>13634</td></tr><tr><td>E5</td><td>79424</td><td>13543</td></tr><tr><td>A15</td><td>91067</td><td>6663</td></tr></table></div>\n",
       "    <br />(rows: 12, time: 0.1s, cached, job: job_topUuI5aHD6k5O-HehjYC_Pr5TTc)<br />\n",
       "    <script src=\"/static/components/requirejs/require.js\"></script>\n",
       "    <script>\n",
       "      require.config({\n",
       "        paths: {\n",
       "          base: '/static/base',\n",
       "          d3: '//cdnjs.cloudflare.com/ajax/libs/d3/3.4.13/d3',\n",
       "          plotly: 'https://cdn.plot.ly/plotly-1.5.1.min.js?noext',\n",
       "          jquery: '//ajax.googleapis.com/ajax/libs/jquery/2.0.0/jquery.min'\n",
       "        },\n",
       "        map: {\n",
       "          '*': {\n",
       "            datalab: 'nbextensions/gcpdatalab'\n",
       "          }\n",
       "        },\n",
       "        shim: {\n",
       "          plotly: {\n",
       "            deps: ['d3', 'jquery'],\n",
       "            exports: 'plotly'\n",
       "          }\n",
       "        }\n",
       "      });\n",
       "\n",
       "      require(['datalab/charting', 'datalab/element!20_156626741223', 'base/js/events',\n",
       "          'datalab/style!/nbextensions/gcpdatalab/charting.css'],\n",
       "        function(charts, dom, events) {\n",
       "          charts.render('gcharts', dom, events, 'table', [], {\"rows\": [{\"c\": [{\"v\": \"B2\"}, {\"v\": 25937}, {\"v\": 51288}]}, {\"c\": [{\"v\": \"C11\"}, {\"v\": 47200}, {\"v\": 43817}]}, {\"c\": [{\"v\": \"D4\"}, {\"v\": 77161}, {\"v\": 43338}]}, {\"c\": [{\"v\": \"A1\"}, {\"v\": 65090}, {\"v\": 36735}]}, {\"c\": [{\"v\": \"B3\"}, {\"v\": 43256}, {\"v\": 36400}]}, {\"c\": [{\"v\": \"C6\"}, {\"v\": 77223}, {\"v\": 24190}]}, {\"c\": [{\"v\": \"D14\"}, {\"v\": 50110}, {\"v\": 20632}]}, {\"c\": [{\"v\": \"E13\"}, {\"v\": 76968}, {\"v\": 17981}]}, {\"c\": [{\"v\": \"E18\"}, {\"v\": 65260}, {\"v\": 17825}]}, {\"c\": [{\"v\": \"A7\"}, {\"v\": 51549}, {\"v\": 13634}]}, {\"c\": [{\"v\": \"E5\"}, {\"v\": 79424}, {\"v\": 13543}]}, {\"c\": [{\"v\": \"A15\"}, {\"v\": 91067}, {\"v\": 6663}]}], \"cols\": [{\"type\": \"string\", \"id\": \"District\", \"label\": \"District\"}, {\"type\": \"number\", \"id\": \"income_in_district\", \"label\": \"income_in_district\"}, {\"type\": \"number\", \"id\": \"numcrime_in_district\", \"label\": \"numcrime_in_district\"}]},\n",
       "            {\n",
       "              pageSize: 25,\n",
       "              cssClassNames:  {\n",
       "                tableRow: 'gchart-table-row',\n",
       "                headerRow: 'gchart-table-headerrow',\n",
       "                oddTableRow: 'gchart-table-oddrow',\n",
       "                selectedTableRow: 'gchart-table-selectedrow',\n",
       "                hoverTableRow: 'gchart-table-hoverrow',\n",
       "                tableCell: 'gchart-table-cell',\n",
       "                headerCell: 'gchart-table-headercell',\n",
       "                rowNumberCell: 'gchart-table-rownumcell'\n",
       "              }\n",
       "            },\n",
       "            {source_index: 19, fields: 'District,income_in_district,numcrime_in_district'},\n",
       "            0,\n",
       "            12);\n",
       "        }\n",
       "      );\n",
       "    </script>\n",
       "  "
      ],
      "text/plain": [
       "QueryResultsTable job_topUuI5aHD6k5O-HehjYC_Pr5TTc"
      ]
     },
     "execution_count": 34,
     "metadata": {},
     "output_type": "execute_result"
    }
   ],
   "source": [
    "%%bq query\n",
    "SELECT \n",
    "income.District,\n",
    "income.Income as income_in_district,\n",
    "crime.crime_num as numcrime_in_district\n",
    "FROM (SELECT district, count(district) as crime_num\n",
    "FROM `team-6-is-perfect.Boston_Crime.boston_crime`\n",
    "WHERE district IS NOT NULL \n",
    "GROUP BY district\n",
    ") as crime\n",
    "LEFT JOIN `team-6-is-perfect.Boston_Crime.boston_income_populationGrowth`\n",
    "AS income\n",
    "ON crime.district = income.District\n",
    "ORDER BY crime_num DESC "
   ]
  },
  {
   "cell_type": "code",
   "execution_count": 35,
   "metadata": {},
   "outputs": [],
   "source": [
    "%%bq query -n incomecrime\n",
    "SELECT \n",
    "income.Income as a,\n",
    "crime.crime_num as b\n",
    "FROM (SELECT district, count(district) as crime_num\n",
    "FROM `team-6-is-perfect.Boston_Crime.boston_crime`\n",
    "WHERE district IS NOT NULL \n",
    "GROUP BY district\n",
    ") as crime\n",
    "LEFT JOIN `team-6-is-perfect.Boston_Crime.boston_income_populationGrowth`\n",
    "AS income\n",
    "ON crime.district = income.District\n",
    "ORDER BY crime_num DESC "
   ]
  },
  {
   "cell_type": "code",
   "execution_count": 36,
   "metadata": {},
   "outputs": [
    {
     "data": {
      "text/html": [
       "\n",
       "    <div class=\"bqgc-container\">\n",
       "      \n",
       "      <div class=\"bqgc \" id=\"7_156626741249\">\n",
       "      </div>\n",
       "    </div>\n",
       "    <script src=\"/static/components/requirejs/require.js\"></script>\n",
       "    <script>\n",
       "\n",
       "      require.config({\n",
       "        paths: {\n",
       "          base: '/static/base',\n",
       "          d3: '//cdnjs.cloudflare.com/ajax/libs/d3/3.4.13/d3',\n",
       "          plotly: 'https://cdn.plot.ly/plotly-1.5.1.min.js?noext',\n",
       "          jquery: '//ajax.googleapis.com/ajax/libs/jquery/2.0.0/jquery.min'\n",
       "        },\n",
       "        map: {\n",
       "          '*': {\n",
       "            datalab: 'nbextensions/gcpdatalab'\n",
       "          }\n",
       "        },\n",
       "        shim: {\n",
       "          plotly: {\n",
       "            deps: ['d3', 'jquery'],\n",
       "            exports: 'plotly'\n",
       "          }\n",
       "        }\n",
       "      });\n",
       "\n",
       "      require(['datalab/charting',\n",
       "               'datalab/element!7_156626741249',\n",
       "               'base/js/events',\n",
       "               'datalab/style!/nbextensions/gcpdatalab/charting.css'\n",
       "              ],\n",
       "        function(charts, dom, events) {\n",
       "          charts.render(\n",
       "              'gcharts',\n",
       "              dom,\n",
       "              events,\n",
       "              'scatter',\n",
       "              [],\n",
       "              {\"rows\": [{\"c\": [{\"v\": 25937}, {\"v\": 51288}]}, {\"c\": [{\"v\": 47200}, {\"v\": 43817}]}, {\"c\": [{\"v\": 77161}, {\"v\": 43338}]}, {\"c\": [{\"v\": 65090}, {\"v\": 36735}]}, {\"c\": [{\"v\": 43256}, {\"v\": 36400}]}, {\"c\": [{\"v\": 77223}, {\"v\": 24190}]}, {\"c\": [{\"v\": 50110}, {\"v\": 20632}]}, {\"c\": [{\"v\": 76968}, {\"v\": 17981}]}, {\"c\": [{\"v\": 65260}, {\"v\": 17825}]}, {\"c\": [{\"v\": 51549}, {\"v\": 13634}]}, {\"c\": [{\"v\": 79424}, {\"v\": 13543}]}, {\"c\": [{\"v\": 91067}, {\"v\": 6663}]}], \"cols\": [{\"type\": \"number\", \"id\": \"a\", \"label\": \"a\"}, {\"type\": \"number\", \"id\": \"b\", \"label\": \"b\"}]},\n",
       "              {\"vAxis\": {\"title\": \"crime amount\"}, \"width\": 900, \"height\": 500, \"hAxis\": {\"title\": \"income\"}, \"title\": \"income vs. crime amount in districts\"},\n",
       "              {\"fields\": \"*\", \"source_index\": 6, \"name\": 6},\n",
       "              0,\n",
       "              12);\n",
       "          }\n",
       "        );\n",
       "    </script>\n",
       "  "
      ],
      "text/plain": [
       "<IPython.core.display.HTML object>"
      ]
     },
     "execution_count": 36,
     "metadata": {},
     "output_type": "execute_result"
    },
    {
     "data": {
      "image/png": "[encoded data removed]"
     },
     "metadata": {
      "source_id": "7_156626741249"
     },
     "output_type": "display_data"
    }
   ],
   "source": [
    " %%chart scatter --data incomecrime\n",
    "title: income vs. crime amount in districts\n",
    "height: 500\n",
    "width: 900\n",
    "hAxis:\n",
    "  title: income\n",
    "vAxis:\n",
    "  title: crime amount"
   ]
  },
  {
   "cell_type": "markdown",
   "metadata": {},
   "source": [
    "##### Regression for Location_Income & Location_Crime"
   ]
  },
  {
   "cell_type": "code",
   "execution_count": 37,
   "metadata": {},
   "outputs": [
    {
     "data": {
      "text/html": [
       "Done"
      ],
      "text/plain": [
       "QueryResultsTable job_4QZQirq-BOxrQ_xmblfxbuRRnasb"
      ]
     },
     "execution_count": 37,
     "metadata": {},
     "output_type": "execute_result"
    }
   ],
   "source": [
    "%%bq query\n",
    "create or replace model`team-6-is-perfect.Boston_Crime.regression3`\n",
    "options(\n",
    "model_type='linear_reg',\n",
    "input_label_cols=['numcrime_in_district'])\n",
    "as (SELECT \n",
    "income.Income as income_in_district,\n",
    "crime.crime_num as numcrime_in_district\n",
    "FROM (SELECT district, count(district) as crime_num\n",
    "FROM `team-6-is-perfect.Boston_Crime.boston_crime`\n",
    "WHERE district IS NOT NULL \n",
    "GROUP BY district\n",
    ") as crime\n",
    "LEFT JOIN `team-6-is-perfect.Boston_Crime.boston_income_populationGrowth`\n",
    "AS income\n",
    "ON crime.district = income.District)"
   ]
  },
  {
   "cell_type": "code",
   "execution_count": 38,
   "metadata": {},
   "outputs": [
    {
     "data": {
      "text/html": [
       "\n",
       "    <div class=\"bqtv\" id=\"21_156626745704\"><table><tr><th>mean_absolute_error</th><th>mean_squared_error</th><th>mean_squared_log_error</th><th>median_absolute_error</th><th>r2_score</th><th>explained_variance</th></tr><tr><td>9101.88930552</td><td>121302745.739</td><td>0.214969160512</td><td>7322.51126441</td><td>0.369783553185</td><td>0.369840108941</td></tr></table></div>\n",
       "    <br />(rows: 1, time: 1.5s,     1MB processed, job: job_N1q1caSSzN4uebj30-1o3RsgLouX)<br />\n",
       "    <script src=\"/static/components/requirejs/require.js\"></script>\n",
       "    <script>\n",
       "      require.config({\n",
       "        paths: {\n",
       "          base: '/static/base',\n",
       "          d3: '//cdnjs.cloudflare.com/ajax/libs/d3/3.4.13/d3',\n",
       "          plotly: 'https://cdn.plot.ly/plotly-1.5.1.min.js?noext',\n",
       "          jquery: '//ajax.googleapis.com/ajax/libs/jquery/2.0.0/jquery.min'\n",
       "        },\n",
       "        map: {\n",
       "          '*': {\n",
       "            datalab: 'nbextensions/gcpdatalab'\n",
       "          }\n",
       "        },\n",
       "        shim: {\n",
       "          plotly: {\n",
       "            deps: ['d3', 'jquery'],\n",
       "            exports: 'plotly'\n",
       "          }\n",
       "        }\n",
       "      });\n",
       "\n",
       "      require(['datalab/charting', 'datalab/element!21_156626745704', 'base/js/events',\n",
       "          'datalab/style!/nbextensions/gcpdatalab/charting.css'],\n",
       "        function(charts, dom, events) {\n",
       "          charts.render('gcharts', dom, events, 'table', [], {\"rows\": [{\"c\": [{\"v\": 9101.889305516963}, {\"v\": 121302745.73853037}, {\"v\": 0.21496916051217027}, {\"v\": 7322.511264406756}, {\"v\": 0.36978355318480194}, {\"v\": 0.36984010894067576}]}], \"cols\": [{\"type\": \"number\", \"id\": \"mean_absolute_error\", \"label\": \"mean_absolute_error\"}, {\"type\": \"number\", \"id\": \"mean_squared_error\", \"label\": \"mean_squared_error\"}, {\"type\": \"number\", \"id\": \"mean_squared_log_error\", \"label\": \"mean_squared_log_error\"}, {\"type\": \"number\", \"id\": \"median_absolute_error\", \"label\": \"median_absolute_error\"}, {\"type\": \"number\", \"id\": \"r2_score\", \"label\": \"r2_score\"}, {\"type\": \"number\", \"id\": \"explained_variance\", \"label\": \"explained_variance\"}]},\n",
       "            {\n",
       "              pageSize: 25,\n",
       "              cssClassNames:  {\n",
       "                tableRow: 'gchart-table-row',\n",
       "                headerRow: 'gchart-table-headerrow',\n",
       "                oddTableRow: 'gchart-table-oddrow',\n",
       "                selectedTableRow: 'gchart-table-selectedrow',\n",
       "                hoverTableRow: 'gchart-table-hoverrow',\n",
       "                tableCell: 'gchart-table-cell',\n",
       "                headerCell: 'gchart-table-headercell',\n",
       "                rowNumberCell: 'gchart-table-rownumcell'\n",
       "              }\n",
       "            },\n",
       "            {source_index: 20, fields: 'mean_absolute_error,mean_squared_error,mean_squared_log_error,median_absolute_error,r2_score,explained_variance'},\n",
       "            0,\n",
       "            1);\n",
       "        }\n",
       "      );\n",
       "    </script>\n",
       "  "
      ],
      "text/plain": [
       "QueryResultsTable job_N1q1caSSzN4uebj30-1o3RsgLouX"
      ]
     },
     "execution_count": 38,
     "metadata": {},
     "output_type": "execute_result"
    }
   ],
   "source": [
    "%%bq query\n",
    "with regression3_table as\n",
    "(SELECT \n",
    "income.Income as income_in_district,\n",
    "crime.crime_num as numcrime_in_district\n",
    "FROM (SELECT district, count(district) as crime_num\n",
    "FROM `team-6-is-perfect.Boston_Crime.boston_crime`\n",
    "WHERE district IS NOT NULL \n",
    "GROUP BY district\n",
    ") as crime\n",
    "LEFT JOIN `team-6-is-perfect.Boston_Crime.boston_income_populationGrowth`\n",
    "AS income\n",
    "ON crime.district = income.District)\n",
    "\n",
    "select *\n",
    "from\n",
    "ML.evaluate( model`team-6-is-perfect.Boston_Crime.regression3`, table regression3_table)"
   ]
  },
  {
   "cell_type": "code",
   "execution_count": 39,
   "metadata": {},
   "outputs": [
    {
     "data": {
      "text/html": [
       "\n",
       "    <div class=\"bqtv\" id=\"22_156626745902\"><table><tr><th>processed_input</th><th>weight</th></tr><tr><td>income_in_district</td><td>-8778.57522285</td></tr><tr><td>__INTERCEPT__</td><td>27066.16528</td></tr></table></div>\n",
       "    <br />(rows: 2, time: 0.4s,    16B processed, job: job_1rYPGoxcCrSIkwyI8llsO3f8OpIH)<br />\n",
       "    <script src=\"/static/components/requirejs/require.js\"></script>\n",
       "    <script>\n",
       "      require.config({\n",
       "        paths: {\n",
       "          base: '/static/base',\n",
       "          d3: '//cdnjs.cloudflare.com/ajax/libs/d3/3.4.13/d3',\n",
       "          plotly: 'https://cdn.plot.ly/plotly-1.5.1.min.js?noext',\n",
       "          jquery: '//ajax.googleapis.com/ajax/libs/jquery/2.0.0/jquery.min'\n",
       "        },\n",
       "        map: {\n",
       "          '*': {\n",
       "            datalab: 'nbextensions/gcpdatalab'\n",
       "          }\n",
       "        },\n",
       "        shim: {\n",
       "          plotly: {\n",
       "            deps: ['d3', 'jquery'],\n",
       "            exports: 'plotly'\n",
       "          }\n",
       "        }\n",
       "      });\n",
       "\n",
       "      require(['datalab/charting', 'datalab/element!22_156626745902', 'base/js/events',\n",
       "          'datalab/style!/nbextensions/gcpdatalab/charting.css'],\n",
       "        function(charts, dom, events) {\n",
       "          charts.render('gcharts', dom, events, 'table', [], {\"rows\": [{\"c\": [{\"v\": \"income_in_district\"}, {\"v\": -8778.575222849928}]}, {\"c\": [{\"v\": \"__INTERCEPT__\"}, {\"v\": 27066.165279999997}]}], \"cols\": [{\"type\": \"string\", \"id\": \"processed_input\", \"label\": \"processed_input\"}, {\"type\": \"number\", \"id\": \"weight\", \"label\": \"weight\"}]},\n",
       "            {\n",
       "              pageSize: 25,\n",
       "              cssClassNames:  {\n",
       "                tableRow: 'gchart-table-row',\n",
       "                headerRow: 'gchart-table-headerrow',\n",
       "                oddTableRow: 'gchart-table-oddrow',\n",
       "                selectedTableRow: 'gchart-table-selectedrow',\n",
       "                hoverTableRow: 'gchart-table-hoverrow',\n",
       "                tableCell: 'gchart-table-cell',\n",
       "                headerCell: 'gchart-table-headercell',\n",
       "                rowNumberCell: 'gchart-table-rownumcell'\n",
       "              }\n",
       "            },\n",
       "            {source_index: 21, fields: 'processed_input,weight'},\n",
       "            0,\n",
       "            2);\n",
       "        }\n",
       "      );\n",
       "    </script>\n",
       "  "
      ],
      "text/plain": [
       "QueryResultsTable job_1rYPGoxcCrSIkwyI8llsO3f8OpIH"
      ]
     },
     "execution_count": 39,
     "metadata": {},
     "output_type": "execute_result"
    }
   ],
   "source": [
    "%%bq query\n",
    "with eval3_table as\n",
    "(SELECT \n",
    "income.Income as income_in_district,\n",
    "crime.crime_num as numcrime_in_district\n",
    "FROM (SELECT district, count(district) as crime_num\n",
    "FROM `team-6-is-perfect.Boston_Crime.boston_crime`\n",
    "WHERE district IS NOT NULL \n",
    "GROUP BY district\n",
    ") as crime\n",
    "LEFT JOIN `team-6-is-perfect.Boston_Crime.boston_income_populationGrowth`\n",
    "AS income\n",
    "ON crime.district = income.District)\n",
    "\n",
    "select *\n",
    "from\n",
    "ML.WEIGHTS( model`team-6-is-perfect.Boston_Crime.regression3`, STRUCT(true AS standardize))"
   ]
  },
  {
   "cell_type": "markdown",
   "metadata": {},
   "source": [
    "#### Answer:\n",
    "#### Regression function: predicted number of crime = 27066.165 - 8788.575 * income_in_district\n",
    "#### R-square is 0.37 which is a partial reliable regression"
   ]
  },
  {
   "cell_type": "markdown",
   "metadata": {},
   "source": [
    "### 2.3 Crime Attribute Analysis"
   ]
  },
  {
   "cell_type": "markdown",
   "metadata": {},
   "source": [
    "#### 2.3.1 Crime Types"
   ]
  },
  {
   "cell_type": "markdown",
   "metadata": {},
   "source": [
    "#### Question: What is the most common crime in Boston? "
   ]
  },
  {
   "cell_type": "code",
   "execution_count": 40,
   "metadata": {},
   "outputs": [
    {
     "data": {
      "text/html": [
       "\n",
       "    <div class=\"bqtv\" id=\"23_156626746066\"><table><tr><th>offense_code_group</th><th>OffenseFrequency</th></tr><tr><td>Motor Vehicle Accident Response</td><td>38134</td></tr><tr><td>Larceny</td><td>26670</td></tr><tr><td>Medical Assistance</td><td>24226</td></tr><tr><td>Investigate Person</td><td>19176</td></tr><tr><td>Other</td><td>18612</td></tr></table></div>\n",
       "    <br />(rows: 5, time: 0.2s, cached, job: job_tbQXCxtGi4NVb4XYAULVFpPPvVYk)<br />\n",
       "    <script src=\"/static/components/requirejs/require.js\"></script>\n",
       "    <script>\n",
       "      require.config({\n",
       "        paths: {\n",
       "          base: '/static/base',\n",
       "          d3: '//cdnjs.cloudflare.com/ajax/libs/d3/3.4.13/d3',\n",
       "          plotly: 'https://cdn.plot.ly/plotly-1.5.1.min.js?noext',\n",
       "          jquery: '//ajax.googleapis.com/ajax/libs/jquery/2.0.0/jquery.min'\n",
       "        },\n",
       "        map: {\n",
       "          '*': {\n",
       "            datalab: 'nbextensions/gcpdatalab'\n",
       "          }\n",
       "        },\n",
       "        shim: {\n",
       "          plotly: {\n",
       "            deps: ['d3', 'jquery'],\n",
       "            exports: 'plotly'\n",
       "          }\n",
       "        }\n",
       "      });\n",
       "\n",
       "      require(['datalab/charting', 'datalab/element!23_156626746066', 'base/js/events',\n",
       "          'datalab/style!/nbextensions/gcpdatalab/charting.css'],\n",
       "        function(charts, dom, events) {\n",
       "          charts.render('gcharts', dom, events, 'table', [], {\"rows\": [{\"c\": [{\"v\": \"Motor Vehicle Accident Response\"}, {\"v\": 38134}]}, {\"c\": [{\"v\": \"Larceny\"}, {\"v\": 26670}]}, {\"c\": [{\"v\": \"Medical Assistance\"}, {\"v\": 24226}]}, {\"c\": [{\"v\": \"Investigate Person\"}, {\"v\": 19176}]}, {\"c\": [{\"v\": \"Other\"}, {\"v\": 18612}]}], \"cols\": [{\"type\": \"string\", \"id\": \"offense_code_group\", \"label\": \"offense_code_group\"}, {\"type\": \"number\", \"id\": \"OffenseFrequency\", \"label\": \"OffenseFrequency\"}]},\n",
       "            {\n",
       "              pageSize: 25,\n",
       "              cssClassNames:  {\n",
       "                tableRow: 'gchart-table-row',\n",
       "                headerRow: 'gchart-table-headerrow',\n",
       "                oddTableRow: 'gchart-table-oddrow',\n",
       "                selectedTableRow: 'gchart-table-selectedrow',\n",
       "                hoverTableRow: 'gchart-table-hoverrow',\n",
       "                tableCell: 'gchart-table-cell',\n",
       "                headerCell: 'gchart-table-headercell',\n",
       "                rowNumberCell: 'gchart-table-rownumcell'\n",
       "              }\n",
       "            },\n",
       "            {source_index: 22, fields: 'offense_code_group,OffenseFrequency'},\n",
       "            0,\n",
       "            5);\n",
       "        }\n",
       "      );\n",
       "    </script>\n",
       "  "
      ],
      "text/plain": [
       "QueryResultsTable job_tbQXCxtGi4NVb4XYAULVFpPPvVYk"
      ]
     },
     "execution_count": 40,
     "metadata": {},
     "output_type": "execute_result"
    }
   ],
   "source": [
    "%%bq query\n",
    "SELECT offense_code_group, count(offense_code_group) as OffenseFrequency\n",
    "FROM Boston_Crime.boston_crime \n",
    "Group by offense_code_group\n",
    "Order by OffenseFrequency DESC \n",
    "LIMIT 5; "
   ]
  },
  {
   "cell_type": "markdown",
   "metadata": {},
   "source": [
    "#### Answer: Motor Vehicle Accident Response is the most common crime in Boston and the second is Larceny"
   ]
  },
  {
   "cell_type": "markdown",
   "metadata": {},
   "source": [
    "### Particularly, we analyze incidences of shootings"
   ]
  },
  {
   "cell_type": "markdown",
   "metadata": {},
   "source": [
    "#### 2.3.2 Example.shooting"
   ]
  },
  {
   "cell_type": "markdown",
   "metadata": {},
   "source": [
    "#### Question: How many shootings were reported during the four years?"
   ]
  },
  {
   "cell_type": "code",
   "execution_count": 41,
   "metadata": {},
   "outputs": [
    {
     "data": {
      "text/html": [
       "\n",
       "    <div class=\"bqtv\" id=\"24_156626746243\"><table><tr><th>TotalShootingOffense</th></tr><tr><td>1055</td></tr></table></div>\n",
       "    <br />(rows: 1, time: 0.1s, cached, job: job_31thDNkR-i55aRUApsLTvL3z7x9L)<br />\n",
       "    <script src=\"/static/components/requirejs/require.js\"></script>\n",
       "    <script>\n",
       "      require.config({\n",
       "        paths: {\n",
       "          base: '/static/base',\n",
       "          d3: '//cdnjs.cloudflare.com/ajax/libs/d3/3.4.13/d3',\n",
       "          plotly: 'https://cdn.plot.ly/plotly-1.5.1.min.js?noext',\n",
       "          jquery: '//ajax.googleapis.com/ajax/libs/jquery/2.0.0/jquery.min'\n",
       "        },\n",
       "        map: {\n",
       "          '*': {\n",
       "            datalab: 'nbextensions/gcpdatalab'\n",
       "          }\n",
       "        },\n",
       "        shim: {\n",
       "          plotly: {\n",
       "            deps: ['d3', 'jquery'],\n",
       "            exports: 'plotly'\n",
       "          }\n",
       "        }\n",
       "      });\n",
       "\n",
       "      require(['datalab/charting', 'datalab/element!24_156626746243', 'base/js/events',\n",
       "          'datalab/style!/nbextensions/gcpdatalab/charting.css'],\n",
       "        function(charts, dom, events) {\n",
       "          charts.render('gcharts', dom, events, 'table', [], {\"rows\": [{\"c\": [{\"v\": 1055}]}], \"cols\": [{\"type\": \"number\", \"id\": \"TotalShootingOffense\", \"label\": \"TotalShootingOffense\"}]},\n",
       "            {\n",
       "              pageSize: 25,\n",
       "              cssClassNames:  {\n",
       "                tableRow: 'gchart-table-row',\n",
       "                headerRow: 'gchart-table-headerrow',\n",
       "                oddTableRow: 'gchart-table-oddrow',\n",
       "                selectedTableRow: 'gchart-table-selectedrow',\n",
       "                hoverTableRow: 'gchart-table-hoverrow',\n",
       "                tableCell: 'gchart-table-cell',\n",
       "                headerCell: 'gchart-table-headercell',\n",
       "                rowNumberCell: 'gchart-table-rownumcell'\n",
       "              }\n",
       "            },\n",
       "            {source_index: 23, fields: 'TotalShootingOffense'},\n",
       "            0,\n",
       "            1);\n",
       "        }\n",
       "      );\n",
       "    </script>\n",
       "  "
      ],
      "text/plain": [
       "QueryResultsTable job_31thDNkR-i55aRUApsLTvL3z7x9L"
      ]
     },
     "execution_count": 41,
     "metadata": {},
     "output_type": "execute_result"
    }
   ],
   "source": [
    "%%bq query \n",
    "SELECT COUNT(shooting) AS TotalShootingOffense\n",
    "FROM Boston_Crime.boston_crime "
   ]
  },
  {
   "cell_type": "markdown",
   "metadata": {},
   "source": [
    "#### Answer: There are 1055 incidences of shooting reported over the four years."
   ]
  },
  {
   "cell_type": "code",
   "execution_count": 42,
   "metadata": {},
   "outputs": [],
   "source": [
    "%%bq query -n shooting_in_month\n",
    "SELECT TIMESTAMP(CONCAT(CAST(EXTRACT(year from OCCURRED_ON_DATE) AS STRING), \"-\", CAST(EXTRACT(month from OCCURRED_ON_DATE) AS STRING), \"-01\")) year_month, count(shooting) as shooting_in_month_base \n",
    "FROM Boston_Crime.boston_crime\n",
    "WHERE SHOOTING IS NOT NULL \n",
    "GROUP BY year_month\n",
    "ORDER BY year_month;"
   ]
  },
  {
   "cell_type": "code",
   "execution_count": 43,
   "metadata": {},
   "outputs": [
    {
     "data": {
      "text/html": [
       "\n",
       "    <div class=\"bqgc-container\">\n",
       "      \n",
       "      <div class=\"bqgc \" id=\"8_156626746268\">\n",
       "      </div>\n",
       "    </div>\n",
       "    <script src=\"/static/components/requirejs/require.js\"></script>\n",
       "    <script>\n",
       "\n",
       "      require.config({\n",
       "        paths: {\n",
       "          base: '/static/base',\n",
       "          d3: '//cdnjs.cloudflare.com/ajax/libs/d3/3.4.13/d3',\n",
       "          plotly: 'https://cdn.plot.ly/plotly-1.5.1.min.js?noext',\n",
       "          jquery: '//ajax.googleapis.com/ajax/libs/jquery/2.0.0/jquery.min'\n",
       "        },\n",
       "        map: {\n",
       "          '*': {\n",
       "            datalab: 'nbextensions/gcpdatalab'\n",
       "          }\n",
       "        },\n",
       "        shim: {\n",
       "          plotly: {\n",
       "            deps: ['d3', 'jquery'],\n",
       "            exports: 'plotly'\n",
       "          }\n",
       "        }\n",
       "      });\n",
       "\n",
       "      require(['datalab/charting',\n",
       "               'datalab/element!8_156626746268',\n",
       "               'base/js/events',\n",
       "               'datalab/style!/nbextensions/gcpdatalab/charting.css'\n",
       "              ],\n",
       "        function(charts, dom, events) {\n",
       "          charts.render(\n",
       "              'gcharts',\n",
       "              dom,\n",
       "              events,\n",
       "              'line',\n",
       "              [],\n",
       "              {\"rows\": [{\"c\": [{\"v\": \"2015-06-01T00:00:00\"}, {\"v\": 12}]}, {\"c\": [{\"v\": \"2015-07-01T00:00:00\"}, {\"v\": 41}]}, {\"c\": [{\"v\": \"2015-08-01T00:00:00\"}, {\"v\": 38}]}, {\"c\": [{\"v\": \"2015-09-01T00:00:00\"}, {\"v\": 22}]}, {\"c\": [{\"v\": \"2015-10-01T00:00:00\"}, {\"v\": 15}]}, {\"c\": [{\"v\": \"2015-11-01T00:00:00\"}, {\"v\": 21}]}, {\"c\": [{\"v\": \"2015-12-01T00:00:00\"}, {\"v\": 36}]}, {\"c\": [{\"v\": \"2016-01-01T00:00:00\"}, {\"v\": 17}]}, {\"c\": [{\"v\": \"2016-02-01T00:00:00\"}, {\"v\": 13}]}, {\"c\": [{\"v\": \"2016-03-01T00:00:00\"}, {\"v\": 12}]}, {\"c\": [{\"v\": \"2016-04-01T00:00:00\"}, {\"v\": 13}]}, {\"c\": [{\"v\": \"2016-05-01T00:00:00\"}, {\"v\": 22}]}, {\"c\": [{\"v\": \"2016-06-01T00:00:00\"}, {\"v\": 34}]}, {\"c\": [{\"v\": \"2016-07-01T00:00:00\"}, {\"v\": 28}]}, {\"c\": [{\"v\": \"2016-08-01T00:00:00\"}, {\"v\": 28}]}, {\"c\": [{\"v\": \"2016-09-01T00:00:00\"}, {\"v\": 21}]}, {\"c\": [{\"v\": \"2016-10-01T00:00:00\"}, {\"v\": 33}]}, {\"c\": [{\"v\": \"2016-11-01T00:00:00\"}, {\"v\": 28}]}, {\"c\": [{\"v\": \"2016-12-01T00:00:00\"}, {\"v\": 30}]}, {\"c\": [{\"v\": \"2017-01-01T00:00:00\"}, {\"v\": 22}]}, {\"c\": [{\"v\": \"2017-02-01T00:00:00\"}, {\"v\": 23}]}, {\"c\": [{\"v\": \"2017-03-01T00:00:00\"}, {\"v\": 18}]}, {\"c\": [{\"v\": \"2017-04-01T00:00:00\"}, {\"v\": 38}]}, {\"c\": [{\"v\": \"2017-05-01T00:00:00\"}, {\"v\": 22}]}, {\"c\": [{\"v\": \"2017-06-01T00:00:00\"}, {\"v\": 41}]}, {\"c\": [{\"v\": \"2017-07-01T00:00:00\"}, {\"v\": 39}]}, {\"c\": [{\"v\": \"2017-08-01T00:00:00\"}, {\"v\": 22}]}, {\"c\": [{\"v\": \"2017-09-01T00:00:00\"}, {\"v\": 38}]}, {\"c\": [{\"v\": \"2017-10-01T00:00:00\"}, {\"v\": 38}]}, {\"c\": [{\"v\": \"2017-11-01T00:00:00\"}, {\"v\": 23}]}, {\"c\": [{\"v\": \"2017-12-01T00:00:00\"}, {\"v\": 47}]}, {\"c\": [{\"v\": \"2018-01-01T00:00:00\"}, {\"v\": 31}]}, {\"c\": [{\"v\": \"2018-02-01T00:00:00\"}, {\"v\": 16}]}, {\"c\": [{\"v\": \"2018-03-01T00:00:00\"}, {\"v\": 9}]}, {\"c\": [{\"v\": \"2018-04-01T00:00:00\"}, {\"v\": 20}]}, {\"c\": [{\"v\": \"2018-05-01T00:00:00\"}, {\"v\": 27}]}, {\"c\": [{\"v\": \"2018-06-01T00:00:00\"}, {\"v\": 38}]}, {\"c\": [{\"v\": \"2018-07-01T00:00:00\"}, {\"v\": 29}]}, {\"c\": [{\"v\": \"2018-08-01T00:00:00\"}, {\"v\": 22}]}, {\"c\": [{\"v\": \"2018-09-01T00:00:00\"}, {\"v\": 28}]}], \"cols\": [{\"type\": \"timestamp\", \"id\": \"year_month\", \"label\": \"year_month\"}, {\"type\": \"number\", \"id\": \"shooting_in_month_base\", \"label\": \"shooting_in_month_base\"}]},\n",
       "              {\"vAxis\": {\"title\": \"Shooting Count\"}, \"width\": 1000, \"height\": 400, \"hAxis\": {\"title\": \"Time\"}, \"title\": \"shooting in a month base\"},\n",
       "              {\"fields\": \"*\", \"source_index\": 7, \"name\": 7},\n",
       "              0,\n",
       "              40);\n",
       "          }\n",
       "        );\n",
       "    </script>\n",
       "  "
      ],
      "text/plain": [
       "<IPython.core.display.HTML object>"
      ]
     },
     "execution_count": 43,
     "metadata": {},
     "output_type": "execute_result"
    },
    {
     "data": {
      "image/png": "[encoded data removed]"
     },
     "metadata": {
      "source_id": "8_156626746268"
     },
     "output_type": "display_data"
    }
   ],
   "source": [
    "%%chart line --d shooting_in_month\n",
    "title: shooting in a month base\n",
    "height: 400\n",
    "width: 1000\n",
    "hAxis:\n",
    "  title: Time\n",
    "vAxis:\n",
    "  title: Shooting Count"
   ]
  },
  {
   "cell_type": "markdown",
   "metadata": {},
   "source": [
    "#### Based on the data, there are more than 15 shootings in each month on average."
   ]
  },
  {
   "cell_type": "markdown",
   "metadata": {},
   "source": [
    "### 2.4 Multivariate Analysis"
   ]
  },
  {
   "cell_type": "markdown",
   "metadata": {},
   "source": [
    "#### 2.4.1 Location & Crime Type"
   ]
  },
  {
   "cell_type": "code",
   "execution_count": 44,
   "metadata": {},
   "outputs": [
    {
     "data": {
      "text/html": [
       "\n",
       "    <div class=\"bqtv\" id=\"25_156626746560\"><table><tr><th>Street</th><th>OFFENSE_CODE_GROUP</th><th>numcrime</th></tr><tr><td>BOYLSTON ST</td><td>Larceny</td><td>2216</td></tr><tr><td>WASHINGTON ST</td><td>Larceny</td><td>1973</td></tr><tr><td>BLUE HILL AVE</td><td>Motor Vehicle Accident Response</td><td>1289</td></tr><tr><td>WASHINGTON ST</td><td>Drug Violation</td><td>1248</td></tr><tr><td>WASHINGTON ST</td><td>Motor Vehicle Accident Response</td><td>1160</td></tr><tr><td>WASHINGTON ST</td><td>Medical Assistance</td><td>1027</td></tr><tr><td>WASHINGTON ST</td><td>Other</td><td>1023</td></tr><tr><td>NEWBURY ST</td><td>Larceny</td><td>883</td></tr><tr><td>HUNTINGTON AVE</td><td>Larceny</td><td>844</td></tr><tr><td>DORCHESTER AVE</td><td>Motor Vehicle Accident Response</td><td>843</td></tr></table></div>\n",
       "    <br />(rows: 10, time: 0.1s, cached, job: job_el3MtND2g6-Ht1lAeIEsBSfQIbIh)<br />\n",
       "    <script src=\"/static/components/requirejs/require.js\"></script>\n",
       "    <script>\n",
       "      require.config({\n",
       "        paths: {\n",
       "          base: '/static/base',\n",
       "          d3: '//cdnjs.cloudflare.com/ajax/libs/d3/3.4.13/d3',\n",
       "          plotly: 'https://cdn.plot.ly/plotly-1.5.1.min.js?noext',\n",
       "          jquery: '//ajax.googleapis.com/ajax/libs/jquery/2.0.0/jquery.min'\n",
       "        },\n",
       "        map: {\n",
       "          '*': {\n",
       "            datalab: 'nbextensions/gcpdatalab'\n",
       "          }\n",
       "        },\n",
       "        shim: {\n",
       "          plotly: {\n",
       "            deps: ['d3', 'jquery'],\n",
       "            exports: 'plotly'\n",
       "          }\n",
       "        }\n",
       "      });\n",
       "\n",
       "      require(['datalab/charting', 'datalab/element!25_156626746560', 'base/js/events',\n",
       "          'datalab/style!/nbextensions/gcpdatalab/charting.css'],\n",
       "        function(charts, dom, events) {\n",
       "          charts.render('gcharts', dom, events, 'table', [], {\"rows\": [{\"c\": [{\"v\": \"BOYLSTON ST\"}, {\"v\": \"Larceny\"}, {\"v\": 2216}]}, {\"c\": [{\"v\": \"WASHINGTON ST\"}, {\"v\": \"Larceny\"}, {\"v\": 1973}]}, {\"c\": [{\"v\": \"BLUE HILL AVE\"}, {\"v\": \"Motor Vehicle Accident Response\"}, {\"v\": 1289}]}, {\"c\": [{\"v\": \"WASHINGTON ST\"}, {\"v\": \"Drug Violation\"}, {\"v\": 1248}]}, {\"c\": [{\"v\": \"WASHINGTON ST\"}, {\"v\": \"Motor Vehicle Accident Response\"}, {\"v\": 1160}]}, {\"c\": [{\"v\": \"WASHINGTON ST\"}, {\"v\": \"Medical Assistance\"}, {\"v\": 1027}]}, {\"c\": [{\"v\": \"WASHINGTON ST\"}, {\"v\": \"Other\"}, {\"v\": 1023}]}, {\"c\": [{\"v\": \"NEWBURY ST\"}, {\"v\": \"Larceny\"}, {\"v\": 883}]}, {\"c\": [{\"v\": \"HUNTINGTON AVE\"}, {\"v\": \"Larceny\"}, {\"v\": 844}]}, {\"c\": [{\"v\": \"DORCHESTER AVE\"}, {\"v\": \"Motor Vehicle Accident Response\"}, {\"v\": 843}]}], \"cols\": [{\"type\": \"string\", \"id\": \"Street\", \"label\": \"Street\"}, {\"type\": \"string\", \"id\": \"OFFENSE_CODE_GROUP\", \"label\": \"OFFENSE_CODE_GROUP\"}, {\"type\": \"number\", \"id\": \"numcrime\", \"label\": \"numcrime\"}]},\n",
       "            {\n",
       "              pageSize: 25,\n",
       "              cssClassNames:  {\n",
       "                tableRow: 'gchart-table-row',\n",
       "                headerRow: 'gchart-table-headerrow',\n",
       "                oddTableRow: 'gchart-table-oddrow',\n",
       "                selectedTableRow: 'gchart-table-selectedrow',\n",
       "                hoverTableRow: 'gchart-table-hoverrow',\n",
       "                tableCell: 'gchart-table-cell',\n",
       "                headerCell: 'gchart-table-headercell',\n",
       "                rowNumberCell: 'gchart-table-rownumcell'\n",
       "              }\n",
       "            },\n",
       "            {source_index: 24, fields: 'Street,OFFENSE_CODE_GROUP,numcrime'},\n",
       "            0,\n",
       "            10);\n",
       "        }\n",
       "      );\n",
       "    </script>\n",
       "  "
      ],
      "text/plain": [
       "QueryResultsTable job_el3MtND2g6-Ht1lAeIEsBSfQIbIh"
      ]
     },
     "execution_count": 44,
     "metadata": {},
     "output_type": "execute_result"
    }
   ],
   "source": [
    "%%bq query\n",
    "SELECT Street,OFFENSE_CODE_GROUP, count(INCIDENT_NUMBER) as numcrime\n",
    "FROM Boston_Crime.boston_crime\n",
    "where Street is not Null\n",
    "Group by street,OFFENSE_CODE_GROUP\n",
    "Order by numcrime DESC\n",
    "LIMIT 10"
   ]
  },
  {
   "cell_type": "markdown",
   "metadata": {},
   "source": [
    "#### Incidences of larceny happened frequently on Boylston Street"
   ]
  },
  {
   "cell_type": "markdown",
   "metadata": {},
   "source": [
    "#### 2.4.2 Crime Type & Time"
   ]
  },
  {
   "cell_type": "code",
   "execution_count": 45,
   "metadata": {},
   "outputs": [
    {
     "data": {
      "text/html": [
       "\n",
       "    <div class=\"bqtv\" id=\"26_156626746785\"><table><tr><th>hour</th><th>OFFENSE_CODE_GROUP</th><th>numcrime</th></tr><tr><td>17</td><td>Motor Vehicle Accident Response</td><td>2667</td></tr><tr><td>16</td><td>Motor Vehicle Accident Response</td><td>2530</td></tr><tr><td>18</td><td>Motor Vehicle Accident Response</td><td>2370</td></tr><tr><td>17</td><td>Drug Violation</td><td>2202</td></tr><tr><td>18</td><td>Drug Violation</td><td>2145</td></tr><tr><td>15</td><td>Motor Vehicle Accident Response</td><td>2137</td></tr><tr><td>12</td><td>Larceny</td><td>2050</td></tr><tr><td>14</td><td>Motor Vehicle Accident Response</td><td>2006</td></tr><tr><td>16</td><td>Larceny</td><td>2001</td></tr><tr><td>17</td><td>Larceny</td><td>1997</td></tr></table></div>\n",
       "    <br />(rows: 10, time: 0.1s, cached, job: job_lL555HQPH-TkqjHGuuw5wilretFQ)<br />\n",
       "    <script src=\"/static/components/requirejs/require.js\"></script>\n",
       "    <script>\n",
       "      require.config({\n",
       "        paths: {\n",
       "          base: '/static/base',\n",
       "          d3: '//cdnjs.cloudflare.com/ajax/libs/d3/3.4.13/d3',\n",
       "          plotly: 'https://cdn.plot.ly/plotly-1.5.1.min.js?noext',\n",
       "          jquery: '//ajax.googleapis.com/ajax/libs/jquery/2.0.0/jquery.min'\n",
       "        },\n",
       "        map: {\n",
       "          '*': {\n",
       "            datalab: 'nbextensions/gcpdatalab'\n",
       "          }\n",
       "        },\n",
       "        shim: {\n",
       "          plotly: {\n",
       "            deps: ['d3', 'jquery'],\n",
       "            exports: 'plotly'\n",
       "          }\n",
       "        }\n",
       "      });\n",
       "\n",
       "      require(['datalab/charting', 'datalab/element!26_156626746785', 'base/js/events',\n",
       "          'datalab/style!/nbextensions/gcpdatalab/charting.css'],\n",
       "        function(charts, dom, events) {\n",
       "          charts.render('gcharts', dom, events, 'table', [], {\"rows\": [{\"c\": [{\"v\": 17}, {\"v\": \"Motor Vehicle Accident Response\"}, {\"v\": 2667}]}, {\"c\": [{\"v\": 16}, {\"v\": \"Motor Vehicle Accident Response\"}, {\"v\": 2530}]}, {\"c\": [{\"v\": 18}, {\"v\": \"Motor Vehicle Accident Response\"}, {\"v\": 2370}]}, {\"c\": [{\"v\": 17}, {\"v\": \"Drug Violation\"}, {\"v\": 2202}]}, {\"c\": [{\"v\": 18}, {\"v\": \"Drug Violation\"}, {\"v\": 2145}]}, {\"c\": [{\"v\": 15}, {\"v\": \"Motor Vehicle Accident Response\"}, {\"v\": 2137}]}, {\"c\": [{\"v\": 12}, {\"v\": \"Larceny\"}, {\"v\": 2050}]}, {\"c\": [{\"v\": 14}, {\"v\": \"Motor Vehicle Accident Response\"}, {\"v\": 2006}]}, {\"c\": [{\"v\": 16}, {\"v\": \"Larceny\"}, {\"v\": 2001}]}, {\"c\": [{\"v\": 17}, {\"v\": \"Larceny\"}, {\"v\": 1997}]}], \"cols\": [{\"type\": \"number\", \"id\": \"hour\", \"label\": \"hour\"}, {\"type\": \"string\", \"id\": \"OFFENSE_CODE_GROUP\", \"label\": \"OFFENSE_CODE_GROUP\"}, {\"type\": \"number\", \"id\": \"numcrime\", \"label\": \"numcrime\"}]},\n",
       "            {\n",
       "              pageSize: 25,\n",
       "              cssClassNames:  {\n",
       "                tableRow: 'gchart-table-row',\n",
       "                headerRow: 'gchart-table-headerrow',\n",
       "                oddTableRow: 'gchart-table-oddrow',\n",
       "                selectedTableRow: 'gchart-table-selectedrow',\n",
       "                hoverTableRow: 'gchart-table-hoverrow',\n",
       "                tableCell: 'gchart-table-cell',\n",
       "                headerCell: 'gchart-table-headercell',\n",
       "                rowNumberCell: 'gchart-table-rownumcell'\n",
       "              }\n",
       "            },\n",
       "            {source_index: 25, fields: 'hour,OFFENSE_CODE_GROUP,numcrime'},\n",
       "            0,\n",
       "            10);\n",
       "        }\n",
       "      );\n",
       "    </script>\n",
       "  "
      ],
      "text/plain": [
       "QueryResultsTable job_lL555HQPH-TkqjHGuuw5wilretFQ"
      ]
     },
     "execution_count": 45,
     "metadata": {},
     "output_type": "execute_result"
    }
   ],
   "source": [
    "%%bq query\n",
    "SELECT hour,OFFENSE_CODE_GROUP, count(INCIDENT_NUMBER) as numcrime\n",
    "FROM Boston_Crime.boston_crime\n",
    "Group by hour,OFFENSE_CODE_GROUP\n",
    "Order by numcrime DESC\n",
    "LIMIT 10"
   ]
  },
  {
   "cell_type": "markdown",
   "metadata": {},
   "source": [
    "#### Motor vehicle accident responses occur frequently in the late afternoon"
   ]
  },
  {
   "cell_type": "markdown",
   "metadata": {},
   "source": [
    "#### 2.4.3 Time & Location"
   ]
  },
  {
   "cell_type": "code",
   "execution_count": 46,
   "metadata": {},
   "outputs": [
    {
     "data": {
      "text/html": [
       "\n",
       "    <div class=\"bqtv\" id=\"27_156626746945\"><table><tr><th>hour</th><th>DISTRICT</th><th>numcrime</th></tr><tr><td>17</td><td>B2</td><td>3353</td></tr><tr><td>18</td><td>B2</td><td>3325</td></tr><tr><td>16</td><td>B2</td><td>3120</td></tr><tr><td>12</td><td>B2</td><td>2984</td></tr><tr><td>19</td><td>B2</td><td>2975</td></tr><tr><td>17</td><td>D4</td><td>2878</td></tr><tr><td>18</td><td>D4</td><td>2848</td></tr><tr><td>12</td><td>D4</td><td>2840</td></tr><tr><td>18</td><td>C11</td><td>2776</td></tr><tr><td>17</td><td>C11</td><td>2775</td></tr></table></div>\n",
       "    <br />(rows: 10, time: 0.1s, cached, job: job_hKC5awdaP6ZL7VSo1vKJvUPePxLL)<br />\n",
       "    <script src=\"/static/components/requirejs/require.js\"></script>\n",
       "    <script>\n",
       "      require.config({\n",
       "        paths: {\n",
       "          base: '/static/base',\n",
       "          d3: '//cdnjs.cloudflare.com/ajax/libs/d3/3.4.13/d3',\n",
       "          plotly: 'https://cdn.plot.ly/plotly-1.5.1.min.js?noext',\n",
       "          jquery: '//ajax.googleapis.com/ajax/libs/jquery/2.0.0/jquery.min'\n",
       "        },\n",
       "        map: {\n",
       "          '*': {\n",
       "            datalab: 'nbextensions/gcpdatalab'\n",
       "          }\n",
       "        },\n",
       "        shim: {\n",
       "          plotly: {\n",
       "            deps: ['d3', 'jquery'],\n",
       "            exports: 'plotly'\n",
       "          }\n",
       "        }\n",
       "      });\n",
       "\n",
       "      require(['datalab/charting', 'datalab/element!27_156626746945', 'base/js/events',\n",
       "          'datalab/style!/nbextensions/gcpdatalab/charting.css'],\n",
       "        function(charts, dom, events) {\n",
       "          charts.render('gcharts', dom, events, 'table', [], {\"rows\": [{\"c\": [{\"v\": 17}, {\"v\": \"B2\"}, {\"v\": 3353}]}, {\"c\": [{\"v\": 18}, {\"v\": \"B2\"}, {\"v\": 3325}]}, {\"c\": [{\"v\": 16}, {\"v\": \"B2\"}, {\"v\": 3120}]}, {\"c\": [{\"v\": 12}, {\"v\": \"B2\"}, {\"v\": 2984}]}, {\"c\": [{\"v\": 19}, {\"v\": \"B2\"}, {\"v\": 2975}]}, {\"c\": [{\"v\": 17}, {\"v\": \"D4\"}, {\"v\": 2878}]}, {\"c\": [{\"v\": 18}, {\"v\": \"D4\"}, {\"v\": 2848}]}, {\"c\": [{\"v\": 12}, {\"v\": \"D4\"}, {\"v\": 2840}]}, {\"c\": [{\"v\": 18}, {\"v\": \"C11\"}, {\"v\": 2776}]}, {\"c\": [{\"v\": 17}, {\"v\": \"C11\"}, {\"v\": 2775}]}], \"cols\": [{\"type\": \"number\", \"id\": \"hour\", \"label\": \"hour\"}, {\"type\": \"string\", \"id\": \"DISTRICT\", \"label\": \"DISTRICT\"}, {\"type\": \"number\", \"id\": \"numcrime\", \"label\": \"numcrime\"}]},\n",
       "            {\n",
       "              pageSize: 25,\n",
       "              cssClassNames:  {\n",
       "                tableRow: 'gchart-table-row',\n",
       "                headerRow: 'gchart-table-headerrow',\n",
       "                oddTableRow: 'gchart-table-oddrow',\n",
       "                selectedTableRow: 'gchart-table-selectedrow',\n",
       "                hoverTableRow: 'gchart-table-hoverrow',\n",
       "                tableCell: 'gchart-table-cell',\n",
       "                headerCell: 'gchart-table-headercell',\n",
       "                rowNumberCell: 'gchart-table-rownumcell'\n",
       "              }\n",
       "            },\n",
       "            {source_index: 26, fields: 'hour,DISTRICT,numcrime'},\n",
       "            0,\n",
       "            10);\n",
       "        }\n",
       "      );\n",
       "    </script>\n",
       "  "
      ],
      "text/plain": [
       "QueryResultsTable job_hKC5awdaP6ZL7VSo1vKJvUPePxLL"
      ]
     },
     "execution_count": 46,
     "metadata": {},
     "output_type": "execute_result"
    }
   ],
   "source": [
    "%%bq query\n",
    "SELECT hour,DISTRICT, count(INCIDENT_NUMBER) as numcrime\n",
    "FROM Boston_Crime.boston_crime\n",
    "Group by hour,DISTRICT\n",
    "Order by numcrime DESC\n",
    "LIMIT 10"
   ]
  },
  {
   "cell_type": "markdown",
   "metadata": {},
   "source": [
    "#### District B2(Roxbury) is on the top of the crime list when grouped by hour and district."
   ]
  },
  {
   "cell_type": "markdown",
   "metadata": {},
   "source": [
    "### 3. Summary\n",
    "Based on our analysis above, in general, there is a higher chance for car accidents to happen in Boston so driving safely may be the first priority in terms of avoiding crimes. In addition, people need to pay more attention to personal properties when staying outside on Fridays. The most dangerous street and neighborhood go to Washington Street and Roxbury so please be mindful if you will be there especially at 5pm. Hope our project will help you survive in Boston!!!"
   ]
  },
  {
   "cell_type": "code",
   "execution_count": null,
   "metadata": {},
   "outputs": [],
   "source": []
  }
 ],
 "metadata": {
  "kernelspec": {
   "display_name": "Python 2",
   "language": "python",
   "name": "python2"
  },
  "language_info": {
   "codemirror_mode": {
    "name": "ipython",
    "version": 2
   },
   "file_extension": ".py",
   "mimetype": "text/x-python",
   "name": "python",
   "nbconvert_exporter": "python",
   "pygments_lexer": "ipython2",
   "version": "2.7.15"
  }
 },
 "nbformat": 4,
 "nbformat_minor": 2
}
