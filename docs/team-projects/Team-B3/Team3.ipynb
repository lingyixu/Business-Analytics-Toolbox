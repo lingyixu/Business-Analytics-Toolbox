{
 "cells": [
  {
   "cell_type": "markdown",
   "metadata": {},
   "source": [
    "# Yelp Review Analysis - GO TO ARIZONA!"
   ]
  },
  {
   "cell_type": "markdown",
   "metadata": {},
   "source": [
    "**Team 3 members:  Yue Gong, Jingcheng Huang, David Hutchens, Youming Qiu, Yishuang Song, Minna Tang**\n",
    "\n",
    "**Here's the content of this notebook:**\n",
    "1. Data Overview  \n",
    "    1.1 Preview of the Yelp business table  \n",
    "    1.2 Preview of the Yelp review table  \n",
    "    1.3 Preview of the Yelp user table  \n",
    "    1.4 Preview of the Yelp checkin table  \n",
    "2. Data Cleaning   \n",
    "3. Users  \n",
    "    3.1 What are the Top 10 regions with the highest count of Yelp users?  \n",
    "    3.2 Are there reviewers who send primarily negative (or positive) reviews?  / Are the reviews valid?   \n",
    "    3.3 Statistics of review counts and ratings for yelp users (user profile)   \n",
    "    3.4 Who are the Top 10 most popular users on Yelp？\n",
    "4. Business  \n",
    "    4.1 Date range for business reviews in the sample  \n",
    "    4.2 Top 5 store categories which received the most reviews   \n",
    "    4.3 How many restaurants are there in total on Yelp in this sample?     \n",
    "    4.4 What types of restaurants receive the best reviews?  \n",
    "    4.5 Which city, state/region receives the highest rating for their local businesses?    \n",
    "    4.6 What is the most popular five-star restaurant in this Yelp sample?   \n",
    "    4.7 The number of checkins for \"Little Miss BBQ\" by day of the week      \n",
    "    4.8 Which cities have the best restaurants?   \n",
    "    4.9 Which category is the most popular in each city? \n"
   ]
  },
  {
   "cell_type": "markdown",
   "metadata": {},
   "source": [
    "## 1. Data Overview\n",
    "\n",
    "The dataset that we chose is a subset of Yelp’s businesses, reviews, and user data. This dataset contains information about businesses across 11 metropolitan areas in 4 countries. There are approximately 5,200,000 customer reviews about information over 174,000 businesses.\n",
    "\n",
    "The source of the data was derived from Kaggle. The dataset was: https://www.kaggle.com/yelp-dataset/yelp-dataset/version/6"
   ]
  },
  {
   "cell_type": "markdown",
   "metadata": {},
   "source": [
    "**1.1 Preview of the Yelp business table**"
   ]
  },
  {
   "cell_type": "code",
   "execution_count": 9,
   "metadata": {},
   "outputs": [
    {
     "data": {
      "text/html": [
       "\n",
       "    <div class=\"bqtv\" id=\"9_156675356385\"><table><tr><th>business_id</th><th>name</th><th>neighborhood</th><th>address</th><th>city</th><th>state</th><th>postal_code</th><th>latitude</th><th>longitude</th><th>stars</th><th>review_count</th><th>is_open</th><th>categories</th><th>lat_long</th></tr><tr><td>Gf4fPxATIn3goN5AMWe_ew</td><td>\"Peur Dépôt\"</td><td>Ville-Marie</td><td>\"Place Des Vestiges Du Vieux Port, Entrée Quai Jacques Cartier\"</td><td>Montréal</td><td>QC</td><td>&nbsp;</td><td>45.5055368451</td><td>-73.5523856833</td><td>2.0</td><td>5</td><td>1</td><td>Active Life;Amusement Parks</td><td>&nbsp;</td></tr><tr><td>KbEnEqk8MJQedWzQBps5Mg</td><td>\"Frankie &amp; Benny's\"</td><td>&nbsp;</td><td>\"South Gyle\"</td><td>South Gyle</td><td>EDH</td><td>&nbsp;</td><td>55.9383107593</td><td>-3.3145679157</td><td>2.0</td><td>6</td><td>1</td><td>Restaurants;American (New)</td><td>&nbsp;</td></tr><tr><td>TP0Eq8LJy8I1wOcWQBZ5ug</td><td>\"Lucky's truck\"</td><td>Ville-Marie</td><td>\"\"</td><td>Montréal</td><td>QC</td><td>&nbsp;</td><td>45.5086699</td><td>-73.5539925</td><td>2.0</td><td>5</td><td>1</td><td>Food;Food Trucks</td><td>&nbsp;</td></tr></table></div>\n",
       "    <br />(rows: 3, time: 0.1s, cached, job: job_Io_R6wLEPiA7WxoRIczVXC5eRbyZ)<br />\n",
       "    <script src=\"/static/components/requirejs/require.js\"></script>\n",
       "    <script>\n",
       "      require.config({\n",
       "        paths: {\n",
       "          base: '/static/base',\n",
       "          d3: '//cdnjs.cloudflare.com/ajax/libs/d3/3.4.13/d3',\n",
       "          plotly: 'https://cdn.plot.ly/plotly-1.5.1.min.js?noext',\n",
       "          jquery: '//ajax.googleapis.com/ajax/libs/jquery/2.0.0/jquery.min'\n",
       "        },\n",
       "        map: {\n",
       "          '*': {\n",
       "            datalab: 'nbextensions/gcpdatalab'\n",
       "          }\n",
       "        },\n",
       "        shim: {\n",
       "          plotly: {\n",
       "            deps: ['d3', 'jquery'],\n",
       "            exports: 'plotly'\n",
       "          }\n",
       "        }\n",
       "      });\n",
       "\n",
       "      require(['datalab/charting', 'datalab/element!9_156675356385', 'base/js/events',\n",
       "          'datalab/style!/nbextensions/gcpdatalab/charting.css'],\n",
       "        function(charts, dom, events) {\n",
       "          charts.render('gcharts', dom, events, 'table', [], {\"rows\": [{\"c\": [{\"v\": \"Gf4fPxATIn3goN5AMWe_ew\"}, {\"v\": \"\\\"Peur D\\u00e9p\\u00f4t\\\"\"}, {\"v\": \"Ville-Marie\"}, {\"v\": \"\\\"Place Des Vestiges Du Vieux Port, Entr\\u00e9e Quai Jacques Cartier\\\"\"}, {\"v\": \"Montr\\u00e9al\"}, {\"v\": \"QC\"}, {\"v\": null}, {\"v\": 45.5055368451}, {\"v\": -73.5523856833}, {\"v\": 2.0}, {\"v\": 5}, {\"v\": 1}, {\"v\": \"Active Life;Amusement Parks\"}, {\"v\": null}]}, {\"c\": [{\"v\": \"KbEnEqk8MJQedWzQBps5Mg\"}, {\"v\": \"\\\"Frankie & Benny's\\\"\"}, {\"v\": null}, {\"v\": \"\\\"South Gyle\\\"\"}, {\"v\": \"South Gyle\"}, {\"v\": \"EDH\"}, {\"v\": null}, {\"v\": 55.9383107593}, {\"v\": -3.3145679157}, {\"v\": 2.0}, {\"v\": 6}, {\"v\": 1}, {\"v\": \"Restaurants;American (New)\"}, {\"v\": null}]}, {\"c\": [{\"v\": \"TP0Eq8LJy8I1wOcWQBZ5ug\"}, {\"v\": \"\\\"Lucky's truck\\\"\"}, {\"v\": \"Ville-Marie\"}, {\"v\": \"\\\"\\\"\"}, {\"v\": \"Montr\\u00e9al\"}, {\"v\": \"QC\"}, {\"v\": null}, {\"v\": 45.5086699}, {\"v\": -73.5539925}, {\"v\": 2.0}, {\"v\": 5}, {\"v\": 1}, {\"v\": \"Food;Food Trucks\"}, {\"v\": null}]}], \"cols\": [{\"type\": \"string\", \"id\": \"business_id\", \"label\": \"business_id\"}, {\"type\": \"string\", \"id\": \"name\", \"label\": \"name\"}, {\"type\": \"string\", \"id\": \"neighborhood\", \"label\": \"neighborhood\"}, {\"type\": \"string\", \"id\": \"address\", \"label\": \"address\"}, {\"type\": \"string\", \"id\": \"city\", \"label\": \"city\"}, {\"type\": \"string\", \"id\": \"state\", \"label\": \"state\"}, {\"type\": \"string\", \"id\": \"postal_code\", \"label\": \"postal_code\"}, {\"type\": \"number\", \"id\": \"latitude\", \"label\": \"latitude\"}, {\"type\": \"number\", \"id\": \"longitude\", \"label\": \"longitude\"}, {\"type\": \"number\", \"id\": \"stars\", \"label\": \"stars\"}, {\"type\": \"number\", \"id\": \"review_count\", \"label\": \"review_count\"}, {\"type\": \"number\", \"id\": \"is_open\", \"label\": \"is_open\"}, {\"type\": \"string\", \"id\": \"categories\", \"label\": \"categories\"}, {\"type\": \"string\", \"id\": \"lat_long\", \"label\": \"lat_long\"}]},\n",
       "            {\n",
       "              pageSize: 25,\n",
       "              cssClassNames:  {\n",
       "                tableRow: 'gchart-table-row',\n",
       "                headerRow: 'gchart-table-headerrow',\n",
       "                oddTableRow: 'gchart-table-oddrow',\n",
       "                selectedTableRow: 'gchart-table-selectedrow',\n",
       "                hoverTableRow: 'gchart-table-hoverrow',\n",
       "                tableCell: 'gchart-table-cell',\n",
       "                headerCell: 'gchart-table-headercell',\n",
       "                rowNumberCell: 'gchart-table-rownumcell'\n",
       "              }\n",
       "            },\n",
       "            {source_index: 1, fields: 'business_id,name,neighborhood,address,city,state,postal_code,latitude,longitude,stars,review_count,is_open,categories,lat_long'},\n",
       "            0,\n",
       "            3);\n",
       "        }\n",
       "      );\n",
       "    </script>\n",
       "  "
      ],
      "text/plain": [
       "QueryResultsTable job_Io_R6wLEPiA7WxoRIczVXC5eRbyZ"
      ]
     },
     "execution_count": 9,
     "metadata": {},
     "output_type": "execute_result"
    }
   ],
   "source": [
    "%%bq query\n",
    "SELECT *\n",
    "FROM `team-3-ba770-b.yelp.business`\n",
    "LIMIT 3"
   ]
  },
  {
   "cell_type": "markdown",
   "metadata": {},
   "source": [
    "The following bubble chart shows the number of stores by region.  The bubbles are placed by latitude and longitude."
   ]
  },
  {
   "cell_type": "code",
   "execution_count": 84,
   "metadata": {},
   "outputs": [],
   "source": [
    "%%bq query -n stores_by_state\n",
    "\n",
    "WITH temp1 AS(\n",
    "SELECT DISTINCT state, COUNT(*) AS Number_of_stores\n",
    "FROM `team-3-ba770-b.yelp.business`\n",
    "GROUP BY state\n",
    "),\n",
    "temp2 AS(\n",
    "SELECT DISTINCT state, AVG(latitude) AS lat, AVG(longitude) AS lon\n",
    "FROM `team-3-ba770-b.yelp.business`\n",
    "GROUP BY state\n",
    ")\n",
    "\n",
    "SELECT state, lon, lat, Number_of_stores\n",
    "FROM temp1\n",
    "LEFT JOIN temp2\n",
    "USING(state)\n",
    "WHERE lat>0 AND  Number_of_stores>2000"
   ]
  },
  {
   "cell_type": "code",
   "execution_count": 90,
   "metadata": {},
   "outputs": [
    {
     "data": {
      "text/html": [
       "\n",
       "    <div class=\"bqgc-container\">\n",
       "      \n",
       "      <div class=\"bqgc \" id=\"32_156684680961\">\n",
       "      </div>\n",
       "    </div>\n",
       "    <script src=\"/static/components/requirejs/require.js\"></script>\n",
       "    <script>\n",
       "\n",
       "      require.config({\n",
       "        paths: {\n",
       "          base: '/static/base',\n",
       "          d3: '//cdnjs.cloudflare.com/ajax/libs/d3/3.4.13/d3',\n",
       "          plotly: 'https://cdn.plot.ly/plotly-1.5.1.min.js?noext',\n",
       "          jquery: '//ajax.googleapis.com/ajax/libs/jquery/2.0.0/jquery.min'\n",
       "        },\n",
       "        map: {\n",
       "          '*': {\n",
       "            datalab: 'nbextensions/gcpdatalab'\n",
       "          }\n",
       "        },\n",
       "        shim: {\n",
       "          plotly: {\n",
       "            deps: ['d3', 'jquery'],\n",
       "            exports: 'plotly'\n",
       "          }\n",
       "        }\n",
       "      });\n",
       "\n",
       "      require(['datalab/charting',\n",
       "               'datalab/element!32_156684680961',\n",
       "               'base/js/events',\n",
       "               'datalab/style!/nbextensions/gcpdatalab/charting.css'\n",
       "              ],\n",
       "        function(charts, dom, events) {\n",
       "          charts.render(\n",
       "              'gcharts',\n",
       "              dom,\n",
       "              events,\n",
       "              'bubbles',\n",
       "              [],\n",
       "              {\"rows\": [{\"c\": [{\"v\": \"QC\"}, {\"v\": -73.61213021988885}, {\"v\": 45.51419044801904}, {\"v\": 8169}]}, {\"c\": [{\"v\": \"EDH\"}, {\"v\": -3.2352656507632007}, {\"v\": 55.95870191162324}, {\"v\": 3795}]}, {\"c\": [{\"v\": \"NC\"}, {\"v\": -80.83113282331406}, {\"v\": 35.22442226805547}, {\"v\": 12956}]}, {\"c\": [{\"v\": \"ON\"}, {\"v\": -79.4287085081878}, {\"v\": 43.70573780521303}, {\"v\": 30208}]}, {\"c\": [{\"v\": \"NV\"}, {\"v\": -115.16394368633213}, {\"v\": 36.11941690923977}, {\"v\": 33086}]}, {\"c\": [{\"v\": \"AZ\"}, {\"v\": -111.98894851817012}, {\"v\": 33.49369783546311}, {\"v\": 52214}]}, {\"c\": [{\"v\": \"PA\"}, {\"v\": -79.95461692462426}, {\"v\": 40.43975972994523}, {\"v\": 10109}]}, {\"c\": [{\"v\": \"OH\"}, {\"v\": -81.65509070449768}, {\"v\": 41.418064902888105}, {\"v\": 12609}]}, {\"c\": [{\"v\": \"BW\"}, {\"v\": 9.171706232159519}, {\"v\": 48.77603681491041}, {\"v\": 3118}]}, {\"c\": [{\"v\": \"WI\"}, {\"v\": -89.40486143401498}, {\"v\": 43.07449333649514}, {\"v\": 4754}]}], \"cols\": [{\"type\": \"string\", \"id\": \"state\", \"label\": \"state\"}, {\"type\": \"number\", \"id\": \"lon\", \"label\": \"lon\"}, {\"type\": \"number\", \"id\": \"lat\", \"label\": \"lat\"}, {\"type\": \"number\", \"id\": \"Number_of_stores\", \"label\": \"Number_of_stores\"}]},\n",
       "              {\"width\": 1000, \"colors\": [\"red\"], \"height\": 600, \"title\": \"Count of stores by Region\"},\n",
       "              {\"fields\": \"*\", \"source_index\": 1, \"name\": 1},\n",
       "              0,\n",
       "              10);\n",
       "          }\n",
       "        );\n",
       "    </script>\n",
       "  "
      ],
      "text/plain": [
       "<IPython.core.display.HTML object>"
      ]
     },
     "execution_count": 90,
     "metadata": {},
     "output_type": "execute_result"
    },
    {
     "data": {
      "image/png": "[encoded data removed]"
     },
     "metadata": {
      "source_id": "32_156684680961"
     },
     "output_type": "display_data"
    }
   ],
   "source": [
    "%%chart bubbles -d stores_by_state\n",
    "title: Count of stores by Region\n",
    "height: 600\n",
    "width: 1000\n",
    "colors: ['red']"
   ]
  },
  {
   "cell_type": "markdown",
   "metadata": {},
   "source": [
    "The following pie chart shows the percentage of businesses in the dataset that are in business at the time the data was taken."
   ]
  },
  {
   "cell_type": "code",
   "execution_count": 126,
   "metadata": {},
   "outputs": [],
   "source": [
    "%%bq query -n open\n",
    "SELECT CASE WHEN is_open=1 THEN 'open'\n",
    "       ELSE 'not open' END AS open_state, count(*)\n",
    "FROM `team-3-ba770-b.yelp.business`\n",
    "group by is_open"
   ]
  },
  {
   "cell_type": "code",
   "execution_count": 131,
   "metadata": {},
   "outputs": [
    {
     "data": {
      "text/html": [
       "\n",
       "    <div class=\"bqgc-container\">\n",
       "      \n",
       "      <div class=\"bqgc \" id=\"52_156684858973\">\n",
       "      </div>\n",
       "    </div>\n",
       "    <script src=\"/static/components/requirejs/require.js\"></script>\n",
       "    <script>\n",
       "\n",
       "      require.config({\n",
       "        paths: {\n",
       "          base: '/static/base',\n",
       "          d3: '//cdnjs.cloudflare.com/ajax/libs/d3/3.4.13/d3',\n",
       "          plotly: 'https://cdn.plot.ly/plotly-1.5.1.min.js?noext',\n",
       "          jquery: '//ajax.googleapis.com/ajax/libs/jquery/2.0.0/jquery.min'\n",
       "        },\n",
       "        map: {\n",
       "          '*': {\n",
       "            datalab: 'nbextensions/gcpdatalab'\n",
       "          }\n",
       "        },\n",
       "        shim: {\n",
       "          plotly: {\n",
       "            deps: ['d3', 'jquery'],\n",
       "            exports: 'plotly'\n",
       "          }\n",
       "        }\n",
       "      });\n",
       "\n",
       "      require(['datalab/charting',\n",
       "               'datalab/element!52_156684858973',\n",
       "               'base/js/events',\n",
       "               'datalab/style!/nbextensions/gcpdatalab/charting.css'\n",
       "              ],\n",
       "        function(charts, dom, events) {\n",
       "          charts.render(\n",
       "              'gcharts',\n",
       "              dom,\n",
       "              events,\n",
       "              'pie',\n",
       "              [],\n",
       "              {\"rows\": [{\"c\": [{\"v\": \"open\"}, {\"v\": 146702}]}, {\"c\": [{\"v\": \"not open\"}, {\"v\": 27865}]}], \"cols\": [{\"type\": \"string\", \"id\": \"open_state\", \"label\": \"open_state\"}, {\"type\": \"number\", \"id\": \"f0_\", \"label\": \"f0_\"}]},\n",
       "              {\"width\": 1000, \"height\": 300, \"title\": \"Open or Not?\"},\n",
       "              {\"fields\": \"*\", \"source_index\": 2, \"name\": 2},\n",
       "              0,\n",
       "              2);\n",
       "          }\n",
       "        );\n",
       "    </script>\n",
       "  "
      ],
      "text/plain": [
       "<IPython.core.display.HTML object>"
      ]
     },
     "execution_count": 131,
     "metadata": {},
     "output_type": "execute_result"
    },
    {
     "data": {
      "image/png": "[encoded data removed]"
     },
     "metadata": {
      "source_id": "52_156684858973"
     },
     "output_type": "display_data"
    }
   ],
   "source": [
    "%%chart pie -d open\n",
    "title: Open or Not?\n",
    "height: 300\n",
    "width: 1000"
   ]
  },
  {
   "cell_type": "markdown",
   "metadata": {},
   "source": [
    "**1.2 Preview of the Yelp review table**"
   ]
  },
  {
   "cell_type": "code",
   "execution_count": 10,
   "metadata": {},
   "outputs": [
    {
     "data": {
      "text/html": [
       "\n",
       "    <div class=\"bqtv\" id=\"10_156675357231\"><table><tr><th>review_id</th><th>user_id</th><th>business_id</th><th>stars</th><th>date</th><th>text</th><th>useful</th><th>funny</th><th>cool</th></tr><tr><td>3YpTbDtxrFy4agErrKRe3Q</td><td>tL2pS5UOmN6aAOi3Z-qFGg</td><td>i8hkzA5eiUXgbPjN8vK3rQ</td><td>4</td><td>2015-09-26</td><td>Recently had dinner here with my family and really enjoyed the experience. \n",
       "\n",
       "The staff was friendly and attentive. The food was great.\n",
       "\n",
       "Also I was surprised that gratuity is included in your bill. I found it a little pretentious that they automatically assume they deserve a tip.</td><td>0</td><td>0</td><td>1</td></tr><tr><td>H9CQDG-BUjcR3rvUJMDUsw</td><td>BytRWk8X1OelSgwwfXd8Aw</td><td>SfHE6qK6dT7wxX-Ow82tRg</td><td>5</td><td>2017-07-30</td><td>Love the interior - it has this warm and lush atmosphere that is so comforting in the winter. The food is absolutely delicious and the service is so sweet and attentive. \n",
       "\n",
       "Great place for a quick drink, a cozy lunch or an intimate dinner.</td><td>0</td><td>0</td><td>0</td></tr><tr><td>zv94pT0McTuAVeQqA0jGMg</td><td>G5BqF32PyIQ5IvplDvpKnA</td><td>U--dPMMXYMaks6dV9AJnEw</td><td>3</td><td>2011-01-10</td><td>Although I do enjoy the sanctity of the Apple Stores, this one is pretty good aside from one fact. It can become obnoxiously busy with people and become a sardine tin in a heartbeat. It especially has to do with kids coming in there to hop on Facebook and take pictures of themselves in the store. I know that doesn't really have anything to do with the store but that is where the staff comes in. The staff doesn't seemed to be concerned that I may be standing next to a product waiting for a kid to get off a Macbook Pro for example. They just head over, ask if I need any help, I respond by saying well I am trying to check out this (insert product here)... \"Oh alright well let us know if you have any questions\" and before I can respond with one they have disappeared. The store is relatively cleanly and organized but in addition to that, because of all these kids in there, 75% of the products are either broken or \"non-functional.\" It is a great location but the staff needs to step it up when coming to customer-associate confrontation.</td><td>2</td><td>0</td><td>0</td></tr></table></div>\n",
       "    <br />(rows: 3, time: 0.1s, cached, job: job_8083sX3ScforHpq0xvSd7yaBkEC7)<br />\n",
       "    <script src=\"/static/components/requirejs/require.js\"></script>\n",
       "    <script>\n",
       "      require.config({\n",
       "        paths: {\n",
       "          base: '/static/base',\n",
       "          d3: '//cdnjs.cloudflare.com/ajax/libs/d3/3.4.13/d3',\n",
       "          plotly: 'https://cdn.plot.ly/plotly-1.5.1.min.js?noext',\n",
       "          jquery: '//ajax.googleapis.com/ajax/libs/jquery/2.0.0/jquery.min'\n",
       "        },\n",
       "        map: {\n",
       "          '*': {\n",
       "            datalab: 'nbextensions/gcpdatalab'\n",
       "          }\n",
       "        },\n",
       "        shim: {\n",
       "          plotly: {\n",
       "            deps: ['d3', 'jquery'],\n",
       "            exports: 'plotly'\n",
       "          }\n",
       "        }\n",
       "      });\n",
       "\n",
       "      require(['datalab/charting', 'datalab/element!10_156675357231', 'base/js/events',\n",
       "          'datalab/style!/nbextensions/gcpdatalab/charting.css'],\n",
       "        function(charts, dom, events) {\n",
       "          charts.render('gcharts', dom, events, 'table', [], {\"rows\": [{\"c\": [{\"v\": \"3YpTbDtxrFy4agErrKRe3Q\"}, {\"v\": \"tL2pS5UOmN6aAOi3Z-qFGg\"}, {\"v\": \"i8hkzA5eiUXgbPjN8vK3rQ\"}, {\"v\": 4}, {\"v\": \"2015-09-26\"}, {\"v\": \"Recently had dinner here with my family and really enjoyed the experience. \\n\\nThe staff was friendly and attentive. The food was great.\\n\\nAlso I was surprised that gratuity is included in your bill. I found it a little pretentious that they automatically assume they deserve a tip.\"}, {\"v\": 0}, {\"v\": 0}, {\"v\": 1}]}, {\"c\": [{\"v\": \"H9CQDG-BUjcR3rvUJMDUsw\"}, {\"v\": \"BytRWk8X1OelSgwwfXd8Aw\"}, {\"v\": \"SfHE6qK6dT7wxX-Ow82tRg\"}, {\"v\": 5}, {\"v\": \"2017-07-30\"}, {\"v\": \"Love the interior - it has this warm and lush atmosphere that is so comforting in the winter. The food is absolutely delicious and the service is so sweet and attentive. \\n\\nGreat place for a quick drink, a cozy lunch or an intimate dinner.\"}, {\"v\": 0}, {\"v\": 0}, {\"v\": 0}]}, {\"c\": [{\"v\": \"zv94pT0McTuAVeQqA0jGMg\"}, {\"v\": \"G5BqF32PyIQ5IvplDvpKnA\"}, {\"v\": \"U--dPMMXYMaks6dV9AJnEw\"}, {\"v\": 3}, {\"v\": \"2011-01-10\"}, {\"v\": \"Although I do enjoy the sanctity of the Apple Stores, this one is pretty good aside from one fact. It can become obnoxiously busy with people and become a sardine tin in a heartbeat. It especially has to do with kids coming in there to hop on Facebook and take pictures of themselves in the store. I know that doesn't really have anything to do with the store but that is where the staff comes in. The staff doesn't seemed to be concerned that I may be standing next to a product waiting for a kid to get off a Macbook Pro for example. They just head over, ask if I need any help, I respond by saying well I am trying to check out this (insert product here)... \\\"Oh alright well let us know if you have any questions\\\" and before I can respond with one they have disappeared. The store is relatively cleanly and organized but in addition to that, because of all these kids in there, 75% of the products are either broken or \\\"non-functional.\\\" It is a great location but the staff needs to step it up when coming to customer-associate confrontation.\"}, {\"v\": 2}, {\"v\": 0}, {\"v\": 0}]}], \"cols\": [{\"type\": \"string\", \"id\": \"review_id\", \"label\": \"review_id\"}, {\"type\": \"string\", \"id\": \"user_id\", \"label\": \"user_id\"}, {\"type\": \"string\", \"id\": \"business_id\", \"label\": \"business_id\"}, {\"type\": \"number\", \"id\": \"stars\", \"label\": \"stars\"}, {\"type\": \"date\", \"id\": \"date\", \"label\": \"date\"}, {\"type\": \"string\", \"id\": \"text\", \"label\": \"text\"}, {\"type\": \"number\", \"id\": \"useful\", \"label\": \"useful\"}, {\"type\": \"number\", \"id\": \"funny\", \"label\": \"funny\"}, {\"type\": \"number\", \"id\": \"cool\", \"label\": \"cool\"}]},\n",
       "            {\n",
       "              pageSize: 25,\n",
       "              cssClassNames:  {\n",
       "                tableRow: 'gchart-table-row',\n",
       "                headerRow: 'gchart-table-headerrow',\n",
       "                oddTableRow: 'gchart-table-oddrow',\n",
       "                selectedTableRow: 'gchart-table-selectedrow',\n",
       "                hoverTableRow: 'gchart-table-hoverrow',\n",
       "                tableCell: 'gchart-table-cell',\n",
       "                headerCell: 'gchart-table-headercell',\n",
       "                rowNumberCell: 'gchart-table-rownumcell'\n",
       "              }\n",
       "            },\n",
       "            {source_index: 2, fields: 'review_id,user_id,business_id,stars,date,text,useful,funny,cool'},\n",
       "            0,\n",
       "            3);\n",
       "        }\n",
       "      );\n",
       "    </script>\n",
       "  "
      ],
      "text/plain": [
       "QueryResultsTable job_8083sX3ScforHpq0xvSd7yaBkEC7"
      ]
     },
     "execution_count": 10,
     "metadata": {},
     "output_type": "execute_result"
    }
   ],
   "source": [
    "%%bq query\n",
    "SELECT *\n",
    "FROM `team-3-ba770-b.yelp.review`\n",
    "LIMIT 3"
   ]
  },
  {
   "cell_type": "markdown",
   "metadata": {},
   "source": [
    "The following graph shows the number of reviews submitted each year."
   ]
  },
  {
   "cell_type": "code",
   "execution_count": 150,
   "metadata": {},
   "outputs": [],
   "source": [
    "%%bq query -n review\n",
    "SELECT CAST(EXTRACT(year from date) AS STRING) AS year,COUNT(review_id) AS Number_of_reviews\n",
    "FROM `team-3-ba770-b.yelp.review`\n",
    "GROUP BY year\n",
    "ORDER BY year"
   ]
  },
  {
   "cell_type": "code",
   "execution_count": 151,
   "metadata": {},
   "outputs": [
    {
     "data": {
      "text/html": [
       "\n",
       "    <div class=\"bqgc-container\">\n",
       "      \n",
       "      <div class=\"bqgc \" id=\"60_156684914021\">\n",
       "      </div>\n",
       "    </div>\n",
       "    <script src=\"/static/components/requirejs/require.js\"></script>\n",
       "    <script>\n",
       "\n",
       "      require.config({\n",
       "        paths: {\n",
       "          base: '/static/base',\n",
       "          d3: '//cdnjs.cloudflare.com/ajax/libs/d3/3.4.13/d3',\n",
       "          plotly: 'https://cdn.plot.ly/plotly-1.5.1.min.js?noext',\n",
       "          jquery: '//ajax.googleapis.com/ajax/libs/jquery/2.0.0/jquery.min'\n",
       "        },\n",
       "        map: {\n",
       "          '*': {\n",
       "            datalab: 'nbextensions/gcpdatalab'\n",
       "          }\n",
       "        },\n",
       "        shim: {\n",
       "          plotly: {\n",
       "            deps: ['d3', 'jquery'],\n",
       "            exports: 'plotly'\n",
       "          }\n",
       "        }\n",
       "      });\n",
       "\n",
       "      require(['datalab/charting',\n",
       "               'datalab/element!60_156684914021',\n",
       "               'base/js/events',\n",
       "               'datalab/style!/nbextensions/gcpdatalab/charting.css'\n",
       "              ],\n",
       "        function(charts, dom, events) {\n",
       "          charts.render(\n",
       "              'gcharts',\n",
       "              dom,\n",
       "              events,\n",
       "              'line',\n",
       "              [],\n",
       "              {\"rows\": [{\"c\": [{\"v\": \"2004\"}, {\"v\": 14}]}, {\"c\": [{\"v\": \"2005\"}, {\"v\": 870}]}, {\"c\": [{\"v\": \"2006\"}, {\"v\": 5669}]}, {\"c\": [{\"v\": \"2007\"}, {\"v\": 23020}]}, {\"c\": [{\"v\": \"2008\"}, {\"v\": 61553}]}, {\"c\": [{\"v\": \"2009\"}, {\"v\": 98288}]}, {\"c\": [{\"v\": \"2010\"}, {\"v\": 187073}]}, {\"c\": [{\"v\": \"2011\"}, {\"v\": 290933}]}, {\"c\": [{\"v\": \"2012\"}, {\"v\": 350381}]}, {\"c\": [{\"v\": \"2013\"}, {\"v\": 472595}]}, {\"c\": [{\"v\": \"2014\"}, {\"v\": 678351}]}, {\"c\": [{\"v\": \"2015\"}, {\"v\": 911487}]}, {\"c\": [{\"v\": \"2016\"}, {\"v\": 1052916}]}, {\"c\": [{\"v\": \"2017\"}, {\"v\": 1128518}]}], \"cols\": [{\"type\": \"string\", \"id\": \"year\", \"label\": \"year\"}, {\"type\": \"number\", \"id\": \"Number_of_reviews\", \"label\": \"Number_of_reviews\"}]},\n",
       "              {\"legend\": \"none\", \"title\": \"Number of reviews\"},\n",
       "              {\"fields\": \"*\", \"source_index\": 3, \"name\": 3},\n",
       "              0,\n",
       "              14);\n",
       "          }\n",
       "        );\n",
       "    </script>\n",
       "  "
      ],
      "text/plain": [
       "<IPython.core.display.HTML object>"
      ]
     },
     "execution_count": 151,
     "metadata": {},
     "output_type": "execute_result"
    },
    {
     "data": {
      "image/png": "[encoded data removed]"
     },
     "metadata": {
      "source_id": "60_156684914021"
     },
     "output_type": "display_data"
    }
   ],
   "source": [
    "%%chart line -d review\n",
    "title: Number of reviews\n",
    "legend: none"
   ]
  },
  {
   "cell_type": "markdown",
   "metadata": {},
   "source": [
    "**1.3 Preview of the Yelp user table**"
   ]
  },
  {
   "cell_type": "code",
   "execution_count": 1,
   "metadata": {},
   "outputs": [
    {
     "data": {
      "text/html": [
       "\n",
       "    <div class=\"bqtv\" id=\"1_156684064912\"><table><tr><th>user_id</th><th>name</th><th>review_count</th><th>yelping_since</th><th>friends</th><th>useful</th><th>funny</th><th>cool</th><th>fans</th><th>elite</th><th>average_stars</th><th>compliment_hot</th><th>compliment_more</th><th>compliment_profile</th><th>compliment_cute</th><th>compliment_list</th><th>compliment_note</th><th>compliment_plain</th><th>compliment_cool</th><th>compliment_funny</th><th>compliment_writer</th><th>compliment_photos</th></tr><tr><td>faADnSAOEI1_7vi89eCHBw</td><td>Camron</td><td>2</td><td>2015-05-28</td><td>7wRYC24Yq47y_nUF1eIKYA, OptdhTBHiEQgA70Y5-DcIw, cW-_WrNMaxnv3EmS03Rujw, cvpFV6afxsuFimAuo6qV_A, GOcno3adJTPCetIZs0-5cw, oA-Gmv7JGI1s6wARET2beg, Usc1hXmXSGt_PeFp_qALWg, 4FrmPXFGXkibwLPtpmR43g, GmGKaSbDB6F3ZlBt8ZodFQ, Uhln00lJ6IKbbETQ0-wxgg, lsSYT0BqPYe_jhCxXYrpmQ, v8_laNOV7Il6XC5Y22Aw4Q, xt_pfG1rFiCUkFXOIGIRDA, v1rVjzTDbE-0Y5IaXzJfTg, TqsGVuidb8febjHb3I-APQ, LwQCjit4nA0vFxb53sowuQ, L5R7J6MWmqzsrKytxkAXDg, zPRRjLm7UmF2BK3PmCOT0g, UTciA6nUV83xrOdlljcaKg, 6FJNTcLtEPvYwSuMNWUO1g, K5HKlZnQkM4f91ktWsIibg</td><td>0</td><td>0</td><td>0</td><td>0</td><td>None</td><td>5.0</td><td>0</td><td>0</td><td>0</td><td>0</td><td>0</td><td>0</td><td>0</td><td>0</td><td>0</td><td>0</td><td>0</td></tr></table></div>\n",
       "    <br />(rows: 1, time: 1.4s,     1GB processed, job: job_LZQM4O8zi8Ulx5FYhGzUIyWmQ_PK)<br />\n",
       "    <script src=\"/static/components/requirejs/require.js\"></script>\n",
       "    <script>\n",
       "      require.config({\n",
       "        paths: {\n",
       "          base: '/static/base',\n",
       "          d3: '//cdnjs.cloudflare.com/ajax/libs/d3/3.4.13/d3',\n",
       "          plotly: 'https://cdn.plot.ly/plotly-1.5.1.min.js?noext',\n",
       "          jquery: '//ajax.googleapis.com/ajax/libs/jquery/2.0.0/jquery.min'\n",
       "        },\n",
       "        map: {\n",
       "          '*': {\n",
       "            datalab: 'nbextensions/gcpdatalab'\n",
       "          }\n",
       "        },\n",
       "        shim: {\n",
       "          plotly: {\n",
       "            deps: ['d3', 'jquery'],\n",
       "            exports: 'plotly'\n",
       "          }\n",
       "        }\n",
       "      });\n",
       "\n",
       "      require(['datalab/charting', 'datalab/element!1_156684064912', 'base/js/events',\n",
       "          'datalab/style!/nbextensions/gcpdatalab/charting.css'],\n",
       "        function(charts, dom, events) {\n",
       "          charts.render('gcharts', dom, events, 'table', [], {\"rows\": [{\"c\": [{\"v\": \"faADnSAOEI1_7vi89eCHBw\"}, {\"v\": \"Camron\"}, {\"v\": 2}, {\"v\": \"2015-05-28\"}, {\"v\": \"7wRYC24Yq47y_nUF1eIKYA, OptdhTBHiEQgA70Y5-DcIw, cW-_WrNMaxnv3EmS03Rujw, cvpFV6afxsuFimAuo6qV_A, GOcno3adJTPCetIZs0-5cw, oA-Gmv7JGI1s6wARET2beg, Usc1hXmXSGt_PeFp_qALWg, 4FrmPXFGXkibwLPtpmR43g, GmGKaSbDB6F3ZlBt8ZodFQ, Uhln00lJ6IKbbETQ0-wxgg, lsSYT0BqPYe_jhCxXYrpmQ, v8_laNOV7Il6XC5Y22Aw4Q, xt_pfG1rFiCUkFXOIGIRDA, v1rVjzTDbE-0Y5IaXzJfTg, TqsGVuidb8febjHb3I-APQ, LwQCjit4nA0vFxb53sowuQ, L5R7J6MWmqzsrKytxkAXDg, zPRRjLm7UmF2BK3PmCOT0g, UTciA6nUV83xrOdlljcaKg, 6FJNTcLtEPvYwSuMNWUO1g, K5HKlZnQkM4f91ktWsIibg\"}, {\"v\": 0}, {\"v\": 0}, {\"v\": 0}, {\"v\": 0}, {\"v\": \"None\"}, {\"v\": 5.0}, {\"v\": 0}, {\"v\": 0}, {\"v\": 0}, {\"v\": 0}, {\"v\": 0}, {\"v\": 0}, {\"v\": 0}, {\"v\": 0}, {\"v\": 0}, {\"v\": 0}, {\"v\": 0}]}], \"cols\": [{\"type\": \"string\", \"id\": \"user_id\", \"label\": \"user_id\"}, {\"type\": \"string\", \"id\": \"name\", \"label\": \"name\"}, {\"type\": \"number\", \"id\": \"review_count\", \"label\": \"review_count\"}, {\"type\": \"date\", \"id\": \"yelping_since\", \"label\": \"yelping_since\"}, {\"type\": \"string\", \"id\": \"friends\", \"label\": \"friends\"}, {\"type\": \"number\", \"id\": \"useful\", \"label\": \"useful\"}, {\"type\": \"number\", \"id\": \"funny\", \"label\": \"funny\"}, {\"type\": \"number\", \"id\": \"cool\", \"label\": \"cool\"}, {\"type\": \"number\", \"id\": \"fans\", \"label\": \"fans\"}, {\"type\": \"string\", \"id\": \"elite\", \"label\": \"elite\"}, {\"type\": \"number\", \"id\": \"average_stars\", \"label\": \"average_stars\"}, {\"type\": \"number\", \"id\": \"compliment_hot\", \"label\": \"compliment_hot\"}, {\"type\": \"number\", \"id\": \"compliment_more\", \"label\": \"compliment_more\"}, {\"type\": \"number\", \"id\": \"compliment_profile\", \"label\": \"compliment_profile\"}, {\"type\": \"number\", \"id\": \"compliment_cute\", \"label\": \"compliment_cute\"}, {\"type\": \"number\", \"id\": \"compliment_list\", \"label\": \"compliment_list\"}, {\"type\": \"number\", \"id\": \"compliment_note\", \"label\": \"compliment_note\"}, {\"type\": \"number\", \"id\": \"compliment_plain\", \"label\": \"compliment_plain\"}, {\"type\": \"number\", \"id\": \"compliment_cool\", \"label\": \"compliment_cool\"}, {\"type\": \"number\", \"id\": \"compliment_funny\", \"label\": \"compliment_funny\"}, {\"type\": \"number\", \"id\": \"compliment_writer\", \"label\": \"compliment_writer\"}, {\"type\": \"number\", \"id\": \"compliment_photos\", \"label\": \"compliment_photos\"}]},\n",
       "            {\n",
       "              pageSize: 25,\n",
       "              cssClassNames:  {\n",
       "                tableRow: 'gchart-table-row',\n",
       "                headerRow: 'gchart-table-headerrow',\n",
       "                oddTableRow: 'gchart-table-oddrow',\n",
       "                selectedTableRow: 'gchart-table-selectedrow',\n",
       "                hoverTableRow: 'gchart-table-hoverrow',\n",
       "                tableCell: 'gchart-table-cell',\n",
       "                headerCell: 'gchart-table-headercell',\n",
       "                rowNumberCell: 'gchart-table-rownumcell'\n",
       "              }\n",
       "            },\n",
       "            {source_index: 0, fields: 'user_id,name,review_count,yelping_since,friends,useful,funny,cool,fans,elite,average_stars,compliment_hot,compliment_more,compliment_profile,compliment_cute,compliment_list,compliment_note,compliment_plain,compliment_cool,compliment_funny,compliment_writer,compliment_photos'},\n",
       "            0,\n",
       "            1);\n",
       "        }\n",
       "      );\n",
       "    </script>\n",
       "  "
      ],
      "text/plain": [
       "QueryResultsTable job_LZQM4O8zi8Ulx5FYhGzUIyWmQ_PK"
      ]
     },
     "execution_count": 1,
     "metadata": {},
     "output_type": "execute_result"
    }
   ],
   "source": [
    "%%bq query\n",
    "SELECT *\n",
    "FROM `team-3-ba770-b.yelp.user`\n",
    "LIMIT 1"
   ]
  },
  {
   "cell_type": "markdown",
   "metadata": {},
   "source": [
    "**1.4 Preview of the Yelp checkin table**"
   ]
  },
  {
   "cell_type": "code",
   "execution_count": 12,
   "metadata": {},
   "outputs": [
    {
     "data": {
      "text/html": [
       "\n",
       "    <div class=\"bqtv\" id=\"12_156675358283\"><table><tr><th>business_id</th><th>weekday</th><th>hour</th><th>checkins</th></tr><tr><td>uU8up3hGwW9qnzQD1HZsMQ</td><td>Fri</td><td>0:00</td><td>1</td></tr><tr><td>rXUZNVlpWMV5ORDDSguOEQ</td><td>Fri</td><td>0:00</td><td>3</td></tr><tr><td>0Myf2fOlXXNHgIuPZoOlsA</td><td>Fri</td><td>0:00</td><td>2</td></tr></table></div>\n",
       "    <br />(rows: 3, time: 0.8s,   170MB processed, job: job_wLS-m_C07R2iG21gJwnC8OmygHUS)<br />\n",
       "    <script src=\"/static/components/requirejs/require.js\"></script>\n",
       "    <script>\n",
       "      require.config({\n",
       "        paths: {\n",
       "          base: '/static/base',\n",
       "          d3: '//cdnjs.cloudflare.com/ajax/libs/d3/3.4.13/d3',\n",
       "          plotly: 'https://cdn.plot.ly/plotly-1.5.1.min.js?noext',\n",
       "          jquery: '//ajax.googleapis.com/ajax/libs/jquery/2.0.0/jquery.min'\n",
       "        },\n",
       "        map: {\n",
       "          '*': {\n",
       "            datalab: 'nbextensions/gcpdatalab'\n",
       "          }\n",
       "        },\n",
       "        shim: {\n",
       "          plotly: {\n",
       "            deps: ['d3', 'jquery'],\n",
       "            exports: 'plotly'\n",
       "          }\n",
       "        }\n",
       "      });\n",
       "\n",
       "      require(['datalab/charting', 'datalab/element!12_156675358283', 'base/js/events',\n",
       "          'datalab/style!/nbextensions/gcpdatalab/charting.css'],\n",
       "        function(charts, dom, events) {\n",
       "          charts.render('gcharts', dom, events, 'table', [], {\"rows\": [{\"c\": [{\"v\": \"uU8up3hGwW9qnzQD1HZsMQ\"}, {\"v\": \"Fri\"}, {\"v\": \"0:00\"}, {\"v\": 1}]}, {\"c\": [{\"v\": \"rXUZNVlpWMV5ORDDSguOEQ\"}, {\"v\": \"Fri\"}, {\"v\": \"0:00\"}, {\"v\": 3}]}, {\"c\": [{\"v\": \"0Myf2fOlXXNHgIuPZoOlsA\"}, {\"v\": \"Fri\"}, {\"v\": \"0:00\"}, {\"v\": 2}]}], \"cols\": [{\"type\": \"string\", \"id\": \"business_id\", \"label\": \"business_id\"}, {\"type\": \"string\", \"id\": \"weekday\", \"label\": \"weekday\"}, {\"type\": \"string\", \"id\": \"hour\", \"label\": \"hour\"}, {\"type\": \"number\", \"id\": \"checkins\", \"label\": \"checkins\"}]},\n",
       "            {\n",
       "              pageSize: 25,\n",
       "              cssClassNames:  {\n",
       "                tableRow: 'gchart-table-row',\n",
       "                headerRow: 'gchart-table-headerrow',\n",
       "                oddTableRow: 'gchart-table-oddrow',\n",
       "                selectedTableRow: 'gchart-table-selectedrow',\n",
       "                hoverTableRow: 'gchart-table-hoverrow',\n",
       "                tableCell: 'gchart-table-cell',\n",
       "                headerCell: 'gchart-table-headercell',\n",
       "                rowNumberCell: 'gchart-table-rownumcell'\n",
       "              }\n",
       "            },\n",
       "            {source_index: 8, fields: 'business_id,weekday,hour,checkins'},\n",
       "            0,\n",
       "            3);\n",
       "        }\n",
       "      );\n",
       "    </script>\n",
       "  "
      ],
      "text/plain": [
       "QueryResultsTable job_wLS-m_C07R2iG21gJwnC8OmygHUS"
      ]
     },
     "execution_count": 12,
     "metadata": {},
     "output_type": "execute_result"
    }
   ],
   "source": [
    "%%bq query\n",
    "SELECT *\n",
    "FROM `team-3-ba770-b.yelp.checkin`\n",
    "LIMIT 3"
   ]
  },
  {
   "cell_type": "markdown",
   "metadata": {},
   "source": [
    "## 2. Data Cleaning\n",
    "\n",
    "**Update to remove duplicate columns**\n",
    "\n",
    "First, we started by cleaning and summarizing the dataset in order to get a general overview of it.  These are some examples of the cleaning statements that we ran, because some restaurants had identical categories, but were listed in a different order.\n"
   ]
  },
  {
   "cell_type": "code",
   "execution_count": null,
   "metadata": {},
   "outputs": [],
   "source": [
    "%%bq query\n",
    "UPDATE `team-3-ba770-b.yelp.business`\n",
    "SET categories = REPLACE(categories,'Beauty & Spas;Nail Salons', 'Nail Salons;Beauty & Spas')\n",
    "WHERE categories = 'Beauty & Spas;Nail Salons'"
   ]
  },
  {
   "cell_type": "code",
   "execution_count": null,
   "metadata": {},
   "outputs": [],
   "source": [
    "%%bq query\n",
    "UPDATE `team-3-ba770-b.yelp.business`\n",
    "SET categories = REPLACE(categories,'Restaurants;Fast Food', 'Fast Food;Restaurants')\n",
    "WHERE categories = 'Fast Food;Restaurants'\n"
   ]
  },
  {
   "cell_type": "markdown",
   "metadata": {},
   "source": [
    "## 3. Users\n",
    "\n",
    "**3.1 What are the Top 10 regions with the highest count of Yelp users?**"
   ]
  },
  {
   "cell_type": "code",
   "execution_count": 29,
   "metadata": {},
   "outputs": [],
   "source": [
    "%%bq query -n Population_distribution\n",
    "SELECT state, COUNT(u.user_id) AS Number_of_users\n",
    "FROM `team-3-ba770-b.yelp.business` AS b \n",
    "JOIN `team-3-ba770-b.yelp.review`  AS r \n",
    "ON b.business_id = r.business_id \n",
    "JOIN `team-3-ba770-b.yelp.user` AS u \n",
    "ON u.user_id = r.user_id\n",
    "GROUP BY state\n",
    "ORDER BY Number_of_users DESC\n",
    "LIMIT 10;"
   ]
  },
  {
   "cell_type": "code",
   "execution_count": 30,
   "metadata": {},
   "outputs": [
    {
     "data": {
      "text/html": [
       "\n",
       "    <div class=\"bqgc-container\">\n",
       "      \n",
       "      <div class=\"bqgc \" id=\"4_156624272056\">\n",
       "      </div>\n",
       "    </div>\n",
       "    <script src=\"/static/components/requirejs/require.js\"></script>\n",
       "    <script>\n",
       "\n",
       "      require.config({\n",
       "        paths: {\n",
       "          base: '/static/base',\n",
       "          d3: '//cdnjs.cloudflare.com/ajax/libs/d3/3.4.13/d3',\n",
       "          plotly: 'https://cdn.plot.ly/plotly-1.5.1.min.js?noext',\n",
       "          jquery: '//ajax.googleapis.com/ajax/libs/jquery/2.0.0/jquery.min'\n",
       "        },\n",
       "        map: {\n",
       "          '*': {\n",
       "            datalab: 'nbextensions/gcpdatalab'\n",
       "          }\n",
       "        },\n",
       "        shim: {\n",
       "          plotly: {\n",
       "            deps: ['d3', 'jquery'],\n",
       "            exports: 'plotly'\n",
       "          }\n",
       "        }\n",
       "      });\n",
       "\n",
       "      require(['datalab/charting',\n",
       "               'datalab/element!4_156624272056',\n",
       "               'base/js/events',\n",
       "               'datalab/style!/nbextensions/gcpdatalab/charting.css'\n",
       "              ],\n",
       "        function(charts, dom, events) {\n",
       "          charts.render(\n",
       "              'gcharts',\n",
       "              dom,\n",
       "              events,\n",
       "              'columns',\n",
       "              [],\n",
       "              {\"rows\": [{\"c\": [{\"v\": \"NV\"}, {\"v\": 1824442}]}, {\"c\": [{\"v\": \"AZ\"}, {\"v\": 1627786}]}, {\"c\": [{\"v\": \"ON\"}, {\"v\": 634366}]}, {\"c\": [{\"v\": \"NC\"}, {\"v\": 307665}]}, {\"c\": [{\"v\": \"OH\"}, {\"v\": 243768}]}, {\"c\": [{\"v\": \"PA\"}, {\"v\": 229850}]}, {\"c\": [{\"v\": \"QC\"}, {\"v\": 146371}]}, {\"c\": [{\"v\": \"WI\"}, {\"v\": 109751}]}, {\"c\": [{\"v\": \"EDH\"}, {\"v\": 47889}]}, {\"c\": [{\"v\": \"IL\"}, {\"v\": 36467}]}], \"cols\": [{\"type\": \"string\", \"id\": \"state\", \"label\": \"state\"}, {\"type\": \"number\", \"id\": \"Number_of_users\", \"label\": \"Number_of_users\"}]},\n",
       "              {\"vAxis\": {\"title\": \"Number of Yelp Users\"}, \"legend\": \"none\", \"hAxis\": {\"title\": \"Region(s)\"}, \"title\": \"Count of Yelp Users by Region\"},\n",
       "              {\"fields\": \"*\", \"source_index\": 0, \"name\": 0},\n",
       "              0,\n",
       "              10);\n",
       "          }\n",
       "        );\n",
       "    </script>\n",
       "  "
      ],
      "text/plain": [
       "<IPython.core.display.HTML object>"
      ]
     },
     "execution_count": 30,
     "metadata": {},
     "output_type": "execute_result"
    },
    {
     "data": {
      "image/png": "[encoded data removed]"
     },
     "metadata": {
      "source_id": "4_156624272056"
     },
     "output_type": "display_data"
    }
   ],
   "source": [
    "%%chart columns -d Population_distribution\n",
    "title: Count of Yelp Users by Region\n",
    "hAxis:\n",
    "    title: Region(s)\n",
    "vAxis:\n",
    "  title: Number of Yelp Users\n",
    "legend: none\n"
   ]
  },
  {
   "cell_type": "markdown",
   "metadata": {},
   "source": [
    "From this query, we learned that Nevada and Arizona have the most Yelp users in this sample by far (at least 1.5 million)."
   ]
  },
  {
   "cell_type": "markdown",
   "metadata": {},
   "source": [
    "**3.2 Are there reviewers who send primarily negative (or positive) reviews?  / Are the reviews valid?**\n",
    "\n",
    "If a Yelp user makes primarily negative or positive reviews (for example 100 reviews all of 5 stars), then his or her reviews might not actually be valid, because they give the the same rating to almost everything.  The following query finds users who have made a relatively large number of reviews (at least 50) with either a very high (> 4.8 stars) or very low(<= 2 stars) average rating."
   ]
  },
  {
   "cell_type": "code",
   "execution_count": 13,
   "metadata": {},
   "outputs": [
    {
     "data": {
      "text/html": [
       "\n",
       "    <div class=\"bqtv\" id=\"13_156675365977\"><table><tr><th>user_id</th><th>review_count</th><th>average_stars</th><th>type_of_invalid_review</th></tr><tr><td>9rgiTp7kcoJ0cOY6uQDn4g</td><td>684</td><td>4.99</td><td>positive</td></tr><tr><td>A-HI7Mcr_-SL60T3WvSjiQ</td><td>539</td><td>5.0</td><td>positive</td></tr><tr><td>j3BvyNHQbDrPPjcULV1vFg</td><td>419</td><td>4.82</td><td>positive</td></tr><tr><td>3_1mzpkxgJrLL1dQjv0OCQ</td><td>389</td><td>1.77</td><td>negative</td></tr><tr><td>IMVZIi7x3d3NIQH1T5MN-Q</td><td>367</td><td>4.83</td><td>positive</td></tr><tr><td>UHT_L45SKwAumCDo5ti1zA</td><td>352</td><td>4.87</td><td>positive</td></tr><tr><td>DCxqcPkac9RvBU19dsCCew</td><td>339</td><td>1.02</td><td>negative</td></tr><tr><td>NUGZkFjQJlqnbmoFR1fsaA</td><td>335</td><td>4.83</td><td>positive</td></tr><tr><td>hyJusnslNlSLflrThs-54w</td><td>318</td><td>4.83</td><td>positive</td></tr><tr><td>keBv05MsMFBd0Hu98vXThQ</td><td>306</td><td>4.85</td><td>positive</td></tr><tr><td>ybGoafa6pFzWkUp1J50y0Q</td><td>299</td><td>4.89</td><td>positive</td></tr><tr><td>gnIQjAes5uin4iIIZWtHkA</td><td>282</td><td>4.95</td><td>positive</td></tr><tr><td>tLV2oyt1q3xwK8o-oK1aLQ</td><td>268</td><td>4.84</td><td>positive</td></tr><tr><td>8JwSmvviX2dEAgaPRZ70nQ</td><td>263</td><td>5.0</td><td>positive</td></tr><tr><td>mNWXcqmPEEqKX3bgCVVNCw</td><td>261</td><td>4.92</td><td>positive</td></tr><tr><td>plUDvPqIrCdpd4KtmEfPBg</td><td>259</td><td>4.87</td><td>positive</td></tr><tr><td>5ftYx_Jck9jKeSYFyPVeyw</td><td>253</td><td>4.86</td><td>positive</td></tr><tr><td>aB4UQOfvJoCJ2FtCDDWUzw</td><td>248</td><td>1.87</td><td>negative</td></tr><tr><td>sCCxBa2-koaCLOkMyx9LlA</td><td>242</td><td>5.0</td><td>positive</td></tr><tr><td>a8JpQqcxE5caTAthl1JNDg</td><td>233</td><td>4.94</td><td>positive</td></tr><tr><td>AnbtC7ckYQaA6Pz_GfcewQ</td><td>232</td><td>4.93</td><td>positive</td></tr><tr><td>zi_m_lK4eHKFbULHvOA6jA</td><td>229</td><td>4.93</td><td>positive</td></tr><tr><td>AdnL1ZEYB3S2a8iWzQJSyA</td><td>224</td><td>4.85</td><td>positive</td></tr><tr><td>GZq8_4974abUi-r2bkjJfg</td><td>219</td><td>1.73</td><td>negative</td></tr><tr><td>VcIdMKllIZQVTPvmej-OXw</td><td>218</td><td>4.99</td><td>positive</td></tr></table></div>\n",
       "    <br />(rows: 613, time: 1.3s,    53MB processed, job: job_n44KXXWFBmV7m8nKjguQ1KVECvBy)<br />\n",
       "    <script src=\"/static/components/requirejs/require.js\"></script>\n",
       "    <script>\n",
       "      require.config({\n",
       "        paths: {\n",
       "          base: '/static/base',\n",
       "          d3: '//cdnjs.cloudflare.com/ajax/libs/d3/3.4.13/d3',\n",
       "          plotly: 'https://cdn.plot.ly/plotly-1.5.1.min.js?noext',\n",
       "          jquery: '//ajax.googleapis.com/ajax/libs/jquery/2.0.0/jquery.min'\n",
       "        },\n",
       "        map: {\n",
       "          '*': {\n",
       "            datalab: 'nbextensions/gcpdatalab'\n",
       "          }\n",
       "        },\n",
       "        shim: {\n",
       "          plotly: {\n",
       "            deps: ['d3', 'jquery'],\n",
       "            exports: 'plotly'\n",
       "          }\n",
       "        }\n",
       "      });\n",
       "\n",
       "      require(['datalab/charting', 'datalab/element!13_156675365977', 'base/js/events',\n",
       "          'datalab/style!/nbextensions/gcpdatalab/charting.css'],\n",
       "        function(charts, dom, events) {\n",
       "          charts.render('gcharts', dom, events, 'paged_table', [], {\"rows\": [{\"c\": [{\"v\": \"9rgiTp7kcoJ0cOY6uQDn4g\"}, {\"v\": 684}, {\"v\": 4.99}, {\"v\": \"positive\"}]}, {\"c\": [{\"v\": \"A-HI7Mcr_-SL60T3WvSjiQ\"}, {\"v\": 539}, {\"v\": 5.0}, {\"v\": \"positive\"}]}, {\"c\": [{\"v\": \"j3BvyNHQbDrPPjcULV1vFg\"}, {\"v\": 419}, {\"v\": 4.82}, {\"v\": \"positive\"}]}, {\"c\": [{\"v\": \"3_1mzpkxgJrLL1dQjv0OCQ\"}, {\"v\": 389}, {\"v\": 1.77}, {\"v\": \"negative\"}]}, {\"c\": [{\"v\": \"IMVZIi7x3d3NIQH1T5MN-Q\"}, {\"v\": 367}, {\"v\": 4.83}, {\"v\": \"positive\"}]}, {\"c\": [{\"v\": \"UHT_L45SKwAumCDo5ti1zA\"}, {\"v\": 352}, {\"v\": 4.87}, {\"v\": \"positive\"}]}, {\"c\": [{\"v\": \"DCxqcPkac9RvBU19dsCCew\"}, {\"v\": 339}, {\"v\": 1.02}, {\"v\": \"negative\"}]}, {\"c\": [{\"v\": \"NUGZkFjQJlqnbmoFR1fsaA\"}, {\"v\": 335}, {\"v\": 4.83}, {\"v\": \"positive\"}]}, {\"c\": [{\"v\": \"hyJusnslNlSLflrThs-54w\"}, {\"v\": 318}, {\"v\": 4.83}, {\"v\": \"positive\"}]}, {\"c\": [{\"v\": \"keBv05MsMFBd0Hu98vXThQ\"}, {\"v\": 306}, {\"v\": 4.85}, {\"v\": \"positive\"}]}, {\"c\": [{\"v\": \"ybGoafa6pFzWkUp1J50y0Q\"}, {\"v\": 299}, {\"v\": 4.89}, {\"v\": \"positive\"}]}, {\"c\": [{\"v\": \"gnIQjAes5uin4iIIZWtHkA\"}, {\"v\": 282}, {\"v\": 4.95}, {\"v\": \"positive\"}]}, {\"c\": [{\"v\": \"tLV2oyt1q3xwK8o-oK1aLQ\"}, {\"v\": 268}, {\"v\": 4.84}, {\"v\": \"positive\"}]}, {\"c\": [{\"v\": \"8JwSmvviX2dEAgaPRZ70nQ\"}, {\"v\": 263}, {\"v\": 5.0}, {\"v\": \"positive\"}]}, {\"c\": [{\"v\": \"mNWXcqmPEEqKX3bgCVVNCw\"}, {\"v\": 261}, {\"v\": 4.92}, {\"v\": \"positive\"}]}, {\"c\": [{\"v\": \"plUDvPqIrCdpd4KtmEfPBg\"}, {\"v\": 259}, {\"v\": 4.87}, {\"v\": \"positive\"}]}, {\"c\": [{\"v\": \"5ftYx_Jck9jKeSYFyPVeyw\"}, {\"v\": 253}, {\"v\": 4.86}, {\"v\": \"positive\"}]}, {\"c\": [{\"v\": \"aB4UQOfvJoCJ2FtCDDWUzw\"}, {\"v\": 248}, {\"v\": 1.87}, {\"v\": \"negative\"}]}, {\"c\": [{\"v\": \"sCCxBa2-koaCLOkMyx9LlA\"}, {\"v\": 242}, {\"v\": 5.0}, {\"v\": \"positive\"}]}, {\"c\": [{\"v\": \"a8JpQqcxE5caTAthl1JNDg\"}, {\"v\": 233}, {\"v\": 4.94}, {\"v\": \"positive\"}]}, {\"c\": [{\"v\": \"AnbtC7ckYQaA6Pz_GfcewQ\"}, {\"v\": 232}, {\"v\": 4.93}, {\"v\": \"positive\"}]}, {\"c\": [{\"v\": \"zi_m_lK4eHKFbULHvOA6jA\"}, {\"v\": 229}, {\"v\": 4.93}, {\"v\": \"positive\"}]}, {\"c\": [{\"v\": \"AdnL1ZEYB3S2a8iWzQJSyA\"}, {\"v\": 224}, {\"v\": 4.85}, {\"v\": \"positive\"}]}, {\"c\": [{\"v\": \"GZq8_4974abUi-r2bkjJfg\"}, {\"v\": 219}, {\"v\": 1.73}, {\"v\": \"negative\"}]}, {\"c\": [{\"v\": \"VcIdMKllIZQVTPvmej-OXw\"}, {\"v\": 218}, {\"v\": 4.99}, {\"v\": \"positive\"}]}], \"cols\": [{\"type\": \"string\", \"id\": \"user_id\", \"label\": \"user_id\"}, {\"type\": \"number\", \"id\": \"review_count\", \"label\": \"review_count\"}, {\"type\": \"number\", \"id\": \"average_stars\", \"label\": \"average_stars\"}, {\"type\": \"string\", \"id\": \"type_of_invalid_review\", \"label\": \"type_of_invalid_review\"}]},\n",
       "            {\n",
       "              pageSize: 25,\n",
       "              cssClassNames:  {\n",
       "                tableRow: 'gchart-table-row',\n",
       "                headerRow: 'gchart-table-headerrow',\n",
       "                oddTableRow: 'gchart-table-oddrow',\n",
       "                selectedTableRow: 'gchart-table-selectedrow',\n",
       "                hoverTableRow: 'gchart-table-hoverrow',\n",
       "                tableCell: 'gchart-table-cell',\n",
       "                headerCell: 'gchart-table-headercell',\n",
       "                rowNumberCell: 'gchart-table-rownumcell'\n",
       "              }\n",
       "            },\n",
       "            {source_index: 9, fields: 'user_id,review_count,average_stars,type_of_invalid_review'},\n",
       "            0,\n",
       "            613);\n",
       "        }\n",
       "      );\n",
       "    </script>\n",
       "  "
      ],
      "text/plain": [
       "QueryResultsTable job_n44KXXWFBmV7m8nKjguQ1KVECvBy"
      ]
     },
     "execution_count": 13,
     "metadata": {},
     "output_type": "execute_result"
    }
   ],
   "source": [
    "%%bq query \n",
    "SELECT DISTINCT user_id, review_count, average_stars,\n",
    "CASE WHEN average_stars > 4.8 AND review_count > 50 THEN 'positive'\n",
    "     WHEN average_stars <= 2 AND review_count > 50 THEN 'negative'\n",
    "     END AS type_of_invalid_review\n",
    "FROM `team-3-ba770-b.yelp.user`\n",
    "WHERE (average_stars > 4.8 OR average_stars <= 2)\n",
    "AND review_count > 50\n",
    "ORDER BY review_count DESC, average_stars DESC"
   ]
  },
  {
   "cell_type": "markdown",
   "metadata": {},
   "source": [
    "From this query, we can see that there are a considerable number of reviewers who give excessively positive or negative ratings.  This might be a reason to disregard their reviews as invalid."
   ]
  },
  {
   "cell_type": "markdown",
   "metadata": {},
   "source": [
    "**3.3 Statistics of review counts and ratings for yelp users (user profile)**\n",
    "\n",
    "This query gives a basic statistical summary of the Yelp users in the sample."
   ]
  },
  {
   "cell_type": "code",
   "execution_count": 32,
   "metadata": {},
   "outputs": [
    {
     "data": {
      "text/html": [
       "\n",
       "    <div class=\"bqtv\" id=\"24_156624287365\"><table><tr><th>Avg_Review_Count</th><th>Min_Review_Count</th><th>Max_Review_Count</th><th>Avg_Stars</th><th>Min_Avg_Stars</th><th>Max_Avg_Stars</th></tr><tr><td>23.1171729131</td><td>0</td><td>11954</td><td>3.71084068321</td><td>1.0</td><td>5.0</td></tr></table></div>\n",
       "    <br />(rows: 1, time: 0.6s,    21MB processed, job: job_cAIpbc2kPJ2wxJCZTvgtnXVBX-5D)<br />\n",
       "    <script src=\"/static/components/requirejs/require.js\"></script>\n",
       "    <script>\n",
       "      require.config({\n",
       "        paths: {\n",
       "          base: '/static/base',\n",
       "          d3: '//cdnjs.cloudflare.com/ajax/libs/d3/3.4.13/d3',\n",
       "          plotly: 'https://cdn.plot.ly/plotly-1.5.1.min.js?noext',\n",
       "          jquery: '//ajax.googleapis.com/ajax/libs/jquery/2.0.0/jquery.min'\n",
       "        },\n",
       "        map: {\n",
       "          '*': {\n",
       "            datalab: 'nbextensions/gcpdatalab'\n",
       "          }\n",
       "        },\n",
       "        shim: {\n",
       "          plotly: {\n",
       "            deps: ['d3', 'jquery'],\n",
       "            exports: 'plotly'\n",
       "          }\n",
       "        }\n",
       "      });\n",
       "\n",
       "      require(['datalab/charting', 'datalab/element!24_156624287365', 'base/js/events',\n",
       "          'datalab/style!/nbextensions/gcpdatalab/charting.css'],\n",
       "        function(charts, dom, events) {\n",
       "          charts.render('gcharts', dom, events, 'table', [], {\"rows\": [{\"c\": [{\"v\": 23.117172913052684}, {\"v\": 0}, {\"v\": 11954}, {\"v\": 3.7108406832063983}, {\"v\": 1.0}, {\"v\": 5.0}]}], \"cols\": [{\"type\": \"number\", \"id\": \"Avg_Review_Count\", \"label\": \"Avg_Review_Count\"}, {\"type\": \"number\", \"id\": \"Min_Review_Count\", \"label\": \"Min_Review_Count\"}, {\"type\": \"number\", \"id\": \"Max_Review_Count\", \"label\": \"Max_Review_Count\"}, {\"type\": \"number\", \"id\": \"Avg_Stars\", \"label\": \"Avg_Stars\"}, {\"type\": \"number\", \"id\": \"Min_Avg_Stars\", \"label\": \"Min_Avg_Stars\"}, {\"type\": \"number\", \"id\": \"Max_Avg_Stars\", \"label\": \"Max_Avg_Stars\"}]},\n",
       "            {\n",
       "              pageSize: 25,\n",
       "              cssClassNames:  {\n",
       "                tableRow: 'gchart-table-row',\n",
       "                headerRow: 'gchart-table-headerrow',\n",
       "                oddTableRow: 'gchart-table-oddrow',\n",
       "                selectedTableRow: 'gchart-table-selectedrow',\n",
       "                hoverTableRow: 'gchart-table-hoverrow',\n",
       "                tableCell: 'gchart-table-cell',\n",
       "                headerCell: 'gchart-table-headercell',\n",
       "                rowNumberCell: 'gchart-table-rownumcell'\n",
       "              }\n",
       "            },\n",
       "            {source_index: 21, fields: 'Avg_Review_Count,Min_Review_Count,Max_Review_Count,Avg_Stars,Min_Avg_Stars,Max_Avg_Stars'},\n",
       "            0,\n",
       "            1);\n",
       "        }\n",
       "      );\n",
       "    </script>\n",
       "  "
      ],
      "text/plain": [
       "QueryResultsTable job_cAIpbc2kPJ2wxJCZTvgtnXVBX-5D"
      ]
     },
     "execution_count": 32,
     "metadata": {},
     "output_type": "execute_result"
    }
   ],
   "source": [
    "%%bq query \n",
    "SELECT AVG(review_count) AS Avg_Review_Count, MIN(review_count) AS Min_Review_Count, MAX(review_count) AS Max_Review_Count, AVG(average_stars) AS Avg_Stars, MIN(average_stars) AS Min_Avg_Stars, MAX(average_stars) AS Max_Avg_Stars\n",
    "FROM `team-3-ba770-b.yelp.user` \n",
    "WHERE review_count IS NOT NULL OR average_stars IS NOT NULL \n"
   ]
  },
  {
   "cell_type": "markdown",
   "metadata": {},
   "source": [
    "The average Yelp user has submitted 23 reviews, and a single user has submitted as many as 11,594.  The average star rating given on Yelp is 3.71."
   ]
  },
  {
   "cell_type": "markdown",
   "metadata": {},
   "source": [
    "**3.4 Who are the Top 10 most popular users on Yelp？**\n",
    "\n",
    "This query finds the most popular users by counting the number of friends the user has."
   ]
  },
  {
   "cell_type": "code",
   "execution_count": 21,
   "metadata": {},
   "outputs": [
    {
     "data": {
      "text/html": [
       "\n",
       "    <div class=\"bqtv\" id=\"16_156675605499\"><table><tr><th>user_id</th><th>name</th><th>number_of_friends</th></tr><tr><td>qVc8ODYU5SZjKXVBgXdI7w</td><td>Walker</td><td>14995</td></tr><tr><td>iLjMdZi0Tm7DQxX1C1_2dg</td><td>Ruggy</td><td>12183</td></tr><tr><td>ZIOCmdFaMIF56FR-nWr_2A</td><td>Randy</td><td>8641</td></tr><tr><td>mV4lknblF-zOKSF8nlGqDA</td><td>Scott</td><td>8406</td></tr><tr><td>IU86PZPgTDCFwJEuAg2j7g</td><td>Danny</td><td>8402</td></tr><tr><td>F_5_UNX-wrAFCXuAkBZRDw</td><td>Rodney</td><td>8204</td></tr><tr><td>djxnI8Ux8ZYQJhiOQkrRhA</td><td>Abby</td><td>8094</td></tr><tr><td>c-Dja5bexzEWBufNsHfRrQ</td><td>Vince</td><td>8092</td></tr><tr><td>fgwI3rYHOv1ipfVfCSx7pg</td><td>Emi</td><td>7835</td></tr><tr><td>aKN3Fq2uaRJTwZRPlI5GcQ</td><td>Alex</td><td>7724</td></tr></table></div>\n",
       "    <br />(rows: 10, time: 12.4s,     1GB processed, job: job_dU7jXFn4H3XeOvc0bGugkaQp7z3N)<br />\n",
       "    <script src=\"/static/components/requirejs/require.js\"></script>\n",
       "    <script>\n",
       "      require.config({\n",
       "        paths: {\n",
       "          base: '/static/base',\n",
       "          d3: '//cdnjs.cloudflare.com/ajax/libs/d3/3.4.13/d3',\n",
       "          plotly: 'https://cdn.plot.ly/plotly-1.5.1.min.js?noext',\n",
       "          jquery: '//ajax.googleapis.com/ajax/libs/jquery/2.0.0/jquery.min'\n",
       "        },\n",
       "        map: {\n",
       "          '*': {\n",
       "            datalab: 'nbextensions/gcpdatalab'\n",
       "          }\n",
       "        },\n",
       "        shim: {\n",
       "          plotly: {\n",
       "            deps: ['d3', 'jquery'],\n",
       "            exports: 'plotly'\n",
       "          }\n",
       "        }\n",
       "      });\n",
       "\n",
       "      require(['datalab/charting', 'datalab/element!16_156675605499', 'base/js/events',\n",
       "          'datalab/style!/nbextensions/gcpdatalab/charting.css'],\n",
       "        function(charts, dom, events) {\n",
       "          charts.render('gcharts', dom, events, 'table', [], {\"rows\": [{\"c\": [{\"v\": \"qVc8ODYU5SZjKXVBgXdI7w\"}, {\"v\": \"Walker\"}, {\"v\": 14995}]}, {\"c\": [{\"v\": \"iLjMdZi0Tm7DQxX1C1_2dg\"}, {\"v\": \"Ruggy\"}, {\"v\": 12183}]}, {\"c\": [{\"v\": \"ZIOCmdFaMIF56FR-nWr_2A\"}, {\"v\": \"Randy\"}, {\"v\": 8641}]}, {\"c\": [{\"v\": \"mV4lknblF-zOKSF8nlGqDA\"}, {\"v\": \"Scott\"}, {\"v\": 8406}]}, {\"c\": [{\"v\": \"IU86PZPgTDCFwJEuAg2j7g\"}, {\"v\": \"Danny\"}, {\"v\": 8402}]}, {\"c\": [{\"v\": \"F_5_UNX-wrAFCXuAkBZRDw\"}, {\"v\": \"Rodney\"}, {\"v\": 8204}]}, {\"c\": [{\"v\": \"djxnI8Ux8ZYQJhiOQkrRhA\"}, {\"v\": \"Abby\"}, {\"v\": 8094}]}, {\"c\": [{\"v\": \"c-Dja5bexzEWBufNsHfRrQ\"}, {\"v\": \"Vince\"}, {\"v\": 8092}]}, {\"c\": [{\"v\": \"fgwI3rYHOv1ipfVfCSx7pg\"}, {\"v\": \"Emi\"}, {\"v\": 7835}]}, {\"c\": [{\"v\": \"aKN3Fq2uaRJTwZRPlI5GcQ\"}, {\"v\": \"Alex\"}, {\"v\": 7724}]}], \"cols\": [{\"type\": \"string\", \"id\": \"user_id\", \"label\": \"user_id\"}, {\"type\": \"string\", \"id\": \"name\", \"label\": \"name\"}, {\"type\": \"number\", \"id\": \"number_of_friends\", \"label\": \"number_of_friends\"}]},\n",
       "            {\n",
       "              pageSize: 25,\n",
       "              cssClassNames:  {\n",
       "                tableRow: 'gchart-table-row',\n",
       "                headerRow: 'gchart-table-headerrow',\n",
       "                oddTableRow: 'gchart-table-oddrow',\n",
       "                selectedTableRow: 'gchart-table-selectedrow',\n",
       "                hoverTableRow: 'gchart-table-hoverrow',\n",
       "                tableCell: 'gchart-table-cell',\n",
       "                headerCell: 'gchart-table-headercell',\n",
       "                rowNumberCell: 'gchart-table-rownumcell'\n",
       "              }\n",
       "            },\n",
       "            {source_index: 12, fields: 'user_id,name,number_of_friends'},\n",
       "            0,\n",
       "            10);\n",
       "        }\n",
       "      );\n",
       "    </script>\n",
       "  "
      ],
      "text/plain": [
       "QueryResultsTable job_dU7jXFn4H3XeOvc0bGugkaQp7z3N"
      ]
     },
     "execution_count": 21,
     "metadata": {},
     "output_type": "execute_result"
    }
   ],
   "source": [
    "%%bq query \n",
    "SELECT user_id, name, array_length(split(friends, ',')) AS number_of_friends\n",
    "FROM `team-3-ba770-b.yelp.user` \n",
    "WHERE friends != 'None'\n",
    "GROUP BY user_id, name,number_of_friends\n",
    "ORDER BY number_of_friends DESC\n",
    "LIMIT 10\n"
   ]
  },
  {
   "cell_type": "markdown",
   "metadata": {},
   "source": [
    "## 4. Business\n",
    "\n",
    "**4.1 Date range for business reviews in the sample?**\n",
    "\n",
    "This query shows the range of dates of reviews that each business received, and date_range shows the total number of days in this range.\n",
    "\n"
   ]
  },
  {
   "cell_type": "code",
   "execution_count": 34,
   "metadata": {},
   "outputs": [
    {
     "data": {
      "text/html": [
       "\n",
       "    <div class=\"bqtv\" id=\"26_156624303479\"><table><tr><th>name</th><th>min_year</th><th>max_year</th><th>date_range</th></tr><tr><td>\"Bellagio Hotel\"</td><td>2004-10-19</td><td>2017-12-09</td><td>4799</td></tr><tr><td>\"Wyatt &amp; Dad Shoe Repair Specialists\"</td><td>2004-10-25</td><td>2017-12-08</td><td>4792</td></tr><tr><td>\"Papa Del's Pizza\"</td><td>2004-10-19</td><td>2017-11-30</td><td>4790</td></tr><tr><td>\"Body English\"</td><td>2004-10-19</td><td>2017-10-11</td><td>4740</td></tr><tr><td>\"Papa John's Pizza\"</td><td>2004-10-19</td><td>2017-09-18</td><td>4717</td></tr><tr><td>\"Paris Las Vegas Hotel &amp; Casino\"</td><td>2005-01-24</td><td>2017-12-11</td><td>4704</td></tr><tr><td>\"Panda's Den\"</td><td>2004-12-19</td><td>2017-11-04</td><td>4703</td></tr><tr><td>\"New York New York Hotel &amp; Casino\"</td><td>2005-01-24</td><td>2017-12-09</td><td>4702</td></tr><tr><td>\"Le Village Buffet\"</td><td>2005-01-26</td><td>2017-12-09</td><td>4700</td></tr><tr><td>\"Pei Wei\"</td><td>2005-02-02</td><td>2017-12-08</td><td>4692</td></tr><tr><td>\"Pizzeria Bianco\"</td><td>2005-03-08</td><td>2017-12-11</td><td>4661</td></tr><tr><td>\"Arizona Biltmore\"</td><td>2005-03-09</td><td>2017-12-11</td><td>4660</td></tr><tr><td>\"Dotty Dumpling's Dowry\"</td><td>2005-03-04</td><td>2017-12-04</td><td>4658</td></tr><tr><td>\"Lao Laan-Xang Restaurant\"</td><td>2005-03-03</td><td>2017-12-03</td><td>4658</td></tr><tr><td>\"Aureole\"</td><td>2005-03-09</td><td>2017-12-05</td><td>4654</td></tr><tr><td>\"Brocach\"</td><td>2005-03-11</td><td>2017-12-01</td><td>4648</td></tr><tr><td>\"Mickey's Tavern\"</td><td>2005-03-03</td><td>2017-11-23</td><td>4648</td></tr><tr><td>\"Edo Japanese Restaurant\"</td><td>2005-03-11</td><td>2017-11-30</td><td>4647</td></tr><tr><td>\"Paul's Club\"</td><td>2005-03-14</td><td>2017-11-30</td><td>4644</td></tr><tr><td>\"Mickies Dairy Bar\"</td><td>2005-03-12</td><td>2017-11-27</td><td>4643</td></tr><tr><td>\"Aroma Cafe\"</td><td>2005-03-20</td><td>2017-12-04</td><td>4642</td></tr><tr><td>\"The Y Eatery\"</td><td>2005-03-20</td><td>2017-12-04</td><td>4642</td></tr><tr><td>\"Durant's\"</td><td>2005-03-29</td><td>2017-12-10</td><td>4639</td></tr><tr><td>\"Harvest\"</td><td>2005-03-25</td><td>2017-12-06</td><td>4639</td></tr><tr><td>\"Tropicana Las Vegas\"</td><td>2005-04-01</td><td>2017-12-09</td><td>4635</td></tr></table></div>\n",
       "    <br />(rows: 174567, time: 16.7s,   176MB processed, job: job_3saHi4XoncIa-9TRtW90qL04_ofK)<br />\n",
       "    <script src=\"/static/components/requirejs/require.js\"></script>\n",
       "    <script>\n",
       "      require.config({\n",
       "        paths: {\n",
       "          base: '/static/base',\n",
       "          d3: '//cdnjs.cloudflare.com/ajax/libs/d3/3.4.13/d3',\n",
       "          plotly: 'https://cdn.plot.ly/plotly-1.5.1.min.js?noext',\n",
       "          jquery: '//ajax.googleapis.com/ajax/libs/jquery/2.0.0/jquery.min'\n",
       "        },\n",
       "        map: {\n",
       "          '*': {\n",
       "            datalab: 'nbextensions/gcpdatalab'\n",
       "          }\n",
       "        },\n",
       "        shim: {\n",
       "          plotly: {\n",
       "            deps: ['d3', 'jquery'],\n",
       "            exports: 'plotly'\n",
       "          }\n",
       "        }\n",
       "      });\n",
       "\n",
       "      require(['datalab/charting', 'datalab/element!26_156624303479', 'base/js/events',\n",
       "          'datalab/style!/nbextensions/gcpdatalab/charting.css'],\n",
       "        function(charts, dom, events) {\n",
       "          charts.render('gcharts', dom, events, 'paged_table', [], {\"rows\": [{\"c\": [{\"v\": \"\\\"Bellagio Hotel\\\"\"}, {\"v\": \"2004-10-19\"}, {\"v\": \"2017-12-09\"}, {\"v\": 4799}]}, {\"c\": [{\"v\": \"\\\"Wyatt & Dad Shoe Repair Specialists\\\"\"}, {\"v\": \"2004-10-25\"}, {\"v\": \"2017-12-08\"}, {\"v\": 4792}]}, {\"c\": [{\"v\": \"\\\"Papa Del's Pizza\\\"\"}, {\"v\": \"2004-10-19\"}, {\"v\": \"2017-11-30\"}, {\"v\": 4790}]}, {\"c\": [{\"v\": \"\\\"Body English\\\"\"}, {\"v\": \"2004-10-19\"}, {\"v\": \"2017-10-11\"}, {\"v\": 4740}]}, {\"c\": [{\"v\": \"\\\"Papa John's Pizza\\\"\"}, {\"v\": \"2004-10-19\"}, {\"v\": \"2017-09-18\"}, {\"v\": 4717}]}, {\"c\": [{\"v\": \"\\\"Paris Las Vegas Hotel & Casino\\\"\"}, {\"v\": \"2005-01-24\"}, {\"v\": \"2017-12-11\"}, {\"v\": 4704}]}, {\"c\": [{\"v\": \"\\\"Panda's Den\\\"\"}, {\"v\": \"2004-12-19\"}, {\"v\": \"2017-11-04\"}, {\"v\": 4703}]}, {\"c\": [{\"v\": \"\\\"New York New York Hotel & Casino\\\"\"}, {\"v\": \"2005-01-24\"}, {\"v\": \"2017-12-09\"}, {\"v\": 4702}]}, {\"c\": [{\"v\": \"\\\"Le Village Buffet\\\"\"}, {\"v\": \"2005-01-26\"}, {\"v\": \"2017-12-09\"}, {\"v\": 4700}]}, {\"c\": [{\"v\": \"\\\"Pei Wei\\\"\"}, {\"v\": \"2005-02-02\"}, {\"v\": \"2017-12-08\"}, {\"v\": 4692}]}, {\"c\": [{\"v\": \"\\\"Pizzeria Bianco\\\"\"}, {\"v\": \"2005-03-08\"}, {\"v\": \"2017-12-11\"}, {\"v\": 4661}]}, {\"c\": [{\"v\": \"\\\"Arizona Biltmore\\\"\"}, {\"v\": \"2005-03-09\"}, {\"v\": \"2017-12-11\"}, {\"v\": 4660}]}, {\"c\": [{\"v\": \"\\\"Dotty Dumpling's Dowry\\\"\"}, {\"v\": \"2005-03-04\"}, {\"v\": \"2017-12-04\"}, {\"v\": 4658}]}, {\"c\": [{\"v\": \"\\\"Lao Laan-Xang Restaurant\\\"\"}, {\"v\": \"2005-03-03\"}, {\"v\": \"2017-12-03\"}, {\"v\": 4658}]}, {\"c\": [{\"v\": \"\\\"Aureole\\\"\"}, {\"v\": \"2005-03-09\"}, {\"v\": \"2017-12-05\"}, {\"v\": 4654}]}, {\"c\": [{\"v\": \"\\\"Brocach\\\"\"}, {\"v\": \"2005-03-11\"}, {\"v\": \"2017-12-01\"}, {\"v\": 4648}]}, {\"c\": [{\"v\": \"\\\"Mickey's Tavern\\\"\"}, {\"v\": \"2005-03-03\"}, {\"v\": \"2017-11-23\"}, {\"v\": 4648}]}, {\"c\": [{\"v\": \"\\\"Edo Japanese Restaurant\\\"\"}, {\"v\": \"2005-03-11\"}, {\"v\": \"2017-11-30\"}, {\"v\": 4647}]}, {\"c\": [{\"v\": \"\\\"Paul's Club\\\"\"}, {\"v\": \"2005-03-14\"}, {\"v\": \"2017-11-30\"}, {\"v\": 4644}]}, {\"c\": [{\"v\": \"\\\"Mickies Dairy Bar\\\"\"}, {\"v\": \"2005-03-12\"}, {\"v\": \"2017-11-27\"}, {\"v\": 4643}]}, {\"c\": [{\"v\": \"\\\"Aroma Cafe\\\"\"}, {\"v\": \"2005-03-20\"}, {\"v\": \"2017-12-04\"}, {\"v\": 4642}]}, {\"c\": [{\"v\": \"\\\"The Y Eatery\\\"\"}, {\"v\": \"2005-03-20\"}, {\"v\": \"2017-12-04\"}, {\"v\": 4642}]}, {\"c\": [{\"v\": \"\\\"Durant's\\\"\"}, {\"v\": \"2005-03-29\"}, {\"v\": \"2017-12-10\"}, {\"v\": 4639}]}, {\"c\": [{\"v\": \"\\\"Harvest\\\"\"}, {\"v\": \"2005-03-25\"}, {\"v\": \"2017-12-06\"}, {\"v\": 4639}]}, {\"c\": [{\"v\": \"\\\"Tropicana Las Vegas\\\"\"}, {\"v\": \"2005-04-01\"}, {\"v\": \"2017-12-09\"}, {\"v\": 4635}]}], \"cols\": [{\"type\": \"string\", \"id\": \"name\", \"label\": \"name\"}, {\"type\": \"date\", \"id\": \"min_year\", \"label\": \"min_year\"}, {\"type\": \"date\", \"id\": \"max_year\", \"label\": \"max_year\"}, {\"type\": \"number\", \"id\": \"date_range\", \"label\": \"date_range\"}]},\n",
       "            {\n",
       "              pageSize: 25,\n",
       "              cssClassNames:  {\n",
       "                tableRow: 'gchart-table-row',\n",
       "                headerRow: 'gchart-table-headerrow',\n",
       "                oddTableRow: 'gchart-table-oddrow',\n",
       "                selectedTableRow: 'gchart-table-selectedrow',\n",
       "                hoverTableRow: 'gchart-table-hoverrow',\n",
       "                tableCell: 'gchart-table-cell',\n",
       "                headerCell: 'gchart-table-headercell',\n",
       "                rowNumberCell: 'gchart-table-rownumcell'\n",
       "              }\n",
       "            },\n",
       "            {source_index: 23, fields: 'name,min_year,max_year,date_range'},\n",
       "            0,\n",
       "            174567);\n",
       "        }\n",
       "      );\n",
       "    </script>\n",
       "  "
      ],
      "text/plain": [
       "QueryResultsTable job_3saHi4XoncIa-9TRtW90qL04_ofK"
      ]
     },
     "execution_count": 34,
     "metadata": {},
     "output_type": "execute_result"
    }
   ],
   "source": [
    "%%bq query \n",
    "SELECT b.name, MIN(date) min_year, MAX(date) max_year, DATE_DIFF(MAX(date), MIN(date), day) date_range\n",
    "FROM `team-3-ba770-b.yelp.review` r\n",
    "JOIN `team-3-ba770-b.yelp.business` b\n",
    "ON r.business_id = b.business_id\n",
    "GROUP BY r.business_id, b.name\n",
    "ORDER BY date_range DESC\n"
   ]
  },
  {
   "cell_type": "markdown",
   "metadata": {},
   "source": [
    "**4.2 Top 5 store categories which received the most reviews**"
   ]
  },
  {
   "cell_type": "code",
   "execution_count": 35,
   "metadata": {},
   "outputs": [
    {
     "data": {
      "text/html": [
       "\n",
       "    <div class=\"bqtv\" id=\"27_156624305895\"><table><tr><th>categories</th><th>reviews</th></tr><tr><td>Pizza;Restaurants</td><td>1977</td></tr><tr><td>Coffee &amp; Tea;Food</td><td>1907</td></tr><tr><td>Nail Salons;Beauty &amp; Spas</td><td>1845</td></tr><tr><td>Mexican;Restaurants</td><td>1770</td></tr><tr><td>Chinese;Restaurants</td><td>1696</td></tr></table></div>\n",
       "    <br />(rows: 5, time: 2.1s,    10MB processed, job: job_Uzm7xIFellnpsNGRgk40Womn-MxG)<br />\n",
       "    <script src=\"/static/components/requirejs/require.js\"></script>\n",
       "    <script>\n",
       "      require.config({\n",
       "        paths: {\n",
       "          base: '/static/base',\n",
       "          d3: '//cdnjs.cloudflare.com/ajax/libs/d3/3.4.13/d3',\n",
       "          plotly: 'https://cdn.plot.ly/plotly-1.5.1.min.js?noext',\n",
       "          jquery: '//ajax.googleapis.com/ajax/libs/jquery/2.0.0/jquery.min'\n",
       "        },\n",
       "        map: {\n",
       "          '*': {\n",
       "            datalab: 'nbextensions/gcpdatalab'\n",
       "          }\n",
       "        },\n",
       "        shim: {\n",
       "          plotly: {\n",
       "            deps: ['d3', 'jquery'],\n",
       "            exports: 'plotly'\n",
       "          }\n",
       "        }\n",
       "      });\n",
       "\n",
       "      require(['datalab/charting', 'datalab/element!27_156624305895', 'base/js/events',\n",
       "          'datalab/style!/nbextensions/gcpdatalab/charting.css'],\n",
       "        function(charts, dom, events) {\n",
       "          charts.render('gcharts', dom, events, 'table', [], {\"rows\": [{\"c\": [{\"v\": \"Pizza;Restaurants\"}, {\"v\": 1977}]}, {\"c\": [{\"v\": \"Coffee & Tea;Food\"}, {\"v\": 1907}]}, {\"c\": [{\"v\": \"Nail Salons;Beauty & Spas\"}, {\"v\": 1845}]}, {\"c\": [{\"v\": \"Mexican;Restaurants\"}, {\"v\": 1770}]}, {\"c\": [{\"v\": \"Chinese;Restaurants\"}, {\"v\": 1696}]}], \"cols\": [{\"type\": \"string\", \"id\": \"categories\", \"label\": \"categories\"}, {\"type\": \"number\", \"id\": \"reviews\", \"label\": \"reviews\"}]},\n",
       "            {\n",
       "              pageSize: 25,\n",
       "              cssClassNames:  {\n",
       "                tableRow: 'gchart-table-row',\n",
       "                headerRow: 'gchart-table-headerrow',\n",
       "                oddTableRow: 'gchart-table-oddrow',\n",
       "                selectedTableRow: 'gchart-table-selectedrow',\n",
       "                hoverTableRow: 'gchart-table-hoverrow',\n",
       "                tableCell: 'gchart-table-cell',\n",
       "                headerCell: 'gchart-table-headercell',\n",
       "                rowNumberCell: 'gchart-table-rownumcell'\n",
       "              }\n",
       "            },\n",
       "            {source_index: 24, fields: 'categories,reviews'},\n",
       "            0,\n",
       "            5);\n",
       "        }\n",
       "      );\n",
       "    </script>\n",
       "  "
      ],
      "text/plain": [
       "QueryResultsTable job_Uzm7xIFellnpsNGRgk40Womn-MxG"
      ]
     },
     "execution_count": 35,
     "metadata": {},
     "output_type": "execute_result"
    }
   ],
   "source": [
    "%%bq query\n",
    "SELECT categories, COUNT(review_count) AS reviews\n",
    "FROM `team-3-ba770-b.yelp.business` \n",
    "GROUP BY categories\n",
    "ORDER BY reviews DESC\n",
    "LIMIT 5\n"
   ]
  },
  {
   "cell_type": "markdown",
   "metadata": {},
   "source": [
    "Four out of five of the results were food-related categories, so we decided to focus our following analysis on restaurants."
   ]
  },
  {
   "cell_type": "code",
   "execution_count": 106,
   "metadata": {},
   "outputs": [],
   "source": [
    "%%bq query -n 5categories\n",
    "SELECT categories, COUNT(review_count) AS reviews\n",
    "FROM `team-3-ba770-b.yelp.business` \n",
    "GROUP BY categories\n",
    "ORDER BY reviews DESC\n",
    "LIMIT 5"
   ]
  },
  {
   "cell_type": "code",
   "execution_count": 12,
   "metadata": {},
   "outputs": [
    {
     "data": {
      "text/html": [
       "\n",
       "    <div class=\"bqgc-container\">\n",
       "      \n",
       "      <div class=\"bqgc \" id=\"7_156684279799\">\n",
       "      </div>\n",
       "    </div>\n",
       "    <script src=\"/static/components/requirejs/require.js\"></script>\n",
       "    <script>\n",
       "\n",
       "      require.config({\n",
       "        paths: {\n",
       "          base: '/static/base',\n",
       "          d3: '//cdnjs.cloudflare.com/ajax/libs/d3/3.4.13/d3',\n",
       "          plotly: 'https://cdn.plot.ly/plotly-1.5.1.min.js?noext',\n",
       "          jquery: '//ajax.googleapis.com/ajax/libs/jquery/2.0.0/jquery.min'\n",
       "        },\n",
       "        map: {\n",
       "          '*': {\n",
       "            datalab: 'nbextensions/gcpdatalab'\n",
       "          }\n",
       "        },\n",
       "        shim: {\n",
       "          plotly: {\n",
       "            deps: ['d3', 'jquery'],\n",
       "            exports: 'plotly'\n",
       "          }\n",
       "        }\n",
       "      });\n",
       "\n",
       "      require(['datalab/charting',\n",
       "               'datalab/element!7_156684279799',\n",
       "               'base/js/events',\n",
       "               'datalab/style!/nbextensions/gcpdatalab/charting.css'\n",
       "              ],\n",
       "        function(charts, dom, events) {\n",
       "          charts.render(\n",
       "              'gcharts',\n",
       "              dom,\n",
       "              events,\n",
       "              'treemap',\n",
       "              [],\n",
       "              {\"rows\": [{\"c\": [{\"v\": \"Pizza;Restaurants\"}, {\"v\": 1977}]}, {\"c\": [{\"v\": \"Coffee & Tea;Food\"}, {\"v\": 1907}]}, {\"c\": [{\"v\": \"Nail Salons;Beauty & Spas\"}, {\"v\": 1845}]}, {\"c\": [{\"v\": \"Mexican;Restaurants\"}, {\"v\": 1770}]}, {\"c\": [{\"v\": \"Chinese;Restaurants\"}, {\"v\": 1696}]}], \"cols\": [{\"type\": \"string\", \"id\": \"categories\", \"label\": \"categories\"}, {\"type\": \"number\", \"id\": \"reviews\", \"label\": \"reviews\"}]},\n",
       "              {\"title\": \"Top 5 store categories\"},\n",
       "              {\"fields\": \"*\", \"source_index\": 0, \"name\": 0},\n",
       "              0,\n",
       "              5);\n",
       "          }\n",
       "        );\n",
       "    </script>\n",
       "  "
      ],
      "text/plain": [
       "<IPython.core.display.HTML object>"
      ]
     },
     "execution_count": 12,
     "metadata": {},
     "output_type": "execute_result"
    }
   ],
   "source": [
    "%%chart treemap -d 5categories\n",
    "title: Top 5 store categories"
   ]
  },
  {
   "cell_type": "markdown",
   "metadata": {},
   "source": [
    "**4.3 How many restaurants are there in total on Yelp in this sample?**\n"
   ]
  },
  {
   "cell_type": "code",
   "execution_count": 36,
   "metadata": {},
   "outputs": [
    {
     "data": {
      "text/html": [
       "\n",
       "    <div class=\"bqtv\" id=\"28_156624310406\"><table><tr><th>Number_of_Restaurants</th></tr><tr><td>54618</td></tr></table></div>\n",
       "    <br />(rows: 1, time: 0.6s,     8MB processed, job: job_kH2X5pes4vLA5CmhNsQsEAVt-6hL)<br />\n",
       "    <script src=\"/static/components/requirejs/require.js\"></script>\n",
       "    <script>\n",
       "      require.config({\n",
       "        paths: {\n",
       "          base: '/static/base',\n",
       "          d3: '//cdnjs.cloudflare.com/ajax/libs/d3/3.4.13/d3',\n",
       "          plotly: 'https://cdn.plot.ly/plotly-1.5.1.min.js?noext',\n",
       "          jquery: '//ajax.googleapis.com/ajax/libs/jquery/2.0.0/jquery.min'\n",
       "        },\n",
       "        map: {\n",
       "          '*': {\n",
       "            datalab: 'nbextensions/gcpdatalab'\n",
       "          }\n",
       "        },\n",
       "        shim: {\n",
       "          plotly: {\n",
       "            deps: ['d3', 'jquery'],\n",
       "            exports: 'plotly'\n",
       "          }\n",
       "        }\n",
       "      });\n",
       "\n",
       "      require(['datalab/charting', 'datalab/element!28_156624310406', 'base/js/events',\n",
       "          'datalab/style!/nbextensions/gcpdatalab/charting.css'],\n",
       "        function(charts, dom, events) {\n",
       "          charts.render('gcharts', dom, events, 'table', [], {\"rows\": [{\"c\": [{\"v\": 54618}]}], \"cols\": [{\"type\": \"number\", \"id\": \"Number_of_Restaurants\", \"label\": \"Number_of_Restaurants\"}]},\n",
       "            {\n",
       "              pageSize: 25,\n",
       "              cssClassNames:  {\n",
       "                tableRow: 'gchart-table-row',\n",
       "                headerRow: 'gchart-table-headerrow',\n",
       "                oddTableRow: 'gchart-table-oddrow',\n",
       "                selectedTableRow: 'gchart-table-selectedrow',\n",
       "                hoverTableRow: 'gchart-table-hoverrow',\n",
       "                tableCell: 'gchart-table-cell',\n",
       "                headerCell: 'gchart-table-headercell',\n",
       "                rowNumberCell: 'gchart-table-rownumcell'\n",
       "              }\n",
       "            },\n",
       "            {source_index: 25, fields: 'Number_of_Restaurants'},\n",
       "            0,\n",
       "            1);\n",
       "        }\n",
       "      );\n",
       "    </script>\n",
       "  "
      ],
      "text/plain": [
       "QueryResultsTable job_kH2X5pes4vLA5CmhNsQsEAVt-6hL"
      ]
     },
     "execution_count": 36,
     "metadata": {},
     "output_type": "execute_result"
    }
   ],
   "source": [
    "%%bq query\n",
    "SELECT COUNT(categories) AS Number_of_Restaurants \n",
    "FROM `team-3-ba770-b.yelp.business` \n",
    "WHERE categories LIKE '%Restaurants%';"
   ]
  },
  {
   "cell_type": "markdown",
   "metadata": {},
   "source": [
    "**4.4 What types of restaurants receive the best reviews?**\n",
    "\n",
    "This query finds the best restaurants in terms of average stars and number of reviews, ordered respectively.  A restaurant with a large number of reviews and high average star rating is likely to be exceptional."
   ]
  },
  {
   "cell_type": "code",
   "execution_count": 37,
   "metadata": {},
   "outputs": [
    {
     "data": {
      "text/html": [
       "\n",
       "    <div class=\"bqtv\" id=\"29_156624312343\"><table><tr><th>categories</th><th>stars</th><th>review_count</th></tr><tr><td>Restaurants;Barbeque</td><td>5.0</td><td>1463</td></tr><tr><td>Cafes;Tea Rooms;Food;Bubble Tea;Restaurants;Desserts</td><td>5.0</td><td>1165</td></tr><tr><td>Restaurants;Food;Poke;Hawaiian</td><td>5.0</td><td>494</td></tr><tr><td>Restaurants;Salad;Mediterranean;Sandwiches;Halal;Arabian</td><td>5.0</td><td>355</td></tr><tr><td>Food;Gelato;Restaurants;Ice Cream &amp; Frozen Yogurt;American (New);Desserts</td><td>5.0</td><td>352</td></tr><tr><td>Breakfast &amp; Brunch;Sandwiches;American (New);American (Traditional);Restaurants</td><td>5.0</td><td>336</td></tr><tr><td>Restaurants;Greek</td><td>5.0</td><td>327</td></tr><tr><td>Salad;American (Traditional);Restaurants;Fast Food;Sandwiches;Waffles;Hot Dogs</td><td>5.0</td><td>263</td></tr><tr><td>Bars;American (New);Karaoke;Nightlife;Asian Fusion;Cocktail Bars;Restaurants</td><td>5.0</td><td>240</td></tr><tr><td>Vegetarian;Hot Dogs;Restaurants;Latin American;Vegan;Colombian</td><td>5.0</td><td>233</td></tr></table></div>\n",
       "    <br />(rows: 10, time: 0.6s,    11MB processed, job: job_ts0XQstfyJKdp5H8PsmWCvc-_BP5)<br />\n",
       "    <script src=\"/static/components/requirejs/require.js\"></script>\n",
       "    <script>\n",
       "      require.config({\n",
       "        paths: {\n",
       "          base: '/static/base',\n",
       "          d3: '//cdnjs.cloudflare.com/ajax/libs/d3/3.4.13/d3',\n",
       "          plotly: 'https://cdn.plot.ly/plotly-1.5.1.min.js?noext',\n",
       "          jquery: '//ajax.googleapis.com/ajax/libs/jquery/2.0.0/jquery.min'\n",
       "        },\n",
       "        map: {\n",
       "          '*': {\n",
       "            datalab: 'nbextensions/gcpdatalab'\n",
       "          }\n",
       "        },\n",
       "        shim: {\n",
       "          plotly: {\n",
       "            deps: ['d3', 'jquery'],\n",
       "            exports: 'plotly'\n",
       "          }\n",
       "        }\n",
       "      });\n",
       "\n",
       "      require(['datalab/charting', 'datalab/element!29_156624312343', 'base/js/events',\n",
       "          'datalab/style!/nbextensions/gcpdatalab/charting.css'],\n",
       "        function(charts, dom, events) {\n",
       "          charts.render('gcharts', dom, events, 'table', [], {\"rows\": [{\"c\": [{\"v\": \"Restaurants;Barbeque\"}, {\"v\": 5.0}, {\"v\": 1463}]}, {\"c\": [{\"v\": \"Cafes;Tea Rooms;Food;Bubble Tea;Restaurants;Desserts\"}, {\"v\": 5.0}, {\"v\": 1165}]}, {\"c\": [{\"v\": \"Restaurants;Food;Poke;Hawaiian\"}, {\"v\": 5.0}, {\"v\": 494}]}, {\"c\": [{\"v\": \"Restaurants;Salad;Mediterranean;Sandwiches;Halal;Arabian\"}, {\"v\": 5.0}, {\"v\": 355}]}, {\"c\": [{\"v\": \"Food;Gelato;Restaurants;Ice Cream & Frozen Yogurt;American (New);Desserts\"}, {\"v\": 5.0}, {\"v\": 352}]}, {\"c\": [{\"v\": \"Breakfast & Brunch;Sandwiches;American (New);American (Traditional);Restaurants\"}, {\"v\": 5.0}, {\"v\": 336}]}, {\"c\": [{\"v\": \"Restaurants;Greek\"}, {\"v\": 5.0}, {\"v\": 327}]}, {\"c\": [{\"v\": \"Salad;American (Traditional);Restaurants;Fast Food;Sandwiches;Waffles;Hot Dogs\"}, {\"v\": 5.0}, {\"v\": 263}]}, {\"c\": [{\"v\": \"Bars;American (New);Karaoke;Nightlife;Asian Fusion;Cocktail Bars;Restaurants\"}, {\"v\": 5.0}, {\"v\": 240}]}, {\"c\": [{\"v\": \"Vegetarian;Hot Dogs;Restaurants;Latin American;Vegan;Colombian\"}, {\"v\": 5.0}, {\"v\": 233}]}], \"cols\": [{\"type\": \"string\", \"id\": \"categories\", \"label\": \"categories\"}, {\"type\": \"number\", \"id\": \"stars\", \"label\": \"stars\"}, {\"type\": \"number\", \"id\": \"review_count\", \"label\": \"review_count\"}]},\n",
       "            {\n",
       "              pageSize: 25,\n",
       "              cssClassNames:  {\n",
       "                tableRow: 'gchart-table-row',\n",
       "                headerRow: 'gchart-table-headerrow',\n",
       "                oddTableRow: 'gchart-table-oddrow',\n",
       "                selectedTableRow: 'gchart-table-selectedrow',\n",
       "                hoverTableRow: 'gchart-table-hoverrow',\n",
       "                tableCell: 'gchart-table-cell',\n",
       "                headerCell: 'gchart-table-headercell',\n",
       "                rowNumberCell: 'gchart-table-rownumcell'\n",
       "              }\n",
       "            },\n",
       "            {source_index: 26, fields: 'categories,stars,review_count'},\n",
       "            0,\n",
       "            10);\n",
       "        }\n",
       "      );\n",
       "    </script>\n",
       "  "
      ],
      "text/plain": [
       "QueryResultsTable job_ts0XQstfyJKdp5H8PsmWCvc-_BP5"
      ]
     },
     "execution_count": 37,
     "metadata": {},
     "output_type": "execute_result"
    }
   ],
   "source": [
    "%%bq query\n",
    "SELECT categories, stars, review_count\n",
    "FROM `team-3-ba770-b.yelp.business`\n",
    "WHERE review_count > 100 AND stars >= 4.5 AND categories LIKE '%Restaurants%'\n",
    "ORDER BY stars DESC, review_count DESC\n",
    "LIMIT 10\n"
   ]
  },
  {
   "cell_type": "markdown",
   "metadata": {},
   "source": [
    "From these results, we can see than barbeque restaurants receive a large number of excellent ratings, closely followed by cafes."
   ]
  },
  {
   "cell_type": "markdown",
   "metadata": {},
   "source": [
    "**4.5 Which city, state/region receives the highest rating for their local businesses?**\n",
    "\n",
    "This query identifies the cities with the highest average ratings."
   ]
  },
  {
   "cell_type": "code",
   "execution_count": 14,
   "metadata": {},
   "outputs": [
    {
     "data": {
      "text/html": [
       "\n",
       "    <div class=\"bqtv\" id=\"14_156675389493\"><table><tr><th>City</th><th>Region</th><th>Avg_stars</th><th>tot_reviews</th></tr><tr><td>Sloan</td><td>NV</td><td>4.5</td><td>293</td></tr><tr><td>La Prairie</td><td>QC</td><td>4.4</td><td>103</td></tr><tr><td>Las  Vegas</td><td>NV</td><td>4.4</td><td>355</td></tr><tr><td>Kirtland</td><td>OH</td><td>4.4</td><td>267</td></tr><tr><td>Scottdale</td><td>AZ</td><td>4.4</td><td>544</td></tr></table></div>\n",
       "    <br />(rows: 5, time: 0.8s,     5MB processed, job: job_xJFwe8KhyS1xJgDRzsLC2rSyUEPb)<br />\n",
       "    <script src=\"/static/components/requirejs/require.js\"></script>\n",
       "    <script>\n",
       "      require.config({\n",
       "        paths: {\n",
       "          base: '/static/base',\n",
       "          d3: '//cdnjs.cloudflare.com/ajax/libs/d3/3.4.13/d3',\n",
       "          plotly: 'https://cdn.plot.ly/plotly-1.5.1.min.js?noext',\n",
       "          jquery: '//ajax.googleapis.com/ajax/libs/jquery/2.0.0/jquery.min'\n",
       "        },\n",
       "        map: {\n",
       "          '*': {\n",
       "            datalab: 'nbextensions/gcpdatalab'\n",
       "          }\n",
       "        },\n",
       "        shim: {\n",
       "          plotly: {\n",
       "            deps: ['d3', 'jquery'],\n",
       "            exports: 'plotly'\n",
       "          }\n",
       "        }\n",
       "      });\n",
       "\n",
       "      require(['datalab/charting', 'datalab/element!14_156675389493', 'base/js/events',\n",
       "          'datalab/style!/nbextensions/gcpdatalab/charting.css'],\n",
       "        function(charts, dom, events) {\n",
       "          charts.render('gcharts', dom, events, 'table', [], {\"rows\": [{\"c\": [{\"v\": \"Sloan\"}, {\"v\": \"NV\"}, {\"v\": 4.5}, {\"v\": 293}]}, {\"c\": [{\"v\": \"La Prairie\"}, {\"v\": \"QC\"}, {\"v\": 4.4}, {\"v\": 103}]}, {\"c\": [{\"v\": \"Las  Vegas\"}, {\"v\": \"NV\"}, {\"v\": 4.4}, {\"v\": 355}]}, {\"c\": [{\"v\": \"Kirtland\"}, {\"v\": \"OH\"}, {\"v\": 4.4}, {\"v\": 267}]}, {\"c\": [{\"v\": \"Scottdale\"}, {\"v\": \"AZ\"}, {\"v\": 4.4}, {\"v\": 544}]}], \"cols\": [{\"type\": \"string\", \"id\": \"City\", \"label\": \"City\"}, {\"type\": \"string\", \"id\": \"Region\", \"label\": \"Region\"}, {\"type\": \"number\", \"id\": \"Avg_stars\", \"label\": \"Avg_stars\"}, {\"type\": \"number\", \"id\": \"tot_reviews\", \"label\": \"tot_reviews\"}]},\n",
       "            {\n",
       "              pageSize: 25,\n",
       "              cssClassNames:  {\n",
       "                tableRow: 'gchart-table-row',\n",
       "                headerRow: 'gchart-table-headerrow',\n",
       "                oddTableRow: 'gchart-table-oddrow',\n",
       "                selectedTableRow: 'gchart-table-selectedrow',\n",
       "                hoverTableRow: 'gchart-table-hoverrow',\n",
       "                tableCell: 'gchart-table-cell',\n",
       "                headerCell: 'gchart-table-headercell',\n",
       "                rowNumberCell: 'gchart-table-rownumcell'\n",
       "              }\n",
       "            },\n",
       "            {source_index: 10, fields: 'City,Region,Avg_stars,tot_reviews'},\n",
       "            0,\n",
       "            5);\n",
       "        }\n",
       "      );\n",
       "    </script>\n",
       "  "
      ],
      "text/plain": [
       "QueryResultsTable job_xJFwe8KhyS1xJgDRzsLC2rSyUEPb"
      ]
     },
     "execution_count": 14,
     "metadata": {},
     "output_type": "execute_result"
    }
   ],
   "source": [
    "%%bq query \n",
    "SELECT city AS City, state AS Region, ROUND(AVG(stars),1) AS Avg_stars, SUM(review_count) AS tot_reviews\n",
    "FROM `team-3-ba770-b.yelp.business`\n",
    "GROUP BY city, state\n",
    "HAVING state IS NOT NULL\n",
    "AND SUM(review_count) > 100\n",
    "ORDER BY Avg_stars DESC\n",
    "LIMIT 5"
   ]
  },
  {
   "cell_type": "markdown",
   "metadata": {},
   "source": [
    "Sloan, NV is the highest-rated city, followed by Kirtland, OH."
   ]
  },
  {
   "cell_type": "markdown",
   "metadata": {},
   "source": [
    "**4.6 What is the most popular five-star restaurant in this Yelp sample?**\n",
    "\n",
    "This query finds the restaurant with the highest number of reviews and also a five-star rating."
   ]
  },
  {
   "cell_type": "code",
   "execution_count": 39,
   "metadata": {},
   "outputs": [
    {
     "data": {
      "text/html": [
       "\n",
       "    <div class=\"bqtv\" id=\"31_156624326840\"><table><tr><th>city</th><th>name</th><th>total_review</th><th>avg_star</th></tr><tr><td>Phoenix</td><td>\"Little Miss BBQ\"</td><td>1463</td><td>5.0</td></tr></table></div>\n",
       "    <br />(rows: 1, time: 1.3s,     8MB processed, job: job_LsiOX3Ceeih2GsxA25HO211BjQqx)<br />\n",
       "    <script src=\"/static/components/requirejs/require.js\"></script>\n",
       "    <script>\n",
       "      require.config({\n",
       "        paths: {\n",
       "          base: '/static/base',\n",
       "          d3: '//cdnjs.cloudflare.com/ajax/libs/d3/3.4.13/d3',\n",
       "          plotly: 'https://cdn.plot.ly/plotly-1.5.1.min.js?noext',\n",
       "          jquery: '//ajax.googleapis.com/ajax/libs/jquery/2.0.0/jquery.min'\n",
       "        },\n",
       "        map: {\n",
       "          '*': {\n",
       "            datalab: 'nbextensions/gcpdatalab'\n",
       "          }\n",
       "        },\n",
       "        shim: {\n",
       "          plotly: {\n",
       "            deps: ['d3', 'jquery'],\n",
       "            exports: 'plotly'\n",
       "          }\n",
       "        }\n",
       "      });\n",
       "\n",
       "      require(['datalab/charting', 'datalab/element!31_156624326840', 'base/js/events',\n",
       "          'datalab/style!/nbextensions/gcpdatalab/charting.css'],\n",
       "        function(charts, dom, events) {\n",
       "          charts.render('gcharts', dom, events, 'table', [], {\"rows\": [{\"c\": [{\"v\": \"Phoenix\"}, {\"v\": \"\\\"Little Miss BBQ\\\"\"}, {\"v\": 1463}, {\"v\": 5.0}]}], \"cols\": [{\"type\": \"string\", \"id\": \"city\", \"label\": \"city\"}, {\"type\": \"string\", \"id\": \"name\", \"label\": \"name\"}, {\"type\": \"number\", \"id\": \"total_review\", \"label\": \"total_review\"}, {\"type\": \"number\", \"id\": \"avg_star\", \"label\": \"avg_star\"}]},\n",
       "            {\n",
       "              pageSize: 25,\n",
       "              cssClassNames:  {\n",
       "                tableRow: 'gchart-table-row',\n",
       "                headerRow: 'gchart-table-headerrow',\n",
       "                oddTableRow: 'gchart-table-oddrow',\n",
       "                selectedTableRow: 'gchart-table-selectedrow',\n",
       "                hoverTableRow: 'gchart-table-hoverrow',\n",
       "                tableCell: 'gchart-table-cell',\n",
       "                headerCell: 'gchart-table-headercell',\n",
       "                rowNumberCell: 'gchart-table-rownumcell'\n",
       "              }\n",
       "            },\n",
       "            {source_index: 28, fields: 'city,name,total_review,avg_star'},\n",
       "            0,\n",
       "            1);\n",
       "        }\n",
       "      );\n",
       "    </script>\n",
       "  "
      ],
      "text/plain": [
       "QueryResultsTable job_LsiOX3Ceeih2GsxA25HO211BjQqx"
      ]
     },
     "execution_count": 39,
     "metadata": {},
     "output_type": "execute_result"
    }
   ],
   "source": [
    "%%bq query\n",
    "SELECT city, name,SUM(review_count) AS total_review,AVG(stars) AS avg_star \n",
    "FROM `team-3-ba770-b.yelp.business` \n",
    "GROUP BY city,name\n",
    "HAVING total_review>100 AND avg_star=5\n",
    "ORDER BY avg_star DESC,total_review DESC\n",
    "LIMIT 1;\n"
   ]
  },
  {
   "cell_type": "markdown",
   "metadata": {},
   "source": [
    "**4.7 The number of checkins for \"Little Miss BBQ\" by day of the week**\n",
    "\n",
    "In the previous query, we identified Little Miss BBQ as the most popular five-star restaurant.  This query finds the number of checkins for the restaurant."
   ]
  },
  {
   "cell_type": "code",
   "execution_count": 16,
   "metadata": {},
   "outputs": [],
   "source": [
    "%%bq query -n total_checkins_in_a_week\n",
    "SELECT weekday, SUM(checkins) AS total_checkins\n",
    "FROM `team-3-ba770-b.yelp.checkin` AS c JOIN `team-3-ba770-b.yelp.business` AS b \n",
    "ON b.business_id = c.business_id \n",
    "WHERE c.business_id = 'Xg5qEQiB-7L6kGJ5F4K3bQ' \n",
    "GROUP BY weekday\n",
    "ORDER BY \n",
    "     CASE\n",
    "          WHEN weekday = 'Sun' THEN 1\n",
    "          WHEN weekday = 'Mon' THEN 2\n",
    "          WHEN weekday = 'Tue' THEN 3\n",
    "          WHEN weekday = 'Wed' THEN 4\n",
    "          WHEN weekday = 'Thu' THEN 5\n",
    "          WHEN weekday = 'Fri' THEN 6\n",
    "          WHEN weekday = 'Sat' THEN 7\n",
    "     END ASC;\n"
   ]
  },
  {
   "cell_type": "markdown",
   "metadata": {},
   "source": [
    "The query results are then graphed below."
   ]
  },
  {
   "cell_type": "code",
   "execution_count": 17,
   "metadata": {},
   "outputs": [
    {
     "data": {
      "text/html": [
       "\n",
       "    <div class=\"bqgc-container\">\n",
       "      \n",
       "      <div class=\"bqgc \" id=\"2_156675426373\">\n",
       "      </div>\n",
       "    </div>\n",
       "    <script src=\"/static/components/requirejs/require.js\"></script>\n",
       "    <script>\n",
       "\n",
       "      require.config({\n",
       "        paths: {\n",
       "          base: '/static/base',\n",
       "          d3: '//cdnjs.cloudflare.com/ajax/libs/d3/3.4.13/d3',\n",
       "          plotly: 'https://cdn.plot.ly/plotly-1.5.1.min.js?noext',\n",
       "          jquery: '//ajax.googleapis.com/ajax/libs/jquery/2.0.0/jquery.min'\n",
       "        },\n",
       "        map: {\n",
       "          '*': {\n",
       "            datalab: 'nbextensions/gcpdatalab'\n",
       "          }\n",
       "        },\n",
       "        shim: {\n",
       "          plotly: {\n",
       "            deps: ['d3', 'jquery'],\n",
       "            exports: 'plotly'\n",
       "          }\n",
       "        }\n",
       "      });\n",
       "\n",
       "      require(['datalab/charting',\n",
       "               'datalab/element!2_156675426373',\n",
       "               'base/js/events',\n",
       "               'datalab/style!/nbextensions/gcpdatalab/charting.css'\n",
       "              ],\n",
       "        function(charts, dom, events) {\n",
       "          charts.render(\n",
       "              'gcharts',\n",
       "              dom,\n",
       "              events,\n",
       "              'line',\n",
       "              [],\n",
       "              {\"rows\": [{\"c\": [{\"v\": \"Sun\"}, {\"v\": 21}]}, {\"c\": [{\"v\": \"Mon\"}, {\"v\": 11}]}, {\"c\": [{\"v\": \"Tue\"}, {\"v\": 368}]}, {\"c\": [{\"v\": \"Wed\"}, {\"v\": 343}]}, {\"c\": [{\"v\": \"Thu\"}, {\"v\": 442}]}, {\"c\": [{\"v\": \"Fri\"}, {\"v\": 484}]}, {\"c\": [{\"v\": \"Sat\"}, {\"v\": 651}]}], \"cols\": [{\"type\": \"string\", \"id\": \"weekday\", \"label\": \"weekday\"}, {\"type\": \"number\", \"id\": \"total_checkins\", \"label\": \"total_checkins\"}]},\n",
       "              {\"vAxis\": {\"title\": \"Number of Checkins\"}, \"legend\": \"none\", \"hAxis\": {\"title\": \"Days of a Week\"}, \"title\": \"The number of checkins by day of the week\"},\n",
       "              {\"fields\": \"*\", \"source_index\": 0, \"name\": 0},\n",
       "              0,\n",
       "              7);\n",
       "          }\n",
       "        );\n",
       "    </script>\n",
       "  "
      ],
      "text/plain": [
       "<IPython.core.display.HTML object>"
      ]
     },
     "execution_count": 17,
     "metadata": {},
     "output_type": "execute_result"
    },
    {
     "data": {
      "image/png": "[encoded data removed]"
     },
     "metadata": {
      "source_id": "2_156675426373"
     },
     "output_type": "display_data"
    }
   ],
   "source": [
    "%%chart line -d total_checkins_in_a_week\n",
    "title: The number of checkins by day of the week\n",
    "legend: none\n",
    "hAxis: \n",
    "    title: Days of a Week\n",
    "vAxis:\n",
    "    title: Number of Checkins"
   ]
  },
  {
   "cell_type": "markdown",
   "metadata": {},
   "source": [
    "This graph shows that Little Miss BBQ is most poular on Saturday, and has no checkins on Sunday and Monday because it is closed."
   ]
  },
  {
   "cell_type": "markdown",
   "metadata": {},
   "source": [
    "**4.8 Which cities have the best restaurants?**\n",
    "\n",
    "If you want more recommendations, here are the top cities that have the best restaurants."
   ]
  },
  {
   "cell_type": "code",
   "execution_count": 18,
   "metadata": {},
   "outputs": [
    {
     "data": {
      "text/html": [
       "\n",
       "    <div class=\"bqtv\" id=\"15_156675431184\"><table><tr><th>city</th><th>Number_of_best_resturants</th></tr><tr><td>Las Vegas</td><td>141</td></tr><tr><td>Phoenix</td><td>56</td></tr><tr><td>Scottsdale</td><td>35</td></tr><tr><td>Henderson</td><td>15</td></tr><tr><td>Gilbert</td><td>9</td></tr><tr><td>Tempe</td><td>9</td></tr><tr><td>Mesa</td><td>8</td></tr><tr><td>Charlotte</td><td>4</td></tr><tr><td>Toronto</td><td>4</td></tr><tr><td>Chandler</td><td>3</td></tr><tr><td>North Las Vegas</td><td>3</td></tr><tr><td>Glendale</td><td>3</td></tr><tr><td>Pittsburgh</td><td>2</td></tr><tr><td>Cleveland</td><td>2</td></tr><tr><td>Boulder City</td><td>2</td></tr><tr><td>Avon</td><td>1</td></tr><tr><td>Madison</td><td>1</td></tr><tr><td>MESA</td><td>1</td></tr><tr><td>Youngtown</td><td>1</td></tr><tr><td>Edinburgh</td><td>1</td></tr><tr><td>Outremont</td><td>1</td></tr></table></div>\n",
       "    <br />(rows: 21, time: 2.3s,     8MB processed, job: job_yu7CKyGQ9N5SYXk7xLGhIutjera9)<br />\n",
       "    <script src=\"/static/components/requirejs/require.js\"></script>\n",
       "    <script>\n",
       "      require.config({\n",
       "        paths: {\n",
       "          base: '/static/base',\n",
       "          d3: '//cdnjs.cloudflare.com/ajax/libs/d3/3.4.13/d3',\n",
       "          plotly: 'https://cdn.plot.ly/plotly-1.5.1.min.js?noext',\n",
       "          jquery: '//ajax.googleapis.com/ajax/libs/jquery/2.0.0/jquery.min'\n",
       "        },\n",
       "        map: {\n",
       "          '*': {\n",
       "            datalab: 'nbextensions/gcpdatalab'\n",
       "          }\n",
       "        },\n",
       "        shim: {\n",
       "          plotly: {\n",
       "            deps: ['d3', 'jquery'],\n",
       "            exports: 'plotly'\n",
       "          }\n",
       "        }\n",
       "      });\n",
       "\n",
       "      require(['datalab/charting', 'datalab/element!15_156675431184', 'base/js/events',\n",
       "          'datalab/style!/nbextensions/gcpdatalab/charting.css'],\n",
       "        function(charts, dom, events) {\n",
       "          charts.render('gcharts', dom, events, 'table', [], {\"rows\": [{\"c\": [{\"v\": \"Las Vegas\"}, {\"v\": 141}]}, {\"c\": [{\"v\": \"Phoenix\"}, {\"v\": 56}]}, {\"c\": [{\"v\": \"Scottsdale\"}, {\"v\": 35}]}, {\"c\": [{\"v\": \"Henderson\"}, {\"v\": 15}]}, {\"c\": [{\"v\": \"Gilbert\"}, {\"v\": 9}]}, {\"c\": [{\"v\": \"Tempe\"}, {\"v\": 9}]}, {\"c\": [{\"v\": \"Mesa\"}, {\"v\": 8}]}, {\"c\": [{\"v\": \"Charlotte\"}, {\"v\": 4}]}, {\"c\": [{\"v\": \"Toronto\"}, {\"v\": 4}]}, {\"c\": [{\"v\": \"Chandler\"}, {\"v\": 3}]}, {\"c\": [{\"v\": \"North Las Vegas\"}, {\"v\": 3}]}, {\"c\": [{\"v\": \"Glendale\"}, {\"v\": 3}]}, {\"c\": [{\"v\": \"Pittsburgh\"}, {\"v\": 2}]}, {\"c\": [{\"v\": \"Cleveland\"}, {\"v\": 2}]}, {\"c\": [{\"v\": \"Boulder City\"}, {\"v\": 2}]}, {\"c\": [{\"v\": \"Avon\"}, {\"v\": 1}]}, {\"c\": [{\"v\": \"Madison\"}, {\"v\": 1}]}, {\"c\": [{\"v\": \"MESA\"}, {\"v\": 1}]}, {\"c\": [{\"v\": \"Youngtown\"}, {\"v\": 1}]}, {\"c\": [{\"v\": \"Edinburgh\"}, {\"v\": 1}]}, {\"c\": [{\"v\": \"Outremont\"}, {\"v\": 1}]}], \"cols\": [{\"type\": \"string\", \"id\": \"city\", \"label\": \"city\"}, {\"type\": \"number\", \"id\": \"Number_of_best_resturants\", \"label\": \"Number_of_best_resturants\"}]},\n",
       "            {\n",
       "              pageSize: 25,\n",
       "              cssClassNames:  {\n",
       "                tableRow: 'gchart-table-row',\n",
       "                headerRow: 'gchart-table-headerrow',\n",
       "                oddTableRow: 'gchart-table-oddrow',\n",
       "                selectedTableRow: 'gchart-table-selectedrow',\n",
       "                hoverTableRow: 'gchart-table-hoverrow',\n",
       "                tableCell: 'gchart-table-cell',\n",
       "                headerCell: 'gchart-table-headercell',\n",
       "                rowNumberCell: 'gchart-table-rownumcell'\n",
       "              }\n",
       "            },\n",
       "            {source_index: 11, fields: 'city,Number_of_best_resturants'},\n",
       "            0,\n",
       "            21);\n",
       "        }\n",
       "      );\n",
       "    </script>\n",
       "  "
      ],
      "text/plain": [
       "QueryResultsTable job_yu7CKyGQ9N5SYXk7xLGhIutjera9"
      ]
     },
     "execution_count": 18,
     "metadata": {},
     "output_type": "execute_result"
    }
   ],
   "source": [
    "%%bq query\n",
    "SELECT city , COUNT(name) AS Number_of_best_resturants\n",
    "FROM (SELECT city,name,SUM(review_count) AS total_review,AVG(stars) AS avg_star FROM `team-3-ba770-b.yelp.business` \n",
    "GROUP BY city,name\n",
    "HAVING total_review>100 AND avg_star>4.5 \n",
    "ORDER BY avg_star DESC, total_review DESC)\n",
    "GROUP BY city\n",
    "ORDER BY number_of_best_resturants DESC;\n"
   ]
  },
  {
   "cell_type": "markdown",
   "metadata": {},
   "source": [
    "From this query, we can see that there are 141 popular restaurants in Las Vegas, followed by Phoneix and Scottsdale."
   ]
  },
  {
   "cell_type": "markdown",
   "metadata": {},
   "source": [
    "The query results are then graphed below."
   ]
  },
  {
   "cell_type": "code",
   "execution_count": 19,
   "metadata": {},
   "outputs": [],
   "source": [
    "%%bq query -n Best_restaurants\n",
    "SELECT city , COUNT(name) AS Number_of_best_resturants\n",
    "FROM (SELECT city,name,SUM(review_count) AS total_review,AVG(stars) AS avg_star FROM `team-3-ba770-b.yelp.business` \n",
    "GROUP BY city,name\n",
    "HAVING total_review>100 AND avg_star>4.5 \n",
    "ORDER BY avg_star DESC, total_review DESC)\n",
    "GROUP BY city\n",
    "ORDER BY number_of_best_resturants DESC;\n"
   ]
  },
  {
   "cell_type": "code",
   "execution_count": 20,
   "metadata": {},
   "outputs": [
    {
     "data": {
      "text/html": [
       "\n",
       "    <div class=\"bqgc-container\">\n",
       "      \n",
       "      <div class=\"bqgc \" id=\"3_156675434564\">\n",
       "      </div>\n",
       "    </div>\n",
       "    <script src=\"/static/components/requirejs/require.js\"></script>\n",
       "    <script>\n",
       "\n",
       "      require.config({\n",
       "        paths: {\n",
       "          base: '/static/base',\n",
       "          d3: '//cdnjs.cloudflare.com/ajax/libs/d3/3.4.13/d3',\n",
       "          plotly: 'https://cdn.plot.ly/plotly-1.5.1.min.js?noext',\n",
       "          jquery: '//ajax.googleapis.com/ajax/libs/jquery/2.0.0/jquery.min'\n",
       "        },\n",
       "        map: {\n",
       "          '*': {\n",
       "            datalab: 'nbextensions/gcpdatalab'\n",
       "          }\n",
       "        },\n",
       "        shim: {\n",
       "          plotly: {\n",
       "            deps: ['d3', 'jquery'],\n",
       "            exports: 'plotly'\n",
       "          }\n",
       "        }\n",
       "      });\n",
       "\n",
       "      require(['datalab/charting',\n",
       "               'datalab/element!3_156675434564',\n",
       "               'base/js/events',\n",
       "               'datalab/style!/nbextensions/gcpdatalab/charting.css'\n",
       "              ],\n",
       "        function(charts, dom, events) {\n",
       "          charts.render(\n",
       "              'gcharts',\n",
       "              dom,\n",
       "              events,\n",
       "              'pie',\n",
       "              [],\n",
       "              {\"rows\": [{\"c\": [{\"v\": \"Las Vegas\"}, {\"v\": 141}]}, {\"c\": [{\"v\": \"Phoenix\"}, {\"v\": 56}]}, {\"c\": [{\"v\": \"Scottsdale\"}, {\"v\": 35}]}, {\"c\": [{\"v\": \"Henderson\"}, {\"v\": 15}]}, {\"c\": [{\"v\": \"Gilbert\"}, {\"v\": 9}]}, {\"c\": [{\"v\": \"Tempe\"}, {\"v\": 9}]}, {\"c\": [{\"v\": \"Mesa\"}, {\"v\": 8}]}, {\"c\": [{\"v\": \"Charlotte\"}, {\"v\": 4}]}, {\"c\": [{\"v\": \"Toronto\"}, {\"v\": 4}]}, {\"c\": [{\"v\": \"Chandler\"}, {\"v\": 3}]}, {\"c\": [{\"v\": \"North Las Vegas\"}, {\"v\": 3}]}, {\"c\": [{\"v\": \"Glendale\"}, {\"v\": 3}]}, {\"c\": [{\"v\": \"Pittsburgh\"}, {\"v\": 2}]}, {\"c\": [{\"v\": \"Cleveland\"}, {\"v\": 2}]}, {\"c\": [{\"v\": \"Boulder City\"}, {\"v\": 2}]}, {\"c\": [{\"v\": \"Avon\"}, {\"v\": 1}]}, {\"c\": [{\"v\": \"Madison\"}, {\"v\": 1}]}, {\"c\": [{\"v\": \"MESA\"}, {\"v\": 1}]}, {\"c\": [{\"v\": \"Youngtown\"}, {\"v\": 1}]}, {\"c\": [{\"v\": \"Edinburgh\"}, {\"v\": 1}]}, {\"c\": [{\"v\": \"Outremont\"}, {\"v\": 1}]}], \"cols\": [{\"type\": \"string\", \"id\": \"city\", \"label\": \"city\"}, {\"type\": \"number\", \"id\": \"Number_of_best_resturants\", \"label\": \"Number_of_best_resturants\"}]},\n",
       "              {\"title\": \"Best Food Cities\"},\n",
       "              {\"fields\": \"*\", \"source_index\": 1, \"name\": 1},\n",
       "              0,\n",
       "              21);\n",
       "          }\n",
       "        );\n",
       "    </script>\n",
       "  "
      ],
      "text/plain": [
       "<IPython.core.display.HTML object>"
      ]
     },
     "execution_count": 20,
     "metadata": {},
     "output_type": "execute_result"
    },
    {
     "data": {
      "image/png": "[encoded data removed]"
     },
     "metadata": {
      "source_id": "3_156675434564"
     },
     "output_type": "display_data"
    }
   ],
   "source": [
    "%%chart pie -d Best_restaurants\n",
    "title: Best Food Cities\n",
    "  "
   ]
  },
  {
   "cell_type": "markdown",
   "metadata": {},
   "source": [
    "**4.9 Which category is the most popular in each city?**\n",
    "\n",
    "We also think the number of checkins is a good indicator for popularity. Thus, we decided to use number of checkins to determine the most popular restaurant category in the top 3 popular cities, as shown from the previous query."
   ]
  },
  {
   "cell_type": "code",
   "execution_count": 44,
   "metadata": {},
   "outputs": [
    {
     "data": {
      "text/html": [
       "\n",
       "    <div class=\"bqtv\" id=\"34_156624353678\"><table><tr><th>city</th><th>categories</th><th>Number_of_Checkins</th></tr><tr><td>Las Vegas</td><td>Mexican;Restaurants</td><td>65517</td></tr><tr><td>Phoenix</td><td>Mexican;Restaurants</td><td>46670</td></tr><tr><td>Scottsdale</td><td>Mexican;Restaurants</td><td>28457</td></tr></table></div>\n",
       "    <br />(rows: 3, time: 3.1s,   139MB processed, job: job_BV1iWiTlXyLMcrXjHbxu9onoisMF)<br />\n",
       "    <script src=\"/static/components/requirejs/require.js\"></script>\n",
       "    <script>\n",
       "      require.config({\n",
       "        paths: {\n",
       "          base: '/static/base',\n",
       "          d3: '//cdnjs.cloudflare.com/ajax/libs/d3/3.4.13/d3',\n",
       "          plotly: 'https://cdn.plot.ly/plotly-1.5.1.min.js?noext',\n",
       "          jquery: '//ajax.googleapis.com/ajax/libs/jquery/2.0.0/jquery.min'\n",
       "        },\n",
       "        map: {\n",
       "          '*': {\n",
       "            datalab: 'nbextensions/gcpdatalab'\n",
       "          }\n",
       "        },\n",
       "        shim: {\n",
       "          plotly: {\n",
       "            deps: ['d3', 'jquery'],\n",
       "            exports: 'plotly'\n",
       "          }\n",
       "        }\n",
       "      });\n",
       "\n",
       "      require(['datalab/charting', 'datalab/element!34_156624353678', 'base/js/events',\n",
       "          'datalab/style!/nbextensions/gcpdatalab/charting.css'],\n",
       "        function(charts, dom, events) {\n",
       "          charts.render('gcharts', dom, events, 'table', [], {\"rows\": [{\"c\": [{\"v\": \"Las Vegas\"}, {\"v\": \"Mexican;Restaurants\"}, {\"v\": 65517}]}, {\"c\": [{\"v\": \"Phoenix\"}, {\"v\": \"Mexican;Restaurants\"}, {\"v\": 46670}]}, {\"c\": [{\"v\": \"Scottsdale\"}, {\"v\": \"Mexican;Restaurants\"}, {\"v\": 28457}]}], \"cols\": [{\"type\": \"string\", \"id\": \"city\", \"label\": \"city\"}, {\"type\": \"string\", \"id\": \"categories\", \"label\": \"categories\"}, {\"type\": \"number\", \"id\": \"Number_of_Checkins\", \"label\": \"Number_of_Checkins\"}]},\n",
       "            {\n",
       "              pageSize: 25,\n",
       "              cssClassNames:  {\n",
       "                tableRow: 'gchart-table-row',\n",
       "                headerRow: 'gchart-table-headerrow',\n",
       "                oddTableRow: 'gchart-table-oddrow',\n",
       "                selectedTableRow: 'gchart-table-selectedrow',\n",
       "                hoverTableRow: 'gchart-table-hoverrow',\n",
       "                tableCell: 'gchart-table-cell',\n",
       "                headerCell: 'gchart-table-headercell',\n",
       "                rowNumberCell: 'gchart-table-rownumcell'\n",
       "              }\n",
       "            },\n",
       "            {source_index: 31, fields: 'city,categories,Number_of_Checkins'},\n",
       "            0,\n",
       "            3);\n",
       "        }\n",
       "      );\n",
       "    </script>\n",
       "  "
      ],
      "text/plain": [
       "QueryResultsTable job_BV1iWiTlXyLMcrXjHbxu9onoisMF"
      ]
     },
     "execution_count": 44,
     "metadata": {},
     "output_type": "execute_result"
    }
   ],
   "source": [
    "%%bq query \n",
    "WITH temp AS(\n",
    "SELECT city, categories, SUM(checkins) AS Number_of_Checkins\n",
    "FROM `team-3-ba770-b.yelp.business` AS b \n",
    "JOIN `team-3-ba770-b.yelp.checkin` AS c \n",
    "ON b.business_id = c.business_id\n",
    "WHERE city IN( 'Las Vegas' , 'Phoenix' ,'Scottsdale') AND categories LIKE '%Restaurants%'\n",
    "GROUP BY city, categories\n",
    "ORDER BY Number_of_Checkins DESC\n",
    "LIMIT 10)\n",
    "\n",
    "SELECT *\n",
    "FROM temp AS a\n",
    "WHERE Number_of_Checkins = (SELECT MAX(Number_of_Checkins) FROM temp AS b WHERE a.city=b.city)\n"
   ]
  },
  {
   "cell_type": "markdown",
   "metadata": {},
   "source": [
    "Thus, we concluded that Mexican food is the most popular category in these three cities."
   ]
  }
 ],
 "metadata": {
  "kernelspec": {
   "display_name": "Python 2",
   "language": "python",
   "name": "python2"
  },
  "language_info": {
   "codemirror_mode": {
    "name": "ipython",
    "version": 2
   },
   "file_extension": ".py",
   "mimetype": "text/x-python",
   "name": "python",
   "nbconvert_exporter": "python",
   "pygments_lexer": "ipython2",
   "version": "2.7.15"
  }
 },
 "nbformat": 4,
 "nbformat_minor": 2
}
